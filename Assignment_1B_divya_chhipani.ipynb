{
  "nbformat": 4,
  "nbformat_minor": 0,
  "metadata": {
    "colab": {
      "name": "Assignment_1B_divya_chhipani.ipynb",
      "provenance": [],
      "collapsed_sections": [],
      "toc_visible": true
    },
    "kernelspec": {
      "display_name": "Python 3",
      "language": "python",
      "name": "python3"
    },
    "language_info": {
      "codemirror_mode": {
        "name": "ipython",
        "version": 3
      },
      "file_extension": ".py",
      "mimetype": "text/x-python",
      "name": "python",
      "nbconvert_exporter": "python",
      "pygments_lexer": "ipython3",
      "version": "3.7.9"
    }
  },
  "cells": [
    {
      "cell_type": "markdown",
      "metadata": {
        "id": "t_yvQBKrD8Se"
      },
      "source": [
        "# **ECS 7001 - NN & NNLP**\n",
        "\n",
        "## **Lab 3: LSTM for Text Classification**\n",
        "\n",
        "<br>\n",
        "\n",
        "**February 8th**\n",
        "\n",
        "In Lab 3, you trained word embeddings by casting the unsupervised learning problem as a binary classification problem (i.e. using the skip-gram model). This week, you will build an LSTM model to classify movie reviews as either positive or negative. After training, you will extract the word embeddings learned by the model.\n",
        "\n"
      ]
    },
    {
      "cell_type": "markdown",
      "metadata": {
        "id": "Ep2X91YdJpkG"
      },
      "source": [
        "### **0. Prepare the environment**\n",
        "\n",
        "Open Google Colab or activate the virtual environment you’ve created"
      ]
    },
    {
      "cell_type": "markdown",
      "metadata": {
        "id": "w6Pi5uvTLRCo"
      },
      "source": [
        "### **1. Getting the Dataset**\n",
        "\n",
        "You will be using the imdb dataset from last week. This is a dataset of 25,000 movie reviews from IMDB, labeled by sentimen - positive (1) or negative (0). \n",
        "<br>\n",
        "\n",
        "The reviews have been preprocessed, and each review is encoded as a list of word indices. Last week, you assigned the indices to the word randomly (or in order of their first appearance in the corpus) but in this preprocessed corpus, the words are indexed by overall frequency in the dataset, such that a word with index 3 occurs more frequently than a word with index 10.\n",
        "<br>\n",
        "\n",
        "In the following blocks of code in this section, we will load and visualize the data.\n"
      ]
    },
    {
      "cell_type": "code",
      "metadata": {
        "id": "xn7sWMG-KoBV"
      },
      "source": [
        "import keras\n",
        "\n",
        "imdb = keras.datasets.imdb"
      ],
      "execution_count": null,
      "outputs": []
    },
    {
      "cell_type": "code",
      "metadata": {
        "id": "yCH0PmPcL83f"
      },
      "source": [
        "%%capture\n",
        "\n",
        "# we'll use the most frequent 10000 words in the vocabulary\n",
        "VOCAB_SIZE = 10000\n",
        "\n",
        "# 0 is reserved for ‘<PAD>’, 1 for ‘<START>’ and 2 for ‘<UNK>’ i.e. words not in vocabulary\n",
        "# the documentation says index_from = 3 but actually uses the value as an offset. The words\n",
        "# in the dictionary are indexed from 1 by default so, saying index_from=3 means any actual\n",
        "# words would start from 4 (1+3) and index 3 will be left unused. We use index_from=offset=2 to avoid this\n",
        "# If you want to explore this further, you may look up the source_code for load_data here\n",
        "# https://github.com/tensorflow/tensorflow/blob/v2.4.1/tensorflow/python/keras/datasets/imdb.py#L31-L162\n",
        "OFFSET = 2\n",
        "\n",
        "# for more information on the load_data method, type(help(load_data))\n",
        "(train_data,train_labels),(test_data,test_labels) = imdb.load_data(num_words=VOCAB_SIZE, index_from=OFFSET)"
      ],
      "execution_count": null,
      "outputs": []
    },
    {
      "cell_type": "markdown",
      "metadata": {
        "id": "lVgaL5JIYBRm"
      },
      "source": [
        "***Sanity Check***\n",
        "\n",
        "Each instance in the training data is a list of word indices representing the words in a movie review.\n",
        "\n",
        "Each label is 1 if that review is positive, else 0."
      ]
    },
    {
      "cell_type": "code",
      "metadata": {
        "colab": {
          "base_uri": "https://localhost:8080/"
        },
        "id": "APFWiEejv9i5",
        "outputId": "42946a92-ff4b-4b4d-9652-044e6de992c5"
      },
      "source": [
        "print('Sample review:', train_data[0])"
      ],
      "execution_count": null,
      "outputs": [
        {
          "output_type": "stream",
          "text": [
            "Sample review: [1, 13, 21, 15, 42, 529, 972, 1621, 1384, 64, 457, 4467, 65, 3940, 3, 172, 35, 255, 4, 24, 99, 42, 837, 111, 49, 669, 2, 8, 34, 479, 283, 4, 149, 3, 171, 111, 166, 2, 335, 384, 38, 3, 171, 4535, 1110, 16, 545, 37, 12, 446, 3, 191, 49, 15, 5, 146, 2024, 18, 13, 21, 3, 1919, 4612, 468, 3, 21, 70, 86, 11, 15, 42, 529, 37, 75, 14, 12, 1246, 3, 21, 16, 514, 16, 11, 15, 625, 17, 2, 4, 61, 385, 11, 7, 315, 7, 105, 4, 3, 2222, 5243, 15, 479, 65, 3784, 32, 3, 129, 11, 15, 37, 618, 4, 24, 123, 50, 35, 134, 47, 24, 1414, 32, 5, 21, 11, 214, 27, 76, 51, 4, 13, 406, 15, 81, 2, 7, 3, 106, 116, 5951, 14, 255, 3, 2, 6, 3765, 4, 722, 35, 70, 42, 529, 475, 25, 399, 316, 45, 6, 3, 2, 1028, 12, 103, 87, 3, 380, 14, 296, 97, 31, 2070, 55, 25, 140, 5, 193, 7485, 17, 3, 225, 21, 20, 133, 475, 25, 479, 4, 143, 29, 5534, 17, 50, 35, 27, 223, 91, 24, 103, 3, 225, 64, 15, 37, 1333, 87, 11, 15, 282, 4, 15, 4471, 112, 102, 31, 14, 15, 5344, 18, 177, 31]\n"
          ],
          "name": "stdout"
        }
      ]
    },
    {
      "cell_type": "code",
      "metadata": {
        "colab": {
          "base_uri": "https://localhost:8080/"
        },
        "id": "CwgeiaF7n_lX",
        "outputId": "25ab76df-6038-4f12-c961-53923e8ce5d8"
      },
      "source": [
        "print('\\n Sample label:', train_labels[0])"
      ],
      "execution_count": null,
      "outputs": [
        {
          "output_type": "stream",
          "text": [
            "\n",
            " Sample label: 1\n"
          ],
          "name": "stdout"
        }
      ]
    },
    {
      "cell_type": "markdown",
      "metadata": {
        "id": "4c14vElNvMGX"
      },
      "source": [
        "### **2. Readying the Inputs for the LSTM**\n",
        "\n",
        "The movie reviews are of different lengths. The standard way of dealing with varying length inputs is to ***pad*** or ***truncate*** each sentence to a fixed length (which we choose heuristically). \n",
        "\n",
        "Keras provides a way to do this.  In this section, you will use the keras.preprocessing.sequence method <pad_sequences> handle padding and truncating.\n",
        "\n",
        "**Hints**\n",
        "\n",
        "*  help(pad_sequences) will give you more information about how this works.\n",
        "*  You can experiment with 'pre' vs 'post' padding/truncating. In practice, 'pre' padding is more effective for our purposes; can you hypothesize about why this is?\n",
        "*  Since we have reserved 0 for \\<PAD\\>, your pad value should be set to 0.\n",
        "*  The maximum length has been specified below as MAX_LENGTH."
      ]
    },
    {
      "cell_type": "code",
      "metadata": {
        "id": "7XPwN_COagT9"
      },
      "source": [
        "from keras.preprocessing.sequence import pad_sequences\n",
        "\n",
        "\n",
        "MAX_LENGHT = 500\n",
        "\n",
        "# YOUR CODE GOES HERE\n",
        "padded_train_data = pad_sequences(\n",
        "    train_data, maxlen=MAX_LENGHT, dtype='int32', padding='pre',\n",
        "    truncating='pre', value=0.0\n",
        ")\n",
        "padded_test_data = pad_sequences(\n",
        "    test_data, maxlen=MAX_LENGHT, dtype='int32', padding='pre',\n",
        "    truncating='pre', value=0.0\n",
        ")"
      ],
      "execution_count": null,
      "outputs": []
    },
    {
      "cell_type": "markdown",
      "metadata": {
        "id": "Pi4AO3vYQnBM"
      },
      "source": [
        "**<i> <font color ='darkblue'>In this task, we padded the train data and test data by pre-padding them with zeroes so that each vector is of same length i.e 500. Sanity check below shows a training sample after padding.</font></i>**"
      ]
    },
    {
      "cell_type": "markdown",
      "metadata": {
        "id": "RhrUvhC2dO87"
      },
      "source": [
        "***Sanity Check***\n",
        "\n",
        "For the first training example, print its length and the padded sequence to see the effect of your padding process. \n",
        "\n",
        "PS: Pre-padding was used for the output you see below."
      ]
    },
    {
      "cell_type": "code",
      "metadata": {
        "colab": {
          "base_uri": "https://localhost:8080/"
        },
        "id": "DZb7keBfdKc_",
        "outputId": "48025d21-3941-4c83-b529-b12ec5842bde"
      },
      "source": [
        "print('Length of sample train_data before preprocessing:', len(train_data[0]))\n",
        "print('Length of sample train_data after preprocessing:', len(padded_train_data[0]))\n",
        "print('Sample train data:', padded_train_data[0])"
      ],
      "execution_count": null,
      "outputs": [
        {
          "output_type": "stream",
          "text": [
            "Length of sample train_data before preprocessing: 218\n",
            "Length of sample train_data after preprocessing: 500\n",
            "Sample train data: [   0    0    0    0    0    0    0    0    0    0    0    0    0    0\n",
            "    0    0    0    0    0    0    0    0    0    0    0    0    0    0\n",
            "    0    0    0    0    0    0    0    0    0    0    0    0    0    0\n",
            "    0    0    0    0    0    0    0    0    0    0    0    0    0    0\n",
            "    0    0    0    0    0    0    0    0    0    0    0    0    0    0\n",
            "    0    0    0    0    0    0    0    0    0    0    0    0    0    0\n",
            "    0    0    0    0    0    0    0    0    0    0    0    0    0    0\n",
            "    0    0    0    0    0    0    0    0    0    0    0    0    0    0\n",
            "    0    0    0    0    0    0    0    0    0    0    0    0    0    0\n",
            "    0    0    0    0    0    0    0    0    0    0    0    0    0    0\n",
            "    0    0    0    0    0    0    0    0    0    0    0    0    0    0\n",
            "    0    0    0    0    0    0    0    0    0    0    0    0    0    0\n",
            "    0    0    0    0    0    0    0    0    0    0    0    0    0    0\n",
            "    0    0    0    0    0    0    0    0    0    0    0    0    0    0\n",
            "    0    0    0    0    0    0    0    0    0    0    0    0    0    0\n",
            "    0    0    0    0    0    0    0    0    0    0    0    0    0    0\n",
            "    0    0    0    0    0    0    0    0    0    0    0    0    0    0\n",
            "    0    0    0    0    0    0    0    0    0    0    0    0    0    0\n",
            "    0    0    0    0    0    0    0    0    0    0    0    0    0    0\n",
            "    0    0    0    0    0    0    0    0    0    0    0    0    0    0\n",
            "    0    0    1   13   21   15   42  529  972 1621 1384   64  457 4467\n",
            "   65 3940    3  172   35  255    4   24   99   42  837  111   49  669\n",
            "    2    8   34  479  283    4  149    3  171  111  166    2  335  384\n",
            "   38    3  171 4535 1110   16  545   37   12  446    3  191   49   15\n",
            "    5  146 2024   18   13   21    3 1919 4612  468    3   21   70   86\n",
            "   11   15   42  529   37   75   14   12 1246    3   21   16  514   16\n",
            "   11   15  625   17    2    4   61  385   11    7  315    7  105    4\n",
            "    3 2222 5243   15  479   65 3784   32    3  129   11   15   37  618\n",
            "    4   24  123   50   35  134   47   24 1414   32    5   21   11  214\n",
            "   27   76   51    4   13  406   15   81    2    7    3  106  116 5951\n",
            "   14  255    3    2    6 3765    4  722   35   70   42  529  475   25\n",
            "  399  316   45    6    3    2 1028   12  103   87    3  380   14  296\n",
            "   97   31 2070   55   25  140    5  193 7485   17    3  225   21   20\n",
            "  133  475   25  479    4  143   29 5534   17   50   35   27  223   91\n",
            "   24  103    3  225   64   15   37 1333   87   11   15  282    4   15\n",
            " 4471  112  102   31   14   15 5344   18  177   31]\n"
          ],
          "name": "stdout"
        }
      ]
    },
    {
      "cell_type": "markdown",
      "metadata": {
        "id": "rghchHA66d-V"
      },
      "source": [
        "### **3. Building the Model**\n",
        "\n",
        "In this section, you will use the keras Model API to build a classification model.\n",
        "\n",
        "*   The first step is to tell the model what sort of input to expect using the keras \\<Input\\> layer \n",
        "*   The second step is to add an embedding layer like we did last week. \n",
        "This embedding layer creates a lookup table of the form {word:embedding} for each of the unique words in our corpus. Use EMBED_SIZE = 100 (i.e each word is represented by a 100D vector such that each movie review is 500 X 100 in dimension.  Don't forget to set mask_zero=True since we are using 0 index as out padding.\n",
        "*  The third step is to add an LSTM with 100 units. By leaving 'return_sequences' as False, the output of this model will be the output of the final time step of the LSTM. https://keras.io/api/layers/recurrent_layers/lstm/ \n",
        "*  The final layer of the model is a fully connected (Dense) layer. Can you figure out what activation function would be appropriate for this layer given the binary nature of the task?\n",
        "*  The model should be compiled with a 'binary_crossentropy' loss function, an 'adam' optimizer. We also want to visualize the model accuracy during training so the 'metrics' parameter of the compile method should be set to ['accuracy']."
      ]
    },
    {
      "cell_type": "code",
      "metadata": {
        "id": "L1EHilHl1l2m"
      },
      "source": [
        "from keras.layers import Input, Embedding, Dense, LSTM\n",
        "from keras.models import Model\n",
        "\n",
        "EMBED_SIZE = 100\n",
        "# YOUR CODE GOES HERE\n",
        "input_imdb = Input(shape=(500,))\n",
        "embedding_layer = Embedding(mask_zero = True, input_length = 500, input_dim = VOCAB_SIZE, output_dim = EMBED_SIZE, embeddings_initializer='glorot_uniform')(input_imdb)\n",
        "lstm_layer = LSTM(100, return_sequences = False)(embedding_layer)\n",
        "dense_layer = Dense(1, activation = 'sigmoid')(lstm_layer)\n",
        "model = Model(inputs= input_imdb, outputs=dense_layer)\n",
        "model.compile('adam', 'binary_crossentropy', metrics=['accuracy'])"
      ],
      "execution_count": null,
      "outputs": []
    },
    {
      "cell_type": "markdown",
      "metadata": {
        "id": "vE0XUoI0RNGE"
      },
      "source": [
        "**<i> <font color ='darkblue'>We have built an LSTM model as per the instructions mentioned. The input layer takes in the padded training samples derived in the previous section which is why we give the shape as 500 and the second arguement is kept empty to accomodate various number of samples.Our first hidden layer is the embedding layer from Keras which takes in input length as 500 corresponding to the length of each training sequence and the input dimension will be the vocabulary size. We want the words to be embedded in a vector space of size 100 and so, we assign the out dimension equal to embed size i.e 100. This is followed by an LSTM layer of 100 units after which we added a fully connected layer which uses sigmoid function as the activation function as we are expecting a binary output. Resulting model is visualized below. </font></i>**"
      ]
    },
    {
      "cell_type": "markdown",
      "metadata": {
        "id": "6OMqaFQusbp-"
      },
      "source": [
        "***Sanity Check***\n",
        "\n",
        "Print the model summary and visualize it using vis_utils."
      ]
    },
    {
      "cell_type": "code",
      "metadata": {
        "colab": {
          "base_uri": "https://localhost:8080/"
        },
        "id": "PB7Gv4V6raWd",
        "outputId": "87cc9e0b-1f27-43f5-e60a-958bb0b20962"
      },
      "source": [
        "model.summary()"
      ],
      "execution_count": null,
      "outputs": [
        {
          "output_type": "stream",
          "text": [
            "Model: \"model\"\n",
            "_________________________________________________________________\n",
            "Layer (type)                 Output Shape              Param #   \n",
            "=================================================================\n",
            "input_1 (InputLayer)         [(None, 500)]             0         \n",
            "_________________________________________________________________\n",
            "embedding (Embedding)        (None, 500, 100)          1000000   \n",
            "_________________________________________________________________\n",
            "lstm (LSTM)                  (None, 100)               80400     \n",
            "_________________________________________________________________\n",
            "dense (Dense)                (None, 1)                 101       \n",
            "=================================================================\n",
            "Total params: 1,080,501\n",
            "Trainable params: 1,080,501\n",
            "Non-trainable params: 0\n",
            "_________________________________________________________________\n"
          ],
          "name": "stdout"
        }
      ]
    },
    {
      "cell_type": "code",
      "metadata": {
        "colab": {
          "base_uri": "https://localhost:8080/",
          "height": 358
        },
        "id": "ZTq8GsWgsqCe",
        "outputId": "2635e67e-61c3-43f8-ed57-4b1b2b71c538"
      },
      "source": [
        "from IPython.display import SVG\n",
        "from keras.utils import vis_utils\n",
        "SVG(vis_utils.model_to_dot(model, show_shapes=True, show_layer_names=True, dpi=60).create(prog='dot', format='svg'))  \n"
      ],
      "execution_count": null,
      "outputs": [
        {
          "output_type": "execute_result",
          "data": {
            "text/plain": [
              "<IPython.core.display.SVG object>"
            ],
            "image/svg+xml": "<svg height=\"253pt\" viewBox=\"0.00 0.00 339.00 304.00\" width=\"283pt\" xmlns=\"http://www.w3.org/2000/svg\" xmlns:xlink=\"http://www.w3.org/1999/xlink\">\n<g class=\"graph\" id=\"graph0\" transform=\"scale(.8333 .8333) rotate(0) translate(4 300)\">\n<title>G</title>\n<polygon fill=\"#ffffff\" points=\"-4,4 -4,-300 335,-300 335,4 -4,4\" stroke=\"transparent\"/>\n<!-- 139707850770128 -->\n<g class=\"node\" id=\"node1\">\n<title>139707850770128</title>\n<polygon fill=\"none\" points=\"22,-249.5 22,-295.5 309,-295.5 309,-249.5 22,-249.5\" stroke=\"#000000\"/>\n<text fill=\"#000000\" font-family=\"Times,serif\" font-size=\"14.00\" text-anchor=\"middle\" x=\"88.5\" y=\"-268.8\">input_1: InputLayer</text>\n<polyline fill=\"none\" points=\"155,-249.5 155,-295.5 \" stroke=\"#000000\"/>\n<text fill=\"#000000\" font-family=\"Times,serif\" font-size=\"14.00\" text-anchor=\"middle\" x=\"184\" y=\"-280.3\">input:</text>\n<polyline fill=\"none\" points=\"155,-272.5 213,-272.5 \" stroke=\"#000000\"/>\n<text fill=\"#000000\" font-family=\"Times,serif\" font-size=\"14.00\" text-anchor=\"middle\" x=\"184\" y=\"-257.3\">output:</text>\n<polyline fill=\"none\" points=\"213,-249.5 213,-295.5 \" stroke=\"#000000\"/>\n<text fill=\"#000000\" font-family=\"Times,serif\" font-size=\"14.00\" text-anchor=\"middle\" x=\"261\" y=\"-280.3\">[(None, 500)]</text>\n<polyline fill=\"none\" points=\"213,-272.5 309,-272.5 \" stroke=\"#000000\"/>\n<text fill=\"#000000\" font-family=\"Times,serif\" font-size=\"14.00\" text-anchor=\"middle\" x=\"261\" y=\"-257.3\">[(None, 500)]</text>\n</g>\n<!-- 139707749821008 -->\n<g class=\"node\" id=\"node2\">\n<title>139707749821008</title>\n<polygon fill=\"none\" points=\"0,-166.5 0,-212.5 331,-212.5 331,-166.5 0,-166.5\" stroke=\"#000000\"/>\n<text fill=\"#000000\" font-family=\"Times,serif\" font-size=\"14.00\" text-anchor=\"middle\" x=\"78\" y=\"-185.8\">embedding: Embedding</text>\n<polyline fill=\"none\" points=\"156,-166.5 156,-212.5 \" stroke=\"#000000\"/>\n<text fill=\"#000000\" font-family=\"Times,serif\" font-size=\"14.00\" text-anchor=\"middle\" x=\"185\" y=\"-197.3\">input:</text>\n<polyline fill=\"none\" points=\"156,-189.5 214,-189.5 \" stroke=\"#000000\"/>\n<text fill=\"#000000\" font-family=\"Times,serif\" font-size=\"14.00\" text-anchor=\"middle\" x=\"185\" y=\"-174.3\">output:</text>\n<polyline fill=\"none\" points=\"214,-166.5 214,-212.5 \" stroke=\"#000000\"/>\n<text fill=\"#000000\" font-family=\"Times,serif\" font-size=\"14.00\" text-anchor=\"middle\" x=\"272.5\" y=\"-197.3\">(None, 500)</text>\n<polyline fill=\"none\" points=\"214,-189.5 331,-189.5 \" stroke=\"#000000\"/>\n<text fill=\"#000000\" font-family=\"Times,serif\" font-size=\"14.00\" text-anchor=\"middle\" x=\"272.5\" y=\"-174.3\">(None, 500, 100)</text>\n</g>\n<!-- 139707850770128&#45;&gt;139707749821008 -->\n<g class=\"edge\" id=\"edge1\">\n<title>139707850770128-&gt;139707749821008</title>\n<path d=\"M165.5,-249.3799C165.5,-241.1745 165.5,-231.7679 165.5,-222.8786\" fill=\"none\" stroke=\"#000000\"/>\n<polygon fill=\"#000000\" points=\"169.0001,-222.784 165.5,-212.784 162.0001,-222.784 169.0001,-222.784\" stroke=\"#000000\"/>\n</g>\n<!-- 139708752368592 -->\n<g class=\"node\" id=\"node3\">\n<title>139708752368592</title>\n<polygon fill=\"none\" points=\"34.5,-83.5 34.5,-129.5 296.5,-129.5 296.5,-83.5 34.5,-83.5\" stroke=\"#000000\"/>\n<text fill=\"#000000\" font-family=\"Times,serif\" font-size=\"14.00\" text-anchor=\"middle\" x=\"78\" y=\"-102.8\">lstm: LSTM</text>\n<polyline fill=\"none\" points=\"121.5,-83.5 121.5,-129.5 \" stroke=\"#000000\"/>\n<text fill=\"#000000\" font-family=\"Times,serif\" font-size=\"14.00\" text-anchor=\"middle\" x=\"150.5\" y=\"-114.3\">input:</text>\n<polyline fill=\"none\" points=\"121.5,-106.5 179.5,-106.5 \" stroke=\"#000000\"/>\n<text fill=\"#000000\" font-family=\"Times,serif\" font-size=\"14.00\" text-anchor=\"middle\" x=\"150.5\" y=\"-91.3\">output:</text>\n<polyline fill=\"none\" points=\"179.5,-83.5 179.5,-129.5 \" stroke=\"#000000\"/>\n<text fill=\"#000000\" font-family=\"Times,serif\" font-size=\"14.00\" text-anchor=\"middle\" x=\"238\" y=\"-114.3\">(None, 500, 100)</text>\n<polyline fill=\"none\" points=\"179.5,-106.5 296.5,-106.5 \" stroke=\"#000000\"/>\n<text fill=\"#000000\" font-family=\"Times,serif\" font-size=\"14.00\" text-anchor=\"middle\" x=\"238\" y=\"-91.3\">(None, 100)</text>\n</g>\n<!-- 139707749821008&#45;&gt;139708752368592 -->\n<g class=\"edge\" id=\"edge2\">\n<title>139707749821008-&gt;139708752368592</title>\n<path d=\"M165.5,-166.3799C165.5,-158.1745 165.5,-148.7679 165.5,-139.8786\" fill=\"none\" stroke=\"#000000\"/>\n<polygon fill=\"#000000\" points=\"169.0001,-139.784 165.5,-129.784 162.0001,-139.784 169.0001,-139.784\" stroke=\"#000000\"/>\n</g>\n<!-- 139707578024720 -->\n<g class=\"node\" id=\"node4\">\n<title>139707578024720</title>\n<polygon fill=\"none\" points=\"47,-.5 47,-46.5 284,-46.5 284,-.5 47,-.5\" stroke=\"#000000\"/>\n<text fill=\"#000000\" font-family=\"Times,serif\" font-size=\"14.00\" text-anchor=\"middle\" x=\"93\" y=\"-19.8\">dense: Dense</text>\n<polyline fill=\"none\" points=\"139,-.5 139,-46.5 \" stroke=\"#000000\"/>\n<text fill=\"#000000\" font-family=\"Times,serif\" font-size=\"14.00\" text-anchor=\"middle\" x=\"168\" y=\"-31.3\">input:</text>\n<polyline fill=\"none\" points=\"139,-23.5 197,-23.5 \" stroke=\"#000000\"/>\n<text fill=\"#000000\" font-family=\"Times,serif\" font-size=\"14.00\" text-anchor=\"middle\" x=\"168\" y=\"-8.3\">output:</text>\n<polyline fill=\"none\" points=\"197,-.5 197,-46.5 \" stroke=\"#000000\"/>\n<text fill=\"#000000\" font-family=\"Times,serif\" font-size=\"14.00\" text-anchor=\"middle\" x=\"240.5\" y=\"-31.3\">(None, 100)</text>\n<polyline fill=\"none\" points=\"197,-23.5 284,-23.5 \" stroke=\"#000000\"/>\n<text fill=\"#000000\" font-family=\"Times,serif\" font-size=\"14.00\" text-anchor=\"middle\" x=\"240.5\" y=\"-8.3\">(None, 1)</text>\n</g>\n<!-- 139708752368592&#45;&gt;139707578024720 -->\n<g class=\"edge\" id=\"edge3\">\n<title>139708752368592-&gt;139707578024720</title>\n<path d=\"M165.5,-83.3799C165.5,-75.1745 165.5,-65.7679 165.5,-56.8786\" fill=\"none\" stroke=\"#000000\"/>\n<polygon fill=\"#000000\" points=\"169.0001,-56.784 165.5,-46.784 162.0001,-56.784 169.0001,-56.784\" stroke=\"#000000\"/>\n</g>\n</g>\n</svg>"
          },
          "metadata": {
            "tags": []
          },
          "execution_count": 9
        }
      ]
    },
    {
      "cell_type": "markdown",
      "metadata": {
        "id": "WXhJNdf9TIed"
      },
      "source": [
        "### **4. Training the Model**\n",
        "\n",
        "A model can memorize the training data (this is called 'overfitting' and when it does so, it's training accuracy can continue to go up but it's accuracy on previously unseen (i.e. non-training) examples can be very poor. To ensure that this doesn't happen, researchers often intermittently check the performance of a model being trained on a held back dataset called the ***validation dataset***. This way, 'early stopping' or 'random search' can be used to select the model that will generalize best to unseen data. \n",
        "<br>\n",
        "\n",
        "\n",
        "In this lab, you will just plot training accuracy against validation accuracy to monitor the progress of your model. And, using the plot, you will theorize about what the optimal stopping point for your model should have been.\n"
      ]
    },
    {
      "cell_type": "markdown",
      "metadata": {
        "id": "LFJtD1EgvPND"
      },
      "source": [
        "**Step 1: Getting a validation dataset**\n",
        "\n",
        "Before we begin training, you will split the padded training data into training and validation data. To avoid losing too much training data, use 2000 samples (i.e 8%) for validation and the other 23000 for training.\n",
        "\n",
        "We will do this using the sklearn train_test_split function. "
      ]
    },
    {
      "cell_type": "code",
      "metadata": {
        "id": "zqHSAlOev6kB"
      },
      "source": [
        "from sklearn.model_selection import train_test_split\n",
        "\n",
        "train_x, validation_x, train_y, validation_y = train_test_split(padded_train_data, train_labels, test_size=0.08) "
      ],
      "execution_count": null,
      "outputs": []
    },
    {
      "cell_type": "markdown",
      "metadata": {
        "id": "xArEfNkX0DnN"
      },
      "source": [
        "Alternatively, we could have chosen to set validation_size=0.08 in our model.fit() function below instead of passing in a separate validation dataset."
      ]
    },
    {
      "cell_type": "markdown",
      "metadata": {
        "id": "3oXtkSBuyiWt"
      },
      "source": [
        "**Step 2: Training the model**\n",
        "\n",
        "We will use model.fit() to train the model. We will set our batch_size to 1000, which means the model will train int(23000/1000) batches each epoch. In other words, at each epoch the model will train 23 batches, each one consisting of 1000 movie reviews."
      ]
    },
    {
      "cell_type": "code",
      "metadata": {
        "colab": {
          "base_uri": "https://localhost:8080/"
        },
        "id": "Fgp3GWqiySHB",
        "outputId": "c6640db1-59a8-42e3-d3ea-fb13e7c07a46"
      },
      "source": [
        "history = model.fit(train_x, train_y, epochs=6, batch_size=1000, validation_data=(validation_x, validation_y))"
      ],
      "execution_count": null,
      "outputs": [
        {
          "output_type": "stream",
          "text": [
            "Epoch 1/6\n",
            "23/23 [==============================] - 242s 10s/step - loss: 0.6796 - accuracy: 0.5807 - val_loss: 0.5230 - val_accuracy: 0.8110\n",
            "Epoch 2/6\n",
            "23/23 [==============================] - 214s 9s/step - loss: 0.4267 - accuracy: 0.8349 - val_loss: 0.3140 - val_accuracy: 0.8760\n",
            "Epoch 3/6\n",
            "23/23 [==============================] - 215s 9s/step - loss: 0.2435 - accuracy: 0.9083 - val_loss: 0.2931 - val_accuracy: 0.8850\n",
            "Epoch 4/6\n",
            "23/23 [==============================] - 213s 9s/step - loss: 0.1912 - accuracy: 0.9351 - val_loss: 0.2839 - val_accuracy: 0.8910\n",
            "Epoch 5/6\n",
            "23/23 [==============================] - 219s 9s/step - loss: 0.1356 - accuracy: 0.9581 - val_loss: 0.3005 - val_accuracy: 0.8870\n",
            "Epoch 6/6\n",
            "23/23 [==============================] - 221s 10s/step - loss: 0.1167 - accuracy: 0.9630 - val_loss: 0.3137 - val_accuracy: 0.8785\n"
          ],
          "name": "stdout"
        }
      ]
    },
    {
      "cell_type": "markdown",
      "metadata": {
        "id": "2OaWng6v835A"
      },
      "source": [
        "**Step 3: Visualize the model plot**"
      ]
    },
    {
      "cell_type": "code",
      "metadata": {
        "colab": {
          "base_uri": "https://localhost:8080/"
        },
        "id": "R6xASJOM897O",
        "outputId": "ea0bd17c-79d2-42f0-8872-13a76c131ea4"
      },
      "source": [
        "pip install plot_keras_history"
      ],
      "execution_count": null,
      "outputs": [
        {
          "output_type": "stream",
          "text": [
            "Requirement already satisfied: plot_keras_history in /usr/local/lib/python3.7/dist-packages (1.1.27)\n",
            "Requirement already satisfied: sanitize-ml-labels in /usr/local/lib/python3.7/dist-packages (from plot_keras_history) (1.0.24)\n",
            "Requirement already satisfied: scipy in /usr/local/lib/python3.7/dist-packages (from plot_keras_history) (1.4.1)\n",
            "Requirement already satisfied: matplotlib in /usr/local/lib/python3.7/dist-packages (from plot_keras_history) (3.2.2)\n",
            "Requirement already satisfied: pandas in /usr/local/lib/python3.7/dist-packages (from plot_keras_history) (1.1.5)\n",
            "Requirement already satisfied: compress-json in /usr/local/lib/python3.7/dist-packages (from sanitize-ml-labels->plot_keras_history) (1.0.4)\n",
            "Requirement already satisfied: numpy>=1.13.3 in /usr/local/lib/python3.7/dist-packages (from scipy->plot_keras_history) (1.19.5)\n",
            "Requirement already satisfied: python-dateutil>=2.1 in /usr/local/lib/python3.7/dist-packages (from matplotlib->plot_keras_history) (2.8.1)\n",
            "Requirement already satisfied: pyparsing!=2.0.4,!=2.1.2,!=2.1.6,>=2.0.1 in /usr/local/lib/python3.7/dist-packages (from matplotlib->plot_keras_history) (2.4.7)\n",
            "Requirement already satisfied: kiwisolver>=1.0.1 in /usr/local/lib/python3.7/dist-packages (from matplotlib->plot_keras_history) (1.3.1)\n",
            "Requirement already satisfied: cycler>=0.10 in /usr/local/lib/python3.7/dist-packages (from matplotlib->plot_keras_history) (0.10.0)\n",
            "Requirement already satisfied: pytz>=2017.2 in /usr/local/lib/python3.7/dist-packages (from pandas->plot_keras_history) (2018.9)\n",
            "Requirement already satisfied: six>=1.5 in /usr/local/lib/python3.7/dist-packages (from python-dateutil>=2.1->matplotlib->plot_keras_history) (1.15.0)\n"
          ],
          "name": "stdout"
        }
      ]
    },
    {
      "cell_type": "code",
      "metadata": {
        "id": "0-Qq9lwGDHVl"
      },
      "source": [
        "from plot_keras_history import plot_history\n",
        "import matplotlib.pyplot as plt"
      ],
      "execution_count": null,
      "outputs": []
    },
    {
      "cell_type": "code",
      "metadata": {
        "colab": {
          "base_uri": "https://localhost:8080/",
          "height": 369
        },
        "id": "6jS3_xzmDJmk",
        "outputId": "01216b9b-c5d3-40ef-a406-7328a540c3d1"
      },
      "source": [
        "plot_history(history.history, path=\"standard.png\")\n",
        "plt.show()"
      ],
      "execution_count": null,
      "outputs": [
        {
          "output_type": "display_data",
          "data": {
            "image/png": "[encoded data removed]",
            "text/plain": [
              "<Figure size 720x360 with 2 Axes>"
            ]
          },
          "metadata": {
            "tags": [],
            "needs_background": "light"
          }
        }
      ]
    },
    {
      "cell_type": "markdown",
      "metadata": {
        "id": "8Xy45WzGCkFJ"
      },
      "source": [
        "**Based on the accuracy plot, what do you think the optimal stopping point for your model should\n",
        "have been?**"
      ]
    },
    {
      "cell_type": "markdown",
      "metadata": {
        "id": "j3RRD7lKuct4"
      },
      "source": [
        "**<i> <font color ='darkblue'>Early stopping entails that we stop training at the point when performance on the validation dataset starts to degrade. Studying the accuracy plot, we see that the test value (which denotes the value for validation here) starts going down after the first epoch while the training accuracy keeps increasing. This is the overfitting situation which we need to overcome. Hence, we only train the model only for first epoch. The loss at this point(at first epoch) is also considerably low and supports the choice for early stopping.</font></i>**"
      ]
    },
    {
      "cell_type": "markdown",
      "metadata": {
        "id": "uMQJAolZWVLx"
      },
      "source": [
        "### **5. Evaluating the Model on the Test Data**\n",
        "\n",
        "Evaluate the model on the padded test data using the code in the following cell block."
      ]
    },
    {
      "cell_type": "code",
      "metadata": {
        "colab": {
          "base_uri": "https://localhost:8080/"
        },
        "id": "fi0JmuY-Tlsp",
        "outputId": "28f03042-10fc-4483-fd7c-e9eca6a18d40"
      },
      "source": [
        "# YOUR CODE TO EVALUATE THE MODEL ON TEST DATA GOES HERE\n",
        "results = model.evaluate(padded_test_data, test_labels, batch_size=1000)\n",
        "print('test_loss:', results[0], 'test_accuracy:', results[1])"
      ],
      "execution_count": null,
      "outputs": [
        {
          "output_type": "stream",
          "text": [
            "25/25 [==============================] - 72s 3s/step - loss: 0.3472 - accuracy: 0.8693\n",
            "test_loss: 0.3471619784832001 test_accuracy: 0.8693199753761292\n"
          ],
          "name": "stdout"
        }
      ]
    },
    {
      "cell_type": "markdown",
      "metadata": {
        "id": "qQo_KC04SaVH"
      },
      "source": [
        "**<i> <font color ='darkblue'>Our model has achieved an accuracy of almost 87% on the test dataset which seems good.</font></i>**\n",
        "\n"
      ]
    },
    {
      "cell_type": "markdown",
      "metadata": {
        "id": "zbOcZD6igpxy"
      },
      "source": [
        "###**6. Extracting the Word Embeddings**\n",
        "\n",
        "Extract the word embeddings from the embedding layer model like we did in the last lab. \n",
        "\n",
        "**Hints**\n",
        "\n",
        "*  You can use model.get_layer(layer_name).get_weights()[0] or model.layers[layer_number].get_weights()[0].  The layer number indicates the order in which the layers were added to the model.\n",
        "\n",
        "*  If you didn't explicitly name your layers, you can check layer names and numbers about the order from model.summary() or by calling model.layers"
      ]
    },
    {
      "cell_type": "code",
      "metadata": {
        "id": "dVG1le_LWBtq"
      },
      "source": [
        "# YOUR CODE GOES HERE\n",
        "word_embeddings = model.get_layer('embedding').get_weights()[0]"
      ],
      "execution_count": null,
      "outputs": []
    },
    {
      "cell_type": "markdown",
      "metadata": {
        "id": "O5WWHBA7SrMP"
      },
      "source": [
        "**<i> <font color ='darkblue'> We get the word embeddings created by the embedding layer using the get_layer function.</font></i>**"
      ]
    },
    {
      "cell_type": "markdown",
      "metadata": {
        "id": "fXzDQ-7IE5Ou"
      },
      "source": [
        "***Sanity Check***\n",
        "\n",
        "Print the shape of the word embeddings using the line of code below. It should return (VOCAB_SIZE, EMBED_SIZE)"
      ]
    },
    {
      "cell_type": "code",
      "metadata": {
        "colab": {
          "base_uri": "https://localhost:8080/"
        },
        "id": "swJFPaX_E4f0",
        "outputId": "3c9f5778-8c66-49e3-f77b-8a23cd4ee952"
      },
      "source": [
        "print('Shape of word_embeddings:', word_embeddings.shape)"
      ],
      "execution_count": null,
      "outputs": [
        {
          "output_type": "stream",
          "text": [
            "Shape of word_embeddings: (10000, 100)\n"
          ],
          "name": "stdout"
        }
      ]
    },
    {
      "cell_type": "markdown",
      "metadata": {
        "id": "Bwz_8kTZ6UVF"
      },
      "source": [
        "###**7. Visualizing the Reviews**\n",
        "\n",
        "In this section, we will view the effects of padding the dataset. \n",
        "\n",
        "As mentioned before, Keras already preprocessed the corpus. In this preprocessed corpus, all the words have already been mapped to indices and were assigned these numbers in order of their frequency such that index 2 is the 2nd most frequent word in the dataset, and so on. However, when we loaded our training dataset, we reserved the first 3 indices - 0, 1, 2 - for \\<PAD\\>, \\<START\\> and \\<UNK\\>. Additionally, we limited our vocabulary to only the top 10000 most frequent words (9997 if you exclude the padding). We will now visualize what a movie review will look like with these changes\n",
        "\n"
      ]
    },
    {
      "cell_type": "markdown",
      "metadata": {
        "id": "lOmorAwXGZS9"
      },
      "source": [
        "\n",
        "**Step 1: Create a word2idx dictionary**\n",
        "\n",
        "Create the word2idx dictionary using the following lines of code."
      ]
    },
    {
      "cell_type": "code",
      "metadata": {
        "id": "AtU7lOD6GYtB"
      },
      "source": [
        "# in this dictionary, the words start from 1, 0 is reserved for padding but \n",
        "# <start> and <unknown> are not accounted for.\n",
        "word_indices = imdb.get_word_index()\n",
        "\n",
        "# so we shift each original word two places to make room for the two new tokens\n",
        "offset = 2\n",
        "word2idx = {k:(v+offset) for k,v in word_indices.items() if v < 9998}\n",
        "word2idx[\"<PAD>\"] = 0\n",
        "word2idx[\"<START>\"] = 1\n",
        "word2idx[\"<UNK>\"] = 2"
      ],
      "execution_count": null,
      "outputs": []
    },
    {
      "cell_type": "markdown",
      "metadata": {
        "id": "H3oZeE74HCvL"
      },
      "source": [
        "\n",
        "**Step 2: Create a the idx2word dictionary**"
      ]
    },
    {
      "cell_type": "code",
      "metadata": {
        "id": "F0sWRDRIHIzp"
      },
      "source": [
        "\n",
        "word_indices = imdb.get_word_index()\n",
        "\n",
        "# so we shift each original word two places to make room for the two new tokens\n",
        "offset = 2\n",
        "idx2word = {(v+offset):k for k,v in word_indices.items() if v < 9998}\n",
        "idx2word[0] = \"<PAD>\"\n",
        "idx2word[1] = \"<START>\"\n",
        "idx2word[2] = \"<UNK>\""
      ],
      "execution_count": null,
      "outputs": []
    },
    {
      "cell_type": "markdown",
      "metadata": {
        "id": "DCzUWwB-S7hg"
      },
      "source": [
        "**<i> <font color ='darkblue'> We use the same logic as that used for creation of word2idx but reversing the key and value of the dictionary to get the idx2word dictionary.</font></i>**"
      ]
    },
    {
      "cell_type": "markdown",
      "metadata": {
        "id": "p7aGrCU1HTN0"
      },
      "source": [
        "\n",
        "**Step 3: Visualize sample review**\n",
        "\n",
        "View a sample review text using the lines of code below:"
      ]
    },
    {
      "cell_type": "code",
      "metadata": {
        "colab": {
          "base_uri": "https://localhost:8080/"
        },
        "id": "TgRbMGG3G8jb",
        "outputId": "8aa1f84d-4400-4c41-dea9-07f287a5b533"
      },
      "source": [
        "print(' '.join(idx2word[idx] for idx in train_data[0]))"
      ],
      "execution_count": null,
      "outputs": [
        {
          "output_type": "stream",
          "text": [
            "<START> this film was just brilliant casting location scenery story direction everyone's really suited the part they played and you could just imagine being there robert <UNK> is an amazing actor and now the same being director <UNK> father came from the same scottish island as myself so i loved the fact there was a real connection with this film the witty remarks throughout the film were great it was just brilliant so much that i bought the film as soon as it was released for <UNK> and would recommend it to everyone to watch and the fly fishing was amazing really cried at the end it was so sad and you know what they say if you cry at a film it must have been good and this definitely was also <UNK> to the two little boy's that played the <UNK> of norman and paul they were just brilliant children are often left out of the <UNK> list i think because the stars that play them all grown up are such a big profile for the whole film but these children are amazing and should be praised for what they have done don't you think the whole story was so lovely because it was true and was someone's life after all that was shared with us all\n"
          ],
          "name": "stdout"
        }
      ]
    },
    {
      "cell_type": "markdown",
      "metadata": {
        "id": "TFs4QSdFJrWL"
      },
      "source": [
        "###**8. Visualizing the Word_Embeddings**\n",
        "\n",
        "Visualize the word embeddings for 10 of the words using pandas DataFrame like we did in lab 3"
      ]
    },
    {
      "cell_type": "code",
      "metadata": {
        "colab": {
          "base_uri": "https://localhost:8080/"
        },
        "id": "2IBvttx-J9re",
        "outputId": "1229ebfe-3f3f-4308-8c59-eafa7493ba8e"
      },
      "source": [
        "\n",
        "from pandas import DataFrame\n",
        "\n",
        "print(DataFrame(word_embeddings, index=idx2word.values()).head(10))"
      ],
      "execution_count": null,
      "outputs": [
        {
          "output_type": "stream",
          "text": [
            "                 0         1         2   ...        97        98        99\n",
            "woods      0.004656 -0.000098  0.022523  ...  0.023313 -0.004128  0.011303\n",
            "hanging   -0.019104  0.003443 -0.023318  ...  0.024173 -0.022439  0.003514\n",
            "woody      0.001418 -0.016230 -0.000715  ...  0.002055  0.015644 -0.001226\n",
            "arranged   0.013503 -0.000957 -0.006570  ... -0.027066 -0.027481 -0.005661\n",
            "bringing   0.006913 -0.007691  0.008934  ...  0.012631 -0.021637 -0.000253\n",
            "wooden     0.000722 -0.005509  0.003708  ...  0.000613 -0.001830 -0.005220\n",
            "errors     0.022995 -0.015180 -0.006031  ...  0.020084  0.023815 -0.011750\n",
            "dialogs    0.011984 -0.002591 -0.007620  ...  0.009380  0.010116  0.024868\n",
            "kids       0.009471 -0.001333  0.005340  ... -0.013742 -0.004563 -0.005463\n",
            "uplifting -0.004238  0.013709 -0.022342  ...  0.006778 -0.001901  0.010749\n",
            "\n",
            "[10 rows x 100 columns]\n"
          ],
          "name": "stdout"
        }
      ]
    },
    {
      "cell_type": "markdown",
      "metadata": {
        "id": "3lnwuQLqTO7Y"
      },
      "source": [
        "**<i> <font color ='darkblue'>We visualize the word embeddings of the first 10 words above. </font></i>**"
      ]
    },
    {
      "cell_type": "markdown",
      "metadata": {
        "id": "k0fyfgvB90G5"
      },
      "source": [
        "###**9. Plot your Word Embeddings using t-SNE**\n"
      ]
    },
    {
      "cell_type": "code",
      "metadata": {
        "colab": {
          "base_uri": "https://localhost:8080/",
          "height": 483
        },
        "id": "JRPHIYEgGXRh",
        "outputId": "8078b270-d994-4e33-b061-dc5545e47014"
      },
      "source": [
        "from sklearn.manifold import TSNE\n",
        "import matplotlib.pyplot as plt\n",
        "import numpy as np\n",
        "\n",
        "tsne = TSNE(perplexity=3, n_components=2, init='pca', n_iter=5000, method='exact')\n",
        "np.set_printoptions(suppress=True)\n",
        "plot_only = 50\n",
        "\n",
        "# don't plot the special tokens\n",
        "start = 3\n",
        "T = tsne.fit_transform(word_embeddings[start:plot_only, :])\n",
        "labels = [idx2word[i] for i in range(start, plot_only)]\n",
        "plt.figure(figsize=(14, 8))\n",
        "plt.scatter(T[:, 0], T[:, 1])\n",
        "for label, x, y in zip(labels, T[:, 0], T[:, 1]):\n",
        "    plt.annotate(label, xy=(x+1, y+1), xytext=(0, 0), textcoords='offset points', ha='right', va='bottom')                      \t                        \n"
      ],
      "execution_count": null,
      "outputs": [
        {
          "output_type": "display_data",
          "data": {
            "image/png": "[encoded data removed]",
            "text/plain": [
              "<Figure size 1008x576 with 1 Axes>"
            ]
          },
          "metadata": {
            "tags": [],
            "needs_background": "light"
          }
        }
      ]
    },
    {
      "cell_type": "markdown",
      "metadata": {
        "id": "sHdy4PDVO8TN"
      },
      "source": [
        "###**10. Questions**\n",
        "\n",
        "1. Create a new model that is a copy of the model step 3. To this new model,add two dropout layers, one between the embedding layer and the LSTM layer and another between the LSTM layer and the output layer. Repeat steps 4 and 5 for this model. What do you observe?\n",
        "\n",
        "2. Experiment with training the model with batch sizes of 1, 32, len(training_data). What do you observe?\n",
        "\n",
        "3. (optional) Can you retrain with a Bidirectional LSTM instead of an LSTM? What do you observe about the Bi-LSTM model?\n"
      ]
    },
    {
      "cell_type": "markdown",
      "metadata": {
        "id": "V4IhjR8_T1sc"
      },
      "source": [
        "Question 1"
      ]
    },
    {
      "cell_type": "code",
      "metadata": {
        "id": "dxvb_lmHZ0Qm",
        "colab": {
          "base_uri": "https://localhost:8080/"
        },
        "outputId": "b822f442-36cc-4788-da25-385ed875faf8"
      },
      "source": [
        "from keras.layers import Input, Embedding, Dense, LSTM, Dropout\n",
        "from keras.models import Model\n",
        "\n",
        "EMBED_SIZE = 100\n",
        "# YOUR CODE GOES HERE\n",
        "input_imdb = Input(shape=(500,))\n",
        "embedding_layer = Embedding(mask_zero = True, input_length = 500, input_dim = VOCAB_SIZE, output_dim = EMBED_SIZE, embeddings_initializer='glorot_uniform')(input_imdb)\n",
        "dropout_layer_1 = Dropout(rate=0.2)(embedding_layer)\n",
        "lstm_layer = LSTM(100, return_sequences = False)(dropout_layer_1)\n",
        "dropout_layer_2 = Dropout(rate=0.2)(lstm_layer)\n",
        "dense_layer = Dense(1, activation = 'sigmoid')(dropout_layer_2)\n",
        "model = Model(inputs= input_imdb, outputs=dense_layer)\n",
        "model.compile('adam', 'binary_crossentropy', metrics=['accuracy'])\n",
        "model.summary()"
      ],
      "execution_count": null,
      "outputs": [
        {
          "output_type": "stream",
          "text": [
            "Model: \"model_1\"\n",
            "_________________________________________________________________\n",
            "Layer (type)                 Output Shape              Param #   \n",
            "=================================================================\n",
            "input_2 (InputLayer)         [(None, 500)]             0         \n",
            "_________________________________________________________________\n",
            "embedding_1 (Embedding)      (None, 500, 100)          1000000   \n",
            "_________________________________________________________________\n",
            "dropout (Dropout)            (None, 500, 100)          0         \n",
            "_________________________________________________________________\n",
            "lstm_1 (LSTM)                (None, 100)               80400     \n",
            "_________________________________________________________________\n",
            "dropout_1 (Dropout)          (None, 100)               0         \n",
            "_________________________________________________________________\n",
            "dense_1 (Dense)              (None, 1)                 101       \n",
            "=================================================================\n",
            "Total params: 1,080,501\n",
            "Trainable params: 1,080,501\n",
            "Non-trainable params: 0\n",
            "_________________________________________________________________\n"
          ],
          "name": "stdout"
        }
      ]
    },
    {
      "cell_type": "code",
      "metadata": {
        "colab": {
          "base_uri": "https://localhost:8080/"
        },
        "id": "9qc6wD7kaODC",
        "outputId": "184d4e9b-127c-420b-cd4b-495ac0c0ca46"
      },
      "source": [
        "history = model.fit(train_x, train_y, epochs=6, batch_size=1000, validation_data=(validation_x, validation_y))"
      ],
      "execution_count": null,
      "outputs": [
        {
          "output_type": "stream",
          "text": [
            "Epoch 1/6\n",
            "23/23 [==============================] - 226s 10s/step - loss: 0.6806 - accuracy: 0.5857 - val_loss: 0.5650 - val_accuracy: 0.7150\n",
            "Epoch 2/6\n",
            "23/23 [==============================] - 222s 10s/step - loss: 0.4381 - accuracy: 0.8181 - val_loss: 0.3461 - val_accuracy: 0.8600\n",
            "Epoch 3/6\n",
            "23/23 [==============================] - 218s 9s/step - loss: 0.2778 - accuracy: 0.8979 - val_loss: 0.2790 - val_accuracy: 0.8920\n",
            "Epoch 4/6\n",
            "23/23 [==============================] - 207s 9s/step - loss: 0.1910 - accuracy: 0.9338 - val_loss: 0.2661 - val_accuracy: 0.8985\n",
            "Epoch 5/6\n",
            "23/23 [==============================] - 228s 10s/step - loss: 0.1429 - accuracy: 0.9529 - val_loss: 0.2907 - val_accuracy: 0.8910\n",
            "Epoch 6/6\n",
            "23/23 [==============================] - 203s 9s/step - loss: 0.1296 - accuracy: 0.9603 - val_loss: 0.2957 - val_accuracy: 0.8920\n"
          ],
          "name": "stdout"
        }
      ]
    },
    {
      "cell_type": "code",
      "metadata": {
        "colab": {
          "base_uri": "https://localhost:8080/",
          "height": 369
        },
        "id": "M9ao-rc4axnl",
        "outputId": "6a4b83e2-0d40-4ce5-e5c6-66f9834fe079"
      },
      "source": [
        "plot_history(history.history, path=\"standard.png\")\n",
        "plt.show()"
      ],
      "execution_count": null,
      "outputs": [
        {
          "output_type": "display_data",
          "data": {
            "image/png": "[encoded data removed]",
            "text/plain": [
              "<Figure size 720x360 with 2 Axes>"
            ]
          },
          "metadata": {
            "tags": [],
            "needs_background": "light"
          }
        }
      ]
    },
    {
      "cell_type": "code",
      "metadata": {
        "colab": {
          "base_uri": "https://localhost:8080/"
        },
        "id": "GmCVB-bYaxvb",
        "outputId": "0d6b7dd9-9fca-432d-b671-f04f8a778035"
      },
      "source": [
        "# YOUR CODE TO EVALUATE THE MODEL ON TEST DATA GOES HERE\n",
        "results = model.evaluate(padded_test_data, test_labels, batch_size=1000)\n",
        "print('test_loss:', results[0], 'test_accuracy:', results[1])"
      ],
      "execution_count": null,
      "outputs": [
        {
          "output_type": "stream",
          "text": [
            "25/25 [==============================] - 68s 3s/step - loss: 0.3366 - accuracy: 0.8725\n",
            "test_loss: 0.3365747928619385 test_accuracy: 0.8724799752235413\n"
          ],
          "name": "stdout"
        }
      ]
    },
    {
      "cell_type": "markdown",
      "metadata": {
        "id": "xf4afcYsdyrY"
      },
      "source": [
        "**<i> <font color ='darkblue'> From the metrics shown above, we can see that the accuracy on the test set has increased slightly while the loss has decreased by about 5% when we compare this model with dropout layers to previous model. When we study the plots, we can notice that learning happens uptil the second epoch after which there are signs of possible overfitting while in the previous model, we see signs of overfitting right after first epoch. Furthermore, the training and validation loss has decreased slightly while the accuracy on validation set has almost remained the same for the latest model only decreasing by 1% for training accuracy.</font></i>**"
      ]
    },
    {
      "cell_type": "markdown",
      "metadata": {
        "id": "u0_qIJrPbLKX"
      },
      "source": [
        "Question 2"
      ]
    },
    {
      "cell_type": "code",
      "metadata": {
        "colab": {
          "base_uri": "https://localhost:8080/"
        },
        "id": "DMB5FvTua46R",
        "outputId": "b003719b-415d-48fd-9641-5053723b6ed7"
      },
      "source": [
        "from keras.layers import Input, Embedding, Dense, LSTM, Dropout\n",
        "from keras.models import Model\n",
        "\n",
        "EMBED_SIZE = 100\n",
        "input_imdb = Input(shape=(500,))\n",
        "embedding_layer = Embedding(mask_zero = True, input_length = 500, input_dim = VOCAB_SIZE, output_dim = EMBED_SIZE, embeddings_initializer='glorot_uniform')(input_imdb)\n",
        "lstm_layer = LSTM(100, return_sequences = False)(embedding_layer)\n",
        "dense_layer = Dense(1, activation = 'sigmoid')(lstm_layer)\n",
        "model = Model(inputs= input_imdb, outputs=dense_layer)\n",
        "model.compile('adam', 'binary_crossentropy', metrics=['accuracy'])\n",
        "model.summary()"
      ],
      "execution_count": null,
      "outputs": [
        {
          "output_type": "stream",
          "text": [
            "Model: \"model_2\"\n",
            "_________________________________________________________________\n",
            "Layer (type)                 Output Shape              Param #   \n",
            "=================================================================\n",
            "input_3 (InputLayer)         [(None, 500)]             0         \n",
            "_________________________________________________________________\n",
            "embedding_2 (Embedding)      (None, 500, 100)          1000000   \n",
            "_________________________________________________________________\n",
            "lstm_2 (LSTM)                (None, 100)               80400     \n",
            "_________________________________________________________________\n",
            "dense_2 (Dense)              (None, 1)                 101       \n",
            "=================================================================\n",
            "Total params: 1,080,501\n",
            "Trainable params: 1,080,501\n",
            "Non-trainable params: 0\n",
            "_________________________________________________________________\n"
          ],
          "name": "stdout"
        }
      ]
    },
    {
      "cell_type": "code",
      "metadata": {
        "colab": {
          "base_uri": "https://localhost:8080/",
          "height": 369
        },
        "id": "hXA52v2TbSZz",
        "outputId": "98290c4f-8614-4718-ce78-5b49464523e2"
      },
      "source": [
        "# Training with 6 epochs and batch size = 1\n",
        "history = model.fit(train_x, train_y, epochs=6, batch_size=1, validation_data=(validation_x, validation_y))"
      ],
      "execution_count": null,
      "outputs": [
        {
          "output_type": "stream",
          "text": [
            "Epoch 1/6\n",
            "19033/23000 [=======================>......] - ETA: 11:53 - loss: 0.5649 - accuracy: 0.6957"
          ],
          "name": "stdout"
        },
        {
          "output_type": "error",
          "ename": "KeyboardInterrupt",
          "evalue": "ignored",
          "traceback": [
            "\u001b[0;31m---------------------------------------------------------------------------\u001b[0m",
            "\u001b[0;31mKeyboardInterrupt\u001b[0m                         Traceback (most recent call last)",
            "\u001b[0;32m<ipython-input-28-ad5a539ad525>\u001b[0m in \u001b[0;36m<module>\u001b[0;34m()\u001b[0m\n\u001b[0;32m----> 1\u001b[0;31m \u001b[0mhistory\u001b[0m \u001b[0;34m=\u001b[0m \u001b[0mmodel\u001b[0m\u001b[0;34m.\u001b[0m\u001b[0mfit\u001b[0m\u001b[0;34m(\u001b[0m\u001b[0mtrain_x\u001b[0m\u001b[0;34m,\u001b[0m \u001b[0mtrain_y\u001b[0m\u001b[0;34m,\u001b[0m \u001b[0mepochs\u001b[0m\u001b[0;34m=\u001b[0m\u001b[0;36m6\u001b[0m\u001b[0;34m,\u001b[0m \u001b[0mbatch_size\u001b[0m\u001b[0;34m=\u001b[0m\u001b[0;36m1\u001b[0m\u001b[0;34m,\u001b[0m \u001b[0mvalidation_data\u001b[0m\u001b[0;34m=\u001b[0m\u001b[0;34m(\u001b[0m\u001b[0mvalidation_x\u001b[0m\u001b[0;34m,\u001b[0m \u001b[0mvalidation_y\u001b[0m\u001b[0;34m)\u001b[0m\u001b[0;34m)\u001b[0m\u001b[0;34m\u001b[0m\u001b[0;34m\u001b[0m\u001b[0m\n\u001b[0m\u001b[1;32m      2\u001b[0m \u001b[0;31m#took more than one hour for each epoch\u001b[0m\u001b[0;34m\u001b[0m\u001b[0;34m\u001b[0m\u001b[0;34m\u001b[0m\u001b[0m\n",
            "\u001b[0;32m/usr/local/lib/python3.7/dist-packages/tensorflow/python/keras/engine/training.py\u001b[0m in \u001b[0;36mfit\u001b[0;34m(self, x, y, batch_size, epochs, verbose, callbacks, validation_split, validation_data, shuffle, class_weight, sample_weight, initial_epoch, steps_per_epoch, validation_steps, validation_batch_size, validation_freq, max_queue_size, workers, use_multiprocessing)\u001b[0m\n\u001b[1;32m   1098\u001b[0m                 _r=1):\n\u001b[1;32m   1099\u001b[0m               \u001b[0mcallbacks\u001b[0m\u001b[0;34m.\u001b[0m\u001b[0mon_train_batch_begin\u001b[0m\u001b[0;34m(\u001b[0m\u001b[0mstep\u001b[0m\u001b[0;34m)\u001b[0m\u001b[0;34m\u001b[0m\u001b[0;34m\u001b[0m\u001b[0m\n\u001b[0;32m-> 1100\u001b[0;31m               \u001b[0mtmp_logs\u001b[0m \u001b[0;34m=\u001b[0m \u001b[0mself\u001b[0m\u001b[0;34m.\u001b[0m\u001b[0mtrain_function\u001b[0m\u001b[0;34m(\u001b[0m\u001b[0miterator\u001b[0m\u001b[0;34m)\u001b[0m\u001b[0;34m\u001b[0m\u001b[0;34m\u001b[0m\u001b[0m\n\u001b[0m\u001b[1;32m   1101\u001b[0m               \u001b[0;32mif\u001b[0m \u001b[0mdata_handler\u001b[0m\u001b[0;34m.\u001b[0m\u001b[0mshould_sync\u001b[0m\u001b[0;34m:\u001b[0m\u001b[0;34m\u001b[0m\u001b[0;34m\u001b[0m\u001b[0m\n\u001b[1;32m   1102\u001b[0m                 \u001b[0mcontext\u001b[0m\u001b[0;34m.\u001b[0m\u001b[0masync_wait\u001b[0m\u001b[0;34m(\u001b[0m\u001b[0;34m)\u001b[0m\u001b[0;34m\u001b[0m\u001b[0;34m\u001b[0m\u001b[0m\n",
            "\u001b[0;32m/usr/local/lib/python3.7/dist-packages/tensorflow/python/eager/def_function.py\u001b[0m in \u001b[0;36m__call__\u001b[0;34m(self, *args, **kwds)\u001b[0m\n\u001b[1;32m    826\u001b[0m     \u001b[0mtracing_count\u001b[0m \u001b[0;34m=\u001b[0m \u001b[0mself\u001b[0m\u001b[0;34m.\u001b[0m\u001b[0mexperimental_get_tracing_count\u001b[0m\u001b[0;34m(\u001b[0m\u001b[0;34m)\u001b[0m\u001b[0;34m\u001b[0m\u001b[0;34m\u001b[0m\u001b[0m\n\u001b[1;32m    827\u001b[0m     \u001b[0;32mwith\u001b[0m \u001b[0mtrace\u001b[0m\u001b[0;34m.\u001b[0m\u001b[0mTrace\u001b[0m\u001b[0;34m(\u001b[0m\u001b[0mself\u001b[0m\u001b[0;34m.\u001b[0m\u001b[0m_name\u001b[0m\u001b[0;34m)\u001b[0m \u001b[0;32mas\u001b[0m \u001b[0mtm\u001b[0m\u001b[0;34m:\u001b[0m\u001b[0;34m\u001b[0m\u001b[0;34m\u001b[0m\u001b[0m\n\u001b[0;32m--> 828\u001b[0;31m       \u001b[0mresult\u001b[0m \u001b[0;34m=\u001b[0m \u001b[0mself\u001b[0m\u001b[0;34m.\u001b[0m\u001b[0m_call\u001b[0m\u001b[0;34m(\u001b[0m\u001b[0;34m*\u001b[0m\u001b[0margs\u001b[0m\u001b[0;34m,\u001b[0m \u001b[0;34m**\u001b[0m\u001b[0mkwds\u001b[0m\u001b[0;34m)\u001b[0m\u001b[0;34m\u001b[0m\u001b[0;34m\u001b[0m\u001b[0m\n\u001b[0m\u001b[1;32m    829\u001b[0m       \u001b[0mcompiler\u001b[0m \u001b[0;34m=\u001b[0m \u001b[0;34m\"xla\"\u001b[0m \u001b[0;32mif\u001b[0m \u001b[0mself\u001b[0m\u001b[0;34m.\u001b[0m\u001b[0m_experimental_compile\u001b[0m \u001b[0;32melse\u001b[0m \u001b[0;34m\"nonXla\"\u001b[0m\u001b[0;34m\u001b[0m\u001b[0;34m\u001b[0m\u001b[0m\n\u001b[1;32m    830\u001b[0m       \u001b[0mnew_tracing_count\u001b[0m \u001b[0;34m=\u001b[0m \u001b[0mself\u001b[0m\u001b[0;34m.\u001b[0m\u001b[0mexperimental_get_tracing_count\u001b[0m\u001b[0;34m(\u001b[0m\u001b[0;34m)\u001b[0m\u001b[0;34m\u001b[0m\u001b[0;34m\u001b[0m\u001b[0m\n",
            "\u001b[0;32m/usr/local/lib/python3.7/dist-packages/tensorflow/python/eager/def_function.py\u001b[0m in \u001b[0;36m_call\u001b[0;34m(self, *args, **kwds)\u001b[0m\n\u001b[1;32m    853\u001b[0m       \u001b[0;31m# In this case we have created variables on the first call, so we run the\u001b[0m\u001b[0;34m\u001b[0m\u001b[0;34m\u001b[0m\u001b[0;34m\u001b[0m\u001b[0m\n\u001b[1;32m    854\u001b[0m       \u001b[0;31m# defunned version which is guaranteed to never create variables.\u001b[0m\u001b[0;34m\u001b[0m\u001b[0;34m\u001b[0m\u001b[0;34m\u001b[0m\u001b[0m\n\u001b[0;32m--> 855\u001b[0;31m       \u001b[0;32mreturn\u001b[0m \u001b[0mself\u001b[0m\u001b[0;34m.\u001b[0m\u001b[0m_stateless_fn\u001b[0m\u001b[0;34m(\u001b[0m\u001b[0;34m*\u001b[0m\u001b[0margs\u001b[0m\u001b[0;34m,\u001b[0m \u001b[0;34m**\u001b[0m\u001b[0mkwds\u001b[0m\u001b[0;34m)\u001b[0m  \u001b[0;31m# pylint: disable=not-callable\u001b[0m\u001b[0;34m\u001b[0m\u001b[0;34m\u001b[0m\u001b[0m\n\u001b[0m\u001b[1;32m    856\u001b[0m     \u001b[0;32melif\u001b[0m \u001b[0mself\u001b[0m\u001b[0;34m.\u001b[0m\u001b[0m_stateful_fn\u001b[0m \u001b[0;32mis\u001b[0m \u001b[0;32mnot\u001b[0m \u001b[0;32mNone\u001b[0m\u001b[0;34m:\u001b[0m\u001b[0;34m\u001b[0m\u001b[0;34m\u001b[0m\u001b[0m\n\u001b[1;32m    857\u001b[0m       \u001b[0;31m# Release the lock early so that multiple threads can perform the call\u001b[0m\u001b[0;34m\u001b[0m\u001b[0;34m\u001b[0m\u001b[0;34m\u001b[0m\u001b[0m\n",
            "\u001b[0;32m/usr/local/lib/python3.7/dist-packages/tensorflow/python/eager/function.py\u001b[0m in \u001b[0;36m__call__\u001b[0;34m(self, *args, **kwargs)\u001b[0m\n\u001b[1;32m   2941\u001b[0m        filtered_flat_args) = self._maybe_define_function(args, kwargs)\n\u001b[1;32m   2942\u001b[0m     return graph_function._call_flat(\n\u001b[0;32m-> 2943\u001b[0;31m         filtered_flat_args, captured_inputs=graph_function.captured_inputs)  # pylint: disable=protected-access\n\u001b[0m\u001b[1;32m   2944\u001b[0m \u001b[0;34m\u001b[0m\u001b[0m\n\u001b[1;32m   2945\u001b[0m   \u001b[0;34m@\u001b[0m\u001b[0mproperty\u001b[0m\u001b[0;34m\u001b[0m\u001b[0;34m\u001b[0m\u001b[0m\n",
            "\u001b[0;32m/usr/local/lib/python3.7/dist-packages/tensorflow/python/eager/function.py\u001b[0m in \u001b[0;36m_call_flat\u001b[0;34m(self, args, captured_inputs, cancellation_manager)\u001b[0m\n\u001b[1;32m   1917\u001b[0m       \u001b[0;31m# No tape is watching; skip to running the function.\u001b[0m\u001b[0;34m\u001b[0m\u001b[0;34m\u001b[0m\u001b[0;34m\u001b[0m\u001b[0m\n\u001b[1;32m   1918\u001b[0m       return self._build_call_outputs(self._inference_function.call(\n\u001b[0;32m-> 1919\u001b[0;31m           ctx, args, cancellation_manager=cancellation_manager))\n\u001b[0m\u001b[1;32m   1920\u001b[0m     forward_backward = self._select_forward_and_backward_functions(\n\u001b[1;32m   1921\u001b[0m         \u001b[0margs\u001b[0m\u001b[0;34m,\u001b[0m\u001b[0;34m\u001b[0m\u001b[0;34m\u001b[0m\u001b[0m\n",
            "\u001b[0;32m/usr/local/lib/python3.7/dist-packages/tensorflow/python/eager/function.py\u001b[0m in \u001b[0;36mcall\u001b[0;34m(self, ctx, args, cancellation_manager)\u001b[0m\n\u001b[1;32m    558\u001b[0m               \u001b[0minputs\u001b[0m\u001b[0;34m=\u001b[0m\u001b[0margs\u001b[0m\u001b[0;34m,\u001b[0m\u001b[0;34m\u001b[0m\u001b[0;34m\u001b[0m\u001b[0m\n\u001b[1;32m    559\u001b[0m               \u001b[0mattrs\u001b[0m\u001b[0;34m=\u001b[0m\u001b[0mattrs\u001b[0m\u001b[0;34m,\u001b[0m\u001b[0;34m\u001b[0m\u001b[0;34m\u001b[0m\u001b[0m\n\u001b[0;32m--> 560\u001b[0;31m               ctx=ctx)\n\u001b[0m\u001b[1;32m    561\u001b[0m         \u001b[0;32melse\u001b[0m\u001b[0;34m:\u001b[0m\u001b[0;34m\u001b[0m\u001b[0;34m\u001b[0m\u001b[0m\n\u001b[1;32m    562\u001b[0m           outputs = execute.execute_with_cancellation(\n",
            "\u001b[0;32m/usr/local/lib/python3.7/dist-packages/tensorflow/python/eager/execute.py\u001b[0m in \u001b[0;36mquick_execute\u001b[0;34m(op_name, num_outputs, inputs, attrs, ctx, name)\u001b[0m\n\u001b[1;32m     58\u001b[0m     \u001b[0mctx\u001b[0m\u001b[0;34m.\u001b[0m\u001b[0mensure_initialized\u001b[0m\u001b[0;34m(\u001b[0m\u001b[0;34m)\u001b[0m\u001b[0;34m\u001b[0m\u001b[0;34m\u001b[0m\u001b[0m\n\u001b[1;32m     59\u001b[0m     tensors = pywrap_tfe.TFE_Py_Execute(ctx._handle, device_name, op_name,\n\u001b[0;32m---> 60\u001b[0;31m                                         inputs, attrs, num_outputs)\n\u001b[0m\u001b[1;32m     61\u001b[0m   \u001b[0;32mexcept\u001b[0m \u001b[0mcore\u001b[0m\u001b[0;34m.\u001b[0m\u001b[0m_NotOkStatusException\u001b[0m \u001b[0;32mas\u001b[0m \u001b[0me\u001b[0m\u001b[0;34m:\u001b[0m\u001b[0;34m\u001b[0m\u001b[0;34m\u001b[0m\u001b[0m\n\u001b[1;32m     62\u001b[0m     \u001b[0;32mif\u001b[0m \u001b[0mname\u001b[0m \u001b[0;32mis\u001b[0m \u001b[0;32mnot\u001b[0m \u001b[0;32mNone\u001b[0m\u001b[0;34m:\u001b[0m\u001b[0;34m\u001b[0m\u001b[0;34m\u001b[0m\u001b[0m\n",
            "\u001b[0;31mKeyboardInterrupt\u001b[0m: "
          ]
        }
      ]
    },
    {
      "cell_type": "markdown",
      "metadata": {
        "id": "Wp_12NpPeGYd"
      },
      "source": [
        "**<i> <font color ='darkblue'> Having a batch size of one actually would mean that parameters are being adjusted with each sample instead of for a group of samples in each epoch. We trained the model with 6 such epochs. This resulted in more than an hour of training time. The kernel stopped before completing the training process as shown by the output above.</font></i>**"
      ]
    },
    {
      "cell_type": "code",
      "metadata": {
        "id": "PvdgUIPmbSd7"
      },
      "source": [
        "plot_history(history.history, path=\"standard.png\")\n",
        "plt.show()"
      ],
      "execution_count": null,
      "outputs": []
    },
    {
      "cell_type": "code",
      "metadata": {
        "id": "va5zHz7qbShr"
      },
      "source": [
        "# Model evaluation\n",
        "results = model.evaluate(padded_test_data, test_labels, batch_size=1000)\n",
        "print('test_loss:', results[0], 'test_accuracy:', results[1])"
      ],
      "execution_count": null,
      "outputs": []
    },
    {
      "cell_type": "code",
      "metadata": {
        "id": "nGPgkx26bTie",
        "colab": {
          "base_uri": "https://localhost:8080/"
        },
        "outputId": "3eeac0ee-ae23-4ef9-f3eb-9eeabe1c62c6"
      },
      "source": [
        "# Training with 6 epochs and batch size = 32\n",
        "history = model.fit(train_x, train_y, epochs=6, batch_size=32, validation_data=(validation_x, validation_y))"
      ],
      "execution_count": null,
      "outputs": [
        {
          "output_type": "stream",
          "text": [
            "Epoch 1/6\n",
            "719/719 [==============================] - 383s 527ms/step - loss: 0.4944 - accuracy: 0.7441 - val_loss: 0.3320 - val_accuracy: 0.8675\n",
            "Epoch 2/6\n",
            "719/719 [==============================] - 377s 525ms/step - loss: 0.2982 - accuracy: 0.8840 - val_loss: 0.3862 - val_accuracy: 0.8260\n",
            "Epoch 3/6\n",
            "719/719 [==============================] - 382s 531ms/step - loss: 0.2136 - accuracy: 0.9175 - val_loss: 0.3936 - val_accuracy: 0.8665\n",
            "Epoch 4/6\n",
            "719/719 [==============================] - 379s 527ms/step - loss: 0.1558 - accuracy: 0.9430 - val_loss: 0.3808 - val_accuracy: 0.8640\n",
            "Epoch 5/6\n",
            "719/719 [==============================] - 380s 529ms/step - loss: 0.1103 - accuracy: 0.9615 - val_loss: 0.4160 - val_accuracy: 0.8610\n",
            "Epoch 6/6\n",
            "719/719 [==============================] - 377s 524ms/step - loss: 0.0815 - accuracy: 0.9740 - val_loss: 0.4227 - val_accuracy: 0.8635\n"
          ],
          "name": "stdout"
        }
      ]
    },
    {
      "cell_type": "markdown",
      "metadata": {
        "id": "9XbqXbjIenfR"
      },
      "source": [
        "**<i> <font color ='darkblue'> A batch size of 32 is still very low and results in more frequent changes to weights and incurred a similar training time(1+ hours, about 5 minute difference) like the previous case. Training process completed this time and resulted in better performance on validation set.</font></i>**"
      ]
    },
    {
      "cell_type": "code",
      "metadata": {
        "id": "LT6TT1LtbTlH",
        "colab": {
          "base_uri": "https://localhost:8080/",
          "height": 369
        },
        "outputId": "940c3b44-15f1-4df1-cb14-f8afdb97111d"
      },
      "source": [
        "plot_history(history.history, path=\"standard.png\")\n",
        "plt.show()"
      ],
      "execution_count": null,
      "outputs": [
        {
          "output_type": "display_data",
          "data": {
            "image/png": "[encoded data removed]",
            "text/plain": [
              "<Figure size 720x360 with 2 Axes>"
            ]
          },
          "metadata": {
            "tags": [],
            "needs_background": "light"
          }
        }
      ]
    },
    {
      "cell_type": "code",
      "metadata": {
        "id": "C14jOBhebTor",
        "colab": {
          "base_uri": "https://localhost:8080/"
        },
        "outputId": "9c3bc1e5-3b2f-4157-9081-51534ca1bef6"
      },
      "source": [
        "# Model evaluation\n",
        "results = model.evaluate(padded_test_data, test_labels, batch_size=1000)\n",
        "print('test_loss:', results[0], 'test_accuracy:', results[1])"
      ],
      "execution_count": null,
      "outputs": [
        {
          "output_type": "stream",
          "text": [
            "25/25 [==============================] - 69s 3s/step - loss: 0.4410 - accuracy: 0.8620\n",
            "test_loss: 0.4409966766834259 test_accuracy: 0.8619999885559082\n"
          ],
          "name": "stdout"
        }
      ]
    },
    {
      "cell_type": "code",
      "metadata": {
        "id": "9n_as0ewbcVA"
      },
      "source": [
        "# Training with 6 epochs and batch size = length of training data\n",
        "history = model.fit(train_x, train_y, epochs=6, batch_size=len(train_x), validation_data=(validation_x, validation_y))\n",
        "#crashed"
      ],
      "execution_count": null,
      "outputs": []
    },
    {
      "cell_type": "markdown",
      "metadata": {
        "id": "9H3HOzB-etFw"
      },
      "source": [
        "**<i> <font color ='darkblue'> In this case, we have a batch size equal to the number of samples in the training data which is huge and hence, training for even one epoch is memory intensive. This led the kernel to crash which is why the output is not visible.</font></i>**"
      ]
    },
    {
      "cell_type": "code",
      "metadata": {
        "id": "XepTawqzbcX8"
      },
      "source": [
        "plot_history(history.history, path=\"standard.png\")\n",
        "plt.show()"
      ],
      "execution_count": null,
      "outputs": []
    },
    {
      "cell_type": "code",
      "metadata": {
        "id": "rVsAmvwnbca4"
      },
      "source": [
        "# YOUR CODE TO EVALUATE THE MODEL ON TEST DATA GOES HERE\n",
        "results = model.evaluate(padded_test_data, test_labels, batch_size=1000)\n",
        "print('test_loss:', results[0], 'test_accuracy:', results[1])"
      ],
      "execution_count": null,
      "outputs": []
    },
    {
      "cell_type": "markdown",
      "metadata": {
        "id": "_tRD0XWjbiaF"
      },
      "source": [
        "Question 3"
      ]
    },
    {
      "cell_type": "code",
      "metadata": {
        "colab": {
          "base_uri": "https://localhost:8080/"
        },
        "id": "yDQH-IDybjOt",
        "outputId": "93661f46-a9f0-4e69-eaf4-6946c50ddfa9"
      },
      "source": [
        "from keras.layers import Input, Embedding, Dense, LSTM, Dropout, Bidirectional\n",
        "from keras.models import Model\n",
        "\n",
        "EMBED_SIZE = 100\n",
        "# YOUR CODE GOES HERE\n",
        "input_imdb = Input(shape=(500,))\n",
        "embedding_layer = Embedding(mask_zero = True, input_length = 500, input_dim = VOCAB_SIZE, output_dim = EMBED_SIZE, embeddings_initializer='glorot_uniform')(input_imdb)\n",
        "lstm_layer = Bidirectional(LSTM(100, return_sequences = False))(embedding_layer)\n",
        "dense_layer = Dense(1, activation = 'sigmoid')(lstm_layer)\n",
        "model = Model(inputs= input_imdb, outputs=dense_layer)\n",
        "model.compile('adam', 'binary_crossentropy', metrics=['accuracy'])\n",
        "model.summary()"
      ],
      "execution_count": null,
      "outputs": [
        {
          "output_type": "stream",
          "text": [
            "Model: \"model_3\"\n",
            "_________________________________________________________________\n",
            "Layer (type)                 Output Shape              Param #   \n",
            "=================================================================\n",
            "input_4 (InputLayer)         [(None, 500)]             0         \n",
            "_________________________________________________________________\n",
            "embedding_3 (Embedding)      (None, 500, 100)          1000000   \n",
            "_________________________________________________________________\n",
            "bidirectional (Bidirectional (None, 200)               160800    \n",
            "_________________________________________________________________\n",
            "dense_3 (Dense)              (None, 1)                 201       \n",
            "=================================================================\n",
            "Total params: 1,161,001\n",
            "Trainable params: 1,161,001\n",
            "Non-trainable params: 0\n",
            "_________________________________________________________________\n"
          ],
          "name": "stdout"
        }
      ]
    },
    {
      "cell_type": "code",
      "metadata": {
        "colab": {
          "base_uri": "https://localhost:8080/"
        },
        "id": "qAj2s2Qyb09p",
        "outputId": "2f5aa721-cc4f-4cc7-f236-da6306ba0e4f"
      },
      "source": [
        "# Model training\n",
        "history = model.fit(train_x, train_y, epochs=6, batch_size=1000, validation_data=(validation_x, validation_y))"
      ],
      "execution_count": null,
      "outputs": [
        {
          "output_type": "stream",
          "text": [
            "Epoch 1/6\n",
            "23/23 [==============================] - 380s 16s/step - loss: 0.6752 - accuracy: 0.5823 - val_loss: 0.4929 - val_accuracy: 0.7930\n",
            "Epoch 2/6\n",
            "23/23 [==============================] - 371s 16s/step - loss: 0.4335 - accuracy: 0.8139 - val_loss: 0.4727 - val_accuracy: 0.7575\n",
            "Epoch 3/6\n",
            "23/23 [==============================] - 374s 16s/step - loss: 0.3832 - accuracy: 0.8263 - val_loss: 0.3650 - val_accuracy: 0.8570\n",
            "Epoch 4/6\n",
            "23/23 [==============================] - 381s 17s/step - loss: 0.2836 - accuracy: 0.8946 - val_loss: 0.3154 - val_accuracy: 0.8635\n",
            "Epoch 5/6\n",
            "23/23 [==============================] - 367s 16s/step - loss: 0.2141 - accuracy: 0.9181 - val_loss: 0.2870 - val_accuracy: 0.8825\n",
            "Epoch 6/6\n",
            "23/23 [==============================] - 375s 16s/step - loss: 0.1657 - accuracy: 0.9405 - val_loss: 0.2805 - val_accuracy: 0.8895\n"
          ],
          "name": "stdout"
        }
      ]
    },
    {
      "cell_type": "code",
      "metadata": {
        "colab": {
          "base_uri": "https://localhost:8080/",
          "height": 369
        },
        "id": "TOIgX8o5b1Aq",
        "outputId": "8c840a6d-b84e-4ec8-a99a-7116ed14a998"
      },
      "source": [
        "plot_history(history.history, path=\"standard.png\")\n",
        "plt.show()"
      ],
      "execution_count": null,
      "outputs": [
        {
          "output_type": "display_data",
          "data": {
            "image/png": "[encoded data removed]",
            "text/plain": [
              "<Figure size 720x360 with 2 Axes>"
            ]
          },
          "metadata": {
            "tags": [],
            "needs_background": "light"
          }
        }
      ]
    },
    {
      "cell_type": "code",
      "metadata": {
        "colab": {
          "base_uri": "https://localhost:8080/"
        },
        "id": "CyTi2ykxb1DJ",
        "outputId": "d2225712-6691-47d1-9f35-e91729c879bc"
      },
      "source": [
        "\n",
        "results = model.evaluate(padded_test_data, test_labels, batch_size=1000)\n",
        "print('test_loss:', results[0], 'test_accuracy:', results[1])"
      ],
      "execution_count": null,
      "outputs": [
        {
          "output_type": "stream",
          "text": [
            "25/25 [==============================] - 123s 5s/step - loss: 0.3232 - accuracy: 0.8727\n",
            "test_loss: 0.32321247458457947 test_accuracy: 0.8727200031280518\n"
          ],
          "name": "stdout"
        }
      ]
    },
    {
      "cell_type": "markdown",
      "metadata": {
        "id": "ZBpwjvKEfaMz"
      },
      "source": [
        "**<i> <font color ='darkblue'> Using the bi-directional LSTM , we observe that the loss on test set has minutely decreased while the test accuracy is almost equal to that of the the previous LSTM model. And so, we can prefer to the bi-directional LSTM model for this task over our previous model.</font></i>**"
      ]
    }
  ]
}