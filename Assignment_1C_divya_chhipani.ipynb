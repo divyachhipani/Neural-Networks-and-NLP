{
  "nbformat": 4,
  "nbformat_minor": 0,
  "metadata": {
    "colab": {
      "name": "Assignment_1C_divya_chhipani.ipynb",
      "provenance": [],
      "collapsed_sections": [],
      "toc_visible": true,
      "machine_shape": "hm"
    },
    "kernelspec": {
      "display_name": "Python 3",
      "language": "python",
      "name": "python3"
    },
    "language_info": {
      "codemirror_mode": {
        "name": "ipython",
        "version": 3
      },
      "file_extension": ".py",
      "mimetype": "text/x-python",
      "name": "python",
      "nbconvert_exporter": "python",
      "pygments_lexer": "ipython3",
      "version": "3.8.3"
    }
  },
  "cells": [
    {
      "cell_type": "markdown",
      "metadata": {
        "id": "hExKCzh6doIW"
      },
      "source": [
        "# Lab 4 - Comparing Classification Models\n",
        "\n",
        "\n",
        "\n",
        "---\n",
        "\n",
        "\n",
        "\n",
        "\n",
        "\n",
        "\n",
        "\n",
        "\n",
        "\n",
        "\n",
        "\n",
        "\n",
        "\n"
      ]
    },
    {
      "cell_type": "markdown",
      "metadata": {
        "id": "HixoFOoCIJ7V"
      },
      "source": [
        "In this session, we demonstrate how to solve a text classification task using simple \n",
        "feedforward neural network classifier. We will use IMDB Large Movie Review Dataset to train a binary classification model, able to predict whether a review is positive or negative. First, our network takes one-hot word vectors as input, averages them to make one vector and trains a \n",
        "fully-connected layer to predict the output. In the second part, we replace the one-hot vectors with the word embeddings and add a layer to see how much that improves the performance.\n",
        "\n",
        "We are going to use Keras Sequential API in this session. The Sequential API allows you to make models layer-by-layer. But it is not straightforward to define models where layers connect to more than just the previous and next layers. "
      ]
    },
    {
      "cell_type": "code",
      "metadata": {
        "id": "m8fpBfhBpupy"
      },
      "source": [
        "import keras\n",
        "import numpy as np\n",
        "from keras.layers import Lambda, GlobalAveragePooling1D, Dense, Embedding, GlobalMaxPooling1D\n",
        "from keras import backend as K\n",
        "from keras.models import Sequential\n",
        "import matplotlib.pyplot as plt\n"
      ],
      "execution_count": null,
      "outputs": []
    },
    {
      "cell_type": "markdown",
      "metadata": {
        "id": "cqvPQvgvPv1W"
      },
      "source": [
        "### Downloading data"
      ]
    },
    {
      "cell_type": "markdown",
      "metadata": {
        "id": "EundMtGPpCdf"
      },
      "source": [
        "The dataset we will be using is the IMDB Large Movie Review Dataset, which consists of 50000 labeled movie reviews. These are split into 25,000 reviews for training and 25,000 reviews for testing. The  dataset contains an even number of positive and negative reviews, so randomly guessing yields 50% accuracy. The data is preprocessed. For text classification, it is ususal to limit the size of the vocabulary to stop the dataset from becoming too sparse, creating possible overfitting. We keep the top 10,000 most frequently occurring words in the training data.\n"
      ]
    },
    {
      "cell_type": "code",
      "metadata": {
        "colab": {
          "base_uri": "https://localhost:8080/"
        },
        "id": "NyuSzkafqNca",
        "outputId": "743de543-a233-4835-d65c-86e35ee47714"
      },
      "source": [
        "imdb = keras.datasets.imdb\n",
        "(X_train, y_train), (X_test, y_test) = imdb.load_data(num_words=10000)"
      ],
      "execution_count": null,
      "outputs": [
        {
          "output_type": "stream",
          "text": [
            "<string>:6: VisibleDeprecationWarning: Creating an ndarray from ragged nested sequences (which is a list-or-tuple of lists-or-tuples-or ndarrays with different lengths or shapes) is deprecated. If you meant to do this, you must specify 'dtype=object' when creating the ndarray\n",
            "/usr/local/lib/python3.7/dist-packages/tensorflow/python/keras/datasets/imdb.py:159: VisibleDeprecationWarning: Creating an ndarray from ragged nested sequences (which is a list-or-tuple of lists-or-tuples-or ndarrays with different lengths or shapes) is deprecated. If you meant to do this, you must specify 'dtype=object' when creating the ndarray\n",
            "  x_train, y_train = np.array(xs[:idx]), np.array(labels[:idx])\n",
            "/usr/local/lib/python3.7/dist-packages/tensorflow/python/keras/datasets/imdb.py:160: VisibleDeprecationWarning: Creating an ndarray from ragged nested sequences (which is a list-or-tuple of lists-or-tuples-or ndarrays with different lengths or shapes) is deprecated. If you meant to do this, you must specify 'dtype=object' when creating the ndarray\n",
            "  x_test, y_test = np.array(xs[idx:]), np.array(labels[idx:])\n"
          ],
          "name": "stderr"
        }
      ]
    },
    {
      "cell_type": "markdown",
      "metadata": {
        "id": "6U4iCV9-rmay"
      },
      "source": [
        "We now can start playing around with the data, let’s first see the length:"
      ]
    },
    {
      "cell_type": "code",
      "metadata": {
        "colab": {
          "base_uri": "https://localhost:8080/"
        },
        "id": "h-gjWRAuqg5s",
        "outputId": "984d6be9-3c8c-434c-da7b-d82bc2677591"
      },
      "source": [
        "print(\"Training entries: {}, labels: {}\".format(len(X_train), len(y_train)))"
      ],
      "execution_count": null,
      "outputs": [
        {
          "output_type": "stream",
          "text": [
            "Training entries: 25000, labels: 25000\n"
          ],
          "name": "stdout"
        }
      ]
    },
    {
      "cell_type": "markdown",
      "metadata": {
        "id": "MTRZrpcyr-4x"
      },
      "source": [
        "The  reviews have been converted to integers and each integer represents a  word in a dictionary. "
      ]
    },
    {
      "cell_type": "code",
      "metadata": {
        "colab": {
          "base_uri": "https://localhost:8080/"
        },
        "id": "79Ev72Kgq4XL",
        "outputId": "0810acde-83a7-494d-eae9-f19d7d2b923f"
      },
      "source": [
        " X_train[0][:10]"
      ],
      "execution_count": null,
      "outputs": [
        {
          "output_type": "execute_result",
          "data": {
            "text/plain": [
              "[1, 14, 22, 16, 43, 530, 973, 1622, 1385, 65]"
            ]
          },
          "metadata": {
            "tags": []
          },
          "execution_count": 72
        }
      ]
    },
    {
      "cell_type": "markdown",
      "metadata": {
        "id": "Tvuu4KhStqei"
      },
      "source": [
        "We can convert integers back to words by querying a dictionary object that contains the integer to string mapping:"
      ]
    },
    {
      "cell_type": "code",
      "metadata": {
        "id": "gMCH1OoDrSNR"
      },
      "source": [
        "word_index = imdb.get_word_index()"
      ],
      "execution_count": null,
      "outputs": []
    },
    {
      "cell_type": "markdown",
      "metadata": {
        "id": "5IreFXgruZot"
      },
      "source": [
        "Index 1 represents the beginning of the sentence and the index 2 is assigned to all unknown tokens. Index 0 will be used for padding."
      ]
    },
    {
      "cell_type": "code",
      "metadata": {
        "id": "abIb7Fe5u3GQ"
      },
      "source": [
        "word_index = {k:(v+3) for k,v in word_index.items()}\n",
        "word_index[\"<PAD>\"] = 0\n",
        "word_index[\"<START>\"] = 1\n",
        "word_index[\"<UNK>\"] = 2  \n",
        "word_index[\"<UNUSED>\"] = 3"
      ],
      "execution_count": null,
      "outputs": []
    },
    {
      "cell_type": "markdown",
      "metadata": {
        "id": "9TnnSuspvC5b"
      },
      "source": [
        "To reverse key and values in a dictionary:"
      ]
    },
    {
      "cell_type": "code",
      "metadata": {
        "id": "nKOiVVXQu-_I"
      },
      "source": [
        "reverse_word_index = dict([(value, key) for (key, value) in word_index.items()])"
      ],
      "execution_count": null,
      "outputs": []
    },
    {
      "cell_type": "markdown",
      "metadata": {
        "id": "ZmTJEm8xvUvW"
      },
      "source": [
        "To view a word:"
      ]
    },
    {
      "cell_type": "code",
      "metadata": {
        "colab": {
          "base_uri": "https://localhost:8080/",
          "height": 35
        },
        "id": "SqN5jgVKvJJZ",
        "outputId": "233b8dad-f936-4310-d3d9-49eba3859ec3"
      },
      "source": [
        "reverse_word_index[25]"
      ],
      "execution_count": null,
      "outputs": [
        {
          "output_type": "execute_result",
          "data": {
            "application/vnd.google.colaboratory.intrinsic+json": {
              "type": "string"
            },
            "text/plain": [
              "'you'"
            ]
          },
          "metadata": {
            "tags": []
          },
          "execution_count": 76
        }
      ]
    },
    {
      "cell_type": "markdown",
      "metadata": {
        "id": "Q6QjrzgVvrYn"
      },
      "source": [
        "And to recreate the whole sentence from our training data we define decode_review:\n"
      ]
    },
    {
      "cell_type": "code",
      "metadata": {
        "id": "wvrKeMgxvWlv"
      },
      "source": [
        "def decode_review(text):\n",
        "    return ' '.join([reverse_word_index.get(i, '?') for i in text])"
      ],
      "execution_count": null,
      "outputs": []
    },
    {
      "cell_type": "code",
      "metadata": {
        "colab": {
          "base_uri": "https://localhost:8080/",
          "height": 120
        },
        "id": "Sxg4YA_NvdRg",
        "outputId": "9bbea050-5419-4800-b582-d5f955b0557b"
      },
      "source": [
        "decode_review(X_train[10])"
      ],
      "execution_count": null,
      "outputs": [
        {
          "output_type": "execute_result",
          "data": {
            "application/vnd.google.colaboratory.intrinsic+json": {
              "type": "string"
            },
            "text/plain": [
              "\"<START> french horror cinema has seen something of a revival over the last couple of years with great films such as inside and <UNK> romance <UNK> on to the scene <UNK> <UNK> the revival just slightly but stands head and shoulders over most modern horror titles and is surely one of the best french horror films ever made <UNK> was obviously shot on a low budget but this is made up for in far more ways than one by the originality of the film and this in turn is <UNK> by the excellent writing and acting that ensure the film is a winner the plot focuses on two main ideas prison and black magic the central character is a man named <UNK> sent to prison for fraud he is put in a cell with three others the quietly insane <UNK> body building <UNK> marcus and his retarded boyfriend daisy after a short while in the cell together they stumble upon a hiding place in the wall that contains an old <UNK> after <UNK> part of it they soon realise its magical powers and realise they may be able to use it to break through the prison walls br br black magic is a very interesting topic and i'm actually quite surprised that there aren't more films based on it as there's so much scope for things to do with it it's fair to say that <UNK> makes the best of it's <UNK> as despite it's <UNK> the film never actually feels restrained and manages to flow well throughout director eric <UNK> provides a great atmosphere for the film the fact that most of it takes place inside the central prison cell <UNK> that the film feels very claustrophobic and this immensely benefits the central idea of the prisoners wanting to use magic to break out of the cell it's very easy to get behind them it's often said that the unknown is the thing that really <UNK> people and this film proves that as the director <UNK> that we can never really be sure of exactly what is round the corner and this helps to ensure that <UNK> actually does manage to be quite frightening the film is memorable for a lot of reasons outside the central plot the characters are all very interesting in their own way and the fact that the book itself almost takes on its own character is very well done anyone worried that the film won't deliver by the end won't be disappointed either as the ending both makes sense and manages to be quite horrifying overall <UNK> is a truly great horror film and one of the best of the decade highly recommended viewing\""
            ]
          },
          "metadata": {
            "tags": []
          },
          "execution_count": 78
        }
      ]
    },
    {
      "cell_type": "markdown",
      "metadata": {
        "id": "c8gIzXncfaJK"
      },
      "source": [
        "### Creating One-hot word vectors"
      ]
    },
    {
      "cell_type": "markdown",
      "metadata": {
        "id": "B9W4yb3rv_E0"
      },
      "source": [
        "It is  common to use one-hot representation as input in Natural Language Processing tasks. In Keras, the Embedding layer takes an index as an input and convert it to one-hot vector with the length of the vocabulary size. Then multiplies these vectors by a normal weight matrix. But there is no way to only get a one-hot vector as the output of a layer in Keras. To solve this we use Lambda() layer and a function that creates the one-hot layer. "
      ]
    },
    {
      "cell_type": "code",
      "metadata": {
        "id": "RPO_pK9zH4C5"
      },
      "source": [
        "def OneHot(input_dim=None, input_length=None):\n",
        "    \n",
        "    if input_dim is None or input_length is None:\n",
        "        raise TypeError(\"input_dim or input_length is not set\")\n",
        "\n",
        "    \n",
        "    def _one_hot(x, num_classes):\n",
        "        return K.one_hot(K.cast(x, 'uint8'),\n",
        "                          num_classes=num_classes)\n",
        "\n",
        "    return Lambda(_one_hot,\n",
        "                  arguments={'num_classes': input_dim},\n",
        "                  input_shape=(input_length,))"
      ],
      "execution_count": null,
      "outputs": []
    },
    {
      "cell_type": "markdown",
      "metadata": {
        "id": "364d3MAw0ez9"
      },
      "source": [
        "input_dim refers to the length of the one-hot vector and input_length refers to the length of the input sequence. Since the input to K.one_hot should be an integer tensor, we cast x to one (Keras passes around float tensors by default).\n",
        "\n"
      ]
    },
    {
      "cell_type": "markdown",
      "metadata": {
        "id": "VHz76GNA2M4r"
      },
      "source": [
        " Each text sequence has in most cases different length of words. Here, we fill sequences with a pad token (0) to fit the size. This special tokens is then masked not to be accounted in averaging, loss calculation etc. We set the maximum length to 256."
      ]
    },
    {
      "cell_type": "markdown",
      "metadata": {
        "id": "9G_o7PsvgSFt"
      },
      "source": [
        "### Preparing input data"
      ]
    },
    {
      "cell_type": "code",
      "metadata": {
        "id": "jiFn7sd_wF5j"
      },
      "source": [
        "VOCAB_SIZE = 10000\n",
        "MAX_SEQUENCE_LENGTH = 256\n",
        "\n",
        "X_train_enc = keras.preprocessing.sequence.pad_sequences(X_train,\n",
        "                                                        value=word_index[\"<PAD>\"],\n",
        "                                                        padding='post',\n",
        "                                                        maxlen=256)\n",
        "\n",
        "X_test_enc = keras.preprocessing.sequence.pad_sequences(X_test,\n",
        "                                                       value=word_index[\"<PAD>\"],\n",
        "                                                       padding='post',\n",
        "                                                       maxlen=256)"
      ],
      "execution_count": null,
      "outputs": []
    },
    {
      "cell_type": "markdown",
      "metadata": {
        "id": "kcjFH1wKF_7d"
      },
      "source": [
        "And to view a padded review:"
      ]
    },
    {
      "cell_type": "code",
      "metadata": {
        "colab": {
          "base_uri": "https://localhost:8080/"
        },
        "id": "zwH4dcfW_a18",
        "outputId": "22e8ffcf-6868-48d2-eb67-6b423a3f68ba"
      },
      "source": [
        "print(X_train_enc[1])\n",
        "print('\\nLength: ',len(X_train_enc))"
      ],
      "execution_count": null,
      "outputs": [
        {
          "output_type": "stream",
          "text": [
            "[   1  194 1153  194 8255   78  228    5    6 1463 4369 5012  134   26\n",
            "    4  715    8  118 1634   14  394   20   13  119  954  189  102    5\n",
            "  207  110 3103   21   14   69  188    8   30   23    7    4  249  126\n",
            "   93    4  114    9 2300 1523    5  647    4  116    9   35 8163    4\n",
            "  229    9  340 1322    4  118    9    4  130 4901   19    4 1002    5\n",
            "   89   29  952   46   37    4  455    9   45   43   38 1543 1905  398\n",
            "    4 1649   26 6853    5  163   11 3215    2    4 1153    9  194  775\n",
            "    7 8255    2  349 2637  148  605    2 8003   15  123  125   68    2\n",
            " 6853   15  349  165 4362   98    5    4  228    9   43    2 1157   15\n",
            "  299  120    5  120  174   11  220  175  136   50    9 4373  228 8255\n",
            "    5    2  656  245 2350    5    4 9837  131  152  491   18    2   32\n",
            " 7464 1212   14    9    6  371   78   22  625   64 1382    9    8  168\n",
            "  145   23    4 1690   15   16    4 1355    5   28    6   52  154  462\n",
            "   33   89   78  285   16  145   95    0    0    0    0    0    0    0\n",
            "    0    0    0    0    0    0    0    0    0    0    0    0    0    0\n",
            "    0    0    0    0    0    0    0    0    0    0    0    0    0    0\n",
            "    0    0    0    0    0    0    0    0    0    0    0    0    0    0\n",
            "    0    0    0    0    0    0    0    0    0    0    0    0    0    0\n",
            "    0    0    0    0]\n",
            "\n",
            "Length:  25000\n"
          ],
          "name": "stdout"
        }
      ]
    },
    {
      "cell_type": "markdown",
      "metadata": {
        "id": "F1zcxFwNGepA"
      },
      "source": [
        "Now we want to build the neural network model. We  are going to have a hidden layer with 16 hidden units. \n",
        "\n",
        "First, we want to transform each index to an embedded vector and then average all vectors to a single one. It has been showed that unweighted average of word vectors outperforms many complicated networks that model semantic and syntactic compositionality. As an example you can take a look at this: (http://anthology.aclweb.org/P/P15/P15-1162.pdf)\n",
        "\n",
        "To average we need to ignore padded zeros:"
      ]
    },
    {
      "cell_type": "code",
      "metadata": {
        "id": "Yi04MLIvJOGZ"
      },
      "source": [
        "class GlobalAveragePooling1DMasked(GlobalAveragePooling1D):\n",
        "    def call(self, x, mask=None):\n",
        "        if mask != None:\n",
        "            return K.sum(x, axis=1) / K.sum(mask, axis=1)\n",
        "        else:\n",
        "            return super().call(x)\n"
      ],
      "execution_count": null,
      "outputs": []
    },
    {
      "cell_type": "markdown",
      "metadata": {
        "id": "whgIIB5ggjna"
      },
      "source": [
        "# Model 1: Neural averaging network using one-hot vectors"
      ]
    },
    {
      "cell_type": "markdown",
      "metadata": {
        "id": "jlOLnlnSJgrU"
      },
      "source": [
        "The first layer is an one-hot layer. The second layer is to compute average on all word vectors in a sentence without considering padding. The  output vector is piped through a fully-connected layer. The last layer is connected with a single output node with the sigmoid activation function. The final value is a float between 0 and 1. \n",
        "The vocabulary count of the movie reviews (10000) is used as the input shape. At the end we visualize the model summary."
      ]
    },
    {
      "cell_type": "code",
      "metadata": {
        "id": "_Pn83gBbxiK7"
      },
      "source": [
        "\n",
        "EMBED_SIZE = 100\n",
        "from keras.layers import Input, Embedding, Dense, LSTM, Lambda, GlobalAveragePooling1D\n",
        "from keras import backend as K\n",
        "from keras.models import Model\n",
        "input_layer = Input(shape=(256,))\n",
        "lambda_layer = OneHot(VOCAB_SIZE, EMBED_SIZE)(input_layer)\n",
        "pooling_layer = GlobalAveragePooling1DMasked()(lambda_layer)\n",
        "hidden_dense_layer = Dense(16)(pooling_layer)\n",
        "output_dense_layer = Dense(1, activation = 'sigmoid')(hidden_dense_layer)"
      ],
      "execution_count": null,
      "outputs": []
    },
    {
      "cell_type": "markdown",
      "metadata": {
        "id": "yZYmNI98OBsI"
      },
      "source": [
        "**<i> <font color ='darkblue'>In this model, we first add an input layer which accepts input with shape equal to 256 corresponding to the maximum length of padded sequences. Next layer is the lambda layer which is used for the one hot representation which uses 10000 as vocabulary size and embedding size as 100 following which, we add the pooling layer and then a dense layer. Finally, we add the output dense layer with sigmoid activation function since we are expecting a binary output.</font></i>**"
      ]
    },
    {
      "cell_type": "markdown",
      "metadata": {
        "id": "_Mz96xpCgvTj"
      },
      "source": [
        "### Training the model"
      ]
    },
    {
      "cell_type": "markdown",
      "metadata": {
        "id": "F3HbW_IKLqwT"
      },
      "source": [
        "To compile the model we need a loss function and an optimizer. We use binary_crossentropy loss function which is just a special case of categorical cross entropy. We also use Adam optimizer that can be used instead of the classical stochastic gradient descent procedure to update network weights iterative based in training data. You can read more about it here:\n",
        "(https://arxiv.org/abs/1412.6980v8\n",
        ")\n"
      ]
    },
    {
      "cell_type": "code",
      "metadata": {
        "colab": {
          "base_uri": "https://localhost:8080/"
        },
        "id": "qh1PWTNMxjUw",
        "outputId": "94f7d5bc-df0b-4e40-a94a-d5722e658d9a"
      },
      "source": [
        "\n",
        "model1 = Model(inputs= input_layer, outputs=output_dense_layer)\n",
        "model1.compile('adam', 'binary_crossentropy', metrics=['accuracy'])\n",
        "model1.summary()"
      ],
      "execution_count": null,
      "outputs": [
        {
          "output_type": "stream",
          "text": [
            "Model: \"model_9\"\n",
            "_________________________________________________________________\n",
            "Layer (type)                 Output Shape              Param #   \n",
            "=================================================================\n",
            "input_10 (InputLayer)        [(None, 256)]             0         \n",
            "_________________________________________________________________\n",
            "lambda_1 (Lambda)            (None, 256, 10000)        0         \n",
            "_________________________________________________________________\n",
            "global_average_pooling1d_mas (None, 10000)             0         \n",
            "_________________________________________________________________\n",
            "dense_18 (Dense)             (None, 16)                160016    \n",
            "_________________________________________________________________\n",
            "dense_19 (Dense)             (None, 1)                 17        \n",
            "=================================================================\n",
            "Total params: 160,033\n",
            "Trainable params: 160,033\n",
            "Non-trainable params: 0\n",
            "_________________________________________________________________\n"
          ],
          "name": "stdout"
        }
      ]
    },
    {
      "cell_type": "markdown",
      "metadata": {
        "id": "3uzgxn7qPWV2"
      },
      "source": [
        "**<i> <font color ='darkblue'>We finally create the model using the input and output layers which we defined previously and compile the model using adam optimizer and binary cross entropy as the loss function.</font></i>**"
      ]
    },
    {
      "cell_type": "markdown",
      "metadata": {
        "id": "E1jwQQqCN5Ia"
      },
      "source": [
        "When training, we want to check the accuracy of the model on data it hasn't seen before. So we create a validation set:"
      ]
    },
    {
      "cell_type": "code",
      "metadata": {
        "id": "f5lAqzQlxjSM"
      },
      "source": [
        "X_val = np.array(X_train_enc[:10000])\n",
        "partial_X_train = np.array(X_train_enc[10000:])\n",
        "\n",
        "y_val = np.array(y_train[:10000])\n",
        "partial_y_train = np.array(y_train[10000:])"
      ],
      "execution_count": null,
      "outputs": []
    },
    {
      "cell_type": "markdown",
      "metadata": {
        "id": "E8Kpo5G3OJEY"
      },
      "source": [
        "Then we start to train the model for 40 epochs in mini-batches of 512 samples and monitor the model's loss and accuracy on the validation set."
      ]
    },
    {
      "cell_type": "code",
      "metadata": {
        "colab": {
          "base_uri": "https://localhost:8080/"
        },
        "id": "99_z39KAxjPi",
        "outputId": "b0c93674-3905-4e77-bf9d-460fdb22d263"
      },
      "source": [
        "# Model training\n",
        "history = model1.fit(partial_X_train,\n",
        "                    partial_y_train,\n",
        "                    epochs=40,\n",
        "                    batch_size=512,\n",
        "                    validation_data=(X_val, y_val),\n",
        "                    verbose=1)"
      ],
      "execution_count": null,
      "outputs": [
        {
          "output_type": "stream",
          "text": [
            "Epoch 1/40\n",
            "30/30 [==============================] - 47s 2s/step - loss: 0.6927 - accuracy: 0.5143 - val_loss: 0.6912 - val_accuracy: 0.5183\n",
            "Epoch 2/40\n",
            "30/30 [==============================] - 44s 1s/step - loss: 0.6902 - accuracy: 0.5276 - val_loss: 0.6884 - val_accuracy: 0.6663\n",
            "Epoch 3/40\n",
            "30/30 [==============================] - 44s 1s/step - loss: 0.6872 - accuracy: 0.6685 - val_loss: 0.6852 - val_accuracy: 0.6569\n",
            "Epoch 4/40\n",
            "30/30 [==============================] - 44s 1s/step - loss: 0.6837 - accuracy: 0.6485 - val_loss: 0.6811 - val_accuracy: 0.6652\n",
            "Epoch 5/40\n",
            "30/30 [==============================] - 44s 1s/step - loss: 0.6795 - accuracy: 0.6770 - val_loss: 0.6769 - val_accuracy: 0.6665\n",
            "Epoch 6/40\n",
            "30/30 [==============================] - 44s 1s/step - loss: 0.6745 - accuracy: 0.6692 - val_loss: 0.6716 - val_accuracy: 0.6709\n",
            "Epoch 7/40\n",
            "30/30 [==============================] - 44s 1s/step - loss: 0.6686 - accuracy: 0.6788 - val_loss: 0.6665 - val_accuracy: 0.6773\n",
            "Epoch 8/40\n",
            "30/30 [==============================] - 44s 1s/step - loss: 0.6626 - accuracy: 0.6771 - val_loss: 0.6608 - val_accuracy: 0.6668\n",
            "Epoch 9/40\n",
            "30/30 [==============================] - 44s 1s/step - loss: 0.6574 - accuracy: 0.6819 - val_loss: 0.6551 - val_accuracy: 0.6831\n",
            "Epoch 10/40\n",
            "30/30 [==============================] - 44s 1s/step - loss: 0.6495 - accuracy: 0.6934 - val_loss: 0.6490 - val_accuracy: 0.6840\n",
            "Epoch 11/40\n",
            "30/30 [==============================] - 44s 1s/step - loss: 0.6452 - accuracy: 0.6841 - val_loss: 0.6430 - val_accuracy: 0.6832\n",
            "Epoch 12/40\n",
            "30/30 [==============================] - 44s 1s/step - loss: 0.6397 - accuracy: 0.6862 - val_loss: 0.6371 - val_accuracy: 0.6929\n",
            "Epoch 13/40\n",
            "30/30 [==============================] - 44s 1s/step - loss: 0.6316 - accuracy: 0.6991 - val_loss: 0.6320 - val_accuracy: 0.6901\n",
            "Epoch 14/40\n",
            "30/30 [==============================] - 44s 1s/step - loss: 0.6265 - accuracy: 0.6995 - val_loss: 0.6255 - val_accuracy: 0.7006\n",
            "Epoch 15/40\n",
            "30/30 [==============================] - 44s 1s/step - loss: 0.6211 - accuracy: 0.6994 - val_loss: 0.6199 - val_accuracy: 0.7035\n",
            "Epoch 16/40\n",
            "30/30 [==============================] - 44s 1s/step - loss: 0.6144 - accuracy: 0.7031 - val_loss: 0.6141 - val_accuracy: 0.7044\n",
            "Epoch 17/40\n",
            "30/30 [==============================] - 44s 1s/step - loss: 0.6087 - accuracy: 0.7060 - val_loss: 0.6090 - val_accuracy: 0.6975\n",
            "Epoch 18/40\n",
            "30/30 [==============================] - 44s 1s/step - loss: 0.6010 - accuracy: 0.7082 - val_loss: 0.6034 - val_accuracy: 0.7088\n",
            "Epoch 19/40\n",
            "30/30 [==============================] - 44s 1s/step - loss: 0.5973 - accuracy: 0.7143 - val_loss: 0.5988 - val_accuracy: 0.7156\n",
            "Epoch 20/40\n",
            "30/30 [==============================] - 44s 1s/step - loss: 0.5899 - accuracy: 0.7161 - val_loss: 0.5933 - val_accuracy: 0.7154\n",
            "Epoch 21/40\n",
            "30/30 [==============================] - 47s 2s/step - loss: 0.5858 - accuracy: 0.7213 - val_loss: 0.5887 - val_accuracy: 0.7180\n",
            "Epoch 22/40\n",
            "30/30 [==============================] - 44s 1s/step - loss: 0.5790 - accuracy: 0.7282 - val_loss: 0.5841 - val_accuracy: 0.7188\n",
            "Epoch 23/40\n",
            "30/30 [==============================] - 44s 1s/step - loss: 0.5747 - accuracy: 0.7287 - val_loss: 0.5797 - val_accuracy: 0.7218\n",
            "Epoch 24/40\n",
            "30/30 [==============================] - 44s 1s/step - loss: 0.5728 - accuracy: 0.7262 - val_loss: 0.5759 - val_accuracy: 0.7255\n",
            "Epoch 25/40\n",
            "30/30 [==============================] - 44s 1s/step - loss: 0.5700 - accuracy: 0.7253 - val_loss: 0.5717 - val_accuracy: 0.7260\n",
            "Epoch 26/40\n",
            "30/30 [==============================] - 44s 1s/step - loss: 0.5643 - accuracy: 0.7326 - val_loss: 0.5679 - val_accuracy: 0.7269\n",
            "Epoch 27/40\n",
            "30/30 [==============================] - 44s 1s/step - loss: 0.5605 - accuracy: 0.7348 - val_loss: 0.5644 - val_accuracy: 0.7301\n",
            "Epoch 28/40\n",
            "30/30 [==============================] - 44s 1s/step - loss: 0.5559 - accuracy: 0.7333 - val_loss: 0.5614 - val_accuracy: 0.7315\n",
            "Epoch 29/40\n",
            "30/30 [==============================] - 44s 1s/step - loss: 0.5542 - accuracy: 0.7390 - val_loss: 0.5586 - val_accuracy: 0.7330\n",
            "Epoch 30/40\n",
            "30/30 [==============================] - 44s 1s/step - loss: 0.5517 - accuracy: 0.7409 - val_loss: 0.5551 - val_accuracy: 0.7350\n",
            "Epoch 31/40\n",
            "30/30 [==============================] - 44s 1s/step - loss: 0.5483 - accuracy: 0.7396 - val_loss: 0.5522 - val_accuracy: 0.7351\n",
            "Epoch 32/40\n",
            "30/30 [==============================] - 44s 2s/step - loss: 0.5463 - accuracy: 0.7403 - val_loss: 0.5496 - val_accuracy: 0.7379\n",
            "Epoch 33/40\n",
            "30/30 [==============================] - 44s 1s/step - loss: 0.5422 - accuracy: 0.7400 - val_loss: 0.5473 - val_accuracy: 0.7360\n",
            "Epoch 34/40\n",
            "30/30 [==============================] - 44s 1s/step - loss: 0.5378 - accuracy: 0.7482 - val_loss: 0.5450 - val_accuracy: 0.7407\n",
            "Epoch 35/40\n",
            "30/30 [==============================] - 44s 1s/step - loss: 0.5372 - accuracy: 0.7407 - val_loss: 0.5430 - val_accuracy: 0.7416\n",
            "Epoch 36/40\n",
            "30/30 [==============================] - 44s 1s/step - loss: 0.5325 - accuracy: 0.7494 - val_loss: 0.5408 - val_accuracy: 0.7432\n",
            "Epoch 37/40\n",
            "30/30 [==============================] - 44s 1s/step - loss: 0.5310 - accuracy: 0.7473 - val_loss: 0.5391 - val_accuracy: 0.7427\n",
            "Epoch 38/40\n",
            "30/30 [==============================] - 44s 1s/step - loss: 0.5294 - accuracy: 0.7504 - val_loss: 0.5374 - val_accuracy: 0.7428\n",
            "Epoch 39/40\n",
            "30/30 [==============================] - 44s 1s/step - loss: 0.5273 - accuracy: 0.7515 - val_loss: 0.5356 - val_accuracy: 0.7454\n",
            "Epoch 40/40\n",
            "30/30 [==============================] - 44s 2s/step - loss: 0.5263 - accuracy: 0.7506 - val_loss: 0.5341 - val_accuracy: 0.7457\n"
          ],
          "name": "stdout"
        }
      ]
    },
    {
      "cell_type": "markdown",
      "metadata": {
        "id": "i_9a_rybhG5J"
      },
      "source": [
        "### Evaluating the model"
      ]
    },
    {
      "cell_type": "markdown",
      "metadata": {
        "id": "EYLH8kOgOo9W"
      },
      "source": [
        "To evaulate the model on test data:"
      ]
    },
    {
      "cell_type": "code",
      "metadata": {
        "colab": {
          "base_uri": "https://localhost:8080/"
        },
        "id": "CFMt2Q7b3taP",
        "outputId": "3a4a48af-0636-4684-a845-f7ba53164e30"
      },
      "source": [
        "#Model evaluation\n",
        "results = model1.evaluate(X_test_enc, y_test)"
      ],
      "execution_count": null,
      "outputs": [
        {
          "output_type": "stream",
          "text": [
            "782/782 [==============================] - 56s 71ms/step - loss: 0.5340 - accuracy: 0.7422\n"
          ],
          "name": "stdout"
        }
      ]
    },
    {
      "cell_type": "code",
      "metadata": {
        "colab": {
          "base_uri": "https://localhost:8080/"
        },
        "id": "9RrKiPHcAmQU",
        "outputId": "777578d5-168f-46f4-dcb6-ad59aacfb484"
      },
      "source": [
        "print(results)\n",
        "# loss, accuracay "
      ],
      "execution_count": null,
      "outputs": [
        {
          "output_type": "stream",
          "text": [
            "[0.5339610576629639, 0.7422400116920471]\n"
          ],
          "name": "stdout"
        }
      ]
    },
    {
      "cell_type": "markdown",
      "metadata": {
        "id": "pW7IpHxMO6qp"
      },
      "source": [
        "Our first model accuracy using one-hot vectors is ~68%\n",
        "\n",
        "\n",
        "\n",
        "\n",
        "\n"
      ]
    },
    {
      "cell_type": "markdown",
      "metadata": {
        "id": "OwZk_yoWhPJB"
      },
      "source": [
        "### Plotting the accuracy graph"
      ]
    },
    {
      "cell_type": "markdown",
      "metadata": {
        "id": "JIDPH1J7PMzN"
      },
      "source": [
        "To plot a graph of accuracy and loss over time we can use Matplotlib:"
      ]
    },
    {
      "cell_type": "code",
      "metadata": {
        "colab": {
          "base_uri": "https://localhost:8080/"
        },
        "id": "qBliLBcqXlsZ",
        "outputId": "2cdfe3e7-3d82-49d7-c172-5cd423b924ff"
      },
      "source": [
        "pip install plot_keras_history"
      ],
      "execution_count": null,
      "outputs": [
        {
          "output_type": "stream",
          "text": [
            "Requirement already satisfied: plot_keras_history in /usr/local/lib/python3.7/dist-packages (1.1.27)\n",
            "Requirement already satisfied: pandas in /usr/local/lib/python3.7/dist-packages (from plot_keras_history) (1.1.5)\n",
            "Requirement already satisfied: scipy in /usr/local/lib/python3.7/dist-packages (from plot_keras_history) (1.4.1)\n",
            "Requirement already satisfied: matplotlib in /usr/local/lib/python3.7/dist-packages (from plot_keras_history) (3.2.2)\n",
            "Requirement already satisfied: sanitize-ml-labels in /usr/local/lib/python3.7/dist-packages (from plot_keras_history) (1.0.24)\n",
            "Requirement already satisfied: pytz>=2017.2 in /usr/local/lib/python3.7/dist-packages (from pandas->plot_keras_history) (2018.9)\n",
            "Requirement already satisfied: python-dateutil>=2.7.3 in /usr/local/lib/python3.7/dist-packages (from pandas->plot_keras_history) (2.8.1)\n",
            "Requirement already satisfied: numpy>=1.15.4 in /usr/local/lib/python3.7/dist-packages (from pandas->plot_keras_history) (1.19.5)\n",
            "Requirement already satisfied: pyparsing!=2.0.4,!=2.1.2,!=2.1.6,>=2.0.1 in /usr/local/lib/python3.7/dist-packages (from matplotlib->plot_keras_history) (2.4.7)\n",
            "Requirement already satisfied: cycler>=0.10 in /usr/local/lib/python3.7/dist-packages (from matplotlib->plot_keras_history) (0.10.0)\n",
            "Requirement already satisfied: kiwisolver>=1.0.1 in /usr/local/lib/python3.7/dist-packages (from matplotlib->plot_keras_history) (1.3.1)\n",
            "Requirement already satisfied: compress-json in /usr/local/lib/python3.7/dist-packages (from sanitize-ml-labels->plot_keras_history) (1.0.4)\n",
            "Requirement already satisfied: six>=1.5 in /usr/local/lib/python3.7/dist-packages (from python-dateutil>=2.7.3->pandas->plot_keras_history) (1.15.0)\n"
          ],
          "name": "stdout"
        }
      ]
    },
    {
      "cell_type": "code",
      "metadata": {
        "colab": {
          "base_uri": "https://localhost:8080/",
          "height": 369
        },
        "id": "LS9k2vvSAqB7",
        "outputId": "f225b199-77e8-4baa-cbcc-163fbc839c0a"
      },
      "source": [
        "\n",
        "from plot_keras_history import plot_history\n",
        "import matplotlib.pyplot as plt\n",
        "plot_history(history.history, path=\"standard.png\")\n",
        "plt.show()"
      ],
      "execution_count": null,
      "outputs": [
        {
          "output_type": "display_data",
          "data": {
            "image/png": "[encoded data removed]",
            "text/plain": [
              "<Figure size 720x360 with 2 Axes>"
            ]
          },
          "metadata": {
            "tags": [],
            "needs_background": "light"
          }
        }
      ]
    },
    {
      "cell_type": "markdown",
      "metadata": {
        "id": "dd-Np0fp4toL"
      },
      "source": [
        "**<i> <font color ='darkblue'>The model seems performs good enough by achieving an accuracy of 74% on test set which is equivalent to the performance on training and validation data as seen from the accuracy plot. Similarity is also observed in the values for loss for all three datasets.</font></i>**"
      ]
    },
    {
      "cell_type": "markdown",
      "metadata": {
        "id": "a7OwOQw4h8RX"
      },
      "source": [
        "# Model 2: Neural averaging network using embedding layer"
      ]
    },
    {
      "cell_type": "markdown",
      "metadata": {
        "id": "l-QzOMO_P4jc"
      },
      "source": [
        "Now instead of one-hot vectors, we want to use embedding. We change our first layer in model1 to an Embedding layer. This layer takes the integer-encoded vocabulary and looks up the embedding vector for each word-index. These vectors are learned as the model trains. The vectors add a dimension to the output array. The resulting dimensions are: (batch, sequence, embedding)."
      ]
    },
    {
      "cell_type": "code",
      "metadata": {
        "colab": {
          "base_uri": "https://localhost:8080/"
        },
        "id": "MFrCsL-NBFVL",
        "outputId": "70152db9-6f82-4365-ed7d-1e1be20fca69"
      },
      "source": [
        "\n",
        "from keras.layers import Input, Embedding, Dense, LSTM, Lambda\n",
        "from keras.models import Model\n",
        "input_layer = Input(shape=(256,))\n",
        "embedding_layer = Embedding(input_dim = VOCAB_SIZE, output_dim = EMBED_SIZE, input_length=MAX_SEQUENCE_LENGTH)(input_layer)\n",
        "pooling_layer = GlobalAveragePooling1DMasked()(embedding_layer)\n",
        "hidden_dense_layer = Dense(16)(pooling_layer)\n",
        "output_dense_layer = Dense(1, activation='sigmoid')(hidden_dense_layer)\n",
        "model2 = Model(inputs= input_layer, outputs=output_dense_layer)\n",
        "model2.compile('adam', 'binary_crossentropy', metrics=['accuracy'])\n",
        "model2.summary()\n"
      ],
      "execution_count": null,
      "outputs": [
        {
          "output_type": "stream",
          "text": [
            "Model: \"model_10\"\n",
            "_________________________________________________________________\n",
            "Layer (type)                 Output Shape              Param #   \n",
            "=================================================================\n",
            "input_11 (InputLayer)        [(None, 256)]             0         \n",
            "_________________________________________________________________\n",
            "embedding_1 (Embedding)      (None, 256, 100)          1000000   \n",
            "_________________________________________________________________\n",
            "global_average_pooling1d_mas (None, 100)               0         \n",
            "_________________________________________________________________\n",
            "dense_20 (Dense)             (None, 16)                1616      \n",
            "_________________________________________________________________\n",
            "dense_21 (Dense)             (None, 1)                 17        \n",
            "=================================================================\n",
            "Total params: 1,001,633\n",
            "Trainable params: 1,001,633\n",
            "Non-trainable params: 0\n",
            "_________________________________________________________________\n"
          ],
          "name": "stdout"
        }
      ]
    },
    {
      "cell_type": "markdown",
      "metadata": {
        "id": "Q4ltdTjlRXm4"
      },
      "source": [
        "**<i> <font color ='darkblue'>We reuse the previous model but instead of using one-hot vector representation for words, we use the embeddings created by the Embedding Layer provided by Keras. We pass the same parameters and corresponding values to the Embedding Layer as it was done in the Lambda layer in model1.</font></i>**"
      ]
    },
    {
      "cell_type": "code",
      "metadata": {
        "colab": {
          "base_uri": "https://localhost:8080/"
        },
        "id": "Yf5dNOGcaA48",
        "outputId": "64a5d033-04ec-4d34-def9-641bba70b685"
      },
      "source": [
        "# Model training\n",
        "history = model2.fit(partial_X_train,\n",
        "                    partial_y_train,\n",
        "                    epochs=40,\n",
        "                    batch_size=512,\n",
        "                    validation_data=(X_val, y_val),\n",
        "                    verbose=1)"
      ],
      "execution_count": null,
      "outputs": [
        {
          "output_type": "stream",
          "text": [
            "Epoch 1/40\n",
            "30/30 [==============================] - 2s 59ms/step - loss: 0.6903 - accuracy: 0.6019 - val_loss: 0.6761 - val_accuracy: 0.7341\n",
            "Epoch 2/40\n",
            "30/30 [==============================] - 2s 52ms/step - loss: 0.6642 - accuracy: 0.7394 - val_loss: 0.6261 - val_accuracy: 0.7477\n",
            "Epoch 3/40\n",
            "30/30 [==============================] - 2s 51ms/step - loss: 0.6000 - accuracy: 0.7702 - val_loss: 0.5467 - val_accuracy: 0.7839\n",
            "Epoch 4/40\n",
            "30/30 [==============================] - 2s 51ms/step - loss: 0.5080 - accuracy: 0.8119 - val_loss: 0.4649 - val_accuracy: 0.8221\n",
            "Epoch 5/40\n",
            "30/30 [==============================] - 2s 51ms/step - loss: 0.4205 - accuracy: 0.8489 - val_loss: 0.3992 - val_accuracy: 0.8479\n",
            "Epoch 6/40\n",
            "30/30 [==============================] - 2s 51ms/step - loss: 0.3525 - accuracy: 0.8747 - val_loss: 0.3581 - val_accuracy: 0.8619\n",
            "Epoch 7/40\n",
            "30/30 [==============================] - 2s 51ms/step - loss: 0.3071 - accuracy: 0.8920 - val_loss: 0.3330 - val_accuracy: 0.8701\n",
            "Epoch 8/40\n",
            "30/30 [==============================] - 2s 51ms/step - loss: 0.2683 - accuracy: 0.8997 - val_loss: 0.3144 - val_accuracy: 0.8763\n",
            "Epoch 9/40\n",
            "30/30 [==============================] - 2s 51ms/step - loss: 0.2455 - accuracy: 0.9121 - val_loss: 0.3077 - val_accuracy: 0.8742\n",
            "Epoch 10/40\n",
            "30/30 [==============================] - 2s 51ms/step - loss: 0.2202 - accuracy: 0.9236 - val_loss: 0.2968 - val_accuracy: 0.8804\n",
            "Epoch 11/40\n",
            "30/30 [==============================] - 2s 51ms/step - loss: 0.1983 - accuracy: 0.9317 - val_loss: 0.2930 - val_accuracy: 0.8809\n",
            "Epoch 12/40\n",
            "30/30 [==============================] - 2s 51ms/step - loss: 0.1854 - accuracy: 0.9353 - val_loss: 0.2893 - val_accuracy: 0.8822\n",
            "Epoch 13/40\n",
            "30/30 [==============================] - 2s 51ms/step - loss: 0.1638 - accuracy: 0.9470 - val_loss: 0.2908 - val_accuracy: 0.8818\n",
            "Epoch 14/40\n",
            "30/30 [==============================] - 2s 51ms/step - loss: 0.1524 - accuracy: 0.9532 - val_loss: 0.2890 - val_accuracy: 0.8855\n",
            "Epoch 15/40\n",
            "30/30 [==============================] - 2s 51ms/step - loss: 0.1409 - accuracy: 0.9586 - val_loss: 0.2911 - val_accuracy: 0.8852\n",
            "Epoch 16/40\n",
            "30/30 [==============================] - 2s 51ms/step - loss: 0.1267 - accuracy: 0.9646 - val_loss: 0.2957 - val_accuracy: 0.8856\n",
            "Epoch 17/40\n",
            "30/30 [==============================] - 2s 51ms/step - loss: 0.1195 - accuracy: 0.9645 - val_loss: 0.2999 - val_accuracy: 0.8841\n",
            "Epoch 18/40\n",
            "30/30 [==============================] - 2s 52ms/step - loss: 0.1093 - accuracy: 0.9705 - val_loss: 0.3067 - val_accuracy: 0.8848\n",
            "Epoch 19/40\n",
            "30/30 [==============================] - 2s 51ms/step - loss: 0.1003 - accuracy: 0.9718 - val_loss: 0.3129 - val_accuracy: 0.8819\n",
            "Epoch 20/40\n",
            "30/30 [==============================] - 2s 51ms/step - loss: 0.0919 - accuracy: 0.9738 - val_loss: 0.3206 - val_accuracy: 0.8805\n",
            "Epoch 21/40\n",
            "30/30 [==============================] - 2s 51ms/step - loss: 0.0830 - accuracy: 0.9786 - val_loss: 0.3288 - val_accuracy: 0.8793\n",
            "Epoch 22/40\n",
            "30/30 [==============================] - 2s 51ms/step - loss: 0.0797 - accuracy: 0.9790 - val_loss: 0.3380 - val_accuracy: 0.8784\n",
            "Epoch 23/40\n",
            "30/30 [==============================] - 2s 51ms/step - loss: 0.0702 - accuracy: 0.9856 - val_loss: 0.3523 - val_accuracy: 0.8748\n",
            "Epoch 24/40\n",
            "30/30 [==============================] - 2s 51ms/step - loss: 0.0680 - accuracy: 0.9839 - val_loss: 0.3564 - val_accuracy: 0.8776\n",
            "Epoch 25/40\n",
            "30/30 [==============================] - 2s 51ms/step - loss: 0.0615 - accuracy: 0.9863 - val_loss: 0.3680 - val_accuracy: 0.8748\n",
            "Epoch 26/40\n",
            "30/30 [==============================] - 2s 51ms/step - loss: 0.0565 - accuracy: 0.9889 - val_loss: 0.3772 - val_accuracy: 0.8773\n",
            "Epoch 27/40\n",
            "30/30 [==============================] - 2s 51ms/step - loss: 0.0534 - accuracy: 0.9907 - val_loss: 0.3917 - val_accuracy: 0.8729\n",
            "Epoch 28/40\n",
            "30/30 [==============================] - 2s 51ms/step - loss: 0.0470 - accuracy: 0.9919 - val_loss: 0.3996 - val_accuracy: 0.8755\n",
            "Epoch 29/40\n",
            "30/30 [==============================] - 2s 51ms/step - loss: 0.0441 - accuracy: 0.9927 - val_loss: 0.4131 - val_accuracy: 0.8730\n",
            "Epoch 30/40\n",
            "30/30 [==============================] - 2s 51ms/step - loss: 0.0422 - accuracy: 0.9930 - val_loss: 0.4249 - val_accuracy: 0.8707\n",
            "Epoch 31/40\n",
            "30/30 [==============================] - 2s 51ms/step - loss: 0.0387 - accuracy: 0.9950 - val_loss: 0.4396 - val_accuracy: 0.8695\n",
            "Epoch 32/40\n",
            "30/30 [==============================] - 2s 51ms/step - loss: 0.0340 - accuracy: 0.9953 - val_loss: 0.4475 - val_accuracy: 0.8700\n",
            "Epoch 33/40\n",
            "30/30 [==============================] - 2s 51ms/step - loss: 0.0310 - accuracy: 0.9954 - val_loss: 0.4591 - val_accuracy: 0.8698\n",
            "Epoch 34/40\n",
            "30/30 [==============================] - 2s 52ms/step - loss: 0.0300 - accuracy: 0.9961 - val_loss: 0.4730 - val_accuracy: 0.8679\n",
            "Epoch 35/40\n",
            "30/30 [==============================] - 2s 51ms/step - loss: 0.0273 - accuracy: 0.9966 - val_loss: 0.4893 - val_accuracy: 0.8675\n",
            "Epoch 36/40\n",
            "30/30 [==============================] - 2s 51ms/step - loss: 0.0264 - accuracy: 0.9974 - val_loss: 0.4972 - val_accuracy: 0.8670\n",
            "Epoch 37/40\n",
            "30/30 [==============================] - 2s 51ms/step - loss: 0.0242 - accuracy: 0.9973 - val_loss: 0.5091 - val_accuracy: 0.8667\n",
            "Epoch 38/40\n",
            "30/30 [==============================] - 2s 52ms/step - loss: 0.0204 - accuracy: 0.9980 - val_loss: 0.5206 - val_accuracy: 0.8660\n",
            "Epoch 39/40\n",
            "30/30 [==============================] - 2s 52ms/step - loss: 0.0187 - accuracy: 0.9985 - val_loss: 0.5332 - val_accuracy: 0.8654\n",
            "Epoch 40/40\n",
            "30/30 [==============================] - 2s 52ms/step - loss: 0.0175 - accuracy: 0.9987 - val_loss: 0.5444 - val_accuracy: 0.8662\n"
          ],
          "name": "stdout"
        }
      ]
    },
    {
      "cell_type": "code",
      "metadata": {
        "colab": {
          "base_uri": "https://localhost:8080/"
        },
        "id": "I4zIPJDcTPq3",
        "outputId": "049ea50b-459d-4ba2-c1d9-f8a446e8e956"
      },
      "source": [
        "# Model evaluation\n",
        "results = model2.evaluate(X_test_enc, y_test)"
      ],
      "execution_count": null,
      "outputs": [
        {
          "output_type": "stream",
          "text": [
            "782/782 [==============================] - 2s 2ms/step - loss: 0.5795 - accuracy: 0.8537\n"
          ],
          "name": "stdout"
        }
      ]
    },
    {
      "cell_type": "code",
      "metadata": {
        "colab": {
          "base_uri": "https://localhost:8080/"
        },
        "id": "waS96edDTRyL",
        "outputId": "65bfa61b-c872-426b-a846-7c8911fa43db"
      },
      "source": [
        "print (results)"
      ],
      "execution_count": null,
      "outputs": [
        {
          "output_type": "stream",
          "text": [
            "[0.5795008540153503, 0.8537200093269348]\n"
          ],
          "name": "stdout"
        }
      ]
    },
    {
      "cell_type": "code",
      "metadata": {
        "colab": {
          "base_uri": "https://localhost:8080/",
          "height": 369
        },
        "id": "setfUVe9TW4O",
        "outputId": "1566da31-93ff-4d5e-f383-bd0393119558"
      },
      "source": [
        "\n",
        "\n",
        "from plot_keras_history import plot_history\n",
        "import matplotlib.pyplot as plt\n",
        "plot_history(history.history, path=\"standard.png\")\n",
        "plt.show()"
      ],
      "execution_count": null,
      "outputs": [
        {
          "output_type": "display_data",
          "data": {
            "image/png": "[encoded data removed]",
            "text/plain": [
              "<Figure size 720x360 with 2 Axes>"
            ]
          },
          "metadata": {
            "tags": [],
            "needs_background": "light"
          }
        }
      ]
    },
    {
      "cell_type": "markdown",
      "metadata": {
        "id": "7FBpTc_rXGvQ"
      },
      "source": [
        "The accuracy of model2 is 87%. Using Embedding layer instead of one-hot layer improved the performance."
      ]
    },
    {
      "cell_type": "markdown",
      "metadata": {
        "id": "--020hfG6rN2"
      },
      "source": [
        "# Model 3: Using pre-trained word embeddings"
      ]
    },
    {
      "cell_type": "markdown",
      "metadata": {
        "id": "7GdY2-64YG1B"
      },
      "source": [
        "### Preparing pre-trained word embeddings (GLOVE)"
      ]
    },
    {
      "cell_type": "markdown",
      "metadata": {
        "id": "J4gBeOyi4gkM"
      },
      "source": [
        "The Embedding layer can be used to load a pre-trained word embedding model. We are going to use GloVe embeddings, which you can read about it here (https://nlp.stanford.edu/projects/glove/). GloVe stands for \"Global Vectors for Word Representation\". It's a somewhat popular embedding technique based on factorizing a matrix of word co-occurence statistics. You can download GloVe and we can seed the Keras Embedding layer with weights from the pre-trained embedding for the words in your dataset.\n",
        "First, we need to read GloVe and map words to GloVe:\n"
      ]
    },
    {
      "cell_type": "code",
      "metadata": {
        "id": "f_PypdqG9Iis"
      },
      "source": [
        "def readGloveFile(gloveFile):\n",
        "    with open(gloveFile, 'r') as f:\n",
        "        wordToGlove = {}  \n",
        "        wordToIndex = {}  \n",
        "        indexToWord = {}  \n",
        "\n",
        "        for line in f:\n",
        "            record = line.strip().split()\n",
        "            token = record[0] \n",
        "            wordToGlove[token] = np.array(record[1:], dtype=np.float64) \n",
        "            \n",
        "        tokens = sorted(wordToGlove.keys())\n",
        "        for idx, tok in enumerate(tokens):\n",
        "            kerasIdx = idx + 1  \n",
        "            wordToIndex[tok] = kerasIdx \n",
        "            indexToWord[kerasIdx] = tok \n",
        "\n",
        "    return wordToIndex, indexToWord, wordToGlove"
      ],
      "execution_count": null,
      "outputs": []
    },
    {
      "cell_type": "markdown",
      "metadata": {
        "id": "ZcIZ3dq59bCh"
      },
      "source": [
        "Now, we create our pre-trained Embedding layer:"
      ]
    },
    {
      "cell_type": "code",
      "metadata": {
        "id": "gembn7VM3ex8"
      },
      "source": [
        "from keras.initializers import Constant\n",
        "\n",
        "def createPretrainedEmbeddingLayer(wordToGlove, wordToIndex, isTrainable):\n",
        "    vocabLen = len(wordToIndex) + 1  \n",
        "    embDim = next(iter(wordToGlove.values())).shape[0]  \n",
        "   \n",
        "    embeddingMatrix = np.zeros((vocabLen, embDim))  \n",
        "    for word, index in wordToIndex.items():\n",
        "        embeddingMatrix[index, :] = wordToGlove[word] \n",
        "\n",
        "    embeddingLayer = Embedding(vocabLen, embDim, embeddings_initializer=Constant(embeddingMatrix), trainable=isTrainable, name='GloVe_Embeddings')\n",
        "    return embeddingLayer"
      ],
      "execution_count": null,
      "outputs": []
    },
    {
      "cell_type": "code",
      "metadata": {
        "colab": {
          "base_uri": "https://localhost:8080/"
        },
        "id": "8OC1wuctdFvA",
        "outputId": "f40ad859-d3fc-4a74-d8fb-0d52dd1334a8"
      },
      "source": [
        "!wget http://nlp.stanford.edu/data/glove.6B.zip\n",
        "!unzip '/content/glove.6B.zip'"
      ],
      "execution_count": null,
      "outputs": [
        {
          "output_type": "stream",
          "text": [
            "--2021-03-03 21:31:12--  http://nlp.stanford.edu/data/glove.6B.zip\n",
            "Resolving nlp.stanford.edu (nlp.stanford.edu)... 171.64.67.140\n",
            "Connecting to nlp.stanford.edu (nlp.stanford.edu)|171.64.67.140|:80... connected.\n",
            "HTTP request sent, awaiting response... 302 Found\n",
            "Location: https://nlp.stanford.edu/data/glove.6B.zip [following]\n",
            "--2021-03-03 21:31:13--  https://nlp.stanford.edu/data/glove.6B.zip\n",
            "Connecting to nlp.stanford.edu (nlp.stanford.edu)|171.64.67.140|:443... connected.\n",
            "HTTP request sent, awaiting response... 301 Moved Permanently\n",
            "Location: http://downloads.cs.stanford.edu/nlp/data/glove.6B.zip [following]\n",
            "--2021-03-03 21:31:13--  http://downloads.cs.stanford.edu/nlp/data/glove.6B.zip\n",
            "Resolving downloads.cs.stanford.edu (downloads.cs.stanford.edu)... 171.64.64.22\n",
            "Connecting to downloads.cs.stanford.edu (downloads.cs.stanford.edu)|171.64.64.22|:80... connected.\n",
            "HTTP request sent, awaiting response... 200 OK\n",
            "Length: 862182613 (822M) [application/zip]\n",
            "Saving to: ‘glove.6B.zip.1’\n",
            "\n",
            "glove.6B.zip.1      100%[===================>] 822.24M  2.11MB/s    in 7m 1s   \n",
            "\n",
            "2021-03-03 21:38:15 (1.95 MB/s) - ‘glove.6B.zip.1’ saved [862182613/862182613]\n",
            "\n",
            "Archive:  /content/glove.6B.zip\n",
            "replace glove.6B.50d.txt? [y]es, [n]o, [A]ll, [N]one, [r]ename: y\n",
            "  inflating: glove.6B.50d.txt        \n",
            "replace glove.6B.100d.txt? [y]es, [n]o, [A]ll, [N]one, [r]ename: y\n",
            "  inflating: glove.6B.100d.txt       \n",
            "replace glove.6B.200d.txt? [y]es, [n]o, [A]ll, [N]one, [r]ename: y\n",
            "  inflating: glove.6B.200d.txt       \n",
            "replace glove.6B.300d.txt? [y]es, [n]o, [A]ll, [N]one, [r]ename: y\n",
            "  inflating: glove.6B.300d.txt       \n"
          ],
          "name": "stdout"
        }
      ]
    },
    {
      "cell_type": "markdown",
      "metadata": {
        "id": "HGxciLK4-xOr"
      },
      "source": [
        "We freeze the weights. To create the model: "
      ]
    },
    {
      "cell_type": "code",
      "metadata": {
        "colab": {
          "base_uri": "https://localhost:8080/"
        },
        "id": "PZCPUM0W_Drc",
        "outputId": "fc8c97ac-1181-46a7-de51-9955b2c6a073"
      },
      "source": [
        "# wordToIndex,indexToWord,wordToGlove=readGloveFile('/content/glove.6B.50d.txt')\n",
        "# wordToIndex,indexToWord,wordToGlove=readGloveFile('/content/glove.6B.100d.txt')\n",
        "wordToIndex,indexToWord,wordToGlove=readGloveFile('/content/glove.6B.300d.txt')\n",
        "\n",
        "# vocabLen = len(wordToIndex) + 1 \n",
        "\n",
        "EMBED_SIZE = next(iter(wordToGlove.values())).shape[0]\n",
        "print('Size of Embedding: ',EMBED_SIZE)\n",
        "\n",
        "embeddingLayer=createPretrainedEmbeddingLayer(wordToGlove,wordToIndex,isTrainable=False)"
      ],
      "execution_count": null,
      "outputs": [
        {
          "output_type": "stream",
          "text": [
            "Size of Embedding:  300\n"
          ],
          "name": "stdout"
        }
      ]
    },
    {
      "cell_type": "markdown",
      "metadata": {
        "id": "vdZ4nl08vp9A"
      },
      "source": [
        "## Model 3-1: Neural bag of words using pre-trained word embeddings"
      ]
    },
    {
      "cell_type": "markdown",
      "metadata": {
        "id": "2gyCwXFj_R5w"
      },
      "source": [
        "Now we change our model to use GloVe:"
      ]
    },
    {
      "cell_type": "code",
      "metadata": {
        "colab": {
          "base_uri": "https://localhost:8080/"
        },
        "id": "VICS9rY8C7KH",
        "outputId": "c91aa24b-5e70-47e0-84b4-c0b599c49b9a"
      },
      "source": [
        "# Inspect model performance with 1 hidden layer, pre-trained embeddings\n",
        "\n",
        "from keras.layers import Input, Embedding, Dense, LSTM, Lambda\n",
        "from keras.models import Model\n",
        "input_layer = Input(shape=(256,))\n",
        "embedding_layer = embeddingLayer(input_layer)\n",
        "pooling_layer = GlobalAveragePooling1DMasked()(embedding_layer)\n",
        "hidden_dense_layer = Dense(16)(pooling_layer)\n",
        "output_dense_layer = Dense(1, activation='sigmoid')(hidden_dense_layer)\n",
        "model3 = Model(inputs= input_layer, outputs=output_dense_layer)\n",
        "model3.compile('adam', 'binary_crossentropy', metrics=['accuracy'])\n",
        "model3.summary()"
      ],
      "execution_count": null,
      "outputs": [
        {
          "output_type": "stream",
          "text": [
            "Model: \"model_11\"\n",
            "_________________________________________________________________\n",
            "Layer (type)                 Output Shape              Param #   \n",
            "=================================================================\n",
            "input_12 (InputLayer)        [(None, 256)]             0         \n",
            "_________________________________________________________________\n",
            "GloVe_Embeddings (Embedding) (None, 256, 300)          120000300 \n",
            "_________________________________________________________________\n",
            "global_average_pooling1d_mas (None, 300)               0         \n",
            "_________________________________________________________________\n",
            "dense_22 (Dense)             (None, 16)                4816      \n",
            "_________________________________________________________________\n",
            "dense_23 (Dense)             (None, 1)                 17        \n",
            "=================================================================\n",
            "Total params: 120,005,133\n",
            "Trainable params: 4,833\n",
            "Non-trainable params: 120,000,300\n",
            "_________________________________________________________________\n"
          ],
          "name": "stdout"
        }
      ]
    },
    {
      "cell_type": "markdown",
      "metadata": {
        "id": "XePYhxBzSpqb"
      },
      "source": [
        "**<i> <font color ='darkblue'>In this section, we try another kind of embedding namely GloVe word embeddings that are pre-trained replacing the embeddings from the Embedding Layer provided by Keras. Since we want to make use of the pretrained word embeddings, we set isTrainable to false in the new embedding layer. </font></i>**"
      ]
    },
    {
      "cell_type": "code",
      "metadata": {
        "colab": {
          "base_uri": "https://localhost:8080/"
        },
        "id": "r6sj_FnOD9Sb",
        "outputId": "874e2cbb-2ffd-41a9-fca5-5d80a4a0fb68"
      },
      "source": [
        "# Model training\n",
        "history = model3.fit(partial_X_train,\n",
        "                    partial_y_train,\n",
        "                    epochs=40,\n",
        "                    batch_size=512,\n",
        "                    validation_data=(X_val, y_val),\n",
        "                    verbose=1)\n"
      ],
      "execution_count": null,
      "outputs": [
        {
          "output_type": "stream",
          "text": [
            "Epoch 1/40\n",
            "30/30 [==============================] - 3s 70ms/step - loss: 0.6940 - accuracy: 0.5038 - val_loss: 0.6845 - val_accuracy: 0.5545\n",
            "Epoch 2/40\n",
            "30/30 [==============================] - 2s 60ms/step - loss: 0.6825 - accuracy: 0.5687 - val_loss: 0.6774 - val_accuracy: 0.5801\n",
            "Epoch 3/40\n",
            "30/30 [==============================] - 2s 60ms/step - loss: 0.6726 - accuracy: 0.5926 - val_loss: 0.6684 - val_accuracy: 0.6011\n",
            "Epoch 4/40\n",
            "30/30 [==============================] - 2s 60ms/step - loss: 0.6650 - accuracy: 0.6068 - val_loss: 0.6608 - val_accuracy: 0.6168\n",
            "Epoch 5/40\n",
            "30/30 [==============================] - 2s 60ms/step - loss: 0.6567 - accuracy: 0.6255 - val_loss: 0.6548 - val_accuracy: 0.6261\n",
            "Epoch 6/40\n",
            "30/30 [==============================] - 2s 59ms/step - loss: 0.6493 - accuracy: 0.6336 - val_loss: 0.6450 - val_accuracy: 0.6453\n",
            "Epoch 7/40\n",
            "30/30 [==============================] - 2s 59ms/step - loss: 0.6442 - accuracy: 0.6456 - val_loss: 0.6380 - val_accuracy: 0.6535\n",
            "Epoch 8/40\n",
            "30/30 [==============================] - 2s 59ms/step - loss: 0.6333 - accuracy: 0.6593 - val_loss: 0.6313 - val_accuracy: 0.6600\n",
            "Epoch 9/40\n",
            "30/30 [==============================] - 2s 59ms/step - loss: 0.6273 - accuracy: 0.6632 - val_loss: 0.6264 - val_accuracy: 0.6614\n",
            "Epoch 10/40\n",
            "30/30 [==============================] - 2s 60ms/step - loss: 0.6224 - accuracy: 0.6722 - val_loss: 0.6186 - val_accuracy: 0.6743\n",
            "Epoch 11/40\n",
            "30/30 [==============================] - 2s 60ms/step - loss: 0.6153 - accuracy: 0.6765 - val_loss: 0.6132 - val_accuracy: 0.6799\n",
            "Epoch 12/40\n",
            "30/30 [==============================] - 2s 59ms/step - loss: 0.6049 - accuracy: 0.6914 - val_loss: 0.6082 - val_accuracy: 0.6831\n",
            "Epoch 13/40\n",
            "30/30 [==============================] - 2s 59ms/step - loss: 0.6005 - accuracy: 0.6954 - val_loss: 0.6039 - val_accuracy: 0.6872\n",
            "Epoch 14/40\n",
            "30/30 [==============================] - 2s 60ms/step - loss: 0.5978 - accuracy: 0.6915 - val_loss: 0.6002 - val_accuracy: 0.6878\n",
            "Epoch 15/40\n",
            "30/30 [==============================] - 2s 59ms/step - loss: 0.5922 - accuracy: 0.7036 - val_loss: 0.5965 - val_accuracy: 0.6918\n",
            "Epoch 16/40\n",
            "30/30 [==============================] - 2s 59ms/step - loss: 0.5832 - accuracy: 0.7045 - val_loss: 0.6015 - val_accuracy: 0.6806\n",
            "Epoch 17/40\n",
            "30/30 [==============================] - 2s 59ms/step - loss: 0.5887 - accuracy: 0.6974 - val_loss: 0.5899 - val_accuracy: 0.6958\n",
            "Epoch 18/40\n",
            "30/30 [==============================] - 2s 59ms/step - loss: 0.5823 - accuracy: 0.7088 - val_loss: 0.5871 - val_accuracy: 0.6985\n",
            "Epoch 19/40\n",
            "30/30 [==============================] - 2s 59ms/step - loss: 0.5798 - accuracy: 0.7083 - val_loss: 0.5843 - val_accuracy: 0.7007\n",
            "Epoch 20/40\n",
            "30/30 [==============================] - 2s 59ms/step - loss: 0.5730 - accuracy: 0.7121 - val_loss: 0.5820 - val_accuracy: 0.7010\n",
            "Epoch 21/40\n",
            "30/30 [==============================] - 2s 60ms/step - loss: 0.5725 - accuracy: 0.7110 - val_loss: 0.5809 - val_accuracy: 0.7015\n",
            "Epoch 22/40\n",
            "30/30 [==============================] - 2s 59ms/step - loss: 0.5732 - accuracy: 0.7085 - val_loss: 0.5772 - val_accuracy: 0.7058\n",
            "Epoch 23/40\n",
            "30/30 [==============================] - 2s 61ms/step - loss: 0.5669 - accuracy: 0.7179 - val_loss: 0.5768 - val_accuracy: 0.7053\n",
            "Epoch 24/40\n",
            "30/30 [==============================] - 2s 60ms/step - loss: 0.5665 - accuracy: 0.7118 - val_loss: 0.5738 - val_accuracy: 0.7091\n",
            "Epoch 25/40\n",
            "30/30 [==============================] - 2s 60ms/step - loss: 0.5604 - accuracy: 0.7198 - val_loss: 0.5740 - val_accuracy: 0.7081\n",
            "Epoch 26/40\n",
            "30/30 [==============================] - 2s 60ms/step - loss: 0.5622 - accuracy: 0.7210 - val_loss: 0.5692 - val_accuracy: 0.7134\n",
            "Epoch 27/40\n",
            "30/30 [==============================] - 2s 59ms/step - loss: 0.5572 - accuracy: 0.7247 - val_loss: 0.5687 - val_accuracy: 0.7120\n",
            "Epoch 28/40\n",
            "30/30 [==============================] - 2s 59ms/step - loss: 0.5537 - accuracy: 0.7272 - val_loss: 0.5661 - val_accuracy: 0.7154\n",
            "Epoch 29/40\n",
            "30/30 [==============================] - 2s 59ms/step - loss: 0.5546 - accuracy: 0.7253 - val_loss: 0.5728 - val_accuracy: 0.7087\n",
            "Epoch 30/40\n",
            "30/30 [==============================] - 2s 59ms/step - loss: 0.5590 - accuracy: 0.7186 - val_loss: 0.5631 - val_accuracy: 0.7180\n",
            "Epoch 31/40\n",
            "30/30 [==============================] - 2s 59ms/step - loss: 0.5549 - accuracy: 0.7236 - val_loss: 0.5618 - val_accuracy: 0.7184\n",
            "Epoch 32/40\n",
            "30/30 [==============================] - 2s 60ms/step - loss: 0.5541 - accuracy: 0.7246 - val_loss: 0.5609 - val_accuracy: 0.7181\n",
            "Epoch 33/40\n",
            "30/30 [==============================] - 2s 59ms/step - loss: 0.5460 - accuracy: 0.7316 - val_loss: 0.5712 - val_accuracy: 0.7107\n",
            "Epoch 34/40\n",
            "30/30 [==============================] - 2s 60ms/step - loss: 0.5594 - accuracy: 0.7143 - val_loss: 0.5637 - val_accuracy: 0.7149\n",
            "Epoch 35/40\n",
            "30/30 [==============================] - 2s 59ms/step - loss: 0.5461 - accuracy: 0.7323 - val_loss: 0.5572 - val_accuracy: 0.7223\n",
            "Epoch 36/40\n",
            "30/30 [==============================] - 2s 59ms/step - loss: 0.5431 - accuracy: 0.7345 - val_loss: 0.5562 - val_accuracy: 0.7218\n",
            "Epoch 37/40\n",
            "30/30 [==============================] - 2s 59ms/step - loss: 0.5435 - accuracy: 0.7324 - val_loss: 0.5551 - val_accuracy: 0.7243\n",
            "Epoch 38/40\n",
            "30/30 [==============================] - 2s 59ms/step - loss: 0.5428 - accuracy: 0.7331 - val_loss: 0.5542 - val_accuracy: 0.7249\n",
            "Epoch 39/40\n",
            "30/30 [==============================] - 2s 59ms/step - loss: 0.5462 - accuracy: 0.7321 - val_loss: 0.5541 - val_accuracy: 0.7245\n",
            "Epoch 40/40\n",
            "30/30 [==============================] - 2s 59ms/step - loss: 0.5457 - accuracy: 0.7343 - val_loss: 0.5539 - val_accuracy: 0.7263\n"
          ],
          "name": "stdout"
        }
      ]
    },
    {
      "cell_type": "code",
      "metadata": {
        "colab": {
          "base_uri": "https://localhost:8080/"
        },
        "id": "so7yTSDRmPFp",
        "outputId": "2c4e49a5-5e31-4f4a-bc4f-3726cae0fb49"
      },
      "source": [
        "# Model evaluation\n",
        "results = model3.evaluate(X_test_enc, y_test)"
      ],
      "execution_count": null,
      "outputs": [
        {
          "output_type": "stream",
          "text": [
            "782/782 [==============================] - 3s 3ms/step - loss: 0.5557 - accuracy: 0.7167\n"
          ],
          "name": "stdout"
        }
      ]
    },
    {
      "cell_type": "code",
      "metadata": {
        "colab": {
          "base_uri": "https://localhost:8080/"
        },
        "id": "NJcXLzNqmShb",
        "outputId": "c30e053b-bce8-424d-9e48-009f355888b4"
      },
      "source": [
        "print (results)"
      ],
      "execution_count": null,
      "outputs": [
        {
          "output_type": "stream",
          "text": [
            "[0.5556595921516418, 0.7167199850082397]\n"
          ],
          "name": "stdout"
        }
      ]
    },
    {
      "cell_type": "code",
      "metadata": {
        "colab": {
          "base_uri": "https://localhost:8080/",
          "height": 369
        },
        "id": "qED0212iTbWb",
        "outputId": "a5ad3450-69fa-48a8-a060-fdc077aebe4d"
      },
      "source": [
        "\n",
        "from plot_keras_history import plot_history\n",
        "import matplotlib.pyplot as plt\n",
        "plot_history(history.history, path=\"standard.png\")\n",
        "plt.show()"
      ],
      "execution_count": null,
      "outputs": [
        {
          "output_type": "display_data",
          "data": {
            "image/png": "[encoded data removed]",
            "text/plain": [
              "<Figure size 720x360 with 2 Axes>"
            ]
          },
          "metadata": {
            "tags": [],
            "needs_background": "light"
          }
        }
      ]
    },
    {
      "cell_type": "markdown",
      "metadata": {
        "id": "wxJhlT3whoDE"
      },
      "source": [
        "To compare freezing and fine-tuning the pre-train embedding weights, we fine-tune the weights here:"
      ]
    },
    {
      "cell_type": "code",
      "metadata": {
        "colab": {
          "base_uri": "https://localhost:8080/"
        },
        "id": "u_xmeuuhhtbH",
        "outputId": "29ed5273-ff60-46e1-9334-8698e7a9ef0c"
      },
      "source": [
        "\n",
        "# Inspect model performance with 1 hidden layer, pre-trained embeddings\n",
        "from keras.layers import Input, Embedding, Dense, LSTM, Lambda\n",
        "from keras.models import Model\n",
        "embeddingLayer=createPretrainedEmbeddingLayer(wordToGlove,wordToIndex,isTrainable=True)\n",
        "input_layer = Input(shape=(256,))\n",
        "embedding_layer = embeddingLayer(input_layer)\n",
        "pooling_layer = GlobalAveragePooling1DMasked()(embedding_layer)\n",
        "hidden_dense_layer = Dense(16)(pooling_layer)\n",
        "output_dense_layer = Dense(1, activation='sigmoid')(hidden_dense_layer)\n",
        "model3 = Model(inputs= input_layer, outputs=output_dense_layer)\n",
        "model3.compile('adam', 'binary_crossentropy', metrics=['accuracy'])\n",
        "model3.summary()"
      ],
      "execution_count": null,
      "outputs": [
        {
          "output_type": "stream",
          "text": [
            "Model: \"model_12\"\n",
            "_________________________________________________________________\n",
            "Layer (type)                 Output Shape              Param #   \n",
            "=================================================================\n",
            "input_13 (InputLayer)        [(None, 256)]             0         \n",
            "_________________________________________________________________\n",
            "GloVe_Embeddings (Embedding) (None, 256, 300)          120000300 \n",
            "_________________________________________________________________\n",
            "global_average_pooling1d_mas (None, 300)               0         \n",
            "_________________________________________________________________\n",
            "dense_24 (Dense)             (None, 16)                4816      \n",
            "_________________________________________________________________\n",
            "dense_25 (Dense)             (None, 1)                 17        \n",
            "=================================================================\n",
            "Total params: 120,005,133\n",
            "Trainable params: 120,005,133\n",
            "Non-trainable params: 0\n",
            "_________________________________________________________________\n"
          ],
          "name": "stdout"
        }
      ]
    },
    {
      "cell_type": "markdown",
      "metadata": {
        "id": "jrgxjLokT9v9"
      },
      "source": [
        "**<i> <font color ='darkblue'>In this previous section, we had set isTrainable to false in the embedding layer but we make it true for this model to compare the pretrained embeddings with the fine-tuned ones. </font></i>**"
      ]
    },
    {
      "cell_type": "code",
      "metadata": {
        "colab": {
          "base_uri": "https://localhost:8080/"
        },
        "id": "3rz8MEm6iHj6",
        "outputId": "14bb2394-44da-47af-ed52-ca1a451ce1e5"
      },
      "source": [
        "# Model training\n",
        "history = model3.fit(partial_X_train,\n",
        "                    partial_y_train,\n",
        "                    epochs=40,\n",
        "                    batch_size=512,\n",
        "                    validation_data=(X_val, y_val),\n",
        "                    verbose=1)"
      ],
      "execution_count": null,
      "outputs": [
        {
          "output_type": "stream",
          "text": [
            "Epoch 1/40\n",
            "30/30 [==============================] - 26s 835ms/step - loss: 0.6988 - accuracy: 0.5119 - val_loss: 0.6744 - val_accuracy: 0.5982\n",
            "Epoch 2/40\n",
            "30/30 [==============================] - 24s 796ms/step - loss: 0.6643 - accuracy: 0.6470 - val_loss: 0.6383 - val_accuracy: 0.6838\n",
            "Epoch 3/40\n",
            "30/30 [==============================] - 24s 796ms/step - loss: 0.6181 - accuracy: 0.7122 - val_loss: 0.5788 - val_accuracy: 0.7462\n",
            "Epoch 4/40\n",
            "30/30 [==============================] - 24s 793ms/step - loss: 0.5463 - accuracy: 0.7716 - val_loss: 0.4955 - val_accuracy: 0.8061\n",
            "Epoch 5/40\n",
            "30/30 [==============================] - 24s 794ms/step - loss: 0.4571 - accuracy: 0.8313 - val_loss: 0.4185 - val_accuracy: 0.8378\n",
            "Epoch 6/40\n",
            "30/30 [==============================] - 24s 795ms/step - loss: 0.3712 - accuracy: 0.8677 - val_loss: 0.3691 - val_accuracy: 0.8531\n",
            "Epoch 7/40\n",
            "30/30 [==============================] - 24s 795ms/step - loss: 0.3180 - accuracy: 0.8839 - val_loss: 0.3368 - val_accuracy: 0.8653\n",
            "Epoch 8/40\n",
            "30/30 [==============================] - 24s 786ms/step - loss: 0.2759 - accuracy: 0.9021 - val_loss: 0.3177 - val_accuracy: 0.8722\n",
            "Epoch 9/40\n",
            "30/30 [==============================] - 24s 787ms/step - loss: 0.2432 - accuracy: 0.9139 - val_loss: 0.3059 - val_accuracy: 0.8776\n",
            "Epoch 10/40\n",
            "30/30 [==============================] - 24s 789ms/step - loss: 0.2219 - accuracy: 0.9200 - val_loss: 0.2962 - val_accuracy: 0.8822\n",
            "Epoch 11/40\n",
            "30/30 [==============================] - 23s 783ms/step - loss: 0.1984 - accuracy: 0.9310 - val_loss: 0.2910 - val_accuracy: 0.8826\n",
            "Epoch 12/40\n",
            "30/30 [==============================] - 23s 773ms/step - loss: 0.1789 - accuracy: 0.9395 - val_loss: 0.2926 - val_accuracy: 0.8822\n",
            "Epoch 13/40\n",
            "30/30 [==============================] - 23s 775ms/step - loss: 0.1645 - accuracy: 0.9477 - val_loss: 0.2912 - val_accuracy: 0.8834\n",
            "Epoch 14/40\n",
            "30/30 [==============================] - 23s 775ms/step - loss: 0.1435 - accuracy: 0.9557 - val_loss: 0.2918 - val_accuracy: 0.8840\n",
            "Epoch 15/40\n",
            "30/30 [==============================] - 23s 773ms/step - loss: 0.1356 - accuracy: 0.9574 - val_loss: 0.2954 - val_accuracy: 0.8844\n",
            "Epoch 16/40\n",
            "30/30 [==============================] - 23s 764ms/step - loss: 0.1219 - accuracy: 0.9658 - val_loss: 0.3011 - val_accuracy: 0.8836\n",
            "Epoch 17/40\n",
            "30/30 [==============================] - 23s 765ms/step - loss: 0.1092 - accuracy: 0.9691 - val_loss: 0.3065 - val_accuracy: 0.8831\n",
            "Epoch 18/40\n",
            "30/30 [==============================] - 23s 765ms/step - loss: 0.1027 - accuracy: 0.9737 - val_loss: 0.3132 - val_accuracy: 0.8816\n",
            "Epoch 19/40\n",
            "30/30 [==============================] - 23s 765ms/step - loss: 0.0971 - accuracy: 0.9743 - val_loss: 0.3224 - val_accuracy: 0.8802\n",
            "Epoch 20/40\n",
            "30/30 [==============================] - 23s 764ms/step - loss: 0.0856 - accuracy: 0.9775 - val_loss: 0.3298 - val_accuracy: 0.8790\n",
            "Epoch 21/40\n",
            "30/30 [==============================] - 27s 899ms/step - loss: 0.0779 - accuracy: 0.9815 - val_loss: 0.3422 - val_accuracy: 0.8758\n",
            "Epoch 22/40\n",
            "30/30 [==============================] - 23s 754ms/step - loss: 0.0724 - accuracy: 0.9832 - val_loss: 0.3505 - val_accuracy: 0.8756\n",
            "Epoch 23/40\n",
            "30/30 [==============================] - 23s 758ms/step - loss: 0.0677 - accuracy: 0.9854 - val_loss: 0.3602 - val_accuracy: 0.8751\n",
            "Epoch 24/40\n",
            "30/30 [==============================] - 23s 756ms/step - loss: 0.0625 - accuracy: 0.9865 - val_loss: 0.3737 - val_accuracy: 0.8740\n",
            "Epoch 25/40\n",
            "30/30 [==============================] - 23s 756ms/step - loss: 0.0588 - accuracy: 0.9872 - val_loss: 0.3865 - val_accuracy: 0.8735\n",
            "Epoch 26/40\n",
            "30/30 [==============================] - 23s 757ms/step - loss: 0.0552 - accuracy: 0.9888 - val_loss: 0.3957 - val_accuracy: 0.8723\n",
            "Epoch 27/40\n",
            "30/30 [==============================] - 23s 755ms/step - loss: 0.0488 - accuracy: 0.9909 - val_loss: 0.4079 - val_accuracy: 0.8724\n",
            "Epoch 28/40\n",
            "30/30 [==============================] - 23s 752ms/step - loss: 0.0457 - accuracy: 0.9925 - val_loss: 0.4208 - val_accuracy: 0.8707\n",
            "Epoch 29/40\n",
            "30/30 [==============================] - 23s 756ms/step - loss: 0.0400 - accuracy: 0.9937 - val_loss: 0.4351 - val_accuracy: 0.8705\n",
            "Epoch 30/40\n",
            "30/30 [==============================] - 23s 756ms/step - loss: 0.0359 - accuracy: 0.9944 - val_loss: 0.4480 - val_accuracy: 0.8693\n",
            "Epoch 31/40\n",
            "30/30 [==============================] - 22s 750ms/step - loss: 0.0327 - accuracy: 0.9953 - val_loss: 0.4585 - val_accuracy: 0.8683\n",
            "Epoch 32/40\n",
            "30/30 [==============================] - 23s 751ms/step - loss: 0.0301 - accuracy: 0.9962 - val_loss: 0.4723 - val_accuracy: 0.8680\n",
            "Epoch 33/40\n",
            "30/30 [==============================] - 23s 752ms/step - loss: 0.0286 - accuracy: 0.9966 - val_loss: 0.4843 - val_accuracy: 0.8679\n",
            "Epoch 34/40\n",
            "30/30 [==============================] - 23s 752ms/step - loss: 0.0266 - accuracy: 0.9968 - val_loss: 0.4989 - val_accuracy: 0.8678\n",
            "Epoch 35/40\n",
            "30/30 [==============================] - 22s 732ms/step - loss: 0.0222 - accuracy: 0.9980 - val_loss: 0.5112 - val_accuracy: 0.8676\n",
            "Epoch 36/40\n",
            "30/30 [==============================] - 22s 740ms/step - loss: 0.0218 - accuracy: 0.9979 - val_loss: 0.5248 - val_accuracy: 0.8663\n",
            "Epoch 37/40\n",
            "30/30 [==============================] - 22s 736ms/step - loss: 0.0197 - accuracy: 0.9981 - val_loss: 0.5376 - val_accuracy: 0.8665\n",
            "Epoch 38/40\n",
            "30/30 [==============================] - 22s 742ms/step - loss: 0.0185 - accuracy: 0.9979 - val_loss: 0.5528 - val_accuracy: 0.8632\n",
            "Epoch 39/40\n",
            "30/30 [==============================] - 22s 739ms/step - loss: 0.0166 - accuracy: 0.9987 - val_loss: 0.5625 - val_accuracy: 0.8641\n",
            "Epoch 40/40\n",
            "30/30 [==============================] - 22s 739ms/step - loss: 0.0146 - accuracy: 0.9996 - val_loss: 0.5745 - val_accuracy: 0.8632\n"
          ],
          "name": "stdout"
        }
      ]
    },
    {
      "cell_type": "code",
      "metadata": {
        "colab": {
          "base_uri": "https://localhost:8080/"
        },
        "id": "eHoXx8uBm8QC",
        "outputId": "e90b0820-ffd9-40cf-8e4e-46c803b70953"
      },
      "source": [
        "# Model evaluation\n",
        "results = model3.evaluate(X_test_enc, y_test)"
      ],
      "execution_count": null,
      "outputs": [
        {
          "output_type": "stream",
          "text": [
            "782/782 [==============================] - 3s 4ms/step - loss: 0.6147 - accuracy: 0.8516\n"
          ],
          "name": "stdout"
        }
      ]
    },
    {
      "cell_type": "code",
      "metadata": {
        "colab": {
          "base_uri": "https://localhost:8080/"
        },
        "id": "EnbYimeIm8TF",
        "outputId": "75b42d51-caf3-4961-bd24-5ba778005ffe"
      },
      "source": [
        "print (results)"
      ],
      "execution_count": null,
      "outputs": [
        {
          "output_type": "stream",
          "text": [
            "[0.6146966218948364, 0.8515599966049194]\n"
          ],
          "name": "stdout"
        }
      ]
    },
    {
      "cell_type": "markdown",
      "metadata": {
        "id": "V7khken4U7J9"
      },
      "source": [
        "**<i> <font color ='darkblue'>We can see that the accuracy on test set has significantly improved by almost 14% by using customized word embeddings when compared with the model with pretrained embeddings. </font></i>**"
      ]
    },
    {
      "cell_type": "code",
      "metadata": {
        "colab": {
          "base_uri": "https://localhost:8080/",
          "height": 369
        },
        "id": "cssoEJx2TeIB",
        "outputId": "fac23a00-ea14-42e4-d7a8-46d40d4168f0"
      },
      "source": [
        "from plot_keras_history import plot_history\n",
        "import matplotlib.pyplot as plt\n",
        "plot_history(history.history, path=\"standard.png\")\n",
        "plt.show()"
      ],
      "execution_count": null,
      "outputs": [
        {
          "output_type": "display_data",
          "data": {
            "image/png": "[encoded data removed]",
            "text/plain": [
              "<Figure size 720x360 with 2 Axes>"
            ]
          },
          "metadata": {
            "tags": [],
            "needs_background": "light"
          }
        }
      ]
    },
    {
      "cell_type": "markdown",
      "metadata": {
        "id": "cAdOh2IHnKuT"
      },
      "source": [
        "Experiments here show that fine-tuning the pre-trained embeddings would obtain better accuracy.\n",
        "\n",
        "Note that although fine-tuning the pre-trained embeddings is better here, we do not fine-tune it in other models. You could conduct extra experiments to compare the results."
      ]
    },
    {
      "cell_type": "markdown",
      "metadata": {
        "id": "xZ1KWFKvcagS"
      },
      "source": [
        "##  Model 3-2: LSTM with pre-trained word embeddings"
      ]
    },
    {
      "cell_type": "markdown",
      "metadata": {
        "id": "S1lKisy3kb60"
      },
      "source": [
        "In previous labs, we have conducted an experiment based on LSTM. Now, we replace its embeddings with the GloVe pre-trained embeddings."
      ]
    },
    {
      "cell_type": "code",
      "metadata": {
        "colab": {
          "base_uri": "https://localhost:8080/"
        },
        "id": "oz92rv2iTbo8",
        "outputId": "6ad07f7a-8761-438a-d86a-d64286fa23fb"
      },
      "source": [
        "from keras.layers import Input, Embedding, Dense, LSTM, Lambda\n",
        "from keras.models import Model\n",
        "embeddingLayer=createPretrainedEmbeddingLayer(wordToGlove,wordToIndex,isTrainable=False)\n",
        "input_layer = Input(shape=(256,))\n",
        "embedding_layer = embeddingLayer(input_layer)\n",
        "lstm_layer = LSTM(100, return_sequences=False)(embedding_layer)\n",
        "output_dense_layer = Dense(1, activation='sigmoid')(lstm_layer)\n",
        "model3 = Model(inputs= input_layer, outputs=output_dense_layer)\n",
        "model3.compile('adam', 'binary_crossentropy', metrics=['accuracy'])\n",
        "model3.summary()"
      ],
      "execution_count": null,
      "outputs": [
        {
          "output_type": "stream",
          "text": [
            "Model: \"model_13\"\n",
            "_________________________________________________________________\n",
            "Layer (type)                 Output Shape              Param #   \n",
            "=================================================================\n",
            "input_14 (InputLayer)        [(None, 256)]             0         \n",
            "_________________________________________________________________\n",
            "GloVe_Embeddings (Embedding) (None, 256, 300)          120000300 \n",
            "_________________________________________________________________\n",
            "lstm_1 (LSTM)                (None, 100)               160400    \n",
            "_________________________________________________________________\n",
            "dense_26 (Dense)             (None, 1)                 101       \n",
            "=================================================================\n",
            "Total params: 120,160,801\n",
            "Trainable params: 160,501\n",
            "Non-trainable params: 120,000,300\n",
            "_________________________________________________________________\n"
          ],
          "name": "stdout"
        }
      ]
    },
    {
      "cell_type": "markdown",
      "metadata": {
        "id": "70B9td1rVNU-"
      },
      "source": [
        "**<i> <font color ='darkblue'> Borrowing the model from Lab 2, we have replaced the embeddings in that model with GloVe word embeddings. </font></i>**"
      ]
    },
    {
      "cell_type": "code",
      "metadata": {
        "id": "EqyL_rhaUElx",
        "colab": {
          "base_uri": "https://localhost:8080/"
        },
        "outputId": "4e6274a1-a427-4489-f0fc-1fb880612e22"
      },
      "source": [
        "# Model training\n",
        "history = model3.fit(partial_X_train,\n",
        "                    partial_y_train,\n",
        "                    epochs=40,\n",
        "                    batch_size=512,\n",
        "                    validation_data=(X_val, y_val),\n",
        "                    verbose=1)"
      ],
      "execution_count": null,
      "outputs": [
        {
          "output_type": "stream",
          "text": [
            "Epoch 1/40\n",
            "30/30 [==============================] - 77s 3s/step - loss: 0.6944 - accuracy: 0.5143 - val_loss: 0.6852 - val_accuracy: 0.5264\n",
            "Epoch 2/40\n",
            "30/30 [==============================] - 66s 2s/step - loss: 0.6795 - accuracy: 0.5424 - val_loss: 0.6730 - val_accuracy: 0.5666\n",
            "Epoch 3/40\n",
            "30/30 [==============================] - 71s 2s/step - loss: 0.6706 - accuracy: 0.5649 - val_loss: 0.6803 - val_accuracy: 0.5332\n",
            "Epoch 4/40\n",
            "30/30 [==============================] - 64s 2s/step - loss: 0.6670 - accuracy: 0.5632 - val_loss: 0.6597 - val_accuracy: 0.6339\n",
            "Epoch 5/40\n",
            "30/30 [==============================] - 68s 2s/step - loss: 0.6453 - accuracy: 0.6196 - val_loss: 0.6428 - val_accuracy: 0.6423\n",
            "Epoch 6/40\n",
            "30/30 [==============================] - 72s 2s/step - loss: 0.6345 - accuracy: 0.6521 - val_loss: 0.6768 - val_accuracy: 0.5319\n",
            "Epoch 7/40\n",
            "30/30 [==============================] - 68s 2s/step - loss: 0.6547 - accuracy: 0.5667 - val_loss: 0.6469 - val_accuracy: 0.6454\n",
            "Epoch 8/40\n",
            "30/30 [==============================] - 72s 2s/step - loss: 0.6212 - accuracy: 0.6556 - val_loss: 0.6711 - val_accuracy: 0.5638\n",
            "Epoch 9/40\n",
            "30/30 [==============================] - 71s 2s/step - loss: 0.6391 - accuracy: 0.5888 - val_loss: 0.6693 - val_accuracy: 0.6600\n",
            "Epoch 10/40\n",
            "30/30 [==============================] - 63s 2s/step - loss: 0.6012 - accuracy: 0.6894 - val_loss: 0.6737 - val_accuracy: 0.5429\n",
            "Epoch 11/40\n",
            "30/30 [==============================] - 61s 2s/step - loss: 0.6420 - accuracy: 0.5841 - val_loss: 0.6419 - val_accuracy: 0.6536\n",
            "Epoch 12/40\n",
            "30/30 [==============================] - 78s 3s/step - loss: 0.6513 - accuracy: 0.5981 - val_loss: 0.6746 - val_accuracy: 0.5346\n",
            "Epoch 13/40\n",
            "30/30 [==============================] - 70s 2s/step - loss: 0.6371 - accuracy: 0.5912 - val_loss: 0.6661 - val_accuracy: 0.5541\n",
            "Epoch 14/40\n",
            "30/30 [==============================] - 69s 2s/step - loss: 0.6180 - accuracy: 0.6384 - val_loss: 0.7269 - val_accuracy: 0.6264\n",
            "Epoch 15/40\n",
            "30/30 [==============================] - 71s 2s/step - loss: 0.6234 - accuracy: 0.6751 - val_loss: 0.6789 - val_accuracy: 0.5723\n",
            "Epoch 16/40\n",
            "30/30 [==============================] - 70s 2s/step - loss: 0.6232 - accuracy: 0.6368 - val_loss: 0.6612 - val_accuracy: 0.5685\n",
            "Epoch 17/40\n",
            "30/30 [==============================] - 70s 2s/step - loss: 0.6126 - accuracy: 0.6357 - val_loss: 0.6451 - val_accuracy: 0.6285\n",
            "Epoch 18/40\n",
            "30/30 [==============================] - 72s 2s/step - loss: 0.6043 - accuracy: 0.6541 - val_loss: 0.6616 - val_accuracy: 0.5858\n",
            "Epoch 19/40\n",
            "30/30 [==============================] - 69s 2s/step - loss: 0.6261 - accuracy: 0.6318 - val_loss: 0.6732 - val_accuracy: 0.5447\n",
            "Epoch 20/40\n",
            "30/30 [==============================] - 72s 2s/step - loss: 0.6134 - accuracy: 0.6337 - val_loss: 0.6578 - val_accuracy: 0.6427\n",
            "Epoch 21/40\n",
            "30/30 [==============================] - 67s 2s/step - loss: 0.6123 - accuracy: 0.6469 - val_loss: 0.6322 - val_accuracy: 0.6581\n",
            "Epoch 22/40\n",
            "30/30 [==============================] - 71s 2s/step - loss: 0.5608 - accuracy: 0.7252 - val_loss: 0.6097 - val_accuracy: 0.6938\n",
            "Epoch 23/40\n",
            "30/30 [==============================] - 67s 2s/step - loss: 0.5604 - accuracy: 0.7205 - val_loss: 0.7153 - val_accuracy: 0.5320\n",
            "Epoch 24/40\n",
            "30/30 [==============================] - 69s 2s/step - loss: 0.6430 - accuracy: 0.5791 - val_loss: 0.6716 - val_accuracy: 0.5490\n",
            "Epoch 25/40\n",
            "30/30 [==============================] - 68s 2s/step - loss: 0.6113 - accuracy: 0.6206 - val_loss: 0.6660 - val_accuracy: 0.5593\n",
            "Epoch 26/40\n",
            "30/30 [==============================] - 68s 2s/step - loss: 0.5959 - accuracy: 0.6268 - val_loss: 0.6443 - val_accuracy: 0.6521\n",
            "Epoch 27/40\n",
            "30/30 [==============================] - 66s 2s/step - loss: 0.5944 - accuracy: 0.6678 - val_loss: 0.7531 - val_accuracy: 0.5325\n",
            "Epoch 28/40\n",
            "30/30 [==============================] - 64s 2s/step - loss: 0.6424 - accuracy: 0.5803 - val_loss: 0.6758 - val_accuracy: 0.5492\n",
            "Epoch 29/40\n",
            "30/30 [==============================] - 59s 2s/step - loss: 0.6146 - accuracy: 0.6196 - val_loss: 0.6698 - val_accuracy: 0.5539\n",
            "Epoch 30/40\n",
            "30/30 [==============================] - 58s 2s/step - loss: 0.5969 - accuracy: 0.6264 - val_loss: 0.6706 - val_accuracy: 0.5589\n",
            "Epoch 31/40\n",
            "30/30 [==============================] - 69s 2s/step - loss: 0.5934 - accuracy: 0.6248 - val_loss: 0.6722 - val_accuracy: 0.5588\n",
            "Epoch 32/40\n",
            "30/30 [==============================] - 65s 2s/step - loss: 0.5795 - accuracy: 0.6346 - val_loss: 0.6731 - val_accuracy: 0.5618\n",
            "Epoch 33/40\n",
            "30/30 [==============================] - 67s 2s/step - loss: 0.5747 - accuracy: 0.6429 - val_loss: 0.6738 - val_accuracy: 0.5664\n",
            "Epoch 34/40\n",
            "30/30 [==============================] - 68s 2s/step - loss: 0.5636 - accuracy: 0.6548 - val_loss: 0.6753 - val_accuracy: 0.5727\n",
            "Epoch 35/40\n",
            "30/30 [==============================] - 70s 2s/step - loss: 0.5543 - accuracy: 0.6597 - val_loss: 0.6724 - val_accuracy: 0.5876\n",
            "Epoch 36/40\n",
            "30/30 [==============================] - 68s 2s/step - loss: 0.5493 - accuracy: 0.6716 - val_loss: 0.6688 - val_accuracy: 0.6082\n",
            "Epoch 37/40\n",
            "30/30 [==============================] - 70s 2s/step - loss: 0.5352 - accuracy: 0.7053 - val_loss: 0.6649 - val_accuracy: 0.6320\n",
            "Epoch 38/40\n",
            "30/30 [==============================] - 66s 2s/step - loss: 0.5256 - accuracy: 0.7223 - val_loss: 0.6756 - val_accuracy: 0.6357\n",
            "Epoch 39/40\n",
            "30/30 [==============================] - 62s 2s/step - loss: 0.5257 - accuracy: 0.7264 - val_loss: 0.6652 - val_accuracy: 0.6705\n",
            "Epoch 40/40\n",
            "30/30 [==============================] - 71s 2s/step - loss: 0.5233 - accuracy: 0.7172 - val_loss: 0.6561 - val_accuracy: 0.6203\n"
          ],
          "name": "stdout"
        }
      ]
    },
    {
      "cell_type": "code",
      "metadata": {
        "id": "AZQub_FiqlSv",
        "colab": {
          "base_uri": "https://localhost:8080/"
        },
        "outputId": "c4a2a734-ba5b-46ab-98c1-09376b369415"
      },
      "source": [
        "# Model evaluation\n",
        "results = model3.evaluate(X_test_enc, y_test)"
      ],
      "execution_count": null,
      "outputs": [
        {
          "output_type": "stream",
          "text": [
            "782/782 [==============================] - 55s 70ms/step - loss: 0.6557 - accuracy: 0.6208\n"
          ],
          "name": "stdout"
        }
      ]
    },
    {
      "cell_type": "code",
      "metadata": {
        "id": "6EgnVbxmqlX2",
        "colab": {
          "base_uri": "https://localhost:8080/"
        },
        "outputId": "81bee51e-db74-438f-8f47-7a4ce10f660d"
      },
      "source": [
        "print (results)"
      ],
      "execution_count": null,
      "outputs": [
        {
          "output_type": "stream",
          "text": [
            "[0.6557224988937378, 0.6207600235939026]\n"
          ],
          "name": "stdout"
        }
      ]
    },
    {
      "cell_type": "code",
      "metadata": {
        "id": "VZ1niCE1TfOn",
        "colab": {
          "base_uri": "https://localhost:8080/",
          "height": 369
        },
        "outputId": "dc2f2653-bb2d-41e5-d07b-95e966a4a1da"
      },
      "source": [
        "from plot_keras_history import plot_history\n",
        "import matplotlib.pyplot as plt\n",
        "plot_history(history.history, path=\"standard.png\")\n",
        "plt.show()"
      ],
      "execution_count": null,
      "outputs": [
        {
          "output_type": "display_data",
          "data": {
            "image/png": "[encoded data removed]",
            "text/plain": [
              "<Figure size 720x360 with 2 Axes>"
            ]
          },
          "metadata": {
            "tags": [],
            "needs_background": "light"
          }
        }
      ]
    },
    {
      "cell_type": "markdown",
      "metadata": {
        "id": "XOqePi5-I1Xq"
      },
      "source": [
        "Experiment show that simply replacing the lab 2 model embeddings with pre-trained word embeddings (GloVe) will cause performance to drop significantly. \n",
        "What can you do to improve the situation?"
      ]
    },
    {
      "cell_type": "markdown",
      "metadata": {
        "id": "q9w70Q3Q_nWG"
      },
      "source": [
        "**<i> <font color ='darkblue'> GloVe pre-trained embeddings are not customized to the data specific to the domain of our problem and hence, we can fine-tune them by making the embeddings trainable so that they can model the data from the domain under consideration better. We may also try early stopping to avoid risk of overfitting. </font></i>**"
      ]
    },
    {
      "cell_type": "markdown",
      "metadata": {
        "id": "M-bZ5SCHiIMl"
      },
      "source": [
        "#  Model 4: Adding extra dense layer into Neural averaging network model"
      ]
    },
    {
      "cell_type": "markdown",
      "metadata": {
        "id": "G85QM3lSV7qp"
      },
      "source": [
        "We add extra dense layers into model 3-1 (neural network model) to evaluate extra dense layers' contribution. We start by adding one layer, then add two. All parameters are the same as model 3-1."
      ]
    },
    {
      "cell_type": "markdown",
      "metadata": {
        "id": "ExgX8bxpVgps"
      },
      "source": [
        "### Adding one extra dense layer"
      ]
    },
    {
      "cell_type": "code",
      "metadata": {
        "id": "dTgD_gMzXa1z",
        "colab": {
          "base_uri": "https://localhost:8080/"
        },
        "outputId": "f6a9f2a4-b016-419b-bd60-a8772a12d062"
      },
      "source": [
        "# Inspect model performance with 1 hidden layer, pre-trained embeddings\n",
        "from keras.layers import Input, Embedding, Dense, LSTM, Lambda\n",
        "from keras.models import Model\n",
        "embeddingLayer=createPretrainedEmbeddingLayer(wordToGlove,wordToIndex,isTrainable=True)\n",
        "input_layer = Input(shape=(256,))\n",
        "embedding_layer = embeddingLayer(input_layer)\n",
        "pooling_layer = GlobalAveragePooling1DMasked()(embedding_layer)\n",
        "extra_dense_layer = Dense(100)(pooling_layer)\n",
        "dense_layer = Dense(16)(extra_dense_layer)\n",
        "output_dense_layer = Dense(1, activation='sigmoid')(dense_layer)\n",
        "model4 = Model(inputs= input_layer, outputs=output_dense_layer)\n",
        "model4.compile('adam', 'binary_crossentropy', metrics=['accuracy'])\n",
        "model4.summary()"
      ],
      "execution_count": null,
      "outputs": [
        {
          "output_type": "stream",
          "text": [
            "Model: \"model_14\"\n",
            "_________________________________________________________________\n",
            "Layer (type)                 Output Shape              Param #   \n",
            "=================================================================\n",
            "input_15 (InputLayer)        [(None, 256)]             0         \n",
            "_________________________________________________________________\n",
            "GloVe_Embeddings (Embedding) (None, 256, 300)          120000300 \n",
            "_________________________________________________________________\n",
            "global_average_pooling1d_mas (None, 300)               0         \n",
            "_________________________________________________________________\n",
            "dense_27 (Dense)             (None, 100)               30100     \n",
            "_________________________________________________________________\n",
            "dense_28 (Dense)             (None, 16)                1616      \n",
            "_________________________________________________________________\n",
            "dense_29 (Dense)             (None, 1)                 17        \n",
            "=================================================================\n",
            "Total params: 120,032,033\n",
            "Trainable params: 120,032,033\n",
            "Non-trainable params: 0\n",
            "_________________________________________________________________\n"
          ],
          "name": "stdout"
        }
      ]
    },
    {
      "cell_type": "markdown",
      "metadata": {
        "id": "Dpt452o7W476"
      },
      "source": [
        "**<i> <font color ='darkblue'> We reuse the Neural bag of words model created in section 3-1 and add another dense layer to check if that improves the model performance. </font></i>**\n"
      ]
    },
    {
      "cell_type": "code",
      "metadata": {
        "id": "ZksC5QP25NFx",
        "colab": {
          "base_uri": "https://localhost:8080/"
        },
        "outputId": "d575607e-1ab7-4730-f5a6-3e29a66ac995"
      },
      "source": [
        "# Model training\n",
        "history = model4.fit(partial_X_train,\n",
        "                    partial_y_train,\n",
        "                    epochs=40,\n",
        "                    batch_size=512,\n",
        "                    validation_data=(X_val, y_val),\n",
        "                    verbose=1)"
      ],
      "execution_count": null,
      "outputs": [
        {
          "output_type": "stream",
          "text": [
            "Epoch 1/40\n",
            "30/30 [==============================] - 26s 831ms/step - loss: 0.6869 - accuracy: 0.5384 - val_loss: 0.6478 - val_accuracy: 0.6393\n",
            "Epoch 2/40\n",
            "30/30 [==============================] - 24s 810ms/step - loss: 0.6286 - accuracy: 0.6649 - val_loss: 0.5592 - val_accuracy: 0.7460\n",
            "Epoch 3/40\n",
            "30/30 [==============================] - 25s 820ms/step - loss: 0.5071 - accuracy: 0.7819 - val_loss: 0.4154 - val_accuracy: 0.8226\n",
            "Epoch 4/40\n",
            "30/30 [==============================] - 35s 1s/step - loss: 0.3583 - accuracy: 0.8543 - val_loss: 0.3487 - val_accuracy: 0.8541\n",
            "Epoch 5/40\n",
            "30/30 [==============================] - 27s 866ms/step - loss: 0.2798 - accuracy: 0.8893 - val_loss: 0.3162 - val_accuracy: 0.8686\n",
            "Epoch 6/40\n",
            "30/30 [==============================] - 24s 816ms/step - loss: 0.2255 - accuracy: 0.9133 - val_loss: 0.3509 - val_accuracy: 0.8564\n",
            "Epoch 7/40\n",
            "30/30 [==============================] - 24s 809ms/step - loss: 0.2099 - accuracy: 0.9191 - val_loss: 0.3051 - val_accuracy: 0.8767\n",
            "Epoch 8/40\n",
            "30/30 [==============================] - 24s 814ms/step - loss: 0.1532 - accuracy: 0.9456 - val_loss: 0.3140 - val_accuracy: 0.8805\n",
            "Epoch 9/40\n",
            "30/30 [==============================] - 24s 800ms/step - loss: 0.1261 - accuracy: 0.9561 - val_loss: 0.3353 - val_accuracy: 0.8784\n",
            "Epoch 10/40\n",
            "30/30 [==============================] - 24s 793ms/step - loss: 0.1109 - accuracy: 0.9609 - val_loss: 0.3514 - val_accuracy: 0.8788\n",
            "Epoch 11/40\n",
            "30/30 [==============================] - 24s 798ms/step - loss: 0.0921 - accuracy: 0.9717 - val_loss: 0.3959 - val_accuracy: 0.8745\n",
            "Epoch 12/40\n",
            "30/30 [==============================] - 24s 799ms/step - loss: 0.0805 - accuracy: 0.9729 - val_loss: 0.4082 - val_accuracy: 0.8753\n",
            "Epoch 13/40\n",
            "30/30 [==============================] - 24s 798ms/step - loss: 0.0646 - accuracy: 0.9822 - val_loss: 0.4329 - val_accuracy: 0.8714\n",
            "Epoch 14/40\n",
            "30/30 [==============================] - 24s 794ms/step - loss: 0.0484 - accuracy: 0.9880 - val_loss: 0.4744 - val_accuracy: 0.8704\n",
            "Epoch 15/40\n",
            "30/30 [==============================] - 24s 798ms/step - loss: 0.0393 - accuracy: 0.9908 - val_loss: 0.5136 - val_accuracy: 0.8685\n",
            "Epoch 16/40\n",
            "30/30 [==============================] - 24s 801ms/step - loss: 0.0316 - accuracy: 0.9938 - val_loss: 0.5599 - val_accuracy: 0.8646\n",
            "Epoch 17/40\n",
            "30/30 [==============================] - 24s 789ms/step - loss: 0.0254 - accuracy: 0.9951 - val_loss: 0.5968 - val_accuracy: 0.8652\n",
            "Epoch 18/40\n",
            "30/30 [==============================] - 24s 796ms/step - loss: 0.0198 - accuracy: 0.9973 - val_loss: 0.6419 - val_accuracy: 0.8634\n",
            "Epoch 19/40\n",
            "30/30 [==============================] - 24s 795ms/step - loss: 0.0161 - accuracy: 0.9979 - val_loss: 0.6828 - val_accuracy: 0.8631\n",
            "Epoch 20/40\n",
            "30/30 [==============================] - 24s 800ms/step - loss: 0.0107 - accuracy: 0.9991 - val_loss: 0.7245 - val_accuracy: 0.8635\n",
            "Epoch 21/40\n",
            "30/30 [==============================] - 24s 802ms/step - loss: 0.0098 - accuracy: 0.9989 - val_loss: 0.7674 - val_accuracy: 0.8640\n",
            "Epoch 22/40\n",
            "30/30 [==============================] - 24s 794ms/step - loss: 0.0068 - accuracy: 0.9996 - val_loss: 0.7996 - val_accuracy: 0.8615\n",
            "Epoch 23/40\n",
            "30/30 [==============================] - 24s 804ms/step - loss: 0.0062 - accuracy: 0.9996 - val_loss: 0.8305 - val_accuracy: 0.8619\n",
            "Epoch 24/40\n",
            "30/30 [==============================] - 24s 793ms/step - loss: 0.0045 - accuracy: 0.9998 - val_loss: 0.8625 - val_accuracy: 0.8608\n",
            "Epoch 25/40\n",
            "30/30 [==============================] - 27s 894ms/step - loss: 0.0043 - accuracy: 0.9997 - val_loss: 0.8898 - val_accuracy: 0.8605\n",
            "Epoch 26/40\n",
            "30/30 [==============================] - 26s 847ms/step - loss: 0.0033 - accuracy: 0.9998 - val_loss: 0.9184 - val_accuracy: 0.8608\n",
            "Epoch 27/40\n",
            "30/30 [==============================] - 24s 792ms/step - loss: 0.0028 - accuracy: 0.9999 - val_loss: 0.9426 - val_accuracy: 0.8609\n",
            "Epoch 28/40\n",
            "30/30 [==============================] - 23s 784ms/step - loss: 0.0024 - accuracy: 0.9999 - val_loss: 0.9648 - val_accuracy: 0.8598\n",
            "Epoch 29/40\n",
            "30/30 [==============================] - 24s 794ms/step - loss: 0.0022 - accuracy: 0.9997 - val_loss: 0.9881 - val_accuracy: 0.8597\n",
            "Epoch 30/40\n",
            "30/30 [==============================] - 24s 789ms/step - loss: 0.0020 - accuracy: 0.9999 - val_loss: 1.0098 - val_accuracy: 0.8595\n",
            "Epoch 31/40\n",
            "30/30 [==============================] - 24s 787ms/step - loss: 0.0017 - accuracy: 1.0000 - val_loss: 1.0288 - val_accuracy: 0.8592\n",
            "Epoch 32/40\n",
            "30/30 [==============================] - 24s 790ms/step - loss: 0.0014 - accuracy: 1.0000 - val_loss: 1.0470 - val_accuracy: 0.8589\n",
            "Epoch 33/40\n",
            "30/30 [==============================] - 24s 788ms/step - loss: 0.0016 - accuracy: 0.9999 - val_loss: 1.0702 - val_accuracy: 0.8600\n",
            "Epoch 34/40\n",
            "30/30 [==============================] - 24s 791ms/step - loss: 0.0012 - accuracy: 1.0000 - val_loss: 1.0837 - val_accuracy: 0.8601\n",
            "Epoch 35/40\n",
            "30/30 [==============================] - 23s 776ms/step - loss: 0.0012 - accuracy: 1.0000 - val_loss: 1.1020 - val_accuracy: 0.8585\n",
            "Epoch 36/40\n",
            "30/30 [==============================] - 23s 779ms/step - loss: 0.0011 - accuracy: 0.9999 - val_loss: 1.1190 - val_accuracy: 0.8587\n",
            "Epoch 37/40\n",
            "30/30 [==============================] - 23s 781ms/step - loss: 9.2746e-04 - accuracy: 1.0000 - val_loss: 1.1315 - val_accuracy: 0.8604\n",
            "Epoch 38/40\n",
            "30/30 [==============================] - 23s 774ms/step - loss: 9.6611e-04 - accuracy: 1.0000 - val_loss: 1.1463 - val_accuracy: 0.8594\n",
            "Epoch 39/40\n",
            "30/30 [==============================] - 23s 777ms/step - loss: 7.2352e-04 - accuracy: 1.0000 - val_loss: 1.1634 - val_accuracy: 0.8590\n",
            "Epoch 40/40\n",
            "30/30 [==============================] - 23s 772ms/step - loss: 7.1175e-04 - accuracy: 1.0000 - val_loss: 1.1756 - val_accuracy: 0.8584\n"
          ],
          "name": "stdout"
        }
      ]
    },
    {
      "cell_type": "code",
      "metadata": {
        "id": "g9CqmOUw5NIj",
        "colab": {
          "base_uri": "https://localhost:8080/"
        },
        "outputId": "1559e30a-0099-4675-c01c-6a3f28130d3a"
      },
      "source": [
        "# Model evaluation\n",
        "results = model4.evaluate(X_test_enc, y_test)"
      ],
      "execution_count": null,
      "outputs": [
        {
          "output_type": "stream",
          "text": [
            "782/782 [==============================] - 3s 4ms/step - loss: 1.2730 - accuracy: 0.8448\n"
          ],
          "name": "stdout"
        }
      ]
    },
    {
      "cell_type": "code",
      "metadata": {
        "id": "CxP3TE765Nga",
        "colab": {
          "base_uri": "https://localhost:8080/"
        },
        "outputId": "66152d25-0865-44dd-b17c-35390f41a30d"
      },
      "source": [
        "print (results)"
      ],
      "execution_count": null,
      "outputs": [
        {
          "output_type": "stream",
          "text": [
            "[1.2729591131210327, 0.8448399901390076]\n"
          ],
          "name": "stdout"
        }
      ]
    },
    {
      "cell_type": "code",
      "metadata": {
        "id": "cJgdxF1dTgW0",
        "colab": {
          "base_uri": "https://localhost:8080/",
          "height": 369
        },
        "outputId": "79f0e14b-03fd-4ffa-986b-033f77933509"
      },
      "source": [
        "# your code goes here\n",
        "\n",
        "from plot_keras_history import plot_history\n",
        "import matplotlib.pyplot as plt\n",
        "plot_history(history.history, path=\"standard.png\")\n",
        "plt.show()"
      ],
      "execution_count": null,
      "outputs": [
        {
          "output_type": "display_data",
          "data": {
            "image/png": "[encoded data removed]",
            "text/plain": [
              "<Figure size 720x360 with 2 Axes>"
            ]
          },
          "metadata": {
            "tags": [],
            "needs_background": "light"
          }
        }
      ]
    },
    {
      "cell_type": "markdown",
      "metadata": {
        "id": "siUuZde-BUg4"
      },
      "source": [
        "**<i> <font color ='darkblue'> We can observe that addition of one dense layer has improved the model performance. We now add another similar dense layer to check for performance enhancement.</font></i>**\n"
      ]
    },
    {
      "cell_type": "markdown",
      "metadata": {
        "id": "K0npTvFuVt5R"
      },
      "source": [
        "### Adding two extra dense layers"
      ]
    },
    {
      "cell_type": "code",
      "metadata": {
        "id": "PowyhyRqcdDA",
        "colab": {
          "base_uri": "https://localhost:8080/"
        },
        "outputId": "215bf22c-8ba3-4136-a404-0947ef030a74"
      },
      "source": [
        "# Inspect model performance with 1 hidden layer, pre-trained embeddings\n",
        "embeddingLayer=createPretrainedEmbeddingLayer(wordToGlove,wordToIndex,isTrainable=True)\n",
        "input_layer = Input(shape=(256,))\n",
        "embedding_layer = embeddingLayer(input_layer)\n",
        "pooling_layer = GlobalAveragePooling1DMasked()(embedding_layer)\n",
        "extra_dense_layer_1 = Dense(300)(pooling_layer)\n",
        "extra_dense_layer_2 = Dense(100)(extra_dense_layer_1)\n",
        "dense_layer = Dense(16)(extra_dense_layer_2)\n",
        "output_dense_layer = Dense(1, activation='sigmoid')(dense_layer)\n",
        "model4 = Model(inputs= input_layer, outputs=output_dense_layer)\n",
        "model4.compile('adam', 'binary_crossentropy', metrics=['accuracy'])\n",
        "model4.summary()"
      ],
      "execution_count": null,
      "outputs": [
        {
          "output_type": "stream",
          "text": [
            "Model: \"model_15\"\n",
            "_________________________________________________________________\n",
            "Layer (type)                 Output Shape              Param #   \n",
            "=================================================================\n",
            "input_16 (InputLayer)        [(None, 256)]             0         \n",
            "_________________________________________________________________\n",
            "GloVe_Embeddings (Embedding) (None, 256, 300)          120000300 \n",
            "_________________________________________________________________\n",
            "global_average_pooling1d_mas (None, 300)               0         \n",
            "_________________________________________________________________\n",
            "dense_30 (Dense)             (None, 300)               90300     \n",
            "_________________________________________________________________\n",
            "dense_31 (Dense)             (None, 100)               30100     \n",
            "_________________________________________________________________\n",
            "dense_32 (Dense)             (None, 16)                1616      \n",
            "_________________________________________________________________\n",
            "dense_33 (Dense)             (None, 1)                 17        \n",
            "=================================================================\n",
            "Total params: 120,122,333\n",
            "Trainable params: 120,122,333\n",
            "Non-trainable params: 0\n",
            "_________________________________________________________________\n"
          ],
          "name": "stdout"
        }
      ]
    },
    {
      "cell_type": "code",
      "metadata": {
        "id": "L_oaLZXr51KI",
        "colab": {
          "base_uri": "https://localhost:8080/"
        },
        "outputId": "c19ce08d-5721-4da4-d272-e0e9e0c54400"
      },
      "source": [
        "# Model training\n",
        "history = model4.fit(partial_X_train,\n",
        "                    partial_y_train,\n",
        "                    epochs=40,\n",
        "                    batch_size=512,\n",
        "                    validation_data=(X_val, y_val),\n",
        "                    verbose=1)"
      ],
      "execution_count": null,
      "outputs": [
        {
          "output_type": "stream",
          "text": [
            "Epoch 1/40\n",
            "30/30 [==============================] - 26s 819ms/step - loss: 0.6855 - accuracy: 0.5495 - val_loss: 0.6283 - val_accuracy: 0.6623\n",
            "Epoch 2/40\n",
            "30/30 [==============================] - 24s 794ms/step - loss: 0.5824 - accuracy: 0.7066 - val_loss: 0.4426 - val_accuracy: 0.7964\n",
            "Epoch 3/40\n",
            "30/30 [==============================] - 24s 796ms/step - loss: 0.3902 - accuracy: 0.8296 - val_loss: 0.3759 - val_accuracy: 0.8380\n",
            "Epoch 4/40\n",
            "30/30 [==============================] - 24s 791ms/step - loss: 0.2821 - accuracy: 0.8843 - val_loss: 0.3522 - val_accuracy: 0.8525\n",
            "Epoch 5/40\n",
            "30/30 [==============================] - 24s 786ms/step - loss: 0.2342 - accuracy: 0.9063 - val_loss: 0.3169 - val_accuracy: 0.8754\n",
            "Epoch 6/40\n",
            "30/30 [==============================] - 24s 798ms/step - loss: 0.1739 - accuracy: 0.9361 - val_loss: 0.3436 - val_accuracy: 0.8737\n",
            "Epoch 7/40\n",
            "30/30 [==============================] - 24s 797ms/step - loss: 0.1342 - accuracy: 0.9530 - val_loss: 0.3776 - val_accuracy: 0.8692\n",
            "Epoch 8/40\n",
            "30/30 [==============================] - 24s 791ms/step - loss: 0.0996 - accuracy: 0.9672 - val_loss: 0.4396 - val_accuracy: 0.8667\n",
            "Epoch 9/40\n",
            "30/30 [==============================] - 24s 794ms/step - loss: 0.0856 - accuracy: 0.9715 - val_loss: 0.4719 - val_accuracy: 0.8706\n",
            "Epoch 10/40\n",
            "30/30 [==============================] - 24s 794ms/step - loss: 0.0540 - accuracy: 0.9839 - val_loss: 0.5466 - val_accuracy: 0.8658\n",
            "Epoch 11/40\n",
            "30/30 [==============================] - 24s 789ms/step - loss: 0.0395 - accuracy: 0.9892 - val_loss: 0.6359 - val_accuracy: 0.8669\n",
            "Epoch 12/40\n",
            "30/30 [==============================] - 23s 783ms/step - loss: 0.0328 - accuracy: 0.9906 - val_loss: 1.2056 - val_accuracy: 0.8166\n",
            "Epoch 13/40\n",
            "30/30 [==============================] - 24s 785ms/step - loss: 0.1930 - accuracy: 0.9341 - val_loss: 0.6117 - val_accuracy: 0.8616\n",
            "Epoch 14/40\n",
            "30/30 [==============================] - 24s 785ms/step - loss: 0.0340 - accuracy: 0.9900 - val_loss: 0.6728 - val_accuracy: 0.8614\n",
            "Epoch 15/40\n",
            "30/30 [==============================] - 23s 777ms/step - loss: 0.0190 - accuracy: 0.9963 - val_loss: 0.7662 - val_accuracy: 0.8602\n",
            "Epoch 16/40\n",
            "30/30 [==============================] - 23s 775ms/step - loss: 0.0109 - accuracy: 0.9983 - val_loss: 0.8706 - val_accuracy: 0.8604\n",
            "Epoch 17/40\n",
            "30/30 [==============================] - 23s 769ms/step - loss: 0.0070 - accuracy: 0.9991 - val_loss: 0.9593 - val_accuracy: 0.8608\n",
            "Epoch 18/40\n",
            "30/30 [==============================] - 23s 768ms/step - loss: 0.0051 - accuracy: 0.9994 - val_loss: 1.0416 - val_accuracy: 0.8580\n",
            "Epoch 19/40\n",
            "30/30 [==============================] - 23s 766ms/step - loss: 0.0039 - accuracy: 0.9997 - val_loss: 1.1067 - val_accuracy: 0.8578\n",
            "Epoch 20/40\n",
            "30/30 [==============================] - 25s 823ms/step - loss: 0.0025 - accuracy: 0.9999 - val_loss: 1.1631 - val_accuracy: 0.8578\n",
            "Epoch 21/40\n",
            "30/30 [==============================] - 32s 1s/step - loss: 0.0018 - accuracy: 0.9999 - val_loss: 1.2112 - val_accuracy: 0.8586\n",
            "Epoch 22/40\n",
            "30/30 [==============================] - 24s 787ms/step - loss: 0.0014 - accuracy: 0.9999 - val_loss: 1.2503 - val_accuracy: 0.8590\n",
            "Epoch 23/40\n",
            "30/30 [==============================] - 23s 783ms/step - loss: 0.0012 - accuracy: 0.9999 - val_loss: 1.2933 - val_accuracy: 0.8581\n",
            "Epoch 24/40\n",
            "30/30 [==============================] - 24s 786ms/step - loss: 0.0011 - accuracy: 0.9998 - val_loss: 1.3297 - val_accuracy: 0.8582\n",
            "Epoch 25/40\n",
            "30/30 [==============================] - 23s 777ms/step - loss: 8.3298e-04 - accuracy: 1.0000 - val_loss: 1.3603 - val_accuracy: 0.8579\n",
            "Epoch 26/40\n",
            "30/30 [==============================] - 24s 786ms/step - loss: 6.2617e-04 - accuracy: 1.0000 - val_loss: 1.3867 - val_accuracy: 0.8584\n",
            "Epoch 27/40\n",
            "30/30 [==============================] - 24s 790ms/step - loss: 7.1832e-04 - accuracy: 0.9999 - val_loss: 1.4177 - val_accuracy: 0.8578\n",
            "Epoch 28/40\n",
            "30/30 [==============================] - 23s 776ms/step - loss: 5.6610e-04 - accuracy: 0.9999 - val_loss: 1.4435 - val_accuracy: 0.8575\n",
            "Epoch 29/40\n",
            "30/30 [==============================] - 23s 772ms/step - loss: 4.6368e-04 - accuracy: 1.0000 - val_loss: 1.4690 - val_accuracy: 0.8577\n",
            "Epoch 30/40\n",
            "30/30 [==============================] - 23s 774ms/step - loss: 4.3069e-04 - accuracy: 1.0000 - val_loss: 1.4915 - val_accuracy: 0.8575\n",
            "Epoch 31/40\n",
            "30/30 [==============================] - 23s 774ms/step - loss: 5.0963e-04 - accuracy: 0.9998 - val_loss: 1.5155 - val_accuracy: 0.8575\n",
            "Epoch 32/40\n",
            "30/30 [==============================] - 23s 779ms/step - loss: 3.5362e-04 - accuracy: 1.0000 - val_loss: 1.5389 - val_accuracy: 0.8571\n",
            "Epoch 33/40\n",
            "30/30 [==============================] - 23s 775ms/step - loss: 3.1583e-04 - accuracy: 1.0000 - val_loss: 1.5612 - val_accuracy: 0.8578\n",
            "Epoch 34/40\n",
            "30/30 [==============================] - 23s 762ms/step - loss: 3.5903e-04 - accuracy: 0.9999 - val_loss: 1.5810 - val_accuracy: 0.8577\n",
            "Epoch 35/40\n",
            "30/30 [==============================] - 23s 758ms/step - loss: 2.2899e-04 - accuracy: 1.0000 - val_loss: 1.5997 - val_accuracy: 0.8568\n",
            "Epoch 36/40\n",
            "30/30 [==============================] - 23s 765ms/step - loss: 2.1052e-04 - accuracy: 1.0000 - val_loss: 1.6142 - val_accuracy: 0.8571\n",
            "Epoch 37/40\n",
            "30/30 [==============================] - 23s 767ms/step - loss: 2.4426e-04 - accuracy: 1.0000 - val_loss: 1.6328 - val_accuracy: 0.8572\n",
            "Epoch 38/40\n",
            "30/30 [==============================] - 23s 752ms/step - loss: 1.9667e-04 - accuracy: 1.0000 - val_loss: 1.6541 - val_accuracy: 0.8563\n",
            "Epoch 39/40\n",
            "30/30 [==============================] - 23s 757ms/step - loss: 1.6327e-04 - accuracy: 1.0000 - val_loss: 1.6685 - val_accuracy: 0.8566\n",
            "Epoch 40/40\n",
            "30/30 [==============================] - 22s 747ms/step - loss: 1.5540e-04 - accuracy: 1.0000 - val_loss: 1.6842 - val_accuracy: 0.8564\n"
          ],
          "name": "stdout"
        }
      ]
    },
    {
      "cell_type": "code",
      "metadata": {
        "id": "-PcUUvT-51ON",
        "colab": {
          "base_uri": "https://localhost:8080/"
        },
        "outputId": "70f07cba-3fbd-4d8c-c825-2ecf0f9069d6"
      },
      "source": [
        "# Model evaluation\n",
        "results = model4.evaluate(X_test_enc, y_test)"
      ],
      "execution_count": null,
      "outputs": [
        {
          "output_type": "stream",
          "text": [
            "782/782 [==============================] - 3s 4ms/step - loss: 1.8261 - accuracy: 0.8420\n"
          ],
          "name": "stdout"
        }
      ]
    },
    {
      "cell_type": "code",
      "metadata": {
        "id": "fWNYuhSh51ax",
        "colab": {
          "base_uri": "https://localhost:8080/"
        },
        "outputId": "5a83a8f0-0722-4543-9935-6b068bceb8a7"
      },
      "source": [
        "print (results)"
      ],
      "execution_count": null,
      "outputs": [
        {
          "output_type": "stream",
          "text": [
            "[1.8260945081710815, 0.8419600129127502]\n"
          ],
          "name": "stdout"
        }
      ]
    },
    {
      "cell_type": "code",
      "metadata": {
        "id": "0iPPFKL4TkVT",
        "colab": {
          "base_uri": "https://localhost:8080/",
          "height": 369
        },
        "outputId": "8cc19bc3-f572-44a2-8c02-078411087526"
      },
      "source": [
        "from plot_keras_history import plot_history\n",
        "import matplotlib.pyplot as plt\n",
        "plot_history(history.history, path=\"standard.png\")\n",
        "plt.show()"
      ],
      "execution_count": null,
      "outputs": [
        {
          "output_type": "display_data",
          "data": {
            "image/png": "[encoded data removed]",
            "text/plain": [
              "<Figure size 720x360 with 2 Axes>"
            ]
          },
          "metadata": {
            "tags": [],
            "needs_background": "light"
          }
        }
      ]
    },
    {
      "cell_type": "markdown",
      "metadata": {
        "id": "XisS32PaTATf"
      },
      "source": [
        "These two experiments show that adding extra dense layers can slightly improve accuracy over model 3-1.\n",
        "\n",
        "---\n",
        "\n"
      ]
    },
    {
      "cell_type": "markdown",
      "metadata": {
        "id": "eusu_Xu8cciN"
      },
      "source": [
        "\n",
        "\n",
        "**<i> <font color ='darkblue'>Adding extra layers to the model improved accuracy because a deeper network is better able to learn more complex functions than shallower networks with the same number of neurons. We notice that the training loss has decreased significantly but there is a difference in the accuracy plots between training accuracy and validation accuracy with the similar difference between the accuracy for training and test set suggesting a scope for overfitting. Measures to prevent overfitting must be considered so that the complex model does not start learning in noise and is still able to generalize well.</font></i>**"
      ]
    },
    {
      "cell_type": "markdown",
      "metadata": {
        "id": "CrfC9Mu-RHID"
      },
      "source": [
        "#  Model 5: CNN for Text Classification"
      ]
    },
    {
      "cell_type": "markdown",
      "metadata": {
        "id": "EPaFmFk1BMFf"
      },
      "source": [
        "In this section, we build a Convolutional Neural Network (CNN) for text classification. We start by using one CNN layer and then adding another layer. You could use embeddings from pre-trained or scratch."
      ]
    },
    {
      "cell_type": "markdown",
      "metadata": {
        "id": "zjOJrGCzwGM5"
      },
      "source": [
        "##  Model 5-1: Basic CNN model for Text Classification "
      ]
    },
    {
      "cell_type": "code",
      "metadata": {
        "id": "rXBstOw0sCYF",
        "colab": {
          "base_uri": "https://localhost:8080/"
        },
        "outputId": "e110d2d6-80a1-4b7e-b961-0493de8d9463"
      },
      "source": [
        "hidden_layer=16\n",
        "embeddingLayer=createPretrainedEmbeddingLayer(wordToGlove,wordToIndex,isTrainable=False)\n",
        "input_layer = Input(shape=(256,))\n",
        "embedding_layer = embeddingLayer(input_layer)\n",
        "cnn_layer = keras.layers.Conv1D(100, 6)(embedding_layer)\n",
        "pooling_layer = GlobalMaxPooling1D()(cnn_layer)\n",
        "output_dense_layer = Dense(1, activation='sigmoid')(pooling_layer)\n",
        "model5 = Model(inputs= input_layer, outputs=output_dense_layer)\n",
        "model5.compile('adam', 'binary_crossentropy', metrics=['accuracy'])\n",
        "model5.summary()"
      ],
      "execution_count": null,
      "outputs": [
        {
          "output_type": "stream",
          "text": [
            "Model: \"model_16\"\n",
            "_________________________________________________________________\n",
            "Layer (type)                 Output Shape              Param #   \n",
            "=================================================================\n",
            "input_17 (InputLayer)        [(None, 256)]             0         \n",
            "_________________________________________________________________\n",
            "GloVe_Embeddings (Embedding) (None, 256, 300)          120000300 \n",
            "_________________________________________________________________\n",
            "conv1d_3 (Conv1D)            (None, 251, 100)          180100    \n",
            "_________________________________________________________________\n",
            "global_max_pooling1d_2 (Glob (None, 100)               0         \n",
            "_________________________________________________________________\n",
            "dense_34 (Dense)             (None, 1)                 101       \n",
            "=================================================================\n",
            "Total params: 120,180,501\n",
            "Trainable params: 180,201\n",
            "Non-trainable params: 120,000,300\n",
            "_________________________________________________________________\n"
          ],
          "name": "stdout"
        }
      ]
    },
    {
      "cell_type": "markdown",
      "metadata": {
        "id": "yJbswKe7XzH0"
      },
      "source": [
        "**<i> <font color ='darkblue'> In this section, we create a CNN model by adding a convolution layer while we continue to use pre-trained GloVe word embeddings. For our CNN layer, we have 100 output filters and each filter is of size 6.</font></i>**\n"
      ]
    },
    {
      "cell_type": "code",
      "metadata": {
        "id": "-G5MrDPJFBzK",
        "colab": {
          "base_uri": "https://localhost:8080/"
        },
        "outputId": "a104a457-66a5-4950-eb66-d792060c10d1"
      },
      "source": [
        "# Model training\n",
        "history = model5.fit(partial_X_train,\n",
        "                    partial_y_train,\n",
        "                    epochs=40,\n",
        "                    batch_size=512,\n",
        "                    validation_data=(X_val, y_val),\n",
        "                    verbose=1)"
      ],
      "execution_count": null,
      "outputs": [
        {
          "output_type": "stream",
          "text": [
            "Epoch 1/40\n",
            "30/30 [==============================] - 45s 1s/step - loss: 1.1214 - accuracy: 0.5088 - val_loss: 0.6664 - val_accuracy: 0.5947\n",
            "Epoch 2/40\n",
            "30/30 [==============================] - 44s 1s/step - loss: 0.5873 - accuracy: 0.6974 - val_loss: 0.5760 - val_accuracy: 0.7050\n",
            "Epoch 3/40\n",
            "30/30 [==============================] - 45s 1s/step - loss: 0.5032 - accuracy: 0.7900 - val_loss: 0.5353 - val_accuracy: 0.7378\n",
            "Epoch 4/40\n",
            "30/30 [==============================] - 45s 1s/step - loss: 0.4372 - accuracy: 0.8409 - val_loss: 0.5076 - val_accuracy: 0.7551\n",
            "Epoch 5/40\n",
            "30/30 [==============================] - 44s 1s/step - loss: 0.3942 - accuracy: 0.8723 - val_loss: 0.4867 - val_accuracy: 0.7689\n",
            "Epoch 6/40\n",
            "30/30 [==============================] - 45s 1s/step - loss: 0.3563 - accuracy: 0.8897 - val_loss: 0.4661 - val_accuracy: 0.7806\n",
            "Epoch 7/40\n",
            "30/30 [==============================] - 44s 1s/step - loss: 0.3157 - accuracy: 0.9147 - val_loss: 0.4558 - val_accuracy: 0.7865\n",
            "Epoch 8/40\n",
            "30/30 [==============================] - 44s 1s/step - loss: 0.2862 - accuracy: 0.9282 - val_loss: 0.4449 - val_accuracy: 0.7898\n",
            "Epoch 9/40\n",
            "30/30 [==============================] - 45s 2s/step - loss: 0.2592 - accuracy: 0.9428 - val_loss: 0.4443 - val_accuracy: 0.7857\n",
            "Epoch 10/40\n",
            "30/30 [==============================] - 44s 1s/step - loss: 0.2276 - accuracy: 0.9575 - val_loss: 0.4296 - val_accuracy: 0.7999\n",
            "Epoch 11/40\n",
            "30/30 [==============================] - 44s 1s/step - loss: 0.2050 - accuracy: 0.9668 - val_loss: 0.4285 - val_accuracy: 0.7998\n",
            "Epoch 12/40\n",
            "30/30 [==============================] - 44s 1s/step - loss: 0.1841 - accuracy: 0.9758 - val_loss: 0.4312 - val_accuracy: 0.7973\n",
            "Epoch 13/40\n",
            "30/30 [==============================] - 44s 1s/step - loss: 0.1665 - accuracy: 0.9795 - val_loss: 0.4215 - val_accuracy: 0.8043\n",
            "Epoch 14/40\n",
            "30/30 [==============================] - 44s 1s/step - loss: 0.1443 - accuracy: 0.9887 - val_loss: 0.4154 - val_accuracy: 0.8061\n",
            "Epoch 15/40\n",
            "30/30 [==============================] - 44s 1s/step - loss: 0.1269 - accuracy: 0.9936 - val_loss: 0.4184 - val_accuracy: 0.8042\n",
            "Epoch 16/40\n",
            "30/30 [==============================] - 44s 1s/step - loss: 0.1140 - accuracy: 0.9947 - val_loss: 0.4150 - val_accuracy: 0.8057\n",
            "Epoch 17/40\n",
            "30/30 [==============================] - 44s 1s/step - loss: 0.0997 - accuracy: 0.9977 - val_loss: 0.4175 - val_accuracy: 0.8050\n",
            "Epoch 18/40\n",
            "30/30 [==============================] - 44s 1s/step - loss: 0.0890 - accuracy: 0.9992 - val_loss: 0.4139 - val_accuracy: 0.8099\n",
            "Epoch 19/40\n",
            "30/30 [==============================] - 44s 1s/step - loss: 0.0803 - accuracy: 0.9992 - val_loss: 0.4160 - val_accuracy: 0.8090\n",
            "Epoch 20/40\n",
            "30/30 [==============================] - 44s 1s/step - loss: 0.0697 - accuracy: 0.9996 - val_loss: 0.4220 - val_accuracy: 0.8068\n",
            "Epoch 21/40\n",
            "30/30 [==============================] - 44s 1s/step - loss: 0.0622 - accuracy: 0.9999 - val_loss: 0.4211 - val_accuracy: 0.8074\n",
            "Epoch 22/40\n",
            "30/30 [==============================] - 44s 1s/step - loss: 0.0551 - accuracy: 0.9999 - val_loss: 0.4217 - val_accuracy: 0.8107\n",
            "Epoch 23/40\n",
            "30/30 [==============================] - 44s 1s/step - loss: 0.0486 - accuracy: 0.9999 - val_loss: 0.4230 - val_accuracy: 0.8135\n",
            "Epoch 24/40\n",
            "30/30 [==============================] - 44s 1s/step - loss: 0.0450 - accuracy: 1.0000 - val_loss: 0.4323 - val_accuracy: 0.8060\n",
            "Epoch 25/40\n",
            "30/30 [==============================] - 45s 2s/step - loss: 0.0406 - accuracy: 1.0000 - val_loss: 0.4285 - val_accuracy: 0.8121\n",
            "Epoch 26/40\n",
            "30/30 [==============================] - 44s 1s/step - loss: 0.0363 - accuracy: 1.0000 - val_loss: 0.4320 - val_accuracy: 0.8116\n",
            "Epoch 27/40\n",
            "30/30 [==============================] - 44s 1s/step - loss: 0.0330 - accuracy: 1.0000 - val_loss: 0.4347 - val_accuracy: 0.8127\n",
            "Epoch 28/40\n",
            "30/30 [==============================] - 45s 2s/step - loss: 0.0303 - accuracy: 1.0000 - val_loss: 0.4368 - val_accuracy: 0.8126\n",
            "Epoch 29/40\n",
            "30/30 [==============================] - 44s 1s/step - loss: 0.0277 - accuracy: 1.0000 - val_loss: 0.4396 - val_accuracy: 0.8138\n",
            "Epoch 30/40\n",
            "30/30 [==============================] - 44s 1s/step - loss: 0.0250 - accuracy: 1.0000 - val_loss: 0.4425 - val_accuracy: 0.8138\n",
            "Epoch 31/40\n",
            "30/30 [==============================] - 45s 1s/step - loss: 0.0232 - accuracy: 1.0000 - val_loss: 0.4448 - val_accuracy: 0.8148\n",
            "Epoch 32/40\n",
            "30/30 [==============================] - 45s 1s/step - loss: 0.0214 - accuracy: 1.0000 - val_loss: 0.4490 - val_accuracy: 0.8126\n",
            "Epoch 33/40\n",
            "30/30 [==============================] - 44s 1s/step - loss: 0.0199 - accuracy: 1.0000 - val_loss: 0.4521 - val_accuracy: 0.8122\n",
            "Epoch 34/40\n",
            "30/30 [==============================] - 45s 1s/step - loss: 0.0185 - accuracy: 1.0000 - val_loss: 0.4549 - val_accuracy: 0.8119\n",
            "Epoch 35/40\n",
            "30/30 [==============================] - 44s 1s/step - loss: 0.0171 - accuracy: 1.0000 - val_loss: 0.4567 - val_accuracy: 0.8141\n",
            "Epoch 36/40\n",
            "30/30 [==============================] - 44s 1s/step - loss: 0.0159 - accuracy: 1.0000 - val_loss: 0.4593 - val_accuracy: 0.8126\n",
            "Epoch 37/40\n",
            "30/30 [==============================] - 44s 1s/step - loss: 0.0148 - accuracy: 1.0000 - val_loss: 0.4616 - val_accuracy: 0.8149\n",
            "Epoch 38/40\n",
            "30/30 [==============================] - 44s 1s/step - loss: 0.0138 - accuracy: 1.0000 - val_loss: 0.4648 - val_accuracy: 0.8141\n",
            "Epoch 39/40\n",
            "30/30 [==============================] - 44s 1s/step - loss: 0.0130 - accuracy: 1.0000 - val_loss: 0.4668 - val_accuracy: 0.8158\n",
            "Epoch 40/40\n",
            "30/30 [==============================] - 44s 1s/step - loss: 0.0123 - accuracy: 1.0000 - val_loss: 0.4693 - val_accuracy: 0.8161\n"
          ],
          "name": "stdout"
        }
      ]
    },
    {
      "cell_type": "code",
      "metadata": {
        "id": "351UXyh2UTDp",
        "colab": {
          "base_uri": "https://localhost:8080/"
        },
        "outputId": "5c4f1d32-cc1c-4f8d-e55a-75c2e29a0fd7"
      },
      "source": [
        "#Model evaluation\n",
        "results = model5.evaluate(X_test_enc, y_test)"
      ],
      "execution_count": null,
      "outputs": [
        {
          "output_type": "stream",
          "text": [
            "782/782 [==============================] - 26s 33ms/step - loss: 0.4595 - accuracy: 0.8188\n"
          ],
          "name": "stdout"
        }
      ]
    },
    {
      "cell_type": "code",
      "metadata": {
        "id": "cFiJWpBRUTOj",
        "colab": {
          "base_uri": "https://localhost:8080/"
        },
        "outputId": "0a0e340b-dc15-4b07-b0f1-dfdd66af4f04"
      },
      "source": [
        "print (results)"
      ],
      "execution_count": null,
      "outputs": [
        {
          "output_type": "stream",
          "text": [
            "[0.4595050811767578, 0.8187599778175354]\n"
          ],
          "name": "stdout"
        }
      ]
    },
    {
      "cell_type": "code",
      "metadata": {
        "id": "8nvkxunysjhr",
        "colab": {
          "base_uri": "https://localhost:8080/",
          "height": 282
        },
        "outputId": "bafd3f6f-881b-4788-b3ee-79afe76ecd5d"
      },
      "source": [
        "from plot_keras_history import plot_history\n",
        "import matplotlib.pyplot as plt\n",
        "#plot_history(history.history['loss'], path=\"standard.png\")\n",
        "plt.plot(history.history['loss'],'o')"
      ],
      "execution_count": null,
      "outputs": [
        {
          "output_type": "execute_result",
          "data": {
            "text/plain": [
              "[<matplotlib.lines.Line2D at 0x7f10c94bcb50>]"
            ]
          },
          "metadata": {
            "tags": []
          },
          "execution_count": 129
        },
        {
          "output_type": "display_data",
          "data": {
            "image/png": "[encoded data removed]",
            "text/plain": [
              "<Figure size 432x288 with 1 Axes>"
            ]
          },
          "metadata": {
            "tags": [],
            "needs_background": "light"
          }
        }
      ]
    },
    {
      "cell_type": "code",
      "metadata": {
        "id": "6_kq7fWNy7Pa",
        "colab": {
          "base_uri": "https://localhost:8080/",
          "height": 369
        },
        "outputId": "69eef37b-23d1-4987-b97d-842059b410d5"
      },
      "source": [
        "\n",
        "from plot_keras_history import plot_history\n",
        "import matplotlib.pyplot as plt\n",
        "plot_history(history.history, path=\"standard.png\")"
      ],
      "execution_count": null,
      "outputs": [
        {
          "output_type": "display_data",
          "data": {
            "image/png": "[encoded data removed]",
            "text/plain": [
              "<Figure size 720x360 with 2 Axes>"
            ]
          },
          "metadata": {
            "tags": [],
            "needs_background": "light"
          }
        }
      ]
    },
    {
      "cell_type": "markdown",
      "metadata": {
        "id": "XkQMLxw-wWG6"
      },
      "source": [
        "## Model 5-2: Adding extra convolutional layer"
      ]
    },
    {
      "cell_type": "code",
      "metadata": {
        "id": "7nvF662HOoqg",
        "colab": {
          "base_uri": "https://localhost:8080/"
        },
        "outputId": "c5d3b93e-4216-4515-dbc8-f1a2c391b5fa"
      },
      "source": [
        "embeddingLayer=createPretrainedEmbeddingLayer(wordToGlove,wordToIndex,isTrainable=False)\n",
        "input_layer = Input(shape=(256,))\n",
        "embedding_layer = embeddingLayer(input_layer)\n",
        "cnn_layer = keras.layers.Conv1D(100, 6)(embedding_layer)\n",
        "cnn_layer_2 = keras.layers.Conv1D(100, 6)(cnn_layer)\n",
        "pooling_layer = GlobalMaxPooling1D()(cnn_layer_2)\n",
        "output_dense_layer = Dense(1, activation='sigmoid')(pooling_layer)\n",
        "model5 = Model(inputs= input_layer, outputs=output_dense_layer)\n",
        "model5.compile('adam', 'binary_crossentropy', metrics=['accuracy'])\n",
        "model5.summary()y"
      ],
      "execution_count": null,
      "outputs": [
        {
          "output_type": "stream",
          "text": [
            "Model: \"model_17\"\n",
            "_________________________________________________________________\n",
            "Layer (type)                 Output Shape              Param #   \n",
            "=================================================================\n",
            "input_18 (InputLayer)        [(None, 256)]             0         \n",
            "_________________________________________________________________\n",
            "GloVe_Embeddings (Embedding) (None, 256, 300)          120000300 \n",
            "_________________________________________________________________\n",
            "conv1d_4 (Conv1D)            (None, 251, 100)          180100    \n",
            "_________________________________________________________________\n",
            "conv1d_5 (Conv1D)            (None, 246, 100)          60100     \n",
            "_________________________________________________________________\n",
            "global_max_pooling1d_3 (Glob (None, 100)               0         \n",
            "_________________________________________________________________\n",
            "dense_35 (Dense)             (None, 1)                 101       \n",
            "=================================================================\n",
            "Total params: 120,240,601\n",
            "Trainable params: 240,301\n",
            "Non-trainable params: 120,000,300\n",
            "_________________________________________________________________\n"
          ],
          "name": "stdout"
        }
      ]
    },
    {
      "cell_type": "markdown",
      "metadata": {
        "id": "FWkkazdKYEbL"
      },
      "source": [
        "**<i> <font color ='darkblue'> In the previous section, we received good results  for CNN model on test data. We now try to improve the accuracy by using an additional convolution layer keeping the configurations same. </font></i>**\n"
      ]
    },
    {
      "cell_type": "code",
      "metadata": {
        "id": "hx8JLl4xPlua",
        "colab": {
          "base_uri": "https://localhost:8080/"
        },
        "outputId": "a29824d2-b376-45a7-a633-8317e595d1c0"
      },
      "source": [
        "# Model training\n",
        "history2 = model5.fit(partial_X_train,\n",
        "                    partial_y_train,\n",
        "                    epochs=40,\n",
        "                    batch_size=512,\n",
        "                    validation_data=(X_val, y_val),\n",
        "                    verbose=1)\n"
      ],
      "execution_count": null,
      "outputs": [
        {
          "output_type": "stream",
          "text": [
            "Epoch 1/40\n",
            "30/30 [==============================] - 79s 3s/step - loss: 0.8223 - accuracy: 0.5314 - val_loss: 0.6325 - val_accuracy: 0.6420\n",
            "Epoch 2/40\n",
            "30/30 [==============================] - 61s 2s/step - loss: 0.5526 - accuracy: 0.7492 - val_loss: 0.5604 - val_accuracy: 0.7197\n",
            "Epoch 3/40\n",
            "30/30 [==============================] - 61s 2s/step - loss: 0.4420 - accuracy: 0.8402 - val_loss: 0.5087 - val_accuracy: 0.7496\n",
            "Epoch 4/40\n",
            "30/30 [==============================] - 61s 2s/step - loss: 0.3599 - accuracy: 0.8855 - val_loss: 0.4887 - val_accuracy: 0.7597\n",
            "Epoch 5/40\n",
            "30/30 [==============================] - 61s 2s/step - loss: 0.3119 - accuracy: 0.8962 - val_loss: 0.4692 - val_accuracy: 0.7743\n",
            "Epoch 6/40\n",
            "30/30 [==============================] - 61s 2s/step - loss: 0.2602 - accuracy: 0.9333 - val_loss: 0.4513 - val_accuracy: 0.7829\n",
            "Epoch 7/40\n",
            "30/30 [==============================] - 61s 2s/step - loss: 0.2138 - accuracy: 0.9586 - val_loss: 0.4884 - val_accuracy: 0.7629\n",
            "Epoch 8/40\n",
            "30/30 [==============================] - 61s 2s/step - loss: 0.1823 - accuracy: 0.9686 - val_loss: 0.4662 - val_accuracy: 0.7797\n",
            "Epoch 9/40\n",
            "30/30 [==============================] - 61s 2s/step - loss: 0.1509 - accuracy: 0.9842 - val_loss: 0.4477 - val_accuracy: 0.7879\n",
            "Epoch 10/40\n",
            "30/30 [==============================] - 61s 2s/step - loss: 0.1203 - accuracy: 0.9948 - val_loss: 0.4454 - val_accuracy: 0.7884\n",
            "Epoch 11/40\n",
            "30/30 [==============================] - 61s 2s/step - loss: 0.1003 - accuracy: 0.9971 - val_loss: 0.4524 - val_accuracy: 0.7874\n",
            "Epoch 12/40\n",
            "30/30 [==============================] - 61s 2s/step - loss: 0.0815 - accuracy: 0.9990 - val_loss: 0.4568 - val_accuracy: 0.7923\n",
            "Epoch 13/40\n",
            "30/30 [==============================] - 61s 2s/step - loss: 0.0663 - accuracy: 0.9999 - val_loss: 0.4594 - val_accuracy: 0.7910\n",
            "Epoch 14/40\n",
            "30/30 [==============================] - 61s 2s/step - loss: 0.0557 - accuracy: 0.9999 - val_loss: 0.4661 - val_accuracy: 0.7905\n",
            "Epoch 15/40\n",
            "30/30 [==============================] - 61s 2s/step - loss: 0.0465 - accuracy: 1.0000 - val_loss: 0.4723 - val_accuracy: 0.7926\n",
            "Epoch 16/40\n",
            "30/30 [==============================] - 60s 2s/step - loss: 0.0380 - accuracy: 1.0000 - val_loss: 0.4775 - val_accuracy: 0.7916\n",
            "Epoch 17/40\n",
            "30/30 [==============================] - 60s 2s/step - loss: 0.0319 - accuracy: 1.0000 - val_loss: 0.4859 - val_accuracy: 0.7918\n",
            "Epoch 18/40\n",
            "30/30 [==============================] - 60s 2s/step - loss: 0.0267 - accuracy: 1.0000 - val_loss: 0.4908 - val_accuracy: 0.7937\n",
            "Epoch 19/40\n",
            "30/30 [==============================] - 61s 2s/step - loss: 0.0239 - accuracy: 1.0000 - val_loss: 0.4979 - val_accuracy: 0.7918\n",
            "Epoch 20/40\n",
            "30/30 [==============================] - 60s 2s/step - loss: 0.0201 - accuracy: 1.0000 - val_loss: 0.5047 - val_accuracy: 0.7918\n",
            "Epoch 21/40\n",
            "30/30 [==============================] - 60s 2s/step - loss: 0.0179 - accuracy: 1.0000 - val_loss: 0.5115 - val_accuracy: 0.7944\n",
            "Epoch 22/40\n",
            "30/30 [==============================] - 60s 2s/step - loss: 0.0156 - accuracy: 1.0000 - val_loss: 0.5176 - val_accuracy: 0.7938\n",
            "Epoch 23/40\n",
            "30/30 [==============================] - 60s 2s/step - loss: 0.0138 - accuracy: 1.0000 - val_loss: 0.5248 - val_accuracy: 0.7938\n",
            "Epoch 24/40\n",
            "30/30 [==============================] - 60s 2s/step - loss: 0.0123 - accuracy: 1.0000 - val_loss: 0.5283 - val_accuracy: 0.7932\n",
            "Epoch 25/40\n",
            "30/30 [==============================] - 60s 2s/step - loss: 0.0110 - accuracy: 1.0000 - val_loss: 0.5358 - val_accuracy: 0.7942\n",
            "Epoch 26/40\n",
            "30/30 [==============================] - 60s 2s/step - loss: 0.0102 - accuracy: 1.0000 - val_loss: 0.5408 - val_accuracy: 0.7933\n",
            "Epoch 27/40\n",
            "30/30 [==============================] - 60s 2s/step - loss: 0.0091 - accuracy: 1.0000 - val_loss: 0.5468 - val_accuracy: 0.7943\n",
            "Epoch 28/40\n",
            "30/30 [==============================] - 62s 2s/step - loss: 0.0081 - accuracy: 1.0000 - val_loss: 0.5522 - val_accuracy: 0.7912\n",
            "Epoch 29/40\n",
            "30/30 [==============================] - 60s 2s/step - loss: 0.0076 - accuracy: 1.0000 - val_loss: 0.5557 - val_accuracy: 0.7927\n",
            "Epoch 30/40\n",
            "30/30 [==============================] - 60s 2s/step - loss: 0.0068 - accuracy: 1.0000 - val_loss: 0.5615 - val_accuracy: 0.7932\n",
            "Epoch 31/40\n",
            "30/30 [==============================] - 60s 2s/step - loss: 0.0064 - accuracy: 1.0000 - val_loss: 0.5675 - val_accuracy: 0.7916\n",
            "Epoch 32/40\n",
            "30/30 [==============================] - 60s 2s/step - loss: 0.0058 - accuracy: 1.0000 - val_loss: 0.5708 - val_accuracy: 0.7938\n",
            "Epoch 33/40\n",
            "30/30 [==============================] - 61s 2s/step - loss: 0.0054 - accuracy: 1.0000 - val_loss: 0.5752 - val_accuracy: 0.7932\n",
            "Epoch 34/40\n",
            "30/30 [==============================] - 60s 2s/step - loss: 0.0050 - accuracy: 1.0000 - val_loss: 0.5804 - val_accuracy: 0.7924\n",
            "Epoch 35/40\n",
            "30/30 [==============================] - 60s 2s/step - loss: 0.0047 - accuracy: 1.0000 - val_loss: 0.5842 - val_accuracy: 0.7928\n",
            "Epoch 36/40\n",
            "30/30 [==============================] - 60s 2s/step - loss: 0.0044 - accuracy: 1.0000 - val_loss: 0.5880 - val_accuracy: 0.7933\n",
            "Epoch 37/40\n",
            "30/30 [==============================] - 60s 2s/step - loss: 0.0041 - accuracy: 1.0000 - val_loss: 0.5953 - val_accuracy: 0.7943\n",
            "Epoch 38/40\n",
            "30/30 [==============================] - 60s 2s/step - loss: 0.0038 - accuracy: 1.0000 - val_loss: 0.5968 - val_accuracy: 0.7938\n",
            "Epoch 39/40\n",
            "30/30 [==============================] - 61s 2s/step - loss: 0.0035 - accuracy: 1.0000 - val_loss: 0.6010 - val_accuracy: 0.7919\n",
            "Epoch 40/40\n",
            "30/30 [==============================] - 61s 2s/step - loss: 0.0033 - accuracy: 1.0000 - val_loss: 0.6043 - val_accuracy: 0.7935\n"
          ],
          "name": "stdout"
        }
      ]
    },
    {
      "cell_type": "code",
      "metadata": {
        "id": "5SwNStCFU6Zz",
        "colab": {
          "base_uri": "https://localhost:8080/"
        },
        "outputId": "3a69fae5-73ca-42cb-a620-30782016e41e"
      },
      "source": [
        "# Model evaluation\n",
        "results = model5.evaluate(X_test_enc, y_test)"
      ],
      "execution_count": null,
      "outputs": [
        {
          "output_type": "stream",
          "text": [
            "782/782 [==============================] - 33s 43ms/step - loss: 0.5981 - accuracy: 0.7948\n"
          ],
          "name": "stdout"
        }
      ]
    },
    {
      "cell_type": "code",
      "metadata": {
        "id": "WeK_knPsU6hz",
        "colab": {
          "base_uri": "https://localhost:8080/"
        },
        "outputId": "637a31a7-edc4-43b2-c086-6df496cbfd68"
      },
      "source": [
        "print (results)"
      ],
      "execution_count": null,
      "outputs": [
        {
          "output_type": "stream",
          "text": [
            "[0.5980694890022278, 0.79475998878479]\n"
          ],
          "name": "stdout"
        }
      ]
    },
    {
      "cell_type": "code",
      "metadata": {
        "id": "T2-fqNHiRRIe",
        "colab": {
          "base_uri": "https://localhost:8080/",
          "height": 282
        },
        "outputId": "7042dd82-c71c-4c5b-c5ff-5d215705bbaf"
      },
      "source": [
        "# your code goes here\n",
        "\n",
        "from plot_keras_history import plot_history\n",
        "import matplotlib.pyplot as plt\n",
        "#plot_history(history.history['loss'], path=\"standard.png\")\n",
        "plt.plot(history.history['loss'],'o')"
      ],
      "execution_count": null,
      "outputs": [
        {
          "output_type": "execute_result",
          "data": {
            "text/plain": [
              "[<matplotlib.lines.Line2D at 0x7f10e9f145d0>]"
            ]
          },
          "metadata": {
            "tags": []
          },
          "execution_count": 135
        },
        {
          "output_type": "display_data",
          "data": {
            "image/png": "[encoded data removed]",
            "text/plain": [
              "<Figure size 432x288 with 1 Axes>"
            ]
          },
          "metadata": {
            "tags": [],
            "needs_background": "light"
          }
        }
      ]
    },
    {
      "cell_type": "code",
      "metadata": {
        "id": "EP-LjF5HzA7A",
        "colab": {
          "base_uri": "https://localhost:8080/",
          "height": 369
        },
        "outputId": "14b77916-811f-4549-db4e-60d3658cc6e3"
      },
      "source": [
        "\n",
        "from plot_keras_history import plot_history\n",
        "import matplotlib.pyplot as plt\n",
        "plot_history(history.history, path=\"standard.png\")"
      ],
      "execution_count": null,
      "outputs": [
        {
          "output_type": "display_data",
          "data": {
            "image/png": "[encoded data removed]",
            "text/plain": [
              "<Figure size 720x360 with 2 Axes>"
            ]
          },
          "metadata": {
            "tags": [],
            "needs_background": "light"
          }
        }
      ]
    },
    {
      "cell_type": "markdown",
      "metadata": {
        "id": "DTMkfbMlVkQs"
      },
      "source": [
        "**<i> <font color ='darkblue'> It is easily noticeable that the CNN with additional layers gives lower accuracy on the test set when compared to models from the previous section. Studying the graphs, we see that CNN with additional layers is also more prone to overfitting as compared to denser neural averaging network model. Making CNN deeper increases the number of weights and hence the complexity which is leading it to overfit in this case resulting in a lower accuracy on test set.</font></i>**\n"
      ]
    },
    {
      "cell_type": "markdown",
      "metadata": {
        "id": "Kx--Ytk3ZbLo"
      },
      "source": [
        "Although adding layer here reduces the training loss, the evaluation accuracy is worse than the model without the extra convolutional layer.\n",
        "\n",
        "Adding more layers can help you to extract more features. But we can do that up to a certain extent. After some point, instead of extracting features, we tend to overfit the data. Overfitting can lead to errors in on form or another, such as false positives. It is not easy to choose the number of units in a hidden layer or the number of hidden layers in a neural network. For many applications, one hidden layer is enough. As a general rule, the number of units in that hidden layer is between the number of inputs and the number of outputs.\n",
        " The best way to decide on the number of units and hidden layers is to try various parameters. Train several neural networks with different numbers of hidden layers and neurons, and monitor the performance of them. You will have to experiment using a series of different architectures. \n",
        "\n",
        "\n",
        "\n"
      ]
    },
    {
      "cell_type": "markdown",
      "metadata": {
        "id": "gn2GSV4ioyO2"
      },
      "source": [
        "\n",
        "\n",
        "---\n",
        "\n"
      ]
    }
  ]
}