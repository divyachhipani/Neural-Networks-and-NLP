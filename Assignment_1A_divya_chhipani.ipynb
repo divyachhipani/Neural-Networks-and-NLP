{
  "nbformat": 4,
  "nbformat_minor": 0,
  "metadata": {
    "colab": {
      "name": "Assignment_1A_divya_chhipani.ipynb",
      "provenance": [],
      "collapsed_sections": [],
      "toc_visible": true
    },
    "kernelspec": {
      "display_name": "Python 3",
      "language": "python",
      "name": "python3"
    },
    "language_info": {
      "codemirror_mode": {
        "name": "ipython",
        "version": 3
      },
      "file_extension": ".py",
      "mimetype": "text/x-python",
      "name": "python",
      "nbconvert_exporter": "python",
      "pygments_lexer": "ipython3",
      "version": "3.7.9"
    }
  },
  "cells": [
    {
      "cell_type": "markdown",
      "metadata": {
        "id": "t_yvQBKrD8Se"
      },
      "source": [
        "# **ECS 7001 - NN & NNLP**\n",
        "\n",
        "## **Lab 2: Skip-gram Model for Word2Vec**\n",
        "\n",
        "<br>\n",
        "\n",
        "**1st February**\n",
        "\n",
        "There are two Word2Vec architectures for creating word embeddings: the Continuous Bag of Words (CBOW) architecture and the Skip Gram architecture . In this lab, we will obtain our own word embeddings by training a skip-gram neural network model. Some of the code for this will be supplied here but in some sections, you will be required to implement the code yourself. Hints and\n",
        "tips will be provided.\n",
        "\n",
        "\n",
        "The skip gram model is essentially a feedforward neural network with one hidden layer, trained to predict the context word given a target word. There are two ways to train this model: (1) using a hierarchical softmax function and/or (2) by negative sampling. In this lab, we will be training using\n",
        "negative sampling. To train with negative sampling, the model is cast as a binary classification problem. The dataset would consist of positive and negative examples of the form:\n",
        "\n",
        "Input | label\n",
        "--| --\n",
        "(target_word, word_in_its_context)       |  1 \n",
        "(target_word, word_not_in_its_context)   |  0\n",
        "\n",
        "created from the sentences in a corpus. The exact number of positive and negative examples will depend on the window size, and the balance ratio of positive:negative examples.  \n",
        "\n",
        "As an example, consider the sentence: “ **The quick brown\n",
        "fox jumped over the lazy dog** ”. For the target word ' **fox** ' and a window size of 2, all the positive and negative examples drawn from this sentence would be:\n",
        "\n",
        "Input | label\n",
        "--| --\n",
        "(fox, the) | 0\n",
        "(fox, quick) | 1\n",
        "(fox, brown) | 1\n",
        "(fox, jumped) | 1\n",
        "(fox, over) |1\n",
        "(fox, lazy) | 0\n",
        "(fox, dog) | 0\n",
        "\n",
        "The model is trained to learn to predict 1 when a word is in the context of the target word (i.e.in the window of the target word) and 0 otherwise. The model thus learns the statistics of the given corpus: the frequency with two words appear together would determine how similar they are (similarity is usually measured using cosine distance). After training, the trained hidden layer weights are the word embeddings.\n",
        "\n"
      ]
    },
    {
      "cell_type": "markdown",
      "metadata": {
        "id": "Ep2X91YdJpkG"
      },
      "source": [
        "### **0. Prepare the environment**\n",
        "\n",
        "Open Google Colab or activate the virtual environment you’ve created"
      ]
    },
    {
      "cell_type": "markdown",
      "metadata": {
        "id": "w6Pi5uvTLRCo"
      },
      "source": [
        "### **1. Downloading the Corpus**\n",
        "\n",
        "Our training data will be comprised of 3 documents from the Gutenberg corpus. We can find this and other corpora in nltk https://www.nltk.org/book/ch02.html"
      ]
    },
    {
      "cell_type": "code",
      "metadata": {
        "colab": {
          "base_uri": "https://localhost:8080/"
        },
        "id": "xn7sWMG-KoBV",
        "outputId": "90177f01-d477-4aff-b67d-af5af18b4025"
      },
      "source": [
        "import nltk\n",
        "import re\n",
        "from nltk.corpus import stopwords\n",
        "nltk.download('stopwords')\n",
        "nltk.download('punkt')\n",
        "nltk.download('gutenberg')\n",
        "from nltk.corpus import gutenberg\n",
        "austen = gutenberg.sents('austen-sense.txt') + gutenberg.sents('austen-emma.txt') + gutenberg.sents('austen-persuasion.txt')"
      ],
      "execution_count": null,
      "outputs": [
        {
          "output_type": "stream",
          "text": [
            "[nltk_data] Downloading package stopwords to /root/nltk_data...\n",
            "[nltk_data]   Unzipping corpora/stopwords.zip.\n",
            "[nltk_data] Downloading package punkt to /root/nltk_data...\n",
            "[nltk_data]   Unzipping tokenizers/punkt.zip.\n",
            "[nltk_data] Downloading package gutenberg to /root/nltk_data...\n",
            "[nltk_data]   Unzipping corpora/gutenberg.zip.\n"
          ],
          "name": "stdout"
        }
      ]
    },
    {
      "cell_type": "markdown",
      "metadata": {
        "id": "PYD16ST1MIOf"
      },
      "source": [
        "**Sanity check:**\n",
        "\n",
        "This training corpus contains 16498 sentences. The following print statement should return 16498."
      ]
    },
    {
      "cell_type": "code",
      "metadata": {
        "colab": {
          "base_uri": "https://localhost:8080/"
        },
        "id": "yCH0PmPcL83f",
        "outputId": "1c98378f-3f86-4937-b39c-7da78830b8f2"
      },
      "source": [
        "print(len(austen))"
      ],
      "execution_count": null,
      "outputs": [
        {
          "output_type": "stream",
          "text": [
            "16498\n"
          ],
          "name": "stdout"
        }
      ]
    },
    {
      "cell_type": "code",
      "metadata": {
        "colab": {
          "base_uri": "https://localhost:8080/"
        },
        "id": "APFWiEejv9i5",
        "outputId": "6013bbff-e441-43b9-c5c8-4a59264fc480"
      },
      "source": [
        "austen[0]"
      ],
      "execution_count": null,
      "outputs": [
        {
          "output_type": "execute_result",
          "data": {
            "text/plain": [
              "['[', 'Sense', 'and', 'Sensibility', 'by', 'Jane', 'Austen', '1811', ']']"
            ]
          },
          "metadata": {
            "tags": []
          },
          "execution_count": 3
        }
      ]
    },
    {
      "cell_type": "markdown",
      "metadata": {
        "id": "4c14vElNvMGX"
      },
      "source": [
        "### **2. Preprocessing the Training Corpus**\n",
        "\n",
        "In this section, you will write code to remove special characters, empty strings, digits and\n",
        "stopwords from the sentences and put all the words into lower cases. You might also consider removing sentences with fewer than 3 words or at least empty sentences.\n",
        "\n",
        "\n",
        "**Hints:**\n",
        "*   The corpus can be accessed as you would a tokenized list, a list of lists, each inner list contains all the tokens in the sentence. Eg:\n",
        "\\>> austen[0] =['[', 'Sense', 'and', 'Sensibility', 'by','Jane', 'Austen', '1811', ']']\n",
        "\n",
        "*   the python <string> library contains a variable “punctuation”, a string containing all\n",
        "the special characters.\n",
        "\n",
        "*   You might want to write a function that takes the corpus as an argument and returns the preprocessed corpus as a list of lists.\n",
        "\n",
        " Alternatively, you can use the keras preprocessing library to preprocess the text. More information on the library can be found here:\n",
        "https://keras.io/preprocessing/text/\n",
        "\n",
        "\n",
        "**Sanity check:**\n",
        "\n",
        "After preprocessing the corpus, as a sanity check, print the following line of code. If you chose removed sentences of length with fewer than 3 words, it should be about 13651. \n",
        "\n",
        "As a test for your preprocessing function, preprocess the sample below and print the output of your function."
      ]
    },
    {
      "cell_type": "code",
      "metadata": {
        "id": "V2SIxzvwybiv",
        "colab": {
          "base_uri": "https://localhost:8080/"
        },
        "outputId": "d307395e-e388-4aa8-8c4f-945218606951"
      },
      "source": [
        "import string\n",
        "def preprocess_corpus(corpus):\n",
        "  \n",
        "    stop_words = set(stopwords.words('english'))\n",
        "    #corpus = re.sub(r'[^ A-Za-z0-9]','',corpus)\n",
        "    normalized_corpus = []\n",
        "    for i in corpus:\n",
        "        i = [j for j in i if j.isalpha()]\n",
        "        i = [c for c in i if c.strip() != 0]\n",
        "        i = [j.lower() for j in i]\n",
        "        i = [j for j in i if j not in stop_words]\n",
        "\n",
        "        #print(i)\n",
        "        if len(i) > 2:\n",
        "            #print(len(i))\n",
        "            normalized_corpus.append(i)\n",
        "    #normalized_corpus = [x for x in normalized_corpus if x]\n",
        "    return normalized_corpus\n",
        "\n",
        "\n",
        "normalized_corpus = preprocess_corpus(austen)\n",
        "print(normalized_corpus[1])\n",
        "print('The new length of the preprocessed output', len(normalized_corpus))"
      ],
      "execution_count": null,
      "outputs": [
        {
          "output_type": "stream",
          "text": [
            "['family', 'dashwood', 'long', 'settled', 'sussex']\n",
            "The new length of the preprocessed output 13923\n"
          ],
          "name": "stdout"
        }
      ]
    },
    {
      "cell_type": "markdown",
      "metadata": {
        "id": "Yc-EnfRXkZAA"
      },
      "source": [
        "**<i> <font color ='darkblue'> In this section, we perform basic pre-processing  steps like converting words into lowercase, tokenisation,   removing - punctuations, empty strings, spaces, stopwords. Finally, we checked the number of the remaining tokens and discard the sentences which have less than three tokens. </font></i>**"
      ]
    },
    {
      "cell_type": "code",
      "metadata": {
        "id": "tJ1qxoq-8Kob",
        "colab": {
          "base_uri": "https://localhost:8080/"
        },
        "outputId": "399ea72c-16db-4516-999a-b7b6c28dec28"
      },
      "source": [
        "sample = austen[:2] + austen[100:102]\n",
        "preprocessed_sample = preprocess_corpus(sample)\n",
        "\n",
        "\n",
        "print(len(sample), sample)\n",
        "print()\n",
        "print(len(preprocessed_sample), preprocessed_sample)"
      ],
      "execution_count": null,
      "outputs": [
        {
          "output_type": "stream",
          "text": [
            "4 [['[', 'Sense', 'and', 'Sensibility', 'by', 'Jane', 'Austen', '1811', ']'], ['CHAPTER', '1'], ['But', ',', 'then', ',', 'if', 'Mrs', '.', 'Dashwood', 'should', 'live', 'fifteen', 'years', 'we', 'shall', 'be', 'completely', 'taken', 'in', '.\"'], ['\"', 'Fifteen', 'years', '!']]\n",
            "\n",
            "2 [['sense', 'sensibility', 'jane', 'austen'], ['mrs', 'dashwood', 'live', 'fifteen', 'years', 'shall', 'completely', 'taken']]\n"
          ],
          "name": "stdout"
        }
      ]
    },
    {
      "cell_type": "markdown",
      "metadata": {
        "id": "rghchHA66d-V"
      },
      "source": [
        "### **3. Creating the Corpus Vocabulary and Preparing the Data**\n",
        "\n",
        "\n",
        "To prepare the data for machine learning, you will write code to prepare 3 variables:\n",
        "\n",
        "1. \\<word2idx>: a lookup table, a dictionary of (word index: word) pairs where **word index** is a unique integer assigned to every **unique word** in the corpus.\n",
        "2. \\<idx2word>: a dictionary of (token: token index), a reversal of \\<word2idx>. \n",
        "3. \\<sents_as_ids>: The input to the model cannot be text, rather, each word needs to be represented by a unique integer and each sentence an array of integers.\n",
        "\n",
        "\n",
        "The incomplete code provided below is just a guide. "
      ]
    },
    {
      "cell_type": "code",
      "metadata": {
        "id": "gmqUdSuU8PyK",
        "colab": {
          "base_uri": "https://localhost:8080/"
        },
        "outputId": "dcaae55a-c353-4bcd-87bb-b5f55b008146"
      },
      "source": [
        "word2idx = {}\n",
        "idx2word = {}\n",
        "\n",
        "\n",
        "def prepareData(normalized_corpus):\n",
        "    i = 0\n",
        "    for sentence in normalized_corpus:\n",
        "        for word in sentence:\n",
        "            if word not in word2idx:\n",
        "                word2idx[word] = i\n",
        "                idx2word[i] = word\n",
        "                i+=1\n",
        "    return word2idx\n",
        "\n",
        "#idx2word = {}\n",
        "\n",
        "def prepareSentsAsId(normalized_corpus):\n",
        "    i=0\n",
        "    sents_as_ids = []\n",
        "    for sentence in normalized_corpus:\n",
        "        ids= []\n",
        "        for word in sentence:\n",
        "            ids.append(word2idx[word])\n",
        "        sents_as_ids.append(ids)\n",
        "    return sents_as_ids\n",
        "\n",
        "word2idx = prepareData(normalized_corpus)\n",
        "sents_as_ids =prepareSentsAsId(normalized_corpus)\n",
        "print('Number of unique words:', len(word2idx))\n",
        "print('\\nSample word2idx: ', list(word2idx.items())[:10])\n",
        "print('\\nSample idx2word:', list(idx2word.items())[:10])\n",
        "print('\\nSample sents_as_id:', prepareSentsAsId(preprocessed_sample))"
      ],
      "execution_count": null,
      "outputs": [
        {
          "output_type": "stream",
          "text": [
            "Number of unique words: 10084\n",
            "\n",
            "Sample word2idx:  [('sense', 0), ('sensibility', 1), ('jane', 2), ('austen', 3), ('family', 4), ('dashwood', 5), ('long', 6), ('settled', 7), ('sussex', 8), ('estate', 9)]\n",
            "\n",
            "Sample idx2word: [(0, 'sense'), (1, 'sensibility'), (2, 'jane'), (3, 'austen'), (4, 'family'), (5, 'dashwood'), (6, 'long'), (7, 'settled'), (8, 'sussex'), (9, 'estate')]\n",
            "\n",
            "Sample sents_as_id: [[0, 1, 2, 3], [68, 5, 194, 592, 33, 593, 285, 594]]\n"
          ],
          "name": "stdout"
        }
      ]
    },
    {
      "cell_type": "markdown",
      "metadata": {
        "id": "iVFa2cKwlUNA"
      },
      "source": [
        "**<i> <font color ='darkblue'> We create two dictionaries - word2idx which stores the word as the key and the value is a unique integer, and  idx2word which stores the unique integer as the key and the word as the value. We finally make a list which stores sentence as list of integers corresponding to the words in the sentence.</font></i>**"
      ]
    },
    {
      "cell_type": "markdown",
      "metadata": {
        "id": "DCa7VGc59bCD"
      },
      "source": [
        "**Sanity Check**\n",
        "\n",
        "Copy and run the following lines of code:\n",
        "\n",
        "```\n",
        "print('Number of unique words:', len(word2idx)**\n",
        "```\n",
        "Returns a number between 9800 and 1200, the exact number depends on your preprocessing step. \n",
        "\n",
        "```\n",
        "print('\\nSample word2idx: ', list(word2idx.items())[:10])\n",
        "```\n",
        "\n",
        "Sample word2idx:  [('sense', 0), ('sensibility', 1), ('jane', 2), ('austen', 3), ('the', 4), ('family', 5), ('dashwood', 6), ('long', 7), ('settled', 8), ('sussex', 9)]\n",
        "\n",
        "\n",
        "```\n",
        "print('\\nSample idx2word:', list(idx2word.items())[:10])**\n",
        "```\n",
        "\n",
        "Sample idx2word: [(1, 'could'), (2, 'would'), (3, 'mr'), (4, 'mrs'), (5, 'must'), (6, 'said'), (7, 'one'), (8, 'much'), (9, 'miss'), (10, 'every')]\n",
        "\n",
        "```\n",
        "print('\\nSample sents_as_id:', prepareSentsAsId(preprocessed_sample))\n",
        "```\n",
        "\n",
        "Sample sents_as_id: [[0, 1, 2, 3], [41, 72, 6, 201, 619, 35, 620, 296, 621]]\n",
        "\n"
      ]
    },
    {
      "cell_type": "markdown",
      "metadata": {
        "id": "Uqw71xzzeYSm"
      },
      "source": [
        "After you have created the three variables, set the <vocab_size> and <embed_size> variables with the following commands:"
      ]
    },
    {
      "cell_type": "code",
      "metadata": {
        "id": "WGsp5Lij8qUd"
      },
      "source": [
        "VOCAB_SIZE = len(word2idx) \n",
        "EMBED_SIZE = 100 # We are creating 100D embeddings."
      ],
      "execution_count": null,
      "outputs": []
    },
    {
      "cell_type": "code",
      "metadata": {
        "id": "u_yjd5kgqiZi",
        "colab": {
          "base_uri": "https://localhost:8080/"
        },
        "outputId": "be4acabe-6942-435b-9d3c-bf1b11572c94"
      },
      "source": [
        "print('Number of unique words:', len(word2idx))"
      ],
      "execution_count": null,
      "outputs": [
        {
          "output_type": "stream",
          "text": [
            "Number of unique words: 10084\n"
          ],
          "name": "stdout"
        }
      ]
    },
    {
      "cell_type": "markdown",
      "metadata": {
        "id": "WXhJNdf9TIed"
      },
      "source": [
        "### **4. Generating training instances**\n",
        "\n",
        "\n",
        "In this section we would generate the training examples of the format shown in introduction using the keras skip-gram generator https://keras.io/preprocessing/sequence/ "
      ]
    },
    {
      "cell_type": "code",
      "metadata": {
        "id": "e3g0FLzb7ivg"
      },
      "source": [
        "import tensorflow as tf\n",
        "from keras.preprocessing.sequence import skipgrams\n",
        "skip_grams = []\n",
        "for sent in sents_as_ids:\n",
        "    skip_grams.append(tf.keras.preprocessing.sequence.skipgrams(\n",
        "        sent, VOCAB_SIZE, window_size=4, negative_samples=1.0, shuffle=True,\n",
        "        categorical=False, sampling_table=None, seed=None\n",
        "    ))"
      ],
      "execution_count": null,
      "outputs": []
    },
    {
      "cell_type": "markdown",
      "metadata": {
        "id": "QO0cpf1ImLbE"
      },
      "source": [
        "**<i> <font color ='darkblue'>  In this section, we create skipgrams using the keras inbuilt function wherein we pass the sentence  in the form of list of integers corresponding to the words in the sentence, vocabulary size and window size of 4 and enabling negative sampling such that it generates one negative sample for each positive sample.</font></i>**"
      ]
    },
    {
      "cell_type": "markdown",
      "metadata": {
        "id": "EDyy65QlTyf2"
      },
      "source": [
        "**Sanity Check:**\n",
        "\n",
        "To view the skip_grams for the first sentence in the training data, run the line of code that follows. The output should look like:\n",
        "\n",
        "(austen (3), sensibility (1)) -> 1\n",
        "\n",
        "(austen (3), jane (2)) -> 1\n",
        "\n",
        "(jane (2), sensibility (1)) -> 1\n",
        "\n",
        "(jane (2), walked (2639)) -> 0\n",
        "\n",
        "(jane (2), partridge (7948)) -> 0\n",
        "\n",
        "(sensibility (1), austen (3)) -> 1\n",
        "\n",
        "(sensibility (1), beneficial (5587)) -> 0\n",
        "\n",
        "(sensibility (1), jane (2)) -> 1\n",
        "\n",
        "(sensibility (1), dreamt (8308)) -> 0\n",
        "\n",
        "(austen (3), perception (6543)) -> 0\n",
        "\n",
        "(jane (2), austen (3)) -> 1\n",
        "\n",
        "(austen (3), imposing (8622)) -> 0\n"
      ]
    },
    {
      "cell_type": "code",
      "metadata": {
        "id": "Qa072PMvTvde",
        "colab": {
          "base_uri": "https://localhost:8080/"
        },
        "outputId": "afe35cd6-a6be-4250-85aa-fffeb9f0b2d5"
      },
      "source": [
        "pairs, labels = skip_grams[0][0], skip_grams[0][1]\n",
        "\n",
        "for i in range(len(pairs)):\n",
        "         \tprint('({:s} ({:d}), {:s} ({:d})) -> {:d}'.format(\n",
        "        \t# the first word and its index\n",
        "        \tidx2word[pairs[i][0]], pairs[i][0],\n",
        "        \t# the second word and its index\n",
        "        \tidx2word[pairs[i][1]], pairs[i][1],\n",
        "        \t# the label\n",
        "        \tlabels[i]))\n"
      ],
      "execution_count": null,
      "outputs": [
        {
          "output_type": "stream",
          "text": [
            "(sensibility (1), jane (2)) -> 1\n",
            "(jane (2), austen (3)) -> 1\n",
            "(jane (2), sensibility (1)) -> 1\n",
            "(sensibility (1), gloominess (2240)) -> 0\n",
            "(jane (2), several (740)) -> 0\n",
            "(sensibility (1), changed (2560)) -> 0\n",
            "(jane (2), afloat (6357)) -> 0\n",
            "(sensibility (1), austen (3)) -> 1\n",
            "(austen (3), boys (2374)) -> 0\n",
            "(austen (3), sensibility (1)) -> 1\n",
            "(austen (3), jane (2)) -> 1\n",
            "(austen (3), ended (2969)) -> 0\n"
          ],
          "name": "stdout"
        }
      ]
    },
    {
      "cell_type": "markdown",
      "metadata": {
        "id": "uMQJAolZWVLx"
      },
      "source": [
        "### **5. Building the Skip-gram Neural Network Architecture**\n",
        "\n",
        "In this section we would be building the skip-gram neural network architecture using the Keras Functional API and the Sequential model introduced in the previous lab. https://keras.io/getting-started/functional-api-guide/ "
      ]
    },
    {
      "cell_type": "code",
      "metadata": {
        "id": "fi0JmuY-Tlsp"
      },
      "source": [
        "from keras.layers import Dot, Input\n",
        "from keras.layers.core import Dense, Reshape\n",
        "from keras.layers.embeddings import Embedding\n",
        "from keras.models import Model\n",
        "from keras.utils import plot_model\n"
      ],
      "execution_count": null,
      "outputs": []
    },
    {
      "cell_type": "markdown",
      "metadata": {
        "id": "22d8UIg-cBOc"
      },
      "source": [
        "The skip-gram model is two input one output feedforward neural network with one hidden layer and this will be built over a series of steps.\n",
        "\n",
        "####**A. The first step is to initialize and transform the first input using the following lines of code:**"
      ]
    },
    {
      "cell_type": "code",
      "metadata": {
        "id": "ggqykF7WUyGP"
      },
      "source": [
        "# The input is an array of target indices e.g. [2, 45, 7, 23,...9]\n",
        "target_word = Input((1,), dtype='int32')\n",
        "\n",
        "\n",
        "# feed the words into the model using the Keras <Embedding> layer. This is the hidden layer \n",
        "# from whose weights we will get the word embeddings.\n",
        "target_embedding = Embedding(VOCAB_SIZE, EMBED_SIZE, name='target_embed_layer',\n",
        "                        \tembeddings_initializer='glorot_uniform',\n",
        "                         \tinput_length=1)(target_word)\n",
        "\n",
        "\n",
        "# at this point, the input would of the shape (num_inputs x 1 x embed_size) and has to be flattened \n",
        "# or reshaped into a (num_inputs x embed_size) tensor.\n",
        "target_input = Reshape((EMBED_SIZE, ))(target_embedding)"
      ],
      "execution_count": null,
      "outputs": []
    },
    {
      "cell_type": "markdown",
      "metadata": {
        "id": "GXn_SVjHckwL"
      },
      "source": [
        "####**B. Write similar code for the ‘context_word’ input.**"
      ]
    },
    {
      "cell_type": "code",
      "metadata": {
        "id": "vkCyRztYcMsp"
      },
      "source": [
        "# your code for the context_word goes here\n",
        "context_word = Input((1,), dtype='int32')\n",
        "\n",
        "\n",
        "# feed the words into the model using the Keras <Embedding> layer. This is the hidden layer \n",
        "# from whose weights we will get the word embeddings.\n",
        "context_embedding = Embedding(VOCAB_SIZE, EMBED_SIZE, name='context_embed_layer',\n",
        "                        \tembeddings_initializer='glorot_uniform',\n",
        "                         \tinput_length=1)(context_word)\n",
        "\n",
        "\n",
        "# at this point, the input would of the shape (num_inputs x 1 x embed_size) and has to be flattened \n",
        "# or reshaped into a (num_inputs x embed_size) tensor.\n",
        "context_input = Reshape((EMBED_SIZE, ))(context_embedding)"
      ],
      "execution_count": null,
      "outputs": []
    },
    {
      "cell_type": "markdown",
      "metadata": {
        "id": "rP_hHP2JnRdf"
      },
      "source": [
        "**<i> <font color ='darkblue'>We reuse the code for target embedding to create context embedding but we replace the target embedding input layer by creating an input layer for context and pass that to the context embedding layer. </font></i>**"
      ]
    },
    {
      "cell_type": "markdown",
      "metadata": {
        "id": "btNWVWRqdBJV"
      },
      "source": [
        "####**C. Merge the inputs.**\n",
        "\n",
        "Recall, each training instance is a (target_word, context_word) combination. Since we are trying to learn the degree of closeness between the two words, the model will compute the cosine distance between the two inputs using the <Dot> layer. https://keras.io/layers/merge/, hence fusing the two inputs into one.\n"
      ]
    },
    {
      "cell_type": "code",
      "metadata": {
        "id": "WL0_IgA0cYBx"
      },
      "source": [
        "merged_inputs = Dot(axes=-1, normalize=False)([target_input, context_input])"
      ],
      "execution_count": null,
      "outputs": []
    },
    {
      "cell_type": "markdown",
      "metadata": {
        "id": "vQEsxQ6We1Ob"
      },
      "source": [
        "####**D. The Output Layer**\n",
        "\n",
        "Pass the merged inputs (now a vector with a single number the cosine distance between the two input vectors for each word) into a sigmoid activated neuron. The output of this layer is the output of the model.\n",
        "\n",
        "**Hint**: Use the <Dense> layer ( https://keras.io/layers/core/ ), with a ‘sigmoid’ activation function."
      ]
    },
    {
      "cell_type": "code",
      "metadata": {
        "id": "uAUxsadqcj6Q"
      },
      "source": [
        "# your code for the output layer goes here\n",
        "import numpy as np\n",
        "from tensorflow.keras import layers\n",
        "from keras.layers import Activation\n",
        "\n",
        "label = Activation('sigmoid')(merged_inputs)"
      ],
      "execution_count": null,
      "outputs": []
    },
    {
      "cell_type": "markdown",
      "metadata": {
        "id": "Unk2AJw5n2AF"
      },
      "source": [
        "**<i> <font color ='darkblue'>In the output layer, we use sigmoid function as activation function as we are expecting a binary output.</font></i>**"
      ]
    },
    {
      "cell_type": "markdown",
      "metadata": {
        "id": "yQk1Yj8wfXrF"
      },
      "source": [
        "####**E. Initialize the model:**"
      ]
    },
    {
      "cell_type": "code",
      "metadata": {
        "id": "YHRICxY7cdBB"
      },
      "source": [
        "# label is the output of step D.\n",
        "model = Model(inputs=[target_word, context_word], outputs=[label])  "
      ],
      "execution_count": null,
      "outputs": []
    },
    {
      "cell_type": "markdown",
      "metadata": {
        "id": "DdbRI0TGVZIt"
      },
      "source": [
        "####**F. Compile the model using the <model.compile> command.** Use Loss = ‘mean_squared_error’, optimizer = ‘rmsprop’."
      ]
    },
    {
      "cell_type": "code",
      "metadata": {
        "id": "5LtWvavefueu"
      },
      "source": [
        "# your code here\n",
        "model.compile(loss='mse', optimizer = 'rmsprop')"
      ],
      "execution_count": null,
      "outputs": []
    },
    {
      "cell_type": "markdown",
      "metadata": {
        "id": "Cm_at8wcy-Tg"
      },
      "source": [
        "\n",
        "**<i> <font color ='darkblue'>In this code block, we compile the model where mean squared error is used as loss function and the optimizer is rmsprop. </font></i>**"
      ]
    },
    {
      "cell_type": "markdown",
      "metadata": {
        "id": "GC7IShG_fczC"
      },
      "source": [
        "**Sanity check:**\n",
        "\n",
        "Visualize the model and the model summary by running the following lines of code. \n",
        "view the model summary"
      ]
    },
    {
      "cell_type": "code",
      "metadata": {
        "colab": {
          "base_uri": "https://localhost:8080/"
        },
        "id": "e0ki6JDkgJNA",
        "outputId": "3ec05a2d-c29a-435d-ede2-d6427750d16f"
      },
      "source": [
        "model.summary()"
      ],
      "execution_count": null,
      "outputs": [
        {
          "output_type": "stream",
          "text": [
            "Model: \"model\"\n",
            "__________________________________________________________________________________________________\n",
            "Layer (type)                    Output Shape         Param #     Connected to                     \n",
            "==================================================================================================\n",
            "input_1 (InputLayer)            [(None, 1)]          0                                            \n",
            "__________________________________________________________________________________________________\n",
            "input_2 (InputLayer)            [(None, 1)]          0                                            \n",
            "__________________________________________________________________________________________________\n",
            "target_embed_layer (Embedding)  (None, 1, 100)       1008400     input_1[0][0]                    \n",
            "__________________________________________________________________________________________________\n",
            "context_embed_layer (Embedding) (None, 1, 100)       1008400     input_2[0][0]                    \n",
            "__________________________________________________________________________________________________\n",
            "reshape (Reshape)               (None, 100)          0           target_embed_layer[0][0]         \n",
            "__________________________________________________________________________________________________\n",
            "reshape_1 (Reshape)             (None, 100)          0           context_embed_layer[0][0]        \n",
            "__________________________________________________________________________________________________\n",
            "dot (Dot)                       (None, 1)            0           reshape[0][0]                    \n",
            "                                                                 reshape_1[0][0]                  \n",
            "__________________________________________________________________________________________________\n",
            "activation (Activation)         (None, 1)            0           dot[0][0]                        \n",
            "==================================================================================================\n",
            "Total params: 2,016,800\n",
            "Trainable params: 2,016,800\n",
            "Non-trainable params: 0\n",
            "__________________________________________________________________________________________________\n"
          ],
          "name": "stdout"
        }
      ]
    },
    {
      "cell_type": "markdown",
      "metadata": {
        "id": "3VVPnyFhgVr9"
      },
      "source": [
        "####**G. Plot the model using ```vis utils```.**"
      ]
    },
    {
      "cell_type": "code",
      "metadata": {
        "colab": {
          "base_uri": "https://localhost:8080/",
          "height": 450
        },
        "id": "vvfO-ensggr4",
        "outputId": "87c79588-0b8f-4880-e177-45abb0eaa156"
      },
      "source": [
        "from IPython.display import SVG\n",
        "from keras.utils import vis_utils\n",
        "SVG(vis_utils.model_to_dot(model, show_shapes=True, show_layer_names=True, dpi=60).create(prog='dot', format='svg'))  \n"
      ],
      "execution_count": null,
      "outputs": [
        {
          "output_type": "execute_result",
          "data": {
            "text/plain": [
              "<IPython.core.display.SVG object>"
            ],
            "image/svg+xml": "<svg height=\"322pt\" viewBox=\"0.00 0.00 765.50 387.00\" width=\"638pt\" xmlns=\"http://www.w3.org/2000/svg\" xmlns:xlink=\"http://www.w3.org/1999/xlink\">\n<g class=\"graph\" id=\"graph0\" transform=\"scale(.8333 .8333) rotate(0) translate(4 383)\">\n<title>G</title>\n<polygon fill=\"#ffffff\" points=\"-4,4 -4,-383 761.5,-383 761.5,4 -4,4\" stroke=\"transparent\"/>\n<!-- 139882059566608 -->\n<g class=\"node\" id=\"node1\">\n<title>139882059566608</title>\n<polygon fill=\"none\" points=\"46,-332.5 46,-378.5 318,-378.5 318,-332.5 46,-332.5\" stroke=\"#000000\"/>\n<text fill=\"#000000\" font-family=\"Times,serif\" font-size=\"14.00\" text-anchor=\"middle\" x=\"112.5\" y=\"-351.8\">input_1: InputLayer</text>\n<polyline fill=\"none\" points=\"179,-332.5 179,-378.5 \" stroke=\"#000000\"/>\n<text fill=\"#000000\" font-family=\"Times,serif\" font-size=\"14.00\" text-anchor=\"middle\" x=\"208\" y=\"-363.3\">input:</text>\n<polyline fill=\"none\" points=\"179,-355.5 237,-355.5 \" stroke=\"#000000\"/>\n<text fill=\"#000000\" font-family=\"Times,serif\" font-size=\"14.00\" text-anchor=\"middle\" x=\"208\" y=\"-340.3\">output:</text>\n<polyline fill=\"none\" points=\"237,-332.5 237,-378.5 \" stroke=\"#000000\"/>\n<text fill=\"#000000\" font-family=\"Times,serif\" font-size=\"14.00\" text-anchor=\"middle\" x=\"277.5\" y=\"-363.3\">[(None, 1)]</text>\n<polyline fill=\"none\" points=\"237,-355.5 318,-355.5 \" stroke=\"#000000\"/>\n<text fill=\"#000000\" font-family=\"Times,serif\" font-size=\"14.00\" text-anchor=\"middle\" x=\"277.5\" y=\"-340.3\">[(None, 1)]</text>\n</g>\n<!-- 139882061057040 -->\n<g class=\"node\" id=\"node3\">\n<title>139882061057040</title>\n<polygon fill=\"none\" points=\"0,-249.5 0,-295.5 364,-295.5 364,-249.5 0,-249.5\" stroke=\"#000000\"/>\n<text fill=\"#000000\" font-family=\"Times,serif\" font-size=\"14.00\" text-anchor=\"middle\" x=\"102\" y=\"-268.8\">target_embed_layer: Embedding</text>\n<polyline fill=\"none\" points=\"204,-249.5 204,-295.5 \" stroke=\"#000000\"/>\n<text fill=\"#000000\" font-family=\"Times,serif\" font-size=\"14.00\" text-anchor=\"middle\" x=\"233\" y=\"-280.3\">input:</text>\n<polyline fill=\"none\" points=\"204,-272.5 262,-272.5 \" stroke=\"#000000\"/>\n<text fill=\"#000000\" font-family=\"Times,serif\" font-size=\"14.00\" text-anchor=\"middle\" x=\"233\" y=\"-257.3\">output:</text>\n<polyline fill=\"none\" points=\"262,-249.5 262,-295.5 \" stroke=\"#000000\"/>\n<text fill=\"#000000\" font-family=\"Times,serif\" font-size=\"14.00\" text-anchor=\"middle\" x=\"313\" y=\"-280.3\">(None, 1)</text>\n<polyline fill=\"none\" points=\"262,-272.5 364,-272.5 \" stroke=\"#000000\"/>\n<text fill=\"#000000\" font-family=\"Times,serif\" font-size=\"14.00\" text-anchor=\"middle\" x=\"313\" y=\"-257.3\">(None, 1, 100)</text>\n</g>\n<!-- 139882059566608&#45;&gt;139882061057040 -->\n<g class=\"edge\" id=\"edge1\">\n<title>139882059566608-&gt;139882061057040</title>\n<path d=\"M182,-332.3799C182,-324.1745 182,-314.7679 182,-305.8786\" fill=\"none\" stroke=\"#000000\"/>\n<polygon fill=\"#000000\" points=\"185.5001,-305.784 182,-295.784 178.5001,-305.784 185.5001,-305.784\" stroke=\"#000000\"/>\n</g>\n<!-- 139881755486480 -->\n<g class=\"node\" id=\"node2\">\n<title>139881755486480</title>\n<polygon fill=\"none\" points=\"434,-332.5 434,-378.5 706,-378.5 706,-332.5 434,-332.5\" stroke=\"#000000\"/>\n<text fill=\"#000000\" font-family=\"Times,serif\" font-size=\"14.00\" text-anchor=\"middle\" x=\"500.5\" y=\"-351.8\">input_2: InputLayer</text>\n<polyline fill=\"none\" points=\"567,-332.5 567,-378.5 \" stroke=\"#000000\"/>\n<text fill=\"#000000\" font-family=\"Times,serif\" font-size=\"14.00\" text-anchor=\"middle\" x=\"596\" y=\"-363.3\">input:</text>\n<polyline fill=\"none\" points=\"567,-355.5 625,-355.5 \" stroke=\"#000000\"/>\n<text fill=\"#000000\" font-family=\"Times,serif\" font-size=\"14.00\" text-anchor=\"middle\" x=\"596\" y=\"-340.3\">output:</text>\n<polyline fill=\"none\" points=\"625,-332.5 625,-378.5 \" stroke=\"#000000\"/>\n<text fill=\"#000000\" font-family=\"Times,serif\" font-size=\"14.00\" text-anchor=\"middle\" x=\"665.5\" y=\"-363.3\">[(None, 1)]</text>\n<polyline fill=\"none\" points=\"625,-355.5 706,-355.5 \" stroke=\"#000000\"/>\n<text fill=\"#000000\" font-family=\"Times,serif\" font-size=\"14.00\" text-anchor=\"middle\" x=\"665.5\" y=\"-340.3\">[(None, 1)]</text>\n</g>\n<!-- 139881755486672 -->\n<g class=\"node\" id=\"node4\">\n<title>139881755486672</title>\n<polygon fill=\"none\" points=\"382.5,-249.5 382.5,-295.5 757.5,-295.5 757.5,-249.5 382.5,-249.5\" stroke=\"#000000\"/>\n<text fill=\"#000000\" font-family=\"Times,serif\" font-size=\"14.00\" text-anchor=\"middle\" x=\"490\" y=\"-268.8\">context_embed_layer: Embedding</text>\n<polyline fill=\"none\" points=\"597.5,-249.5 597.5,-295.5 \" stroke=\"#000000\"/>\n<text fill=\"#000000\" font-family=\"Times,serif\" font-size=\"14.00\" text-anchor=\"middle\" x=\"626.5\" y=\"-280.3\">input:</text>\n<polyline fill=\"none\" points=\"597.5,-272.5 655.5,-272.5 \" stroke=\"#000000\"/>\n<text fill=\"#000000\" font-family=\"Times,serif\" font-size=\"14.00\" text-anchor=\"middle\" x=\"626.5\" y=\"-257.3\">output:</text>\n<polyline fill=\"none\" points=\"655.5,-249.5 655.5,-295.5 \" stroke=\"#000000\"/>\n<text fill=\"#000000\" font-family=\"Times,serif\" font-size=\"14.00\" text-anchor=\"middle\" x=\"706.5\" y=\"-280.3\">(None, 1)</text>\n<polyline fill=\"none\" points=\"655.5,-272.5 757.5,-272.5 \" stroke=\"#000000\"/>\n<text fill=\"#000000\" font-family=\"Times,serif\" font-size=\"14.00\" text-anchor=\"middle\" x=\"706.5\" y=\"-257.3\">(None, 1, 100)</text>\n</g>\n<!-- 139881755486480&#45;&gt;139881755486672 -->\n<g class=\"edge\" id=\"edge2\">\n<title>139881755486480-&gt;139881755486672</title>\n<path d=\"M570,-332.3799C570,-324.1745 570,-314.7679 570,-305.8786\" fill=\"none\" stroke=\"#000000\"/>\n<polygon fill=\"#000000\" points=\"573.5001,-305.784 570,-295.784 566.5001,-305.784 573.5001,-305.784\" stroke=\"#000000\"/>\n</g>\n<!-- 139882927293520 -->\n<g class=\"node\" id=\"node5\">\n<title>139882927293520</title>\n<polygon fill=\"none\" points=\"87.5,-166.5 87.5,-212.5 362.5,-212.5 362.5,-166.5 87.5,-166.5\" stroke=\"#000000\"/>\n<text fill=\"#000000\" font-family=\"Times,serif\" font-size=\"14.00\" text-anchor=\"middle\" x=\"145\" y=\"-185.8\">reshape: Reshape</text>\n<polyline fill=\"none\" points=\"202.5,-166.5 202.5,-212.5 \" stroke=\"#000000\"/>\n<text fill=\"#000000\" font-family=\"Times,serif\" font-size=\"14.00\" text-anchor=\"middle\" x=\"231.5\" y=\"-197.3\">input:</text>\n<polyline fill=\"none\" points=\"202.5,-189.5 260.5,-189.5 \" stroke=\"#000000\"/>\n<text fill=\"#000000\" font-family=\"Times,serif\" font-size=\"14.00\" text-anchor=\"middle\" x=\"231.5\" y=\"-174.3\">output:</text>\n<polyline fill=\"none\" points=\"260.5,-166.5 260.5,-212.5 \" stroke=\"#000000\"/>\n<text fill=\"#000000\" font-family=\"Times,serif\" font-size=\"14.00\" text-anchor=\"middle\" x=\"311.5\" y=\"-197.3\">(None, 1, 100)</text>\n<polyline fill=\"none\" points=\"260.5,-189.5 362.5,-189.5 \" stroke=\"#000000\"/>\n<text fill=\"#000000\" font-family=\"Times,serif\" font-size=\"14.00\" text-anchor=\"middle\" x=\"311.5\" y=\"-174.3\">(None, 100)</text>\n</g>\n<!-- 139882061057040&#45;&gt;139882927293520 -->\n<g class=\"edge\" id=\"edge3\">\n<title>139882061057040-&gt;139882927293520</title>\n<path d=\"M193.9779,-249.3799C198.4137,-240.8178 203.5271,-230.9477 208.3066,-221.7222\" fill=\"none\" stroke=\"#000000\"/>\n<polygon fill=\"#000000\" points=\"211.4448,-223.2732 212.9372,-212.784 205.2294,-220.0531 211.4448,-223.2732\" stroke=\"#000000\"/>\n</g>\n<!-- 139881755487632 -->\n<g class=\"node\" id=\"node6\">\n<title>139881755487632</title>\n<polygon fill=\"none\" points=\"403,-166.5 403,-212.5 693,-212.5 693,-166.5 403,-166.5\" stroke=\"#000000\"/>\n<text fill=\"#000000\" font-family=\"Times,serif\" font-size=\"14.00\" text-anchor=\"middle\" x=\"468\" y=\"-185.8\">reshape_1: Reshape</text>\n<polyline fill=\"none\" points=\"533,-166.5 533,-212.5 \" stroke=\"#000000\"/>\n<text fill=\"#000000\" font-family=\"Times,serif\" font-size=\"14.00\" text-anchor=\"middle\" x=\"562\" y=\"-197.3\">input:</text>\n<polyline fill=\"none\" points=\"533,-189.5 591,-189.5 \" stroke=\"#000000\"/>\n<text fill=\"#000000\" font-family=\"Times,serif\" font-size=\"14.00\" text-anchor=\"middle\" x=\"562\" y=\"-174.3\">output:</text>\n<polyline fill=\"none\" points=\"591,-166.5 591,-212.5 \" stroke=\"#000000\"/>\n<text fill=\"#000000\" font-family=\"Times,serif\" font-size=\"14.00\" text-anchor=\"middle\" x=\"642\" y=\"-197.3\">(None, 1, 100)</text>\n<polyline fill=\"none\" points=\"591,-189.5 693,-189.5 \" stroke=\"#000000\"/>\n<text fill=\"#000000\" font-family=\"Times,serif\" font-size=\"14.00\" text-anchor=\"middle\" x=\"642\" y=\"-174.3\">(None, 100)</text>\n</g>\n<!-- 139881755486672&#45;&gt;139881755487632 -->\n<g class=\"edge\" id=\"edge4\">\n<title>139881755486672-&gt;139881755487632</title>\n<path d=\"M563.8718,-249.3799C561.6732,-241.0854 559.1493,-231.5633 556.7706,-222.5889\" fill=\"none\" stroke=\"#000000\"/>\n<polygon fill=\"#000000\" points=\"560.117,-221.5534 554.1717,-212.784 553.3507,-223.347 560.117,-221.5534\" stroke=\"#000000\"/>\n</g>\n<!-- 139881755536464 -->\n<g class=\"node\" id=\"node7\">\n<title>139881755536464</title>\n<polygon fill=\"none\" points=\"226.5,-83.5 226.5,-129.5 523.5,-129.5 523.5,-83.5 226.5,-83.5\" stroke=\"#000000\"/>\n<text fill=\"#000000\" font-family=\"Times,serif\" font-size=\"14.00\" text-anchor=\"middle\" x=\"259\" y=\"-102.8\">dot: Dot</text>\n<polyline fill=\"none\" points=\"291.5,-83.5 291.5,-129.5 \" stroke=\"#000000\"/>\n<text fill=\"#000000\" font-family=\"Times,serif\" font-size=\"14.00\" text-anchor=\"middle\" x=\"320.5\" y=\"-114.3\">input:</text>\n<polyline fill=\"none\" points=\"291.5,-106.5 349.5,-106.5 \" stroke=\"#000000\"/>\n<text fill=\"#000000\" font-family=\"Times,serif\" font-size=\"14.00\" text-anchor=\"middle\" x=\"320.5\" y=\"-91.3\">output:</text>\n<polyline fill=\"none\" points=\"349.5,-83.5 349.5,-129.5 \" stroke=\"#000000\"/>\n<text fill=\"#000000\" font-family=\"Times,serif\" font-size=\"14.00\" text-anchor=\"middle\" x=\"436.5\" y=\"-114.3\">[(None, 100), (None, 100)]</text>\n<polyline fill=\"none\" points=\"349.5,-106.5 523.5,-106.5 \" stroke=\"#000000\"/>\n<text fill=\"#000000\" font-family=\"Times,serif\" font-size=\"14.00\" text-anchor=\"middle\" x=\"436.5\" y=\"-91.3\">(None, 1)</text>\n</g>\n<!-- 139882927293520&#45;&gt;139881755536464 -->\n<g class=\"edge\" id=\"edge5\">\n<title>139882927293520-&gt;139881755536464</title>\n<path d=\"M266.7834,-166.3799C284.5881,-156.5279 305.5226,-144.9442 324.2107,-134.6034\" fill=\"none\" stroke=\"#000000\"/>\n<polygon fill=\"#000000\" points=\"326.1256,-137.544 333.1808,-129.6399 322.7364,-131.4191 326.1256,-137.544\" stroke=\"#000000\"/>\n</g>\n<!-- 139881755487632&#45;&gt;139881755536464 -->\n<g class=\"edge\" id=\"edge6\">\n<title>139881755487632-&gt;139881755536464</title>\n<path d=\"M499.8099,-166.3799C478.9017,-156.3488 454.2514,-144.5224 432.404,-134.0406\" fill=\"none\" stroke=\"#000000\"/>\n<polygon fill=\"#000000\" points=\"433.7615,-130.81 423.2315,-129.6399 430.7335,-137.1212 433.7615,-130.81\" stroke=\"#000000\"/>\n</g>\n<!-- 139881755611856 -->\n<g class=\"node\" id=\"node8\">\n<title>139881755611856</title>\n<polygon fill=\"none\" points=\"240.5,-.5 240.5,-46.5 509.5,-46.5 509.5,-.5 240.5,-.5\" stroke=\"#000000\"/>\n<text fill=\"#000000\" font-family=\"Times,serif\" font-size=\"14.00\" text-anchor=\"middle\" x=\"310\" y=\"-19.8\">activation: Activation</text>\n<polyline fill=\"none\" points=\"379.5,-.5 379.5,-46.5 \" stroke=\"#000000\"/>\n<text fill=\"#000000\" font-family=\"Times,serif\" font-size=\"14.00\" text-anchor=\"middle\" x=\"408.5\" y=\"-31.3\">input:</text>\n<polyline fill=\"none\" points=\"379.5,-23.5 437.5,-23.5 \" stroke=\"#000000\"/>\n<text fill=\"#000000\" font-family=\"Times,serif\" font-size=\"14.00\" text-anchor=\"middle\" x=\"408.5\" y=\"-8.3\">output:</text>\n<polyline fill=\"none\" points=\"437.5,-.5 437.5,-46.5 \" stroke=\"#000000\"/>\n<text fill=\"#000000\" font-family=\"Times,serif\" font-size=\"14.00\" text-anchor=\"middle\" x=\"473.5\" y=\"-31.3\">(None, 1)</text>\n<polyline fill=\"none\" points=\"437.5,-23.5 509.5,-23.5 \" stroke=\"#000000\"/>\n<text fill=\"#000000\" font-family=\"Times,serif\" font-size=\"14.00\" text-anchor=\"middle\" x=\"473.5\" y=\"-8.3\">(None, 1)</text>\n</g>\n<!-- 139881755536464&#45;&gt;139881755611856 -->\n<g class=\"edge\" id=\"edge7\">\n<title>139881755536464-&gt;139881755611856</title>\n<path d=\"M375,-83.3799C375,-75.1745 375,-65.7679 375,-56.8786\" fill=\"none\" stroke=\"#000000\"/>\n<polygon fill=\"#000000\" points=\"378.5001,-56.784 375,-46.784 371.5001,-56.784 378.5001,-56.784\" stroke=\"#000000\"/>\n</g>\n</g>\n</svg>"
          },
          "metadata": {
            "tags": []
          },
          "execution_count": 19
        }
      ]
    },
    {
      "cell_type": "markdown",
      "metadata": {
        "id": "zbOcZD6igpxy"
      },
      "source": [
        "###**6.Training the Model**\n",
        "\n",
        "Run the following block of code to train the model for 5 epochs:"
      ]
    },
    {
      "cell_type": "code",
      "metadata": {
        "colab": {
          "base_uri": "https://localhost:8080/"
        },
        "id": "RmQN4r52gmLR",
        "outputId": "de4a85a1-45c9-4c31-8e32-edb5e12f0031"
      },
      "source": [
        "import numpy as np\n",
        "\n",
        "NUM_EPOCHS = 5\n",
        "\n",
        "for epoch in range(1, NUM_EPOCHS+1):\n",
        "    epoch_loss = 0\n",
        "    for i, sent_examples in enumerate(skip_grams):\n",
        "        target_wds = np.array([pair[0] for pair in sent_examples[0]], dtype='int32')\n",
        "        context_wds = np.array([pair[1] for pair in sent_examples[0]], dtype='int32')\n",
        "        labels = np.array(sent_examples[1], dtype='int32')\n",
        "        X = [target_wds, context_wds]\n",
        "        Y = labels\n",
        "        if i % 5000 == 0: \n",
        "        \tprint('Processed %d sentences' %i)\n",
        "        epoch_loss += model.train_on_batch(X, Y)\n",
        "    print('Processed all %d sentences' %i)\n",
        "    print('Epoch:', epoch, 'Loss:', epoch_loss, '\\n')\n",
        "\n"
      ],
      "execution_count": null,
      "outputs": [
        {
          "output_type": "stream",
          "text": [
            "Processed 0 sentences\n",
            "Processed 5000 sentences\n",
            "Processed 10000 sentences\n",
            "Processed all 13922 sentences\n",
            "Epoch: 1 Loss: 2590.3710163030773 \n",
            "\n",
            "Processed 0 sentences\n",
            "Processed 5000 sentences\n",
            "Processed 10000 sentences\n",
            "Processed all 13922 sentences\n",
            "Epoch: 2 Loss: 2197.0485896533355 \n",
            "\n",
            "Processed 0 sentences\n",
            "Processed 5000 sentences\n",
            "Processed 10000 sentences\n",
            "Processed all 13922 sentences\n",
            "Epoch: 3 Loss: 2141.438904635608 \n",
            "\n",
            "Processed 0 sentences\n",
            "Processed 5000 sentences\n",
            "Processed 10000 sentences\n",
            "Processed all 13922 sentences\n",
            "Epoch: 4 Loss: 2095.4548662034795 \n",
            "\n",
            "Processed 0 sentences\n",
            "Processed 5000 sentences\n",
            "Processed 10000 sentences\n",
            "Processed all 13922 sentences\n",
            "Epoch: 5 Loss: 2033.8358700186945 \n",
            "\n"
          ],
          "name": "stdout"
        }
      ]
    },
    {
      "cell_type": "markdown",
      "metadata": {
        "id": "Sj6BiOKfiI7R"
      },
      "source": [
        "The training takes about 10 minutes to run.\n",
        "\n",
        "<br>\n",
        "\n",
        "In the introduction, we outlined two approaches to training using the skipgram architecture. In this tutorial, we implemented the negative sampling training approach. While waiting for the training to complete, read this article http://mccormickml.com/2016/04/19/word2vec-tutorial-the-skip-gram-model/. It contains the skipgram model with softmax training. \n",
        "\n",
        "<br>\n",
        "\n",
        "After reading the article, answer the following questions:  \n",
        "●\tWhat would the inputs and outputs to the model be?\n",
        "\n",
        "●\tHow would you use the Keras framework to create this architecture?\n",
        "\n",
        "●\tWhat are the reasons this training approach is \n",
        "considered inefficient?\n"
      ]
    },
    {
      "cell_type": "markdown",
      "metadata": {
        "id": "SV8S8ZdO9usT"
      },
      "source": [
        "Question 1: What would the inputs and outputs to the model be? <br/>\n",
        "Answer:\n",
        "**<i> <font color ='darkblue'> Input to the mentioned model is the one-hot vector representation for target words which are the input words here and the output is in the form of probability distribution which is the output that we get from the softmax function.</font></i>**"
      ]
    },
    {
      "cell_type": "markdown",
      "metadata": {
        "id": "3qUOIMW7-Fnv"
      },
      "source": [
        "Question 2: How would you use the Keras framework to create this architecture? <br/>\n",
        "Answer: **<i> <font color ='darkblue'>The model architecture will consist of an input layer which takes in input of size equal to the length of one-hot representation of words, a hidden dense layer with 300 units, followed by the output layer with softmax as the activation function as we want the output to be a probability distribution for each word in the vocabulary. The model makes use of gradient descent as an optimizer and has MSE as the loss function. Code for this model is given below:\n",
        "</font></i>** \n",
        "\n",
        "input_layer = Input(shape = (10000,)) <br/>\n",
        "hidden_dense_layer = Dense(300)(input_layer) <br/>\n",
        "output_layer = Dense(10000, activation = 'softmax')(hidden_dense_layer) <br/>\n",
        "model = Model(inputs = input_layer, outputs = output_layer) "
      ]
    },
    {
      "cell_type": "markdown",
      "metadata": {
        "id": "g8s3_Hf9-NFi"
      },
      "source": [
        "Question 3: What are the reasons this training approach is considered inefficient? <br/>\n",
        "Answer: **<i> <font color ='darkblue'>The model takes in 10000 words in the vocabulary and has 300 features resulting in 3M weights which needs to be trained and this is computationaly costly and also risks overfitting. Also, probability of choosing common words is higher as compared to the probability of choosing rarer words for which Negative Sampling could be considered.  </font></i>**"
      ]
    },
    {
      "cell_type": "markdown",
      "metadata": {
        "id": "Bwz_8kTZ6UVF"
      },
      "source": [
        "###**7. Getting the Word Embeddings**\n",
        "\n",
        "The word embeddings are the weights of the target word embedding layer.\n"
      ]
    },
    {
      "cell_type": "code",
      "metadata": {
        "colab": {
          "base_uri": "https://localhost:8080/"
        },
        "id": "kiQTO6VgcN90",
        "outputId": "8dc9f94a-5139-4c4d-da7b-baf804efa424"
      },
      "source": [
        "word_embeddings = model.get_layer('target_embed_layer').get_weights()[0] \n",
        "\n",
        "# should return (VOCAB_SIZE, EMBED_SIZE)\n",
        "print(word_embeddings.shape)"
      ],
      "execution_count": null,
      "outputs": [
        {
          "output_type": "stream",
          "text": [
            "(10084, 100)\n"
          ],
          "name": "stdout"
        }
      ]
    },
    {
      "cell_type": "markdown",
      "metadata": {
        "id": "33-QRJFv6v5t"
      },
      "source": [
        "Print out a few words and their embeddings using the next block of code. Your output may not be exactly as above but the command should print 10 words and their respective vectors."
      ]
    },
    {
      "cell_type": "code",
      "metadata": {
        "colab": {
          "base_uri": "https://localhost:8080/"
        },
        "id": "HffZwwLUcXb1",
        "outputId": "c643733d-f251-41d5-bc37-656b7704c8ad"
      },
      "source": [
        "from pandas import DataFrame\n",
        "\n",
        "print(DataFrame(word_embeddings, index=idx2word.values()).head(10))"
      ],
      "execution_count": null,
      "outputs": [
        {
          "output_type": "stream",
          "text": [
            "                   0         1         2   ...        97        98        99\n",
            "sense        0.022132 -0.021818 -0.014919  ... -0.023806  0.006483 -0.005479\n",
            "sensibility  0.006892  0.013031  0.009114  ... -0.033868 -0.024282 -0.008528\n",
            "jane        -0.006343 -0.114453 -0.115419  ...  0.026720  0.011113 -0.004903\n",
            "austen      -0.017108 -0.004009  0.012293  ... -0.038474 -0.023167  0.030859\n",
            "family      -0.056714 -0.051039 -0.032007  ... -0.036367 -0.015014  0.068005\n",
            "dashwood    -0.088098  0.094064  0.062374  ... -0.083655  0.032214  0.117312\n",
            "long         0.002460  0.024011 -0.032046  ...  0.042740 -0.071517  0.116967\n",
            "settled      0.015020  0.012760 -0.009831  ... -0.013363 -0.016120 -0.001037\n",
            "sussex      -0.031684  0.029758  0.025280  ...  0.017535 -0.027242  0.019020\n",
            "estate      -0.007590  0.031553  0.018864  ... -0.004872  0.013545  0.041610\n",
            "\n",
            "[10 rows x 100 columns]\n"
          ],
          "name": "stdout"
        }
      ]
    },
    {
      "cell_type": "markdown",
      "metadata": {
        "id": "-Ki8NtrS7ezr"
      },
      "source": [
        "###**8.  Measuring Similarity Between Word Pairs**\n",
        "\n"
      ]
    },
    {
      "cell_type": "code",
      "metadata": {
        "id": "dbb-uoe666oV",
        "colab": {
          "base_uri": "https://localhost:8080/"
        },
        "outputId": "9f1c5a67-c4f2-488a-e8ae-54f2f4914d4d"
      },
      "source": [
        "from sklearn.metrics.pairwise import cosine_similarity\n",
        "\n",
        "similarity_matrix = cosine_similarity(word_embeddings)\n",
        "\n",
        "# should print(VOCAB_SIZE, VOCAB_SIZE)\n",
        "print(similarity_matrix.shape)   "
      ],
      "execution_count": null,
      "outputs": [
        {
          "output_type": "stream",
          "text": [
            "(10084, 10084)\n"
          ],
          "name": "stdout"
        }
      ]
    },
    {
      "cell_type": "markdown",
      "metadata": {
        "id": "k0fyfgvB90G5"
      },
      "source": [
        "###**9. Exploring and Visualizing your Word Embeddings using t-SNE**\n",
        "\n",
        "**A.\tGet the most similar words to the search items in the list below**\n",
        "\n",
        "search_terms = ['family', 'love', 'equality', 'wisdom', 'justice',  'humour', 'rejection']\n",
        "\n",
        "\n",
        "**Sanity check:**\n",
        "The similar words obtained would depend on your training but the above command should print a dictionary. Each key is a search term and each value is a list of the 5 words the model predicts to be most similar to the key word. \n"
      ]
    },
    {
      "cell_type": "code",
      "metadata": {
        "colab": {
          "base_uri": "https://localhost:8080/"
        },
        "id": "hWbSfqYschRs",
        "outputId": "644ac186-7cbc-460e-da0e-bc5890161580"
      },
      "source": [
        "import numpy\n",
        "import operator\n",
        "import itertools\n",
        "search_terms = ['think', 'thought', 'mr', 'friend', 'love', 'disdain']\n",
        "\n",
        "# write code to get the 5 words most similar to the words in search_terms\n",
        "similar_words = dict()\n",
        "def take(n, iterable):\n",
        "    \"Return first n items of the iterable as a list\"\n",
        "    return list(islice(iterable, n))\n",
        "\n",
        "for search_word in search_terms:\n",
        "    print('Search term: '+search_word)\n",
        "    index = word2idx[search_word] \n",
        "    similar_word_vector = similarity_matrix[index] \n",
        "    similar_word_dict = {idx2word[i]:similar_word_vector[i] for i in range(len(similar_word_vector))} \n",
        "    sorted_items = dict(sorted(similar_word_dict.items(),key=operator.itemgetter(1), reverse=True)) \n",
        "    out = dict(itertools.islice(sorted_items.items(), 5)) \n",
        "    print('Similar words: ')\n",
        "    print(list(out.keys()))"
      ],
      "execution_count": null,
      "outputs": [
        {
          "output_type": "stream",
          "text": [
            "Search term: think\n",
            "Similar words: \n",
            "['think', 'hope', 'never', 'business', 'family']\n",
            "Search term: thought\n",
            "Similar words: \n",
            "['thought', 'never', 'much', 'father', 'indeed']\n",
            "Search term: mr\n",
            "Similar words: \n",
            "['mr', 'knightley', 'robert', 'elliot', 'elton']\n",
            "Search term: friend\n",
            "Similar words: \n",
            "['friend', 'weston', 'way', 'soon', 'first']\n",
            "Search term: love\n",
            "Similar words: \n",
            "['love', 'rather', 'mother', 'said', 'set']\n",
            "Search term: disdain\n",
            "Similar words: \n",
            "['disdain', 'gracious', 'precise', 'profits', 'willingness']\n"
          ],
          "name": "stdout"
        }
      ]
    },
    {
      "cell_type": "markdown",
      "metadata": {
        "id": "RGpRXAme33OA"
      },
      "source": [
        " **<i> <font color ='darkblue'>In this task, we fetch the row corresponding to each word we want to find similar words for where the row has values for similarity measure between the word under consideration and the word in each column. We use each index in the extracted list to extract the word using idx2word and create a dictionary similar_word_dict such that key is the extracted similar word and value is the similarity measure. We sort this dictionary items by descending order of similarity measure and display the top 5 dictionary items.  </font></i>**"
      ]
    },
    {
      "cell_type": "markdown",
      "metadata": {
        "id": "5I_X9W-vGXiZ"
      },
      "source": [
        "**B. Plot the words in the dictionary above using t-SN**E https://lvdmaaten.github.io/tsne/ \n",
        "\n",
        "Plot 50 of the word embeddings using the code snippets below:\n",
        "\n",
        "\n",
        "\n",
        "\n",
        "\n",
        "\n",
        "\n",
        "\n",
        "\n",
        "\n",
        "\n",
        "\n"
      ]
    },
    {
      "cell_type": "code",
      "metadata": {
        "id": "FMnyCjS4cnb8",
        "colab": {
          "base_uri": "https://localhost:8080/",
          "height": 483
        },
        "outputId": "7e1d679f-50e4-4b79-c0e3-a4039a705639"
      },
      "source": [
        "from sklearn.manifold import TSNE\n",
        "import matplotlib.pyplot as plt\n",
        "\n",
        "tsne = TSNE(perplexity=3, n_components=2, init='pca', n_iter=5000, method='exact')\n",
        "np.set_printoptions(suppress=True)\n",
        "plot_only = 50 \n",
        "\n",
        "T = tsne.fit_transform(word_embeddings[:plot_only, :])\n",
        "labels = [idx2word[i+1] for i in range(plot_only)]\n",
        "plt.figure(figsize=(14, 8))\n",
        "plt.scatter(T[:, 0], T[:, 1])\n",
        "for label, x, y in zip(labels, T[:, 0], T[:, 1]):\n",
        "    plt.annotate(label, xy=(x+1, y+1), xytext=(0, 0), textcoords='offset points', ha='right', va='bottom')                      \t                        \n",
        "\n"
      ],
      "execution_count": null,
      "outputs": [
        {
          "output_type": "display_data",
          "data": {
            "image/png": "[encoded data removed]",
            "text/plain": [
              "<Figure size 1008x576 with 1 Axes>"
            ]
          },
          "metadata": {
            "tags": [],
            "needs_background": "light"
          }
        }
      ]
    },
    {
      "cell_type": "markdown",
      "metadata": {
        "id": "OsCVTRUMP1qi"
      },
      "source": [
        "**10. Resources used**\n",
        "\n",
        "http://jalammar.github.io/illustrated-word2vec/\n",
        "https://adventuresinmachinelearning.com/word2vec-tutorial-tensorflow/ \n",
        "https://towardsdatascience.com/understanding-feature-engineering-part-4-deep-learning-methods-for-text-data-96c44370bbfa \n",
        "https://adventuresinmachinelearning.com/word2vec-keras-tutorial/ \n",
        "https://www.tensorflow.org/tutorials/representation/word2vec#the_skip-gram_model \n",
        "https://github.com/tensorflow/tensorflow/blob/master/tensorflow/examples/tutorials/word2vec/word2vec_basic.py \n",
        "\n"
      ]
    }
  ]
}