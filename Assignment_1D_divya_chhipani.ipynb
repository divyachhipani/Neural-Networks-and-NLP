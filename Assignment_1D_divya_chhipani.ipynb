{
  "nbformat": 4,
  "nbformat_minor": 0,
  "metadata": {
    "colab": {
      "name": "Assignment_1D_divya_chhipani.ipynb",
      "provenance": [],
      "collapsed_sections": [],
      "toc_visible": true,
      "machine_shape": "hm"
    },
    "kernelspec": {
      "display_name": "Python 3",
      "language": "python",
      "name": "python3"
    },
    "language_info": {
      "codemirror_mode": {
        "name": "ipython",
        "version": 3
      },
      "file_extension": ".py",
      "mimetype": "text/x-python",
      "name": "python",
      "nbconvert_exporter": "python",
      "pygments_lexer": "ipython3",
      "version": "3.6.12"
    }
  },
  "cells": [
    {
      "cell_type": "markdown",
      "metadata": {
        "id": "hExKCzh6doIW"
      },
      "source": [
        "# Lab 5 - Topic-based Sentiment Analysis with a Real Dataset\n",
        "\n",
        "\n",
        "---\n",
        "\n",
        "\n",
        "\n",
        "\n",
        "\n",
        "\n",
        "\n",
        "\n",
        "\n",
        "\n",
        "\n",
        "\n",
        "\n"
      ]
    },
    {
      "cell_type": "markdown",
      "metadata": {
        "id": "HixoFOoCIJ7V"
      },
      "source": [
        "In this session, we will build a model for topic-based sentiment analysis: detecting sentiment towards a topic (or target) which is not necessarily present in the text. We use a dataset from a recent public shared task: SemEval 2017 Task 4 subtask B. You can find the whole task description here: https://alt.qcri.org/semeval2017/task4/data/uploads/semeval2017-task4.pdf.\n",
        "\n",
        "Semeval 2017 task4(subtask B) provides a tweet text dataset with topics.\n",
        "Given a tweet and a topic, we need to classify the sentiment conveyed towards that topic on a  two-point scale:   POSITIVE vs. NEGATIVE.\n",
        "Although it is still a binary classification task, this classifier needs to analyze the text and its topic. \n",
        "\n",
        "As before, we are going to use Keras Sequential API in this session. The Sequential API allows you to make models layer-by-layer. You could modify the previous models to fit in the new task."
      ]
    },
    {
      "cell_type": "code",
      "metadata": {
        "id": "m8fpBfhBpupy"
      },
      "source": [
        "import keras\n",
        "import numpy as np\n",
        "from keras.layers import Lambda, GlobalAveragePooling1D, Dense, Embedding\n",
        "from keras import backend as K\n",
        "from keras.models import Sequential\n",
        "import matplotlib.pyplot as plt\n",
        "\n",
        "from keras.layers import LSTM, RNN, Dropout, Input, LeakyReLU, Bidirectional,Conv1D, GlobalMaxPooling1D\n",
        "from keras.layers.core import Dense\n",
        "from keras.models import Model\n",
        "from keras.utils import plot_model\n"
      ],
      "execution_count": null,
      "outputs": []
    },
    {
      "cell_type": "markdown",
      "metadata": {
        "id": "cqvPQvgvPv1W"
      },
      "source": [
        "### Downloading and preprocessing data"
      ]
    },
    {
      "cell_type": "markdown",
      "metadata": {
        "id": "EundMtGPpCdf"
      },
      "source": [
        "Unlike the IMDB dataset we used in previous labs, which is included and preprocessed by Keras, the \n",
        "SemEval dataset we will be using here must be downloaded separately. The data is not balanced: the numbers of positive and negative instances are not equal, in either training or test set.\n"
      ]
    },
    {
      "cell_type": "code",
      "metadata": {
        "colab": {
          "base_uri": "https://localhost:8080/"
        },
        "id": "NyuSzkafqNca",
        "outputId": "b05fdc77-3c02-4923-9064-bf606535bd8c"
      },
      "source": [
        "import requests\n",
        "def downloadfile(url):\n",
        "  rq = requests.get(url)\n",
        "  open(url.split('/')[-1], 'wb').write(rq.content)\n",
        "\n",
        "downloadfile('https://raw.githubusercontent.com/cbaziotis/datastories-semeval2017-task4/master/dataset/Subtask_BD/downloaded/twitter-2016devtest-BD.tsv')\n",
        "downloadfile('https://raw.githubusercontent.com/cbaziotis/datastories-semeval2017-task4/master/dataset/Subtask_BD/downloaded/twitter-2016dev-BD.tsv')\n",
        "downloadfile('https://raw.githubusercontent.com/cbaziotis/datastories-semeval2017-task4/master/dataset/Subtask_BD/downloaded/twitter-2016test-BD.tsv')\n",
        "downloadfile('https://raw.githubusercontent.com/cbaziotis/datastories-semeval2017-task4/master/dataset/Subtask_BD/downloaded/twitter-2016train-BD.tsv')\n",
        "downloadfile('https://raw.githubusercontent.com/cbaziotis/datastories-semeval2017-task4/master/dataset/Subtask_BD/downloaded/twitter-2015test-BD.tsv')\n",
        "downloadfile('https://raw.githubusercontent.com/cbaziotis/datastories-semeval2017-task4/master/dataset/Subtask_BD/downloaded/twitter-2015train-BD.tsv')\n",
        "\n",
        "downloadfile('https://raw.githubusercontent.com/cbaziotis/datastories-semeval2017-task4/master/dataset/Subtask_BD/gold/SemEval2017-task4-test.subtask-BD.english.txt')\n",
        "\n",
        "with open('twitter-2016dev-BD.tsv', 'r') as f:\n",
        "  dev_original = [l.strip().split('\\t') for l in f.readlines()]\n",
        "with open('SemEval2017-task4-test.subtask-BD.english.txt', 'r') as f:\n",
        "  test_original = [l.strip().split('\\t') for l in f.readlines()]\n",
        "train_original = []\n",
        "with open('twitter-2016train-BD.tsv', 'r') as f:\n",
        "  train_original = [l.strip().split('\\t') for l in f.readlines()]\n",
        "with open('twitter-2016test-BD.tsv', 'r') as f:\n",
        "  train_original.extend([l.strip().split('\\t') for l in f.readlines()])\n",
        "with open('twitter-2016devtest-BD.tsv', 'r') as f:\n",
        "  train_original.extend([l.strip().split('\\t') for l in f.readlines()])\n",
        "with open('twitter-2015test-BD.tsv', 'r') as f:\n",
        "  train_original.extend([l.strip().split('\\t') for l in f.readlines() if l.strip().split('\\t')[2] in ['negative','positive']])\n",
        "with open('twitter-2015train-BD.tsv', 'r') as f:\n",
        "  train_original.extend([l.strip().split('\\t') for l in f.readlines() if l.strip().split('\\t')[2] in ['negative','positive']])\n",
        "\n",
        "print(\"Training entries: {}\".format(len(train_original)))\n",
        "print(\"Development entries: {}\".format(len(dev_original)))\n",
        "print(\"Testing entries: {}\".format(len(test_original)))"
      ],
      "execution_count": null,
      "outputs": [
        {
          "output_type": "stream",
          "text": [
            "Training entries: 17639\n",
            "Development entries: 1325\n",
            "Testing entries: 6185\n"
          ],
          "name": "stdout"
        }
      ]
    },
    {
      "cell_type": "markdown",
      "metadata": {
        "id": "6U4iCV9-rmay"
      },
      "source": [
        "We now can start playing around with the data, let’s first see some examples:"
      ]
    },
    {
      "cell_type": "code",
      "metadata": {
        "colab": {
          "base_uri": "https://localhost:8080/"
        },
        "id": "h-gjWRAuqg5s",
        "outputId": "a7fa2f58-3e1b-499d-d93e-3bd5837f9328"
      },
      "source": [
        "print(\"ID \\t TOPIC \\t LABLE \\t TWEET_TEXT\")\n",
        "print(train_original[0])\n",
        "print(train_original[1])\n",
        "print(train_original[2])\n",
        "print(train_original[3])\n",
        "print(train_original[4])"
      ],
      "execution_count": null,
      "outputs": [
        {
          "output_type": "stream",
          "text": [
            "ID \t TOPIC \t LABLE \t TWEET_TEXT\n",
            "['628949369883000832', '@microsoft', 'negative', \"dear @Microsoft the newOoffice for Mac is great and all, but no Lync update? C'mon.\"]\n",
            "['628976607420645377', '@microsoft', 'negative', \"@Microsoft how about you make a system that doesn't eat my friggin discs. This is the 2nd time this has happened and I am so sick of it!\"]\n",
            "['629023169169518592', '@microsoft', 'negative', \"I may be ignorant on this issue but... should we celebrate @Microsoft's parental leave changes? Doesn't the gender divide suggest... (1/2)\"]\n",
            "['629179223232479232', '@microsoft', 'negative', 'Thanks to @microsoft, I just may be switching over to @apple.']\n",
            "['629226490152914944', '@microsoft', 'positive', 'Microsoft, I may not prefer your gaming branch of business. But, you do make a damn fine operating system. #Windows10 @Microsoft']\n"
          ],
          "name": "stdout"
        }
      ]
    },
    {
      "cell_type": "markdown",
      "metadata": {
        "id": "MTRZrpcyr-4x"
      },
      "source": [
        "Build a vocabulary based on the training dataset. "
      ]
    },
    {
      "cell_type": "code",
      "metadata": {
        "colab": {
          "base_uri": "https://localhost:8080/"
        },
        "id": "79Ev72Kgq4XL",
        "outputId": "d8a43e8b-229c-4d30-c1d9-a44794cca185"
      },
      "source": [
        "voc = []\n",
        "from keras.preprocessing.text import text_to_word_sequence\n",
        "for example in train_original:\n",
        "  topic_tokens = text_to_word_sequence(example[1])\n",
        "  text_tokens = text_to_word_sequence(example[3])\n",
        "  voc.extend(topic_tokens)\n",
        "  voc.extend(text_tokens)\n",
        "voc = set(voc)\n",
        "print(len(voc))\n",
        "\n",
        "word_index = dict()\n",
        "word_index[\"<PAD>\"] = 0\n",
        "word_index[\"<START>\"] = 1\n",
        "word_index[\"<UNK>\"] = 2  \n",
        "word_index[\"<EOS>\"] = 3\n",
        "for w in voc:\n",
        "  word_index[w] = len(word_index)\n",
        "print(len(word_index))"
      ],
      "execution_count": null,
      "outputs": [
        {
          "output_type": "stream",
          "text": [
            "32571\n",
            "32575\n"
          ],
          "name": "stdout"
        }
      ]
    },
    {
      "cell_type": "markdown",
      "metadata": {
        "id": "Tvuu4KhStqei"
      },
      "source": [
        "According to the word_index and the tokenizer function (text_to_word_sequence), we can convert the tweet text and topic words to word tokens and integers separately:\n"
      ]
    },
    {
      "cell_type": "code",
      "metadata": {
        "colab": {
          "base_uri": "https://localhost:8080/"
        },
        "id": "gMCH1OoDrSNR",
        "outputId": "716f8e1c-febe-4a74-8905-250c19dc004d"
      },
      "source": [
        "\n",
        "x_train_tweet = []\n",
        "x_train_topic = []\n",
        "x_train_tweet_int = []\n",
        "x_train_topic_int = []\n",
        "\n",
        "for example in train_original:\n",
        "  x_train_topic.append(text_to_word_sequence(example[1]))\n",
        "  x_train_tweet.append(text_to_word_sequence(example[3]))\n",
        "  x_train_tweet_int.append([word_index[x] for x in text_to_word_sequence(example[3])])\n",
        "  x_train_topic_int.append([word_index[x] for x in text_to_word_sequence(example[1])])\n",
        "\n",
        "x_dev_tweet = []\n",
        "x_dev_topic = []\n",
        "x_dev_tweet_int = []\n",
        "x_dev_topic_int = []\n",
        "for example in dev_original:\n",
        "  word_list_tweet = []\n",
        "  word_list_topic = []\n",
        "  x_dev_topic.append(text_to_word_sequence(example[1]))\n",
        "  x_dev_tweet.append(text_to_word_sequence(example[3]))\n",
        "  for word in text_to_word_sequence(example[3]): \n",
        "    if word in word_index.keys():\n",
        "      word_list_tweet.append(word_index[word])\n",
        "    else:\n",
        "      word_list_tweet.append(word_index[\"<UNK>\"])\n",
        "  x_dev_tweet_int.append(word_list_tweet)\n",
        "  for word in text_to_word_sequence(example[1]):\n",
        "    if word in word_index.keys():\n",
        "      word_list_topic.append(word_index[word])\n",
        "    else:\n",
        "      word_list_topic.append(word_index[\"<UNK>\"])\n",
        "  x_dev_topic_int.append(word_list_topic)\n",
        "\n",
        "x_test_tweet = []\n",
        "x_test_topic = []\n",
        "x_test_tweet_int = []\n",
        "x_test_topic_int = []\n",
        "for example in test_original:\n",
        "  word_list_tweet = []\n",
        "  word_list_topic = []\n",
        "  x_test_topic.append(text_to_word_sequence(example[1]))\n",
        "  x_test_tweet.append(text_to_word_sequence(example[3]))\n",
        "  # x_test_tweet_int.append([word_index[x] for x in text_to_word_sequence(example[3])])\n",
        "  for word in text_to_word_sequence(example[3]): \n",
        "    if word in word_index.keys():\n",
        "      word_list_tweet.append(word_index[word])\n",
        "    else:\n",
        "      word_list_tweet.append(word_index[\"<UNK>\"])\n",
        "  x_test_tweet_int.append(word_list_tweet)\n",
        "  # x_test_topic_int.append([word_index[x] for x in text_to_word_sequence(example[1])])\n",
        "  for word in text_to_word_sequence(example[1]):\n",
        "    if word in word_index.keys():\n",
        "      word_list_topic.append(word_index[word])\n",
        "    else:\n",
        "      word_list_topic.append(word_index[\"<UNK>\"])\n",
        "  x_test_topic_int.append(word_list_topic)\n",
        "\n",
        "# If use the previous word_index, you can get a print result like:\n",
        "assert len(x_train_topic) == len(train_original)\n",
        "assert len(x_train_topic) == len(x_train_topic_int)\n",
        "assert len(x_test_topic) == len(test_original)\n",
        "assert len(x_test_topic) == len(x_test_topic_int)\n",
        "print(\"x_dev_tweet[0]:\")\n",
        "print(x_dev_tweet[0])\n",
        "print(\"x_dev_topic[0]:\")\n",
        "print(x_dev_topic[0])\n",
        "print(\"x_dev_tweet_int[0]:\")\n",
        "print(x_dev_tweet_int[0])\n",
        "print(\"x_dev_topic_int[0]:\")\n",
        "print(x_dev_topic_int[0])"
      ],
      "execution_count": null,
      "outputs": [
        {
          "output_type": "stream",
          "text": [
            "x_dev_tweet[0]:\n",
            "['jay', 'z', 'joins', 'instagram', 'with', 'nostalgic', 'tribute', 'to', 'michael', 'jackson', 'jay', 'z', 'apparently', 'joined', 'instagram', 'on', 'saturday', 'and', 'http', 't', 'co', 'qj9i4ecvxy']\n",
            "x_dev_topic[0]:\n",
            "['michael', 'jackson']\n",
            "x_dev_tweet_int[0]:\n",
            "[18710, 17453, 26499, 16330, 24596, 19751, 15719, 15905, 28271, 26249, 18710, 17453, 1902, 26280, 16330, 25930, 30680, 18645, 13967, 13402, 2664, 2]\n",
            "x_dev_topic_int[0]:\n",
            "[28271, 26249]\n"
          ],
          "name": "stdout"
        }
      ]
    },
    {
      "cell_type": "markdown",
      "metadata": {
        "id": "vAplvpXXaNRg"
      },
      "source": [
        "**<i><font color ='darkblue'>For preprocessing tweets and topics separately, we have used the corresponding columns from train_original, dev_original and test_original. We have tokenised the text in tweets and tokens using text_to_word_sequence(). For converting each token in tweet and topic to corresponding integer, we use the word_index dictionary. For development and test set, if we encounter a token which is not  present in word_index, we consider it as an unknown word and use the integer for \\<UNK> i.e 2.</font></i>**  "
      ]
    },
    {
      "cell_type": "markdown",
      "metadata": {
        "id": "5IreFXgruZot"
      },
      "source": [
        "We use 1 to represent \"positive\" and 0 for \"negative\" and generate the \"y\" data similar to previous labs."
      ]
    },
    {
      "cell_type": "code",
      "metadata": {
        "colab": {
          "base_uri": "https://localhost:8080/"
        },
        "id": "abIb7Fe5u3GQ",
        "outputId": "3b34a738-a616-4c73-f28c-22b7db5dea9f"
      },
      "source": [
        "def label2int(dataset):\n",
        "  y = []\n",
        "  for example in dataset:\n",
        "    if example[2].lower() == \"negative\":\n",
        "      y.append(0)\n",
        "    else:\n",
        "      y.append(1)\n",
        "  return y\n",
        "  \n",
        "y_train = label2int(train_original)\n",
        "y_dev = label2int(dev_original)\n",
        "y_test = label2int(test_original)\n",
        "y_train = np.array(y_train)\n",
        "y_dev = np.array(y_dev)\n",
        "y_test = np.array(y_test)\n",
        "\n",
        "print(y_train[0])\n",
        "print(y_train[1])\n",
        "print(y_train[2])\n",
        "print(y_train[3])\n",
        "print(y_train[4])"
      ],
      "execution_count": null,
      "outputs": [
        {
          "output_type": "stream",
          "text": [
            "0\n",
            "0\n",
            "0\n",
            "0\n",
            "1\n"
          ],
          "name": "stdout"
        }
      ]
    },
    {
      "cell_type": "markdown",
      "metadata": {
        "id": "9TnnSuspvC5b"
      },
      "source": [
        "Now we have almost done the data preprocessing. Unlike the previous lab, there are two x (tweet and topic) to input the model in here. The easiest way is to combine the tweet and topic into one sentence and then input it into the model. Thus we can use the previous model directly.\n",
        "\n",
        "Note: the IMDB does not contain a development set, so we split part of the training data as a development set. In SEMEVAL2017, there is a development set, so we do not need to split the training data and do not forget to preprocess the development set data."
      ]
    },
    {
      "cell_type": "code",
      "metadata": {
        "colab": {
          "base_uri": "https://localhost:8080/"
        },
        "id": "nKOiVVXQu-_I",
        "outputId": "70539070-8056-4fd7-8395-c974c7b08b19"
      },
      "source": [
        "\n",
        "# Tips: \n",
        "# 1) We can use the special token <START> to concatenate the tweets and topics.\n",
        "# 2) After combine them, do not foget to pad the sequences.\n",
        "\n",
        "\n",
        "#Training data concatenation\n",
        "x_train = []\n",
        "for i in range(len(train_original)):\n",
        "  for topic in x_train_topic[i]:\n",
        "    x_train_tokens = []\n",
        "    x_train_tokens.append(topic) \n",
        "    x_train_tokens.append('<START>')\n",
        "    for text in x_train_tweet[i]:\n",
        "      x_train_tokens.append(text)\n",
        "    x_train.append(x_train_tokens)\n",
        "\n",
        "x_train_int = []\n",
        "# for i in range(len(x_train)):\n",
        "#   x_train_tokens_int = []\n",
        "#   for word in x_train[i]:\n",
        "#     if word not in word_index.keys():\n",
        "#       x_train_tokens_int.append(word_index[\"<UNK>\"])  \n",
        "#     else:  \n",
        "#       x_train_tokens_int.append(word_index[word])\n",
        "#   x_train_int.append(x_train_tokens_int)\n",
        "for i in range(len(x_train_topic_int)):\n",
        "  innerList=[]\n",
        "  for k in x_train_topic_int[i]:\n",
        "    innerList.append(k)\n",
        "  innerList.append(word_index[\"<START>\"])\n",
        "  for j in x_train_tweet_int[i]:\n",
        "    innerList.append(j)\n",
        "  x_train_int.append(innerList)\n",
        "\n",
        "\n",
        "#Development data concatenation\n",
        "x_dev = []\n",
        "for i in range(len(dev_original)):\n",
        "  # x_dev\n",
        "  for topic in x_dev_topic[i]:\n",
        "    x_dev_tokens = []\n",
        "    x_dev_tokens.append(topic) \n",
        "    x_dev_tokens.append('<START>')\n",
        "    for text in x_dev_tweet[i]:\n",
        "      x_dev_tokens.append(text)\n",
        "    x_dev.append(x_dev_tokens)    \n",
        "\n",
        "x_dev_int = []\n",
        "for i in range(len(x_dev_topic_int)):\n",
        "  innerList=[]\n",
        "  for k in x_dev_topic_int[i]:\n",
        "    innerList.append(k)\n",
        "  innerList.append(word_index[\"<START>\"])\n",
        "  for j in x_dev_tweet_int[i]:\n",
        "    innerList.append(j)\n",
        "  x_dev_int.append(innerList)\n",
        "\n",
        "#Test data concatenation\n",
        "x_test = []\n",
        "for i in range(len(test_original)):\n",
        "  # x_test\n",
        "  for topic in x_test_topic[i]:\n",
        "    x_test_tokens = []\n",
        "    x_test_tokens.append(topic) \n",
        "    x_test_tokens.append('<START>')\n",
        "    for text in x_test_tweet[i]:\n",
        "      x_test_tokens.append(text)\n",
        "    x_test.append(x_test_tokens)        \n",
        "\n",
        "x_test_int = []\n",
        "for i in range(len(x_test_topic_int)):\n",
        "  innerList=[]\n",
        "  for k in x_test_topic_int[i]:\n",
        "    innerList.append(k)\n",
        "  innerList.append(word_index[\"<START>\"])\n",
        "  for j in x_test_tweet_int[i]:\n",
        "    innerList.append(j)\n",
        "  x_test_int.append(innerList)\n",
        "\n",
        "# Don't forget the to use np.array function to wrap the ouput of pad_sequences function, such as: x_train_pad = np.array(x_train_pad)\n",
        "# Only pad the *_int varibles\n",
        "print(\"Before paded:\")\n",
        "print(x_train[0])\n",
        "print(x_train_int[0])\n",
        "\n",
        "MAX_SEQUENCE_LENGTH = 128\n",
        "\n",
        "x_train_pad = np.array(keras.preprocessing.sequence.pad_sequences(x_train_int, value=word_index[\"<PAD>\"], padding='post', maxlen=128))\n",
        "\n",
        "x_dev_pad = np.array(keras.preprocessing.sequence.pad_sequences(x_dev_int, value=word_index[\"<PAD>\"], padding='post', maxlen=128))\n",
        "                                                 \n",
        "x_test_pad = np.array(keras.preprocessing.sequence.pad_sequences(x_test_int, value=word_index[\"<PAD>\"], padding='post', maxlen=128))\n",
        "                                                      \n",
        "print(\"After paded:\")\n",
        "print(x_train_pad[0])"
      ],
      "execution_count": null,
      "outputs": [
        {
          "output_type": "stream",
          "text": [
            "Before paded:\n",
            "['microsoft', '<START>', 'dear', 'microsoft', 'the', 'newooffice', 'for', 'mac', 'is', 'great', 'and', 'all', 'but', 'no', 'lync', 'update', \"c'mon\"]\n",
            "[10574, 1, 29919, 10574, 29619, 28821, 28419, 16398, 31288, 14011, 18645, 13106, 1999, 21442, 15511, 12292, 9371]\n",
            "After paded:\n",
            "[10574     1 29919 10574 29619 28821 28419 16398 31288 14011 18645 13106\n",
            "  1999 21442 15511 12292  9371     0     0     0     0     0     0     0\n",
            "     0     0     0     0     0     0     0     0     0     0     0     0\n",
            "     0     0     0     0     0     0     0     0     0     0     0     0\n",
            "     0     0     0     0     0     0     0     0     0     0     0     0\n",
            "     0     0     0     0     0     0     0     0     0     0     0     0\n",
            "     0     0     0     0     0     0     0     0     0     0     0     0\n",
            "     0     0     0     0     0     0     0     0     0     0     0     0\n",
            "     0     0     0     0     0     0     0     0     0     0     0     0\n",
            "     0     0     0     0     0     0     0     0     0     0     0     0\n",
            "     0     0     0     0     0     0     0     0]\n"
          ],
          "name": "stdout"
        }
      ]
    },
    {
      "cell_type": "markdown",
      "metadata": {
        "id": "vom9yqGMa6nN"
      },
      "source": [
        "**<i> <font color ='darkblue'>The lists generated from the previous pre-processing step for tweet and topic are concatenated in this step such that tokens for topic comes in the beginning follow by \\<START> and then the tokens for the corresponding tweet tokens. This is done for all the three datasets- training, development, test. Similarly, we concatenate the lists for integers for tweets and topics using the integer for \\<START> in between the integers corresponding to tokens of tweet and topic. Resulting lists are zero-padded using keras.preprocessing.sequence.pad_sequences such that all the rows have a maximum length of 128.</font></i>**"
      ]
    },
    {
      "cell_type": "markdown",
      "metadata": {
        "id": "a7OwOQw4h8RX"
      },
      "source": [
        "#Model 1: Previous models without pre-trained word embeddings"
      ]
    },
    {
      "cell_type": "markdown",
      "metadata": {
        "id": "3CuAHDGQ3Mmp"
      },
      "source": [
        "## Model 1-1: Neural bag of words without pre-trained word embeddings"
      ]
    },
    {
      "cell_type": "markdown",
      "metadata": {
        "id": "l-QzOMO_P4jc"
      },
      "source": [
        "Now we use the model2 in lab4 to deal with the SEMEVAL2017 task4 subtask B. We have preprocess the data to fit in this model in previous steps."
      ]
    },
    {
      "cell_type": "code",
      "metadata": {
        "id": "Yi04MLIvJOGZ"
      },
      "source": [
        "class GlobalAveragePooling1DMasked(GlobalAveragePooling1D):\n",
        "    def call(self, x, mask=None):\n",
        "        if mask != None:\n",
        "            return K.sum(x, axis=1) / K.sum(mask, axis=1)\n",
        "        else:\n",
        "            return super().call(x)\n"
      ],
      "execution_count": null,
      "outputs": []
    },
    {
      "cell_type": "code",
      "metadata": {
        "colab": {
          "base_uri": "https://localhost:8080/"
        },
        "id": "MFrCsL-NBFVL",
        "outputId": "7da97161-157d-41b7-ed2d-4be7ead331dc"
      },
      "source": [
        "\n",
        "# Inspect model performance with 1 hidden layer, pre-trained embeddings\n",
        "from keras.layers import Input, Embedding, Dense, LSTM, Lambda\n",
        "from keras.models import Model\n",
        "input_layer = Input(shape=(128,))\n",
        "embedding_layer = Embedding(mask_zero = False, input_length = 128, input_dim = 32575, output_dim = 100, embeddings_initializer='glorot_uniform')(input_layer)\n",
        "pooling_layer = GlobalAveragePooling1DMasked()(embedding_layer)\n",
        "hidden_dense_layer = Dense(16, activation='sigmoid')(pooling_layer)\n",
        "output_dense_layer = Dense(1, activation='sigmoid')(hidden_dense_layer)\n",
        "model = Model(inputs= input_layer, outputs=output_dense_layer)\n",
        "model.compile('adam', 'binary_crossentropy', metrics=['accuracy'])\n",
        "model.summary()\n"
      ],
      "execution_count": null,
      "outputs": [
        {
          "output_type": "stream",
          "text": [
            "Model: \"model\"\n",
            "_________________________________________________________________\n",
            "Layer (type)                 Output Shape              Param #   \n",
            "=================================================================\n",
            "input_1 (InputLayer)         [(None, 128)]             0         \n",
            "_________________________________________________________________\n",
            "embedding (Embedding)        (None, 128, 100)          3257500   \n",
            "_________________________________________________________________\n",
            "global_average_pooling1d_mas (None, 100)               0         \n",
            "_________________________________________________________________\n",
            "dense (Dense)                (None, 16)                1616      \n",
            "_________________________________________________________________\n",
            "dense_1 (Dense)              (None, 1)                 17        \n",
            "=================================================================\n",
            "Total params: 3,259,133\n",
            "Trainable params: 3,259,133\n",
            "Non-trainable params: 0\n",
            "_________________________________________________________________\n"
          ],
          "name": "stdout"
        }
      ]
    },
    {
      "cell_type": "code",
      "metadata": {
        "colab": {
          "base_uri": "https://localhost:8080/"
        },
        "id": "ZB0t0RFubM1i",
        "outputId": "3d030189-babf-44b6-f642-ff67f09b6e65"
      },
      "source": [
        "# Model training\n",
        "history = model.fit(x_train_pad,\n",
        "                    y_train,\n",
        "                    epochs=30,\n",
        "                    batch_size=512,\n",
        "                    validation_data=(x_dev_pad, y_dev),\n",
        "                    verbose=1)"
      ],
      "execution_count": null,
      "outputs": [
        {
          "output_type": "stream",
          "text": [
            "Epoch 1/30\n",
            "35/35 [==============================] - 10s 298ms/step - loss: 0.0012 - accuracy: 0.9998 - val_loss: 2.3357 - val_accuracy: 0.7260\n",
            "Epoch 2/30\n",
            "35/35 [==============================] - 10s 300ms/step - loss: 7.4450e-04 - accuracy: 0.9998 - val_loss: 2.3502 - val_accuracy: 0.7275\n",
            "Epoch 3/30\n",
            "35/35 [==============================] - 11s 300ms/step - loss: 6.6220e-04 - accuracy: 0.9999 - val_loss: 2.3959 - val_accuracy: 0.7419\n",
            "Epoch 4/30\n",
            "35/35 [==============================] - 10s 295ms/step - loss: 0.0011 - accuracy: 0.9999 - val_loss: 2.4301 - val_accuracy: 0.7328\n",
            "Epoch 5/30\n",
            "35/35 [==============================] - 11s 300ms/step - loss: 8.2734e-04 - accuracy: 0.9998 - val_loss: 2.4970 - val_accuracy: 0.7472\n",
            "Epoch 6/30\n",
            "35/35 [==============================] - 10s 298ms/step - loss: 9.8943e-04 - accuracy: 0.9998 - val_loss: 2.5973 - val_accuracy: 0.7555\n",
            "Epoch 7/30\n",
            "35/35 [==============================] - 11s 303ms/step - loss: 9.3622e-04 - accuracy: 0.9999 - val_loss: 2.5638 - val_accuracy: 0.7555\n",
            "Epoch 8/30\n",
            "35/35 [==============================] - 10s 298ms/step - loss: 0.0010 - accuracy: 0.9999 - val_loss: 2.5317 - val_accuracy: 0.7192\n",
            "Epoch 9/30\n",
            "35/35 [==============================] - 11s 302ms/step - loss: 6.7220e-04 - accuracy: 0.9999 - val_loss: 2.5287 - val_accuracy: 0.7238\n",
            "Epoch 10/30\n",
            "35/35 [==============================] - 10s 297ms/step - loss: 0.0019 - accuracy: 0.9999 - val_loss: 2.5329 - val_accuracy: 0.7464\n",
            "Epoch 11/30\n",
            "35/35 [==============================] - 11s 307ms/step - loss: 0.0012 - accuracy: 0.9998 - val_loss: 2.5716 - val_accuracy: 0.7321\n",
            "Epoch 12/30\n",
            "35/35 [==============================] - 10s 298ms/step - loss: 0.0014 - accuracy: 0.9997 - val_loss: 2.6345 - val_accuracy: 0.7434\n",
            "Epoch 13/30\n",
            "35/35 [==============================] - 11s 301ms/step - loss: 0.0010 - accuracy: 0.9999 - val_loss: 2.6512 - val_accuracy: 0.7389\n",
            "Epoch 14/30\n",
            "35/35 [==============================] - 11s 301ms/step - loss: 9.4820e-04 - accuracy: 0.9999 - val_loss: 2.7474 - val_accuracy: 0.7457\n",
            "Epoch 15/30\n",
            "35/35 [==============================] - 10s 299ms/step - loss: 7.8270e-04 - accuracy: 0.9998 - val_loss: 2.7166 - val_accuracy: 0.7268\n",
            "Epoch 16/30\n",
            "35/35 [==============================] - 10s 295ms/step - loss: 7.1687e-04 - accuracy: 0.9998 - val_loss: 2.8431 - val_accuracy: 0.7457\n",
            "Epoch 17/30\n",
            "35/35 [==============================] - 10s 295ms/step - loss: 0.0011 - accuracy: 0.9998 - val_loss: 2.7916 - val_accuracy: 0.7328\n",
            "Epoch 18/30\n",
            "35/35 [==============================] - 10s 297ms/step - loss: 0.0011 - accuracy: 0.9997 - val_loss: 2.8467 - val_accuracy: 0.7434\n",
            "Epoch 19/30\n",
            "35/35 [==============================] - 10s 299ms/step - loss: 5.4181e-04 - accuracy: 0.9999 - val_loss: 2.9239 - val_accuracy: 0.7449\n",
            "Epoch 20/30\n",
            "35/35 [==============================] - 10s 295ms/step - loss: 0.0013 - accuracy: 0.9997 - val_loss: 2.8925 - val_accuracy: 0.7396\n",
            "Epoch 21/30\n",
            "35/35 [==============================] - 10s 296ms/step - loss: 0.0025 - accuracy: 0.9995 - val_loss: 2.9976 - val_accuracy: 0.7419\n",
            "Epoch 22/30\n",
            "35/35 [==============================] - 10s 298ms/step - loss: 0.0023 - accuracy: 0.9993 - val_loss: 3.0964 - val_accuracy: 0.7396\n",
            "Epoch 23/30\n",
            "35/35 [==============================] - 11s 302ms/step - loss: 0.2771 - accuracy: 0.9480 - val_loss: 1.8679 - val_accuracy: 0.7615\n",
            "Epoch 24/30\n",
            "35/35 [==============================] - 10s 300ms/step - loss: 0.0656 - accuracy: 0.9785 - val_loss: 1.2251 - val_accuracy: 0.7457\n",
            "Epoch 25/30\n",
            "35/35 [==============================] - 11s 307ms/step - loss: 0.0122 - accuracy: 0.9971 - val_loss: 1.3454 - val_accuracy: 0.7351\n",
            "Epoch 26/30\n",
            "35/35 [==============================] - 10s 298ms/step - loss: 0.0056 - accuracy: 0.9990 - val_loss: 1.4518 - val_accuracy: 0.7336\n",
            "Epoch 27/30\n",
            "35/35 [==============================] - 11s 302ms/step - loss: 0.0035 - accuracy: 0.9997 - val_loss: 1.5345 - val_accuracy: 0.7275\n",
            "Epoch 28/30\n",
            "35/35 [==============================] - 11s 301ms/step - loss: 0.0026 - accuracy: 0.9999 - val_loss: 1.6102 - val_accuracy: 0.7268\n",
            "Epoch 29/30\n",
            "35/35 [==============================] - 10s 296ms/step - loss: 0.0020 - accuracy: 0.9998 - val_loss: 1.6764 - val_accuracy: 0.7283\n",
            "Epoch 30/30\n",
            "35/35 [==============================] - 10s 298ms/step - loss: 0.0016 - accuracy: 0.9999 - val_loss: 1.7346 - val_accuracy: 0.7268\n"
          ],
          "name": "stdout"
        }
      ]
    },
    {
      "cell_type": "markdown",
      "metadata": {
        "id": "m6ixO7qSwQuK"
      },
      "source": [
        "**<i> <font color ='darkblue'>For this  step, we used the said model from lab 4 and changed the input shape to match the maxlength i.e 128 used for padding, also changed the input dimensions to match the vocabular size in this case, and output dimensions is set to 100. Test results for the learned model is shown.</font></i>**"
      ]
    },
    {
      "cell_type": "code",
      "metadata": {
        "colab": {
          "base_uri": "https://localhost:8080/"
        },
        "id": "RwKi4BBGbOXq",
        "outputId": "12bdd4f4-d581-4228-d067-27a257f0d3ec"
      },
      "source": [
        "# Model evaluation\n",
        "results = model.evaluate(x_test_pad, y_test)"
      ],
      "execution_count": null,
      "outputs": [
        {
          "output_type": "stream",
          "text": [
            "194/194 [==============================] - 1s 8ms/step - loss: 1.7561 - accuracy: 0.7041\n"
          ],
          "name": "stdout"
        }
      ]
    },
    {
      "cell_type": "code",
      "metadata": {
        "colab": {
          "base_uri": "https://localhost:8080/"
        },
        "id": "ucdIz0KAbOZ6",
        "outputId": "5f668713-cd05-42de-f736-9f2b2f2b4d49"
      },
      "source": [
        "print(results)\n",
        "# loss, accuracay "
      ],
      "execution_count": null,
      "outputs": [
        {
          "output_type": "stream",
          "text": [
            "[1.756072998046875, 0.7041229009628296]\n"
          ],
          "name": "stdout"
        }
      ]
    },
    {
      "cell_type": "code",
      "metadata": {
        "colab": {
          "base_uri": "https://localhost:8080/"
        },
        "id": "VmM3s4R_UhgT",
        "outputId": "c3ad0d3c-dfff-483e-9238-a07ae9169169"
      },
      "source": [
        "pip install plot_keras_history"
      ],
      "execution_count": null,
      "outputs": [
        {
          "output_type": "stream",
          "text": [
            "Collecting plot_keras_history\n",
            "  Downloading https://files.pythonhosted.org/packages/b1/d9/95c2a5bb533fc5cc0c6d99bc4c37c61c8cc6a7a1719b65ea659b2c3a7e2b/plot_keras_history-1.1.27.tar.gz\n",
            "Requirement already satisfied: matplotlib in /usr/local/lib/python3.7/dist-packages (from plot_keras_history) (3.2.2)\n",
            "Requirement already satisfied: pandas in /usr/local/lib/python3.7/dist-packages (from plot_keras_history) (1.1.5)\n",
            "Requirement already satisfied: scipy in /usr/local/lib/python3.7/dist-packages (from plot_keras_history) (1.4.1)\n",
            "Collecting sanitize_ml_labels\n",
            "  Downloading https://files.pythonhosted.org/packages/99/8e/c11845c546742bd2c97c33bad1eccb0c71e4962d91d9d02d32ee5ad985a8/sanitize_ml_labels-1.0.24.tar.gz\n",
            "Requirement already satisfied: python-dateutil>=2.1 in /usr/local/lib/python3.7/dist-packages (from matplotlib->plot_keras_history) (2.8.1)\n",
            "Requirement already satisfied: pyparsing!=2.0.4,!=2.1.2,!=2.1.6,>=2.0.1 in /usr/local/lib/python3.7/dist-packages (from matplotlib->plot_keras_history) (2.4.7)\n",
            "Requirement already satisfied: kiwisolver>=1.0.1 in /usr/local/lib/python3.7/dist-packages (from matplotlib->plot_keras_history) (1.3.1)\n",
            "Requirement already satisfied: numpy>=1.11 in /usr/local/lib/python3.7/dist-packages (from matplotlib->plot_keras_history) (1.19.5)\n",
            "Requirement already satisfied: cycler>=0.10 in /usr/local/lib/python3.7/dist-packages (from matplotlib->plot_keras_history) (0.10.0)\n",
            "Requirement already satisfied: pytz>=2017.2 in /usr/local/lib/python3.7/dist-packages (from pandas->plot_keras_history) (2018.9)\n",
            "Collecting compress_json\n",
            "  Downloading https://files.pythonhosted.org/packages/c0/9d/1a79dbc3b9d69c57be363b4cc8bd6f278f919a0973f46c7bb831438c9333/compress_json-1.0.4.tar.gz\n",
            "Requirement already satisfied: six>=1.5 in /usr/local/lib/python3.7/dist-packages (from python-dateutil>=2.1->matplotlib->plot_keras_history) (1.15.0)\n",
            "Building wheels for collected packages: plot-keras-history, sanitize-ml-labels, compress-json\n",
            "  Building wheel for plot-keras-history (setup.py) ... \u001b[?25l\u001b[?25hdone\n",
            "  Created wheel for plot-keras-history: filename=plot_keras_history-1.1.27-cp37-none-any.whl size=7332 sha256=415df8e60517ae20212e4c3d2cdf41e4cfc7067fccb515ddb5d5cee656cf3fe8\n",
            "  Stored in directory: /root/.cache/pip/wheels/38/9e/e3/6cde1b6b6141b044c692d88980f26c4fe7806cc92ddd009c8c\n",
            "  Building wheel for sanitize-ml-labels (setup.py) ... \u001b[?25l\u001b[?25hdone\n",
            "  Created wheel for sanitize-ml-labels: filename=sanitize_ml_labels-1.0.24-cp37-none-any.whl size=6999 sha256=79736748a7397d651ee249b65fb8b9c468eae4e0832ab825ff52e7e2c51acd2b\n",
            "  Stored in directory: /root/.cache/pip/wheels/0c/3b/5d/f2fb3eff7f2fe268463b91a825816a07cd8458c4fe359f034a\n",
            "  Building wheel for compress-json (setup.py) ... \u001b[?25l\u001b[?25hdone\n",
            "  Created wheel for compress-json: filename=compress_json-1.0.4-cp37-none-any.whl size=4586 sha256=3f4e7f7588b57d68d502145216cff50705d0417a989c9c624b18309f24688a9c\n",
            "  Stored in directory: /root/.cache/pip/wheels/83/ec/21/51460dd508e4a152c0643946c21fae84eb3391171164d35745\n",
            "Successfully built plot-keras-history sanitize-ml-labels compress-json\n",
            "Installing collected packages: compress-json, sanitize-ml-labels, plot-keras-history\n",
            "Successfully installed compress-json-1.0.4 plot-keras-history-1.1.27 sanitize-ml-labels-1.0.24\n"
          ],
          "name": "stdout"
        }
      ]
    },
    {
      "cell_type": "code",
      "metadata": {
        "colab": {
          "base_uri": "https://localhost:8080/",
          "height": 369
        },
        "id": "T8ykgv6jS_nb",
        "outputId": "5fff1c71-fc1a-4878-9e1f-249c3ec1fd01"
      },
      "source": [
        "from plot_keras_history import plot_history\n",
        "import matplotlib.pyplot as plt\n",
        "plot_history(history.history, path=\"standard.png\")\n",
        "plt.show()"
      ],
      "execution_count": null,
      "outputs": [
        {
          "output_type": "display_data",
          "data": {
            "image/png": "[encoded data removed]",
            "text/plain": [
              "<Figure size 720x360 with 2 Axes>"
            ]
          },
          "metadata": {
            "tags": [],
            "needs_background": "light"
          }
        }
      ]
    },
    {
      "cell_type": "markdown",
      "metadata": {
        "id": "7FBpTc_rXGvQ"
      },
      "source": [
        "The accuracy of the lab4 model2 in this task is around 78%. "
      ]
    },
    {
      "cell_type": "markdown",
      "metadata": {
        "id": "iafDTygK28fv"
      },
      "source": [
        "##  Model 1-2: CNN or LSTM without pre-trained word embeddings"
      ]
    },
    {
      "cell_type": "markdown",
      "metadata": {
        "id": "N2TnuiKb2-vE"
      },
      "source": [
        "Please try one more model (CNN or LSTM) without pre-trained word embeddings in here:"
      ]
    },
    {
      "cell_type": "code",
      "metadata": {
        "id": "oXjbq6WcJosQ",
        "colab": {
          "base_uri": "https://localhost:8080/"
        },
        "outputId": "306bf592-3c2f-4305-95a1-ad4a5f3f2e64"
      },
      "source": [
        "# Try CNN or LSTM without pre-trained word embeddings in here:\n",
        "\n",
        "# LSTM model\n",
        "from keras.layers import Input, Embedding, Dense, LSTM, Lambda\n",
        "from keras.models import Model\n",
        "input_layer = Input(shape=(128,))\n",
        "embedding_layer = Embedding(mask_zero = False, input_length = 128, input_dim = 32575, output_dim = 100, embeddings_initializer='glorot_uniform')(input_layer)\n",
        "lstm_layer = LSTM(100, return_sequences=False)(embedding_layer)\n",
        "# pooling_layer = GlobalAveragePooling1DMasked()(lstm_layer)\n",
        "hidden_dense_layer = Dense(16)(lstm_layer)\n",
        "output_dense_layer = Dense(1, activation='sigmoid')(hidden_dense_layer)\n",
        "model = Model(inputs= input_layer, outputs=output_dense_layer)\n",
        "model.compile('adam', 'binary_crossentropy', metrics=['accuracy'])\n",
        "model.summary()"
      ],
      "execution_count": null,
      "outputs": [
        {
          "output_type": "stream",
          "text": [
            "Model: \"model_1\"\n",
            "_________________________________________________________________\n",
            "Layer (type)                 Output Shape              Param #   \n",
            "=================================================================\n",
            "input_2 (InputLayer)         [(None, 128)]             0         \n",
            "_________________________________________________________________\n",
            "embedding_1 (Embedding)      (None, 128, 100)          3257500   \n",
            "_________________________________________________________________\n",
            "lstm (LSTM)                  (None, 100)               80400     \n",
            "_________________________________________________________________\n",
            "dense_2 (Dense)              (None, 16)                1616      \n",
            "_________________________________________________________________\n",
            "dense_3 (Dense)              (None, 1)                 17        \n",
            "=================================================================\n",
            "Total params: 3,339,533\n",
            "Trainable params: 3,339,533\n",
            "Non-trainable params: 0\n",
            "_________________________________________________________________\n"
          ],
          "name": "stdout"
        }
      ]
    },
    {
      "cell_type": "markdown",
      "metadata": {
        "id": "n4Lk2OoK0P_T"
      },
      "source": [
        "**<i> <font color ='darkblue'>We try the LSTM model by replacing the pooling layer from the previous model and check for improvement in model performance.</font></i>**"
      ]
    },
    {
      "cell_type": "code",
      "metadata": {
        "colab": {
          "base_uri": "https://localhost:8080/"
        },
        "id": "9-lZmEz8KMxw",
        "outputId": "b5a81ebd-cce9-456c-c1b0-88403b8cea6a"
      },
      "source": [
        "# Model training\n",
        "history = model.fit(x_train_pad,\n",
        "                    y_train,\n",
        "                    epochs=30,\n",
        "                    batch_size=512,\n",
        "                    validation_data=(x_dev_pad, y_dev),\n",
        "                    verbose=1)"
      ],
      "execution_count": null,
      "outputs": [
        {
          "output_type": "stream",
          "text": [
            "Epoch 1/30\n",
            "35/35 [==============================] - 28s 746ms/step - loss: 0.5909 - accuracy: 0.7200 - val_loss: 0.5753 - val_accuracy: 0.7442\n",
            "Epoch 2/30\n",
            "35/35 [==============================] - 25s 717ms/step - loss: 0.5092 - accuracy: 0.7937 - val_loss: 0.5738 - val_accuracy: 0.7442\n",
            "Epoch 3/30\n",
            "35/35 [==============================] - 27s 759ms/step - loss: 0.5125 - accuracy: 0.7916 - val_loss: 0.5752 - val_accuracy: 0.7442\n",
            "Epoch 4/30\n",
            "35/35 [==============================] - 27s 765ms/step - loss: 0.5060 - accuracy: 0.7966 - val_loss: 0.5778 - val_accuracy: 0.7442\n",
            "Epoch 5/30\n",
            "35/35 [==============================] - 27s 763ms/step - loss: 0.5082 - accuracy: 0.7945 - val_loss: 0.5723 - val_accuracy: 0.7442\n",
            "Epoch 6/30\n",
            "35/35 [==============================] - 26s 750ms/step - loss: 0.5079 - accuracy: 0.7947 - val_loss: 0.5747 - val_accuracy: 0.7442\n",
            "Epoch 7/30\n",
            "35/35 [==============================] - 29s 829ms/step - loss: 0.5130 - accuracy: 0.7908 - val_loss: 0.5738 - val_accuracy: 0.7442\n",
            "Epoch 8/30\n",
            "35/35 [==============================] - 28s 803ms/step - loss: 0.5134 - accuracy: 0.7929 - val_loss: 0.5773 - val_accuracy: 0.7442\n",
            "Epoch 9/30\n",
            "35/35 [==============================] - 26s 749ms/step - loss: 0.5212 - accuracy: 0.7849 - val_loss: 0.5764 - val_accuracy: 0.7442\n",
            "Epoch 10/30\n",
            "35/35 [==============================] - 27s 757ms/step - loss: 0.5118 - accuracy: 0.7919 - val_loss: 0.5744 - val_accuracy: 0.7442\n",
            "Epoch 11/30\n",
            "35/35 [==============================] - 26s 752ms/step - loss: 0.5105 - accuracy: 0.7930 - val_loss: 0.5738 - val_accuracy: 0.7442\n",
            "Epoch 12/30\n",
            "35/35 [==============================] - 26s 737ms/step - loss: 0.5190 - accuracy: 0.7864 - val_loss: 0.5780 - val_accuracy: 0.7442\n",
            "Epoch 13/30\n",
            "35/35 [==============================] - 26s 755ms/step - loss: 0.5116 - accuracy: 0.7922 - val_loss: 0.5752 - val_accuracy: 0.7442\n",
            "Epoch 14/30\n",
            "35/35 [==============================] - 26s 745ms/step - loss: 0.5134 - accuracy: 0.7906 - val_loss: 0.5760 - val_accuracy: 0.7442\n",
            "Epoch 15/30\n",
            "35/35 [==============================] - 26s 751ms/step - loss: 0.5134 - accuracy: 0.7906 - val_loss: 0.5799 - val_accuracy: 0.7442\n",
            "Epoch 16/30\n",
            "35/35 [==============================] - 26s 738ms/step - loss: 0.5113 - accuracy: 0.7927 - val_loss: 0.5723 - val_accuracy: 0.7442\n",
            "Epoch 17/30\n",
            "35/35 [==============================] - 26s 741ms/step - loss: 0.5154 - accuracy: 0.7897 - val_loss: 0.5775 - val_accuracy: 0.7442\n",
            "Epoch 18/30\n",
            "35/35 [==============================] - 27s 763ms/step - loss: 0.5116 - accuracy: 0.7921 - val_loss: 0.5746 - val_accuracy: 0.7442\n",
            "Epoch 19/30\n",
            "35/35 [==============================] - 26s 737ms/step - loss: 0.5115 - accuracy: 0.7921 - val_loss: 0.5718 - val_accuracy: 0.7442\n",
            "Epoch 20/30\n",
            "35/35 [==============================] - 26s 757ms/step - loss: 0.5165 - accuracy: 0.7883 - val_loss: 0.5771 - val_accuracy: 0.7442\n",
            "Epoch 21/30\n",
            "35/35 [==============================] - 26s 735ms/step - loss: 0.5064 - accuracy: 0.7958 - val_loss: 0.5708 - val_accuracy: 0.7442\n",
            "Epoch 22/30\n",
            "35/35 [==============================] - 26s 731ms/step - loss: 0.5149 - accuracy: 0.7899 - val_loss: 0.5844 - val_accuracy: 0.7442\n",
            "Epoch 23/30\n",
            "35/35 [==============================] - 26s 745ms/step - loss: 0.5186 - accuracy: 0.7875 - val_loss: 0.5793 - val_accuracy: 0.7442\n",
            "Epoch 24/30\n",
            "35/35 [==============================] - 26s 742ms/step - loss: 0.5095 - accuracy: 0.7938 - val_loss: 0.5762 - val_accuracy: 0.7442\n",
            "Epoch 25/30\n",
            "35/35 [==============================] - 26s 757ms/step - loss: 0.5130 - accuracy: 0.7909 - val_loss: 0.5760 - val_accuracy: 0.7442\n",
            "Epoch 26/30\n",
            "35/35 [==============================] - 26s 743ms/step - loss: 0.5135 - accuracy: 0.7904 - val_loss: 0.5784 - val_accuracy: 0.7442\n",
            "Epoch 27/30\n",
            "35/35 [==============================] - 25s 722ms/step - loss: 0.5104 - accuracy: 0.7928 - val_loss: 0.5715 - val_accuracy: 0.7442\n",
            "Epoch 28/30\n",
            "35/35 [==============================] - 26s 731ms/step - loss: 0.5106 - accuracy: 0.7930 - val_loss: 0.5696 - val_accuracy: 0.7442\n",
            "Epoch 29/30\n",
            "35/35 [==============================] - 26s 739ms/step - loss: 0.5127 - accuracy: 0.7918 - val_loss: 0.5774 - val_accuracy: 0.7442\n",
            "Epoch 30/30\n",
            "35/35 [==============================] - 27s 767ms/step - loss: 0.5157 - accuracy: 0.7893 - val_loss: 0.5781 - val_accuracy: 0.7442\n"
          ],
          "name": "stdout"
        }
      ]
    },
    {
      "cell_type": "code",
      "metadata": {
        "colab": {
          "base_uri": "https://localhost:8080/"
        },
        "id": "xdlgRo1NKMz8",
        "outputId": "e9ebd550-067e-4687-f18f-e0ba2681138b"
      },
      "source": [
        "# Model evaluation\n",
        "results = model.evaluate(x_test_pad, y_test)"
      ],
      "execution_count": null,
      "outputs": [
        {
          "output_type": "stream",
          "text": [
            "194/194 [==============================] - 5s 28ms/step - loss: 1.0595 - accuracy: 0.3982\n"
          ],
          "name": "stdout"
        }
      ]
    },
    {
      "cell_type": "code",
      "metadata": {
        "colab": {
          "base_uri": "https://localhost:8080/"
        },
        "id": "ORiZ9fgNKM_E",
        "outputId": "9b12f35d-ae9c-43f3-c31a-3b83965f3c09"
      },
      "source": [
        "print(results)\n",
        "# loss, accuracay "
      ],
      "execution_count": null,
      "outputs": [
        {
          "output_type": "stream",
          "text": [
            "[1.0594791173934937, 0.398221492767334]\n"
          ],
          "name": "stdout"
        }
      ]
    },
    {
      "cell_type": "code",
      "metadata": {
        "colab": {
          "base_uri": "https://localhost:8080/",
          "height": 369
        },
        "id": "C5l5NYfzTBiA",
        "outputId": "150f3556-dcb5-43bc-e5ed-ebf49d58099d"
      },
      "source": [
        "from plot_keras_history import plot_history\n",
        "import matplotlib.pyplot as plt\n",
        "plot_history(history.history, path=\"standard.png\")\n",
        "plt.show()"
      ],
      "execution_count": null,
      "outputs": [
        {
          "output_type": "display_data",
          "data": {
            "image/png": "[encoded data removed]",
            "text/plain": [
              "<Figure size 720x360 with 2 Axes>"
            ]
          },
          "metadata": {
            "tags": [],
            "needs_background": "light"
          }
        }
      ]
    },
    {
      "cell_type": "markdown",
      "metadata": {
        "id": "6wb5NLgu04QT"
      },
      "source": [
        "**<i> <font color ='darkblue'>We get very poor accuracy for our LSTM model on the test set hence, we now try the CNN model.</font></i>**"
      ]
    },
    {
      "cell_type": "code",
      "metadata": {
        "colab": {
          "base_uri": "https://localhost:8080/"
        },
        "id": "BtUQZT_FgbHb",
        "outputId": "9eb27693-8c50-46e7-d0be-7a5a737e3dd5"
      },
      "source": [
        "# CNN model\n",
        "from keras.layers import Input, Embedding, Dense, LSTM, Lambda\n",
        "from keras.models import Model\n",
        "input_layer = Input(shape=(128,))\n",
        "embedding_layer = Embedding(mask_zero = False, input_length = 128, input_dim = 32575, output_dim = 100, embeddings_initializer='glorot_uniform')(input_layer)\n",
        "cnn_layer = keras.layers.Conv1D(100, 6)(embedding_layer)\n",
        "pooling_layer = GlobalAveragePooling1DMasked()(cnn_layer)\n",
        "hidden_dense_layer = Dense(16)(pooling_layer)\n",
        "output_dense_layer = Dense(1, activation='sigmoid')(hidden_dense_layer)\n",
        "model = Model(inputs= input_layer, outputs=output_dense_layer)\n",
        "model.compile('adam', 'binary_crossentropy', metrics=['accuracy'])\n",
        "model.summary()"
      ],
      "execution_count": null,
      "outputs": [
        {
          "output_type": "stream",
          "text": [
            "Model: \"model_2\"\n",
            "_________________________________________________________________\n",
            "Layer (type)                 Output Shape              Param #   \n",
            "=================================================================\n",
            "input_3 (InputLayer)         [(None, 128)]             0         \n",
            "_________________________________________________________________\n",
            "embedding_2 (Embedding)      (None, 128, 100)          3257500   \n",
            "_________________________________________________________________\n",
            "conv1d (Conv1D)              (None, 123, 100)          60100     \n",
            "_________________________________________________________________\n",
            "global_average_pooling1d_mas (None, 100)               0         \n",
            "_________________________________________________________________\n",
            "dense_4 (Dense)              (None, 16)                1616      \n",
            "_________________________________________________________________\n",
            "dense_5 (Dense)              (None, 1)                 17        \n",
            "=================================================================\n",
            "Total params: 3,319,233\n",
            "Trainable params: 3,319,233\n",
            "Non-trainable params: 0\n",
            "_________________________________________________________________\n"
          ],
          "name": "stdout"
        }
      ]
    },
    {
      "cell_type": "markdown",
      "metadata": {
        "id": "b59RmO-02ZUQ"
      },
      "source": [
        "**<i> <font color ='darkblue'>We implement the CNN model with 100 filters and 6 kernel size from the previous lab and modified the input and embedding layer to accomodate this case.</font></i>**"
      ]
    },
    {
      "cell_type": "code",
      "metadata": {
        "colab": {
          "base_uri": "https://localhost:8080/"
        },
        "id": "humGKnkygbKB",
        "outputId": "4e8ea8c7-9d13-4c72-c711-70b6c0bfa0e8"
      },
      "source": [
        "# Model training\n",
        "history = model.fit(x_train_pad,\n",
        "                    y_train,\n",
        "                    epochs=30,\n",
        "                    batch_size=512,\n",
        "                    validation_data=(x_dev_pad, y_dev),\n",
        "                    verbose=1)"
      ],
      "execution_count": null,
      "outputs": [
        {
          "output_type": "stream",
          "text": [
            "Epoch 1/30\n",
            "35/35 [==============================] - 11s 302ms/step - loss: 0.5730 - accuracy: 0.7877 - val_loss: 0.5695 - val_accuracy: 0.7442\n",
            "Epoch 2/30\n",
            "35/35 [==============================] - 10s 298ms/step - loss: 0.4805 - accuracy: 0.7880 - val_loss: 0.4913 - val_accuracy: 0.7464\n",
            "Epoch 3/30\n",
            "35/35 [==============================] - 11s 305ms/step - loss: 0.3248 - accuracy: 0.8576 - val_loss: 0.4510 - val_accuracy: 0.7796\n",
            "Epoch 4/30\n",
            "35/35 [==============================] - 11s 304ms/step - loss: 0.2195 - accuracy: 0.9129 - val_loss: 0.4703 - val_accuracy: 0.7887\n",
            "Epoch 5/30\n",
            "35/35 [==============================] - 10s 300ms/step - loss: 0.1487 - accuracy: 0.9449 - val_loss: 0.5372 - val_accuracy: 0.7645\n",
            "Epoch 6/30\n",
            "35/35 [==============================] - 11s 304ms/step - loss: 0.1059 - accuracy: 0.9640 - val_loss: 0.6501 - val_accuracy: 0.7683\n",
            "Epoch 7/30\n",
            "35/35 [==============================] - 11s 305ms/step - loss: 0.0713 - accuracy: 0.9771 - val_loss: 0.7304 - val_accuracy: 0.7675\n",
            "Epoch 8/30\n",
            "35/35 [==============================] - 11s 304ms/step - loss: 0.0435 - accuracy: 0.9885 - val_loss: 0.8212 - val_accuracy: 0.7623\n",
            "Epoch 9/30\n",
            "35/35 [==============================] - 11s 301ms/step - loss: 0.0315 - accuracy: 0.9921 - val_loss: 0.9079 - val_accuracy: 0.7540\n",
            "Epoch 10/30\n",
            "35/35 [==============================] - 11s 303ms/step - loss: 0.0246 - accuracy: 0.9943 - val_loss: 1.0193 - val_accuracy: 0.7487\n",
            "Epoch 11/30\n",
            "35/35 [==============================] - 10s 298ms/step - loss: 0.0158 - accuracy: 0.9971 - val_loss: 1.1093 - val_accuracy: 0.7449\n",
            "Epoch 12/30\n",
            "35/35 [==============================] - 11s 304ms/step - loss: 0.0118 - accuracy: 0.9979 - val_loss: 1.2105 - val_accuracy: 0.7283\n",
            "Epoch 13/30\n",
            "35/35 [==============================] - 11s 300ms/step - loss: 0.0101 - accuracy: 0.9984 - val_loss: 1.2909 - val_accuracy: 0.7479\n",
            "Epoch 14/30\n",
            "35/35 [==============================] - 11s 306ms/step - loss: 0.0079 - accuracy: 0.9983 - val_loss: 1.4486 - val_accuracy: 0.7555\n",
            "Epoch 15/30\n",
            "35/35 [==============================] - 11s 303ms/step - loss: 0.0069 - accuracy: 0.9982 - val_loss: 1.5048 - val_accuracy: 0.7509\n",
            "Epoch 16/30\n",
            "35/35 [==============================] - 10s 299ms/step - loss: 0.0031 - accuracy: 0.9995 - val_loss: 1.5921 - val_accuracy: 0.7517\n",
            "Epoch 17/30\n",
            "35/35 [==============================] - 10s 299ms/step - loss: 0.0029 - accuracy: 0.9996 - val_loss: 1.6293 - val_accuracy: 0.7328\n",
            "Epoch 18/30\n",
            "35/35 [==============================] - 10s 298ms/step - loss: 0.0026 - accuracy: 0.9999 - val_loss: 1.6927 - val_accuracy: 0.7434\n",
            "Epoch 19/30\n",
            "35/35 [==============================] - 10s 298ms/step - loss: 0.0016 - accuracy: 0.9999 - val_loss: 1.7493 - val_accuracy: 0.7358\n",
            "Epoch 20/30\n",
            "35/35 [==============================] - 10s 299ms/step - loss: 0.0014 - accuracy: 0.9999 - val_loss: 1.9022 - val_accuracy: 0.7532\n",
            "Epoch 21/30\n",
            "35/35 [==============================] - 11s 303ms/step - loss: 0.0019 - accuracy: 1.0000 - val_loss: 1.9985 - val_accuracy: 0.7517\n",
            "Epoch 22/30\n",
            "35/35 [==============================] - 11s 302ms/step - loss: 0.0028 - accuracy: 0.9997 - val_loss: 1.8912 - val_accuracy: 0.7419\n",
            "Epoch 23/30\n",
            "35/35 [==============================] - 11s 301ms/step - loss: 0.0014 - accuracy: 0.9998 - val_loss: 1.9703 - val_accuracy: 0.7404\n",
            "Epoch 24/30\n",
            "35/35 [==============================] - 10s 298ms/step - loss: 0.0016 - accuracy: 0.9997 - val_loss: 2.0672 - val_accuracy: 0.7517\n",
            "Epoch 25/30\n",
            "35/35 [==============================] - 10s 297ms/step - loss: 0.0010 - accuracy: 0.9999 - val_loss: 2.1090 - val_accuracy: 0.7517\n",
            "Epoch 26/30\n",
            "35/35 [==============================] - 11s 301ms/step - loss: 0.0010 - accuracy: 0.9999 - val_loss: 2.0904 - val_accuracy: 0.7457\n",
            "Epoch 27/30\n",
            "35/35 [==============================] - 10s 298ms/step - loss: 0.0011 - accuracy: 0.9999 - val_loss: 2.3445 - val_accuracy: 0.7577\n",
            "Epoch 28/30\n",
            "35/35 [==============================] - 11s 313ms/step - loss: 0.0040 - accuracy: 0.9988 - val_loss: 2.2291 - val_accuracy: 0.7464\n",
            "Epoch 29/30\n",
            "35/35 [==============================] - 11s 300ms/step - loss: 0.0013 - accuracy: 0.9997 - val_loss: 2.3366 - val_accuracy: 0.7464\n",
            "Epoch 30/30\n",
            "35/35 [==============================] - 11s 303ms/step - loss: 0.0011 - accuracy: 0.9998 - val_loss: 2.3533 - val_accuracy: 0.7472\n"
          ],
          "name": "stdout"
        }
      ]
    },
    {
      "cell_type": "code",
      "metadata": {
        "colab": {
          "base_uri": "https://localhost:8080/"
        },
        "id": "vzDeY58QgbT0",
        "outputId": "b347aa96-f844-4cae-e762-f05ae454f046"
      },
      "source": [
        "results = model.evaluate(x_test_pad, y_test)"
      ],
      "execution_count": null,
      "outputs": [
        {
          "output_type": "stream",
          "text": [
            "194/194 [==============================] - 1s 8ms/step - loss: 2.5686 - accuracy: 0.6859\n"
          ],
          "name": "stdout"
        }
      ]
    },
    {
      "cell_type": "code",
      "metadata": {
        "colab": {
          "base_uri": "https://localhost:8080/"
        },
        "id": "50pD6ezugcob",
        "outputId": "01eb2498-dd5d-4c97-ff65-8b7120778e7d"
      },
      "source": [
        "print(results)"
      ],
      "execution_count": null,
      "outputs": [
        {
          "output_type": "stream",
          "text": [
            "[2.5685548782348633, 0.6858528852462769]\n"
          ],
          "name": "stdout"
        }
      ]
    },
    {
      "cell_type": "markdown",
      "metadata": {
        "id": "SrIiqAhB4VOJ"
      },
      "source": [
        "**<i> <font color ='darkblue'>Here, we can observe that the CNN model has achieved a better accuracy when compared with the LSTM model's performance on the test set.</font></i>**"
      ]
    },
    {
      "cell_type": "code",
      "metadata": {
        "colab": {
          "base_uri": "https://localhost:8080/",
          "height": 369
        },
        "id": "3h75nmBZTFF2",
        "outputId": "f77f15c5-21c7-41d5-8db5-da0e37feccdb"
      },
      "source": [
        "from plot_keras_history import plot_history\n",
        "import matplotlib.pyplot as plt\n",
        "plot_history(history.history, path=\"standard.png\")\n",
        "plt.show()"
      ],
      "execution_count": null,
      "outputs": [
        {
          "output_type": "display_data",
          "data": {
            "image/png": "[encoded data removed]",
            "text/plain": [
              "<Figure size 720x360 with 2 Axes>"
            ]
          },
          "metadata": {
            "tags": [],
            "needs_background": "light"
          }
        }
      ]
    },
    {
      "cell_type": "markdown",
      "metadata": {
        "id": "--020hfG6rN2"
      },
      "source": [
        "# Model 2: Using pre-trained word embeddings"
      ]
    },
    {
      "cell_type": "markdown",
      "metadata": {
        "id": "7GdY2-64YG1B"
      },
      "source": [
        "### Preparing pre-trained word embeddings (GLOVE)"
      ]
    },
    {
      "cell_type": "markdown",
      "metadata": {
        "id": "J4gBeOyi4gkM"
      },
      "source": [
        "The Embedding layer can be used to load a pre-trained word embedding model. We are going to use GloVe embeddings, which you can read about it here (https://nlp.stanford.edu/projects/glove/). GloVe stands for \"Global Vectors for Word Representation\". It's a somewhat popular embedding technique based on factorizing a matrix of word co-occurence statistics. You can download GloVe and we can seed the Keras Embedding layer with weights from the pre-trained embedding for the words in your dataset.\n",
        "First, we need to read GloVe and map words to GloVe:\n"
      ]
    },
    {
      "cell_type": "code",
      "metadata": {
        "id": "f_PypdqG9Iis"
      },
      "source": [
        "def readGloveFile(gloveFile):\n",
        "    with open(gloveFile, 'r') as f:\n",
        "        wordToGlove = {}  \n",
        "        wordToIndex = {}  \n",
        "        indexToWord = {}  \n",
        "\n",
        "        for line in f:\n",
        "            record = line.strip().split()\n",
        "            token = record[0] \n",
        "            wordToGlove[token] = np.array(record[1:], dtype=np.float64) \n",
        "            \n",
        "        tokens = sorted(wordToGlove.keys())\n",
        "        for idx, tok in enumerate(tokens):\n",
        "            kerasIdx = idx + 1  \n",
        "            wordToIndex[tok] = kerasIdx \n",
        "            indexToWord[kerasIdx] = tok \n",
        "\n",
        "    return wordToIndex, indexToWord, wordToGlove"
      ],
      "execution_count": null,
      "outputs": []
    },
    {
      "cell_type": "markdown",
      "metadata": {
        "id": "ZcIZ3dq59bCh"
      },
      "source": [
        "Now, we create our pre-trained Embedding layer:"
      ]
    },
    {
      "cell_type": "code",
      "metadata": {
        "id": "gembn7VM3ex8"
      },
      "source": [
        "from keras.initializers import Constant\n",
        "\n",
        "def createPretrainedEmbeddingLayer(wordToGlove, wordToIndex, isTrainable):\n",
        "    vocabLen = len(wordToIndex) + 1  \n",
        "    embDim = next(iter(wordToGlove.values())).shape[0]  \n",
        "   \n",
        "    embeddingMatrix = np.zeros((vocabLen, embDim))  \n",
        "    for word, index in wordToIndex.items():\n",
        "        embeddingMatrix[index, :] = wordToGlove[word] \n",
        "\n",
        "    embeddingLayer = Embedding(vocabLen, embDim, embeddings_initializer=Constant(embeddingMatrix), trainable=isTrainable, name='GloVe_Embeddings')\n",
        "    return embeddingLayer"
      ],
      "execution_count": null,
      "outputs": []
    },
    {
      "cell_type": "code",
      "metadata": {
        "colab": {
          "base_uri": "https://localhost:8080/"
        },
        "id": "8OC1wuctdFvA",
        "outputId": "8e094f12-a011-4ad8-afcc-082a05934654"
      },
      "source": [
        "!wget http://nlp.stanford.edu/data/glove.6B.zip\n",
        "!unzip '/content/glove.6B.zip'"
      ],
      "execution_count": null,
      "outputs": [
        {
          "output_type": "stream",
          "text": [
            "--2021-03-03 22:14:52--  http://nlp.stanford.edu/data/glove.6B.zip\n",
            "Resolving nlp.stanford.edu (nlp.stanford.edu)... 171.64.67.140\n",
            "Connecting to nlp.stanford.edu (nlp.stanford.edu)|171.64.67.140|:80... connected.\n",
            "HTTP request sent, awaiting response... 302 Found\n",
            "Location: https://nlp.stanford.edu/data/glove.6B.zip [following]\n",
            "--2021-03-03 22:14:52--  https://nlp.stanford.edu/data/glove.6B.zip\n",
            "Connecting to nlp.stanford.edu (nlp.stanford.edu)|171.64.67.140|:443... connected.\n",
            "HTTP request sent, awaiting response... 301 Moved Permanently\n",
            "Location: http://downloads.cs.stanford.edu/nlp/data/glove.6B.zip [following]\n",
            "--2021-03-03 22:14:53--  http://downloads.cs.stanford.edu/nlp/data/glove.6B.zip\n",
            "Resolving downloads.cs.stanford.edu (downloads.cs.stanford.edu)... 171.64.64.22\n",
            "Connecting to downloads.cs.stanford.edu (downloads.cs.stanford.edu)|171.64.64.22|:80... connected.\n",
            "HTTP request sent, awaiting response... 200 OK\n",
            "Length: 862182613 (822M) [application/zip]\n",
            "Saving to: ‘glove.6B.zip’\n",
            "\n",
            "glove.6B.zip        100%[===================>] 822.24M  2.01MB/s    in 7m 0s   \n",
            "\n",
            "2021-03-03 22:21:53 (1.96 MB/s) - ‘glove.6B.zip’ saved [862182613/862182613]\n",
            "\n",
            "Archive:  /content/glove.6B.zip\n",
            "  inflating: glove.6B.50d.txt        \n",
            "  inflating: glove.6B.100d.txt       \n",
            "  inflating: glove.6B.200d.txt       \n",
            "  inflating: glove.6B.300d.txt       \n"
          ],
          "name": "stdout"
        }
      ]
    },
    {
      "cell_type": "markdown",
      "metadata": {
        "id": "HGxciLK4-xOr"
      },
      "source": [
        "We freeze the weights. To create the model: "
      ]
    },
    {
      "cell_type": "code",
      "metadata": {
        "colab": {
          "base_uri": "https://localhost:8080/"
        },
        "id": "PZCPUM0W_Drc",
        "outputId": "fe07c26a-c81e-41a9-aabc-52d03007644c"
      },
      "source": [
        "# wordToIndex,indexToWord,wordToGlove=readGloveFile('/content/glove.6B.50d.txt')\n",
        "# wordToIndex,indexToWord,wordToGlove=readGloveFile('/content/glove.6B.100d.txt')\n",
        "wordToIndex,indexToWord,wordToGlove=readGloveFile('/content/glove.6B.300d.txt')\n",
        "\n",
        "# vocabLen = len(wordToIndex) + 1 \n",
        "\n",
        "EMBED_SIZE = next(iter(wordToGlove.values())).shape[0]\n",
        "print('Size of Embedding: ',EMBED_SIZE)\n",
        "\n",
        "embeddingLayer=createPretrainedEmbeddingLayer(wordToGlove,wordToIndex,isTrainable=False)"
      ],
      "execution_count": null,
      "outputs": [
        {
          "output_type": "stream",
          "text": [
            "Size of Embedding:  300\n"
          ],
          "name": "stdout"
        }
      ]
    },
    {
      "cell_type": "markdown",
      "metadata": {
        "id": "4RyeDPimMW7c"
      },
      "source": [
        "### Convert the data to GLOVE word index"
      ]
    },
    {
      "cell_type": "markdown",
      "metadata": {
        "id": "O_X6nC57NGXv"
      },
      "source": [
        "The index in our vocabulary is different from that in GLOVE. For example, the word \"you\" corresponds to 394475 in GLOVE, while it corresponds to another index in our vocabulary. Thus we can not directly use the index data in the last section. We convert them from text tokens to GLOVE word index."
      ]
    },
    {
      "cell_type": "code",
      "metadata": {
        "colab": {
          "base_uri": "https://localhost:8080/"
        },
        "id": "ODUoIts1NM6b",
        "outputId": "5b0b0420-4a74-4af6-d6d8-c4d93f7b4dd5"
      },
      "source": [
        "print(wordToIndex[\"you\"])\n",
        "print(indexToWord[394475])\n",
        "print(word_index[\"you\"])"
      ],
      "execution_count": null,
      "outputs": [
        {
          "output_type": "stream",
          "text": [
            "394475\n",
            "you\n",
            "22261\n"
          ],
          "name": "stdout"
        }
      ]
    },
    {
      "cell_type": "code",
      "metadata": {
        "colab": {
          "base_uri": "https://localhost:8080/"
        },
        "id": "p037PLDyNXhV",
        "outputId": "47592e21-5b51-4b92-b3f5-839896d1dd84"
      },
      "source": [
        "x_train_tweet_glove = []\n",
        "x_train_topic_glove = []\n",
        "\n",
        "for example in train_original:\n",
        "  word_list_tweet = []\n",
        "  word_list_topic = []\n",
        "  for word in text_to_word_sequence(example[3]): \n",
        "    if word in wordToIndex.keys():\n",
        "      word_list_tweet.append(wordToIndex[word])\n",
        "    else:\n",
        "      word_list_tweet.append(word_index[\"<UNK>\"])\n",
        "  x_train_tweet_glove.append(word_list_tweet)\n",
        "  for word in text_to_word_sequence(example[1]):\n",
        "    if word in wordToIndex.keys():\n",
        "      word_list_topic.append(wordToIndex[word])\n",
        "    else:\n",
        "      word_list_topic.append(word_index[\"<UNK>\"])\n",
        "  x_train_topic_glove.append(word_list_topic)\n",
        "\n",
        "x_dev_tweet_glove = []\n",
        "x_dev_topic_glove = []\n",
        "\n",
        "for example in dev_original:\n",
        "  word_list_tweet = []\n",
        "  word_list_topic = []\n",
        "  for word in text_to_word_sequence(example[3]): \n",
        "    if word in wordToIndex.keys():\n",
        "      word_list_tweet.append(wordToIndex[word])\n",
        "    else:\n",
        "      word_list_tweet.append(word_index[\"<UNK>\"])\n",
        "  x_dev_tweet_glove.append(word_list_tweet)\n",
        "  for word in text_to_word_sequence(example[1]):\n",
        "    if word in wordToIndex.keys():\n",
        "      word_list_topic.append(wordToIndex[word])\n",
        "    else:\n",
        "      word_list_topic.append(word_index[\"<UNK>\"])\n",
        "  x_dev_topic_glove.append(word_list_topic)\n",
        "\n",
        "x_test_tweet_glove = []\n",
        "x_test_topic_glove = []\n",
        "\n",
        "for example in test_original:\n",
        "  word_list_tweet = []\n",
        "  word_list_topic = []\n",
        "  for word in text_to_word_sequence(example[3]): \n",
        "    if word in wordToIndex.keys():\n",
        "      word_list_tweet.append(wordToIndex[word])\n",
        "    else:\n",
        "      word_list_tweet.append(word_index[\"<UNK>\"])\n",
        "  x_test_tweet_glove.append(word_list_tweet)\n",
        "  for word in text_to_word_sequence(example[1]):\n",
        "    if word in wordToIndex.keys():\n",
        "      word_list_topic.append(wordToIndex[word])\n",
        "    else:\n",
        "      word_list_topic.append(word_index[\"<UNK>\"])\n",
        "  x_test_topic_glove.append(word_list_topic)\n",
        "\n",
        "# You should get a print result like:\n",
        "assert len(x_train_tweet_glove) == len(train_original)\n",
        "assert len(x_train_topic_glove) == len(x_train_topic_int)\n",
        "assert len(x_test_tweet_glove) == len(test_original)\n",
        "assert len(x_test_topic_glove) == len(x_test_topic_int)\n",
        "print(\"x_dev_tweet_glove[0]:\")\n",
        "print(x_dev_tweet_glove[0])\n",
        "print(\"x_dev_topic_glove[0]:\")\n",
        "print(x_dev_topic_glove[0])"
      ],
      "execution_count": null,
      "outputs": [
        {
          "output_type": "stream",
          "text": [
            "x_dev_tweet_glove[0]:\n",
            "[196237, 395262, 198486, 190716, 388711, 264529, 365027, 360915, 242891, 194733, 196237, 395262, 57698, 198478, 190716, 269798, 319134, 54718, 182915, 350784, 103530, 2]\n",
            "x_dev_topic_glove[0]:\n",
            "[242891, 194733]\n"
          ],
          "name": "stdout"
        }
      ]
    },
    {
      "cell_type": "markdown",
      "metadata": {
        "id": "G78fSdRf9WeH"
      },
      "source": [
        "**<i> <font color ='darkblue'>\n",
        "We performed similar partition of topics and tweets as before for each datatset(training set, development set and test set). This is done by considering corresponding columns, tokenising the string in those columns, and finding indexes from GloVe embeddings in wordToIndex corresponding to the tokens to create the two lists.\n",
        " </font></i>**"
      ]
    },
    {
      "cell_type": "markdown",
      "metadata": {
        "id": "Z--QOlb1vXtN"
      },
      "source": [
        "As before, we concatenate the tweets and topics for fitting in the previous model. Let us do it again for GLOVE version variables."
      ]
    },
    {
      "cell_type": "code",
      "metadata": {
        "colab": {
          "base_uri": "https://localhost:8080/"
        },
        "id": "1-D_szbDQ5X5",
        "outputId": "d8e76bc8-3327-43a1-e1ea-2c55eddbec37"
      },
      "source": [
        "x_train_glove = []\n",
        "\n",
        "for i in range(len(x_train_topic_glove)):\n",
        "  innerList=[]\n",
        "  for k in x_train_topic_glove[i]:\n",
        "    innerList.append(k)\n",
        "  innerList.append(word_index[\"<START>\"])\n",
        "  for j in x_train_tweet_glove[i]:\n",
        "    innerList.append(j)\n",
        "  x_train_glove.append(innerList)\n",
        "\n",
        "x_dev_glove = []\n",
        "\n",
        "for i in range(len(x_dev_topic_glove)):\n",
        "  innerList=[]\n",
        "  for k in x_dev_topic_glove[i]:\n",
        "    innerList.append(k)\n",
        "  innerList.append(word_index[\"<START>\"])\n",
        "  for j in x_dev_tweet_glove[i]:\n",
        "    innerList.append(j)\n",
        "  x_dev_glove.append(innerList)\n",
        "\n",
        "x_test_glove = []\n",
        "\n",
        "for i in range(len(x_test_topic_glove)):\n",
        "  innerList=[]\n",
        "  for k in x_test_topic_glove[i]:\n",
        "    innerList.append(k)\n",
        "  innerList.append(word_index[\"<START>\"])\n",
        "  for j in x_test_tweet_glove[i]:\n",
        "    innerList.append(j)\n",
        "  x_test_glove.append(innerList)\n",
        "\n",
        "# Tips: \n",
        "# 1) There is no <START> token in GLOVE. Here we can use integer 1 to concatenate.\n",
        "# 2) After combine them, do not foget to pad the sequences.\n",
        "\n",
        "\n",
        "##### your code goes here:\n",
        "x_train_pad_glove = np.array(keras.preprocessing.sequence.pad_sequences(x_train_glove, value=word_index[\"<PAD>\"], padding='post', maxlen=128))\n",
        "\n",
        "x_dev_pad_glove = np.array(keras.preprocessing.sequence.pad_sequences(x_dev_glove, value=word_index[\"<PAD>\"], padding='post', maxlen=128))\n",
        "                                                 \n",
        "x_test_pad_glove = np.array(keras.preprocessing.sequence.pad_sequences(x_test_glove, value=word_index[\"<PAD>\"], padding='post', maxlen=128))\n",
        "\n",
        "# Don't forget the to use np.array function to wrap the ouput of pad_sequences function, such as: x_train_pad = np.array(x_train_pad)\n",
        "# Only pad the *_int varibles\n",
        "print(\"Before paded:\")\n",
        "print(x_train_glove[0])\n",
        "print(\"After paded:\")\n",
        "print(x_train_pad_glove[0])"
      ],
      "execution_count": null,
      "outputs": [
        {
          "output_type": "stream",
          "text": [
            "Before paded:\n",
            "[243317, 1, 118309, 243317, 357266, 2, 151349, 229153, 192973, 166369, 54718, 51582, 87775, 262350, 228306, 373375, 88558]\n",
            "After paded:\n",
            "[243317      1 118309 243317 357266      2 151349 229153 192973 166369\n",
            "  54718  51582  87775 262350 228306 373375  88558      0      0      0\n",
            "      0      0      0      0      0      0      0      0      0      0\n",
            "      0      0      0      0      0      0      0      0      0      0\n",
            "      0      0      0      0      0      0      0      0      0      0\n",
            "      0      0      0      0      0      0      0      0      0      0\n",
            "      0      0      0      0      0      0      0      0      0      0\n",
            "      0      0      0      0      0      0      0      0      0      0\n",
            "      0      0      0      0      0      0      0      0      0      0\n",
            "      0      0      0      0      0      0      0      0      0      0\n",
            "      0      0      0      0      0      0      0      0      0      0\n",
            "      0      0      0      0      0      0      0      0      0      0\n",
            "      0      0      0      0      0      0      0      0]\n"
          ],
          "name": "stdout"
        }
      ]
    },
    {
      "cell_type": "markdown",
      "metadata": {
        "id": "CGY7AQpw9vEm"
      },
      "source": [
        "**<i> <font color ='darkblue'> We concatenate list of indexes for topics and tweets similar to that in the previous sections and pad the resulting sequences.\n",
        " </font></i>**"
      ]
    },
    {
      "cell_type": "markdown",
      "metadata": {
        "id": "vdZ4nl08vp9A"
      },
      "source": [
        "## Model 2-1: Neural bag of words using pre-trained word embeddings"
      ]
    },
    {
      "cell_type": "markdown",
      "metadata": {
        "id": "2gyCwXFj_R5w"
      },
      "source": [
        "We use model3-1 in lab4 to deal with this task."
      ]
    },
    {
      "cell_type": "code",
      "metadata": {
        "colab": {
          "base_uri": "https://localhost:8080/"
        },
        "id": "VICS9rY8C7KH",
        "outputId": "1fc71b00-8624-44f7-ac72-cb44fc7fd529"
      },
      "source": [
        "from keras.layers import Input, Embedding, Dense, LSTM, Lambda\n",
        "from keras.models import Model\n",
        "input_layer = Input(shape=(128,))\n",
        "embedding_layer = embeddingLayer(input_layer)\n",
        "pooling_layer = GlobalAveragePooling1DMasked()(embedding_layer)\n",
        "hidden_dense_layer = Dense(16)(pooling_layer)\n",
        "output_dense_layer = Dense(1, activation='sigmoid')(hidden_dense_layer)\n",
        "model3 = Model(inputs= input_layer, outputs=output_dense_layer)\n",
        "model3.compile('adam', 'binary_crossentropy', metrics=['accuracy'])\n",
        "model3.summary()"
      ],
      "execution_count": null,
      "outputs": [
        {
          "output_type": "stream",
          "text": [
            "Model: \"model_3\"\n",
            "_________________________________________________________________\n",
            "Layer (type)                 Output Shape              Param #   \n",
            "=================================================================\n",
            "input_4 (InputLayer)         [(None, 128)]             0         \n",
            "_________________________________________________________________\n",
            "GloVe_Embeddings (Embedding) (None, 128, 300)          120000300 \n",
            "_________________________________________________________________\n",
            "global_average_pooling1d_mas (None, 300)               0         \n",
            "_________________________________________________________________\n",
            "dense_6 (Dense)              (None, 16)                4816      \n",
            "_________________________________________________________________\n",
            "dense_7 (Dense)              (None, 1)                 17        \n",
            "=================================================================\n",
            "Total params: 120,005,133\n",
            "Trainable params: 4,833\n",
            "Non-trainable params: 120,000,300\n",
            "_________________________________________________________________\n"
          ],
          "name": "stdout"
        }
      ]
    },
    {
      "cell_type": "markdown",
      "metadata": {
        "id": "i8RmQAtE-8dH"
      },
      "source": [
        "**<i> <font color ='darkblue'> Reusing the mentioned model from lab 4, we change the input shape to be 128 to match our current problem statement and input dimension is set to the length of GloVe corpus keeping rest of the configurations unchanged.\n",
        " </font></i>**"
      ]
    },
    {
      "cell_type": "code",
      "metadata": {
        "colab": {
          "base_uri": "https://localhost:8080/"
        },
        "id": "eQEj-Kypusir",
        "outputId": "fae11634-1b25-42db-b0fd-912623722c98"
      },
      "source": [
        "# Model training\n",
        "history = model3.fit(x_train_pad_glove,\n",
        "                    y_train,\n",
        "                    epochs=200,\n",
        "                    batch_size=512,\n",
        "                    validation_data=(x_dev_pad_glove, y_dev),\n",
        "                    verbose=1)"
      ],
      "execution_count": null,
      "outputs": [
        {
          "output_type": "stream",
          "text": [
            "Epoch 1/200\n",
            "35/35 [==============================] - 2s 27ms/step - loss: 0.6151 - accuracy: 0.7884 - val_loss: 0.5734 - val_accuracy: 0.7442\n",
            "Epoch 2/200\n",
            "35/35 [==============================] - 1s 23ms/step - loss: 0.5103 - accuracy: 0.7925 - val_loss: 0.5697 - val_accuracy: 0.7442\n",
            "Epoch 3/200\n",
            "35/35 [==============================] - 1s 22ms/step - loss: 0.4957 - accuracy: 0.7924 - val_loss: 0.5532 - val_accuracy: 0.7442\n",
            "Epoch 4/200\n",
            "35/35 [==============================] - 1s 23ms/step - loss: 0.4786 - accuracy: 0.7953 - val_loss: 0.5384 - val_accuracy: 0.7442\n",
            "Epoch 5/200\n",
            "35/35 [==============================] - 1s 23ms/step - loss: 0.4609 - accuracy: 0.7970 - val_loss: 0.5202 - val_accuracy: 0.7442\n",
            "Epoch 6/200\n",
            "35/35 [==============================] - 1s 22ms/step - loss: 0.4502 - accuracy: 0.7970 - val_loss: 0.5039 - val_accuracy: 0.7442\n",
            "Epoch 7/200\n",
            "35/35 [==============================] - 1s 22ms/step - loss: 0.4331 - accuracy: 0.8037 - val_loss: 0.4844 - val_accuracy: 0.7457\n",
            "Epoch 8/200\n",
            "35/35 [==============================] - 1s 22ms/step - loss: 0.4187 - accuracy: 0.8129 - val_loss: 0.4687 - val_accuracy: 0.7525\n",
            "Epoch 9/200\n",
            "35/35 [==============================] - 1s 22ms/step - loss: 0.4079 - accuracy: 0.8186 - val_loss: 0.4563 - val_accuracy: 0.7585\n",
            "Epoch 10/200\n",
            "35/35 [==============================] - 1s 23ms/step - loss: 0.3919 - accuracy: 0.8293 - val_loss: 0.4404 - val_accuracy: 0.7758\n",
            "Epoch 11/200\n",
            "35/35 [==============================] - 1s 22ms/step - loss: 0.3789 - accuracy: 0.8371 - val_loss: 0.4314 - val_accuracy: 0.7826\n",
            "Epoch 12/200\n",
            "35/35 [==============================] - 1s 22ms/step - loss: 0.3687 - accuracy: 0.8413 - val_loss: 0.4228 - val_accuracy: 0.7894\n",
            "Epoch 13/200\n",
            "35/35 [==============================] - 1s 22ms/step - loss: 0.3673 - accuracy: 0.8415 - val_loss: 0.4175 - val_accuracy: 0.7917\n",
            "Epoch 14/200\n",
            "35/35 [==============================] - 1s 23ms/step - loss: 0.3591 - accuracy: 0.8469 - val_loss: 0.4125 - val_accuracy: 0.8038\n",
            "Epoch 15/200\n",
            "35/35 [==============================] - 1s 23ms/step - loss: 0.3560 - accuracy: 0.8478 - val_loss: 0.4092 - val_accuracy: 0.8068\n",
            "Epoch 16/200\n",
            "35/35 [==============================] - 1s 22ms/step - loss: 0.3508 - accuracy: 0.8524 - val_loss: 0.4074 - val_accuracy: 0.8106\n",
            "Epoch 17/200\n",
            "35/35 [==============================] - 1s 22ms/step - loss: 0.3476 - accuracy: 0.8525 - val_loss: 0.4057 - val_accuracy: 0.8083\n",
            "Epoch 18/200\n",
            "35/35 [==============================] - 1s 23ms/step - loss: 0.3483 - accuracy: 0.8518 - val_loss: 0.4032 - val_accuracy: 0.8151\n",
            "Epoch 19/200\n",
            "35/35 [==============================] - 1s 23ms/step - loss: 0.3390 - accuracy: 0.8568 - val_loss: 0.4026 - val_accuracy: 0.8143\n",
            "Epoch 20/200\n",
            "35/35 [==============================] - 1s 23ms/step - loss: 0.3382 - accuracy: 0.8566 - val_loss: 0.4045 - val_accuracy: 0.8106\n",
            "Epoch 21/200\n",
            "35/35 [==============================] - 1s 23ms/step - loss: 0.3360 - accuracy: 0.8567 - val_loss: 0.4004 - val_accuracy: 0.8166\n",
            "Epoch 22/200\n",
            "35/35 [==============================] - 1s 24ms/step - loss: 0.3345 - accuracy: 0.8592 - val_loss: 0.4008 - val_accuracy: 0.8158\n",
            "Epoch 23/200\n",
            "35/35 [==============================] - 1s 22ms/step - loss: 0.3305 - accuracy: 0.8607 - val_loss: 0.3999 - val_accuracy: 0.8136\n",
            "Epoch 24/200\n",
            "35/35 [==============================] - 1s 22ms/step - loss: 0.3307 - accuracy: 0.8611 - val_loss: 0.3998 - val_accuracy: 0.8151\n",
            "Epoch 25/200\n",
            "35/35 [==============================] - 1s 23ms/step - loss: 0.3286 - accuracy: 0.8622 - val_loss: 0.3982 - val_accuracy: 0.8204\n",
            "Epoch 26/200\n",
            "35/35 [==============================] - 1s 23ms/step - loss: 0.3241 - accuracy: 0.8636 - val_loss: 0.3985 - val_accuracy: 0.8189\n",
            "Epoch 27/200\n",
            "35/35 [==============================] - 1s 22ms/step - loss: 0.3206 - accuracy: 0.8674 - val_loss: 0.4000 - val_accuracy: 0.8174\n",
            "Epoch 28/200\n",
            "35/35 [==============================] - 1s 22ms/step - loss: 0.3249 - accuracy: 0.8636 - val_loss: 0.3980 - val_accuracy: 0.8211\n",
            "Epoch 29/200\n",
            "35/35 [==============================] - 1s 24ms/step - loss: 0.3187 - accuracy: 0.8685 - val_loss: 0.3985 - val_accuracy: 0.8181\n",
            "Epoch 30/200\n",
            "35/35 [==============================] - 1s 24ms/step - loss: 0.3235 - accuracy: 0.8646 - val_loss: 0.3984 - val_accuracy: 0.8196\n",
            "Epoch 31/200\n",
            "35/35 [==============================] - 1s 23ms/step - loss: 0.3243 - accuracy: 0.8625 - val_loss: 0.3997 - val_accuracy: 0.8166\n",
            "Epoch 32/200\n",
            "35/35 [==============================] - 1s 23ms/step - loss: 0.3105 - accuracy: 0.8695 - val_loss: 0.3995 - val_accuracy: 0.8174\n",
            "Epoch 33/200\n",
            "35/35 [==============================] - 1s 23ms/step - loss: 0.3086 - accuracy: 0.8719 - val_loss: 0.3988 - val_accuracy: 0.8181\n",
            "Epoch 34/200\n",
            "35/35 [==============================] - 1s 24ms/step - loss: 0.3102 - accuracy: 0.8707 - val_loss: 0.3990 - val_accuracy: 0.8174\n",
            "Epoch 35/200\n",
            "35/35 [==============================] - 1s 23ms/step - loss: 0.3122 - accuracy: 0.8711 - val_loss: 0.4005 - val_accuracy: 0.8196\n",
            "Epoch 36/200\n",
            "35/35 [==============================] - 1s 22ms/step - loss: 0.3130 - accuracy: 0.8691 - val_loss: 0.3999 - val_accuracy: 0.8189\n",
            "Epoch 37/200\n",
            "35/35 [==============================] - 1s 22ms/step - loss: 0.3169 - accuracy: 0.8706 - val_loss: 0.3998 - val_accuracy: 0.8174\n",
            "Epoch 38/200\n",
            "35/35 [==============================] - 1s 23ms/step - loss: 0.3122 - accuracy: 0.8680 - val_loss: 0.4025 - val_accuracy: 0.8181\n",
            "Epoch 39/200\n",
            "35/35 [==============================] - 1s 23ms/step - loss: 0.3162 - accuracy: 0.8645 - val_loss: 0.3997 - val_accuracy: 0.8181\n",
            "Epoch 40/200\n",
            "35/35 [==============================] - 1s 23ms/step - loss: 0.3207 - accuracy: 0.8689 - val_loss: 0.3996 - val_accuracy: 0.8174\n",
            "Epoch 41/200\n",
            "35/35 [==============================] - 1s 22ms/step - loss: 0.3146 - accuracy: 0.8652 - val_loss: 0.4004 - val_accuracy: 0.8189\n",
            "Epoch 42/200\n",
            "35/35 [==============================] - 1s 22ms/step - loss: 0.3127 - accuracy: 0.8668 - val_loss: 0.4003 - val_accuracy: 0.8158\n",
            "Epoch 43/200\n",
            "35/35 [==============================] - 1s 23ms/step - loss: 0.3087 - accuracy: 0.8735 - val_loss: 0.4006 - val_accuracy: 0.8196\n",
            "Epoch 44/200\n",
            "35/35 [==============================] - 1s 23ms/step - loss: 0.3125 - accuracy: 0.8703 - val_loss: 0.4009 - val_accuracy: 0.8196\n",
            "Epoch 45/200\n",
            "35/35 [==============================] - 1s 23ms/step - loss: 0.3133 - accuracy: 0.8667 - val_loss: 0.4018 - val_accuracy: 0.8189\n",
            "Epoch 46/200\n",
            "35/35 [==============================] - 1s 22ms/step - loss: 0.3116 - accuracy: 0.8698 - val_loss: 0.4011 - val_accuracy: 0.8174\n",
            "Epoch 47/200\n",
            "35/35 [==============================] - 1s 24ms/step - loss: 0.3157 - accuracy: 0.8682 - val_loss: 0.4018 - val_accuracy: 0.8181\n",
            "Epoch 48/200\n",
            "35/35 [==============================] - 1s 24ms/step - loss: 0.3171 - accuracy: 0.8665 - val_loss: 0.4019 - val_accuracy: 0.8174\n",
            "Epoch 49/200\n",
            "35/35 [==============================] - 1s 24ms/step - loss: 0.3127 - accuracy: 0.8693 - val_loss: 0.4043 - val_accuracy: 0.8158\n",
            "Epoch 50/200\n",
            "35/35 [==============================] - 1s 23ms/step - loss: 0.3092 - accuracy: 0.8700 - val_loss: 0.4029 - val_accuracy: 0.8189\n",
            "Epoch 51/200\n",
            "35/35 [==============================] - 1s 24ms/step - loss: 0.3065 - accuracy: 0.8733 - val_loss: 0.4025 - val_accuracy: 0.8158\n",
            "Epoch 52/200\n",
            "35/35 [==============================] - 1s 23ms/step - loss: 0.3175 - accuracy: 0.8685 - val_loss: 0.4036 - val_accuracy: 0.8189\n",
            "Epoch 53/200\n",
            "35/35 [==============================] - 1s 23ms/step - loss: 0.3064 - accuracy: 0.8726 - val_loss: 0.4032 - val_accuracy: 0.8189\n",
            "Epoch 54/200\n",
            "35/35 [==============================] - 1s 24ms/step - loss: 0.3064 - accuracy: 0.8726 - val_loss: 0.4032 - val_accuracy: 0.8226\n",
            "Epoch 55/200\n",
            "35/35 [==============================] - 1s 24ms/step - loss: 0.3042 - accuracy: 0.8730 - val_loss: 0.4033 - val_accuracy: 0.8174\n",
            "Epoch 56/200\n",
            "35/35 [==============================] - 1s 23ms/step - loss: 0.3090 - accuracy: 0.8718 - val_loss: 0.4039 - val_accuracy: 0.8166\n",
            "Epoch 57/200\n",
            "35/35 [==============================] - 1s 23ms/step - loss: 0.3121 - accuracy: 0.8700 - val_loss: 0.4053 - val_accuracy: 0.8181\n",
            "Epoch 58/200\n",
            "35/35 [==============================] - 1s 23ms/step - loss: 0.3091 - accuracy: 0.8719 - val_loss: 0.4041 - val_accuracy: 0.8211\n",
            "Epoch 59/200\n",
            "35/35 [==============================] - 1s 23ms/step - loss: 0.3125 - accuracy: 0.8705 - val_loss: 0.4054 - val_accuracy: 0.8174\n",
            "Epoch 60/200\n",
            "35/35 [==============================] - 1s 23ms/step - loss: 0.3088 - accuracy: 0.8703 - val_loss: 0.4046 - val_accuracy: 0.8211\n",
            "Epoch 61/200\n",
            "35/35 [==============================] - 1s 22ms/step - loss: 0.3039 - accuracy: 0.8731 - val_loss: 0.4051 - val_accuracy: 0.8189\n",
            "Epoch 62/200\n",
            "35/35 [==============================] - 1s 23ms/step - loss: 0.3079 - accuracy: 0.8718 - val_loss: 0.4050 - val_accuracy: 0.8189\n",
            "Epoch 63/200\n",
            "35/35 [==============================] - 1s 23ms/step - loss: 0.3083 - accuracy: 0.8721 - val_loss: 0.4056 - val_accuracy: 0.8211\n",
            "Epoch 64/200\n",
            "35/35 [==============================] - 1s 23ms/step - loss: 0.3083 - accuracy: 0.8702 - val_loss: 0.4052 - val_accuracy: 0.8196\n",
            "Epoch 65/200\n",
            "35/35 [==============================] - 1s 23ms/step - loss: 0.3029 - accuracy: 0.8716 - val_loss: 0.4053 - val_accuracy: 0.8211\n",
            "Epoch 66/200\n",
            "35/35 [==============================] - 1s 23ms/step - loss: 0.3004 - accuracy: 0.8740 - val_loss: 0.4057 - val_accuracy: 0.8189\n",
            "Epoch 67/200\n",
            "35/35 [==============================] - 1s 23ms/step - loss: 0.3122 - accuracy: 0.8696 - val_loss: 0.4071 - val_accuracy: 0.8196\n",
            "Epoch 68/200\n",
            "35/35 [==============================] - 1s 23ms/step - loss: 0.3115 - accuracy: 0.8696 - val_loss: 0.4063 - val_accuracy: 0.8196\n",
            "Epoch 69/200\n",
            "35/35 [==============================] - 1s 23ms/step - loss: 0.3091 - accuracy: 0.8705 - val_loss: 0.4063 - val_accuracy: 0.8189\n",
            "Epoch 70/200\n",
            "35/35 [==============================] - 1s 23ms/step - loss: 0.3112 - accuracy: 0.8688 - val_loss: 0.4082 - val_accuracy: 0.8196\n",
            "Epoch 71/200\n",
            "35/35 [==============================] - 1s 24ms/step - loss: 0.3003 - accuracy: 0.8757 - val_loss: 0.4067 - val_accuracy: 0.8196\n",
            "Epoch 72/200\n",
            "35/35 [==============================] - 1s 23ms/step - loss: 0.3009 - accuracy: 0.8749 - val_loss: 0.4073 - val_accuracy: 0.8189\n",
            "Epoch 73/200\n",
            "35/35 [==============================] - 1s 23ms/step - loss: 0.3089 - accuracy: 0.8703 - val_loss: 0.4091 - val_accuracy: 0.8181\n",
            "Epoch 74/200\n",
            "35/35 [==============================] - 1s 24ms/step - loss: 0.3101 - accuracy: 0.8721 - val_loss: 0.4084 - val_accuracy: 0.8189\n",
            "Epoch 75/200\n",
            "35/35 [==============================] - 1s 24ms/step - loss: 0.3054 - accuracy: 0.8720 - val_loss: 0.4079 - val_accuracy: 0.8189\n",
            "Epoch 76/200\n",
            "35/35 [==============================] - 1s 25ms/step - loss: 0.3060 - accuracy: 0.8711 - val_loss: 0.4112 - val_accuracy: 0.8211\n",
            "Epoch 77/200\n",
            "35/35 [==============================] - 1s 23ms/step - loss: 0.3052 - accuracy: 0.8716 - val_loss: 0.4089 - val_accuracy: 0.8181\n",
            "Epoch 78/200\n",
            "35/35 [==============================] - 1s 23ms/step - loss: 0.3057 - accuracy: 0.8735 - val_loss: 0.4086 - val_accuracy: 0.8189\n",
            "Epoch 79/200\n",
            "35/35 [==============================] - 1s 23ms/step - loss: 0.3079 - accuracy: 0.8728 - val_loss: 0.4095 - val_accuracy: 0.8181\n",
            "Epoch 80/200\n",
            "35/35 [==============================] - 1s 23ms/step - loss: 0.3048 - accuracy: 0.8718 - val_loss: 0.4096 - val_accuracy: 0.8181\n",
            "Epoch 81/200\n",
            "35/35 [==============================] - 1s 23ms/step - loss: 0.3040 - accuracy: 0.8718 - val_loss: 0.4087 - val_accuracy: 0.8204\n",
            "Epoch 82/200\n",
            "35/35 [==============================] - 1s 23ms/step - loss: 0.3019 - accuracy: 0.8733 - val_loss: 0.4093 - val_accuracy: 0.8181\n",
            "Epoch 83/200\n",
            "35/35 [==============================] - 1s 23ms/step - loss: 0.3134 - accuracy: 0.8680 - val_loss: 0.4103 - val_accuracy: 0.8174\n",
            "Epoch 84/200\n",
            "35/35 [==============================] - 1s 23ms/step - loss: 0.3037 - accuracy: 0.8760 - val_loss: 0.4094 - val_accuracy: 0.8189\n",
            "Epoch 85/200\n",
            "35/35 [==============================] - 1s 23ms/step - loss: 0.3009 - accuracy: 0.8742 - val_loss: 0.4095 - val_accuracy: 0.8189\n",
            "Epoch 86/200\n",
            "35/35 [==============================] - 1s 22ms/step - loss: 0.3064 - accuracy: 0.8717 - val_loss: 0.4111 - val_accuracy: 0.8174\n",
            "Epoch 87/200\n",
            "35/35 [==============================] - 1s 22ms/step - loss: 0.3024 - accuracy: 0.8715 - val_loss: 0.4098 - val_accuracy: 0.8196\n",
            "Epoch 88/200\n",
            "35/35 [==============================] - 1s 24ms/step - loss: 0.2992 - accuracy: 0.8750 - val_loss: 0.4104 - val_accuracy: 0.8174\n",
            "Epoch 89/200\n",
            "35/35 [==============================] - 1s 25ms/step - loss: 0.2935 - accuracy: 0.8764 - val_loss: 0.4109 - val_accuracy: 0.8181\n",
            "Epoch 90/200\n",
            "35/35 [==============================] - 1s 23ms/step - loss: 0.3090 - accuracy: 0.8687 - val_loss: 0.4105 - val_accuracy: 0.8166\n",
            "Epoch 91/200\n",
            "35/35 [==============================] - 1s 24ms/step - loss: 0.3017 - accuracy: 0.8758 - val_loss: 0.4105 - val_accuracy: 0.8181\n",
            "Epoch 92/200\n",
            "35/35 [==============================] - 1s 24ms/step - loss: 0.3064 - accuracy: 0.8730 - val_loss: 0.4111 - val_accuracy: 0.8174\n",
            "Epoch 93/200\n",
            "35/35 [==============================] - 1s 23ms/step - loss: 0.3055 - accuracy: 0.8737 - val_loss: 0.4112 - val_accuracy: 0.8181\n",
            "Epoch 94/200\n",
            "35/35 [==============================] - 1s 23ms/step - loss: 0.3003 - accuracy: 0.8748 - val_loss: 0.4113 - val_accuracy: 0.8181\n",
            "Epoch 95/200\n",
            "35/35 [==============================] - 1s 23ms/step - loss: 0.2998 - accuracy: 0.8763 - val_loss: 0.4123 - val_accuracy: 0.8196\n",
            "Epoch 96/200\n",
            "35/35 [==============================] - 1s 23ms/step - loss: 0.3032 - accuracy: 0.8710 - val_loss: 0.4114 - val_accuracy: 0.8204\n",
            "Epoch 97/200\n",
            "35/35 [==============================] - 1s 23ms/step - loss: 0.3090 - accuracy: 0.8719 - val_loss: 0.4128 - val_accuracy: 0.8196\n",
            "Epoch 98/200\n",
            "35/35 [==============================] - 1s 23ms/step - loss: 0.3024 - accuracy: 0.8725 - val_loss: 0.4120 - val_accuracy: 0.8174\n",
            "Epoch 99/200\n",
            "35/35 [==============================] - 1s 24ms/step - loss: 0.2968 - accuracy: 0.8785 - val_loss: 0.4120 - val_accuracy: 0.8174\n",
            "Epoch 100/200\n",
            "35/35 [==============================] - 1s 23ms/step - loss: 0.2974 - accuracy: 0.8757 - val_loss: 0.4123 - val_accuracy: 0.8181\n",
            "Epoch 101/200\n",
            "35/35 [==============================] - 1s 24ms/step - loss: 0.3047 - accuracy: 0.8721 - val_loss: 0.4128 - val_accuracy: 0.8181\n",
            "Epoch 102/200\n",
            "35/35 [==============================] - 1s 23ms/step - loss: 0.2978 - accuracy: 0.8751 - val_loss: 0.4127 - val_accuracy: 0.8181\n",
            "Epoch 103/200\n",
            "35/35 [==============================] - 1s 23ms/step - loss: 0.3023 - accuracy: 0.8731 - val_loss: 0.4132 - val_accuracy: 0.8189\n",
            "Epoch 104/200\n",
            "35/35 [==============================] - 1s 23ms/step - loss: 0.3053 - accuracy: 0.8732 - val_loss: 0.4126 - val_accuracy: 0.8166\n",
            "Epoch 105/200\n",
            "35/35 [==============================] - 1s 22ms/step - loss: 0.3034 - accuracy: 0.8734 - val_loss: 0.4134 - val_accuracy: 0.8189\n",
            "Epoch 106/200\n",
            "35/35 [==============================] - 1s 23ms/step - loss: 0.3039 - accuracy: 0.8725 - val_loss: 0.4137 - val_accuracy: 0.8189\n",
            "Epoch 107/200\n",
            "35/35 [==============================] - 1s 23ms/step - loss: 0.3013 - accuracy: 0.8734 - val_loss: 0.4137 - val_accuracy: 0.8158\n",
            "Epoch 108/200\n",
            "35/35 [==============================] - 1s 23ms/step - loss: 0.2991 - accuracy: 0.8759 - val_loss: 0.4137 - val_accuracy: 0.8158\n",
            "Epoch 109/200\n",
            "35/35 [==============================] - 1s 22ms/step - loss: 0.3044 - accuracy: 0.8740 - val_loss: 0.4135 - val_accuracy: 0.8181\n",
            "Epoch 110/200\n",
            "35/35 [==============================] - 1s 22ms/step - loss: 0.2991 - accuracy: 0.8738 - val_loss: 0.4137 - val_accuracy: 0.8181\n",
            "Epoch 111/200\n",
            "35/35 [==============================] - 1s 23ms/step - loss: 0.3033 - accuracy: 0.8716 - val_loss: 0.4147 - val_accuracy: 0.8181\n",
            "Epoch 112/200\n",
            "35/35 [==============================] - 1s 23ms/step - loss: 0.3060 - accuracy: 0.8706 - val_loss: 0.4137 - val_accuracy: 0.8196\n",
            "Epoch 113/200\n",
            "35/35 [==============================] - 1s 23ms/step - loss: 0.3035 - accuracy: 0.8746 - val_loss: 0.4148 - val_accuracy: 0.8181\n",
            "Epoch 114/200\n",
            "35/35 [==============================] - 1s 23ms/step - loss: 0.3030 - accuracy: 0.8742 - val_loss: 0.4159 - val_accuracy: 0.8166\n",
            "Epoch 115/200\n",
            "35/35 [==============================] - 1s 23ms/step - loss: 0.3004 - accuracy: 0.8747 - val_loss: 0.4143 - val_accuracy: 0.8174\n",
            "Epoch 116/200\n",
            "35/35 [==============================] - 1s 23ms/step - loss: 0.3047 - accuracy: 0.8730 - val_loss: 0.4141 - val_accuracy: 0.8189\n",
            "Epoch 117/200\n",
            "35/35 [==============================] - 1s 23ms/step - loss: 0.3011 - accuracy: 0.8728 - val_loss: 0.4146 - val_accuracy: 0.8181\n",
            "Epoch 118/200\n",
            "35/35 [==============================] - 1s 23ms/step - loss: 0.2997 - accuracy: 0.8756 - val_loss: 0.4151 - val_accuracy: 0.8181\n",
            "Epoch 119/200\n",
            "35/35 [==============================] - 1s 23ms/step - loss: 0.3042 - accuracy: 0.8747 - val_loss: 0.4150 - val_accuracy: 0.8158\n",
            "Epoch 120/200\n",
            "35/35 [==============================] - 1s 23ms/step - loss: 0.3062 - accuracy: 0.8730 - val_loss: 0.4152 - val_accuracy: 0.8158\n",
            "Epoch 121/200\n",
            "35/35 [==============================] - 1s 23ms/step - loss: 0.3025 - accuracy: 0.8761 - val_loss: 0.4152 - val_accuracy: 0.8166\n",
            "Epoch 122/200\n",
            "35/35 [==============================] - 1s 24ms/step - loss: 0.3011 - accuracy: 0.8738 - val_loss: 0.4156 - val_accuracy: 0.8196\n",
            "Epoch 123/200\n",
            "35/35 [==============================] - 1s 23ms/step - loss: 0.3002 - accuracy: 0.8723 - val_loss: 0.4155 - val_accuracy: 0.8158\n",
            "Epoch 124/200\n",
            "35/35 [==============================] - 1s 23ms/step - loss: 0.3023 - accuracy: 0.8733 - val_loss: 0.4153 - val_accuracy: 0.8158\n",
            "Epoch 125/200\n",
            "35/35 [==============================] - 1s 23ms/step - loss: 0.3012 - accuracy: 0.8770 - val_loss: 0.4152 - val_accuracy: 0.8174\n",
            "Epoch 126/200\n",
            "35/35 [==============================] - 1s 24ms/step - loss: 0.3047 - accuracy: 0.8704 - val_loss: 0.4156 - val_accuracy: 0.8174\n",
            "Epoch 127/200\n",
            "35/35 [==============================] - 1s 23ms/step - loss: 0.2995 - accuracy: 0.8762 - val_loss: 0.4161 - val_accuracy: 0.8166\n",
            "Epoch 128/200\n",
            "35/35 [==============================] - 1s 23ms/step - loss: 0.3045 - accuracy: 0.8728 - val_loss: 0.4163 - val_accuracy: 0.8166\n",
            "Epoch 129/200\n",
            "35/35 [==============================] - 1s 23ms/step - loss: 0.2938 - accuracy: 0.8784 - val_loss: 0.4159 - val_accuracy: 0.8166\n",
            "Epoch 130/200\n",
            "35/35 [==============================] - 1s 23ms/step - loss: 0.3082 - accuracy: 0.8706 - val_loss: 0.4165 - val_accuracy: 0.8151\n",
            "Epoch 131/200\n",
            "35/35 [==============================] - 1s 23ms/step - loss: 0.3010 - accuracy: 0.8739 - val_loss: 0.4167 - val_accuracy: 0.8181\n",
            "Epoch 132/200\n",
            "35/35 [==============================] - 1s 23ms/step - loss: 0.3054 - accuracy: 0.8740 - val_loss: 0.4164 - val_accuracy: 0.8158\n",
            "Epoch 133/200\n",
            "35/35 [==============================] - 1s 25ms/step - loss: 0.3021 - accuracy: 0.8746 - val_loss: 0.4202 - val_accuracy: 0.8113\n",
            "Epoch 134/200\n",
            "35/35 [==============================] - 1s 27ms/step - loss: 0.3032 - accuracy: 0.8736 - val_loss: 0.4164 - val_accuracy: 0.8151\n",
            "Epoch 135/200\n",
            "35/35 [==============================] - 1s 25ms/step - loss: 0.3015 - accuracy: 0.8739 - val_loss: 0.4173 - val_accuracy: 0.8166\n",
            "Epoch 136/200\n",
            "35/35 [==============================] - 1s 25ms/step - loss: 0.3049 - accuracy: 0.8696 - val_loss: 0.4169 - val_accuracy: 0.8158\n",
            "Epoch 137/200\n",
            "35/35 [==============================] - 1s 25ms/step - loss: 0.2978 - accuracy: 0.8767 - val_loss: 0.4172 - val_accuracy: 0.8158\n",
            "Epoch 138/200\n",
            "35/35 [==============================] - 1s 26ms/step - loss: 0.3042 - accuracy: 0.8741 - val_loss: 0.4174 - val_accuracy: 0.8174\n",
            "Epoch 139/200\n",
            "35/35 [==============================] - 1s 24ms/step - loss: 0.3008 - accuracy: 0.8728 - val_loss: 0.4169 - val_accuracy: 0.8151\n",
            "Epoch 140/200\n",
            "35/35 [==============================] - 1s 24ms/step - loss: 0.3090 - accuracy: 0.8724 - val_loss: 0.4172 - val_accuracy: 0.8174\n",
            "Epoch 141/200\n",
            "35/35 [==============================] - 1s 23ms/step - loss: 0.3005 - accuracy: 0.8740 - val_loss: 0.4176 - val_accuracy: 0.8143\n",
            "Epoch 142/200\n",
            "35/35 [==============================] - 1s 23ms/step - loss: 0.3034 - accuracy: 0.8751 - val_loss: 0.4173 - val_accuracy: 0.8174\n",
            "Epoch 143/200\n",
            "35/35 [==============================] - 1s 23ms/step - loss: 0.3028 - accuracy: 0.8746 - val_loss: 0.4180 - val_accuracy: 0.8151\n",
            "Epoch 144/200\n",
            "35/35 [==============================] - 1s 22ms/step - loss: 0.3026 - accuracy: 0.8737 - val_loss: 0.4172 - val_accuracy: 0.8158\n",
            "Epoch 145/200\n",
            "35/35 [==============================] - 1s 23ms/step - loss: 0.2968 - accuracy: 0.8757 - val_loss: 0.4184 - val_accuracy: 0.8128\n",
            "Epoch 146/200\n",
            "35/35 [==============================] - 1s 22ms/step - loss: 0.3050 - accuracy: 0.8714 - val_loss: 0.4173 - val_accuracy: 0.8174\n",
            "Epoch 147/200\n",
            "35/35 [==============================] - 1s 22ms/step - loss: 0.2999 - accuracy: 0.8745 - val_loss: 0.4177 - val_accuracy: 0.8158\n",
            "Epoch 148/200\n",
            "35/35 [==============================] - 1s 23ms/step - loss: 0.3011 - accuracy: 0.8753 - val_loss: 0.4185 - val_accuracy: 0.8151\n",
            "Epoch 149/200\n",
            "35/35 [==============================] - 1s 23ms/step - loss: 0.3056 - accuracy: 0.8705 - val_loss: 0.4183 - val_accuracy: 0.8166\n",
            "Epoch 150/200\n",
            "35/35 [==============================] - 1s 23ms/step - loss: 0.3015 - accuracy: 0.8720 - val_loss: 0.4178 - val_accuracy: 0.8158\n",
            "Epoch 151/200\n",
            "35/35 [==============================] - 1s 23ms/step - loss: 0.3000 - accuracy: 0.8728 - val_loss: 0.4178 - val_accuracy: 0.8166\n",
            "Epoch 152/200\n",
            "35/35 [==============================] - 1s 23ms/step - loss: 0.3005 - accuracy: 0.8748 - val_loss: 0.4198 - val_accuracy: 0.8174\n",
            "Epoch 153/200\n",
            "35/35 [==============================] - 1s 24ms/step - loss: 0.3050 - accuracy: 0.8736 - val_loss: 0.4185 - val_accuracy: 0.8121\n",
            "Epoch 154/200\n",
            "35/35 [==============================] - 1s 23ms/step - loss: 0.2978 - accuracy: 0.8767 - val_loss: 0.4188 - val_accuracy: 0.8136\n",
            "Epoch 155/200\n",
            "35/35 [==============================] - 1s 22ms/step - loss: 0.3021 - accuracy: 0.8752 - val_loss: 0.4203 - val_accuracy: 0.8128\n",
            "Epoch 156/200\n",
            "35/35 [==============================] - 1s 23ms/step - loss: 0.2997 - accuracy: 0.8750 - val_loss: 0.4202 - val_accuracy: 0.8121\n",
            "Epoch 157/200\n",
            "35/35 [==============================] - 1s 23ms/step - loss: 0.3029 - accuracy: 0.8739 - val_loss: 0.4185 - val_accuracy: 0.8174\n",
            "Epoch 158/200\n",
            "35/35 [==============================] - 1s 23ms/step - loss: 0.3066 - accuracy: 0.8723 - val_loss: 0.4188 - val_accuracy: 0.8151\n",
            "Epoch 159/200\n",
            "35/35 [==============================] - 1s 23ms/step - loss: 0.3043 - accuracy: 0.8707 - val_loss: 0.4198 - val_accuracy: 0.8128\n",
            "Epoch 160/200\n",
            "35/35 [==============================] - 1s 22ms/step - loss: 0.3074 - accuracy: 0.8716 - val_loss: 0.4200 - val_accuracy: 0.8113\n",
            "Epoch 161/200\n",
            "35/35 [==============================] - 1s 23ms/step - loss: 0.3011 - accuracy: 0.8754 - val_loss: 0.4192 - val_accuracy: 0.8158\n",
            "Epoch 162/200\n",
            "35/35 [==============================] - 1s 22ms/step - loss: 0.3012 - accuracy: 0.8754 - val_loss: 0.4188 - val_accuracy: 0.8158\n",
            "Epoch 163/200\n",
            "35/35 [==============================] - 1s 23ms/step - loss: 0.3024 - accuracy: 0.8726 - val_loss: 0.4196 - val_accuracy: 0.8113\n",
            "Epoch 164/200\n",
            "35/35 [==============================] - 1s 24ms/step - loss: 0.3042 - accuracy: 0.8730 - val_loss: 0.4192 - val_accuracy: 0.8166\n",
            "Epoch 165/200\n",
            "35/35 [==============================] - 1s 23ms/step - loss: 0.3051 - accuracy: 0.8694 - val_loss: 0.4196 - val_accuracy: 0.8121\n",
            "Epoch 166/200\n",
            "35/35 [==============================] - 1s 23ms/step - loss: 0.2976 - accuracy: 0.8766 - val_loss: 0.4194 - val_accuracy: 0.8166\n",
            "Epoch 167/200\n",
            "35/35 [==============================] - 1s 23ms/step - loss: 0.3077 - accuracy: 0.8734 - val_loss: 0.4189 - val_accuracy: 0.8151\n",
            "Epoch 168/200\n",
            "35/35 [==============================] - 1s 23ms/step - loss: 0.3039 - accuracy: 0.8715 - val_loss: 0.4203 - val_accuracy: 0.8113\n",
            "Epoch 169/200\n",
            "35/35 [==============================] - 1s 23ms/step - loss: 0.3010 - accuracy: 0.8740 - val_loss: 0.4198 - val_accuracy: 0.8181\n",
            "Epoch 170/200\n",
            "35/35 [==============================] - 1s 23ms/step - loss: 0.3043 - accuracy: 0.8745 - val_loss: 0.4218 - val_accuracy: 0.8106\n",
            "Epoch 171/200\n",
            "35/35 [==============================] - 1s 23ms/step - loss: 0.3017 - accuracy: 0.8739 - val_loss: 0.4195 - val_accuracy: 0.8174\n",
            "Epoch 172/200\n",
            "35/35 [==============================] - 1s 23ms/step - loss: 0.2916 - accuracy: 0.8783 - val_loss: 0.4203 - val_accuracy: 0.8121\n",
            "Epoch 173/200\n",
            "35/35 [==============================] - 1s 24ms/step - loss: 0.3059 - accuracy: 0.8747 - val_loss: 0.4205 - val_accuracy: 0.8106\n",
            "Epoch 174/200\n",
            "35/35 [==============================] - 1s 23ms/step - loss: 0.3091 - accuracy: 0.8692 - val_loss: 0.4212 - val_accuracy: 0.8128\n",
            "Epoch 175/200\n",
            "35/35 [==============================] - 1s 23ms/step - loss: 0.3023 - accuracy: 0.8740 - val_loss: 0.4233 - val_accuracy: 0.8098\n",
            "Epoch 176/200\n",
            "35/35 [==============================] - 1s 24ms/step - loss: 0.3011 - accuracy: 0.8739 - val_loss: 0.4209 - val_accuracy: 0.8128\n",
            "Epoch 177/200\n",
            "35/35 [==============================] - 1s 24ms/step - loss: 0.3024 - accuracy: 0.8729 - val_loss: 0.4217 - val_accuracy: 0.8106\n",
            "Epoch 178/200\n",
            "35/35 [==============================] - 1s 23ms/step - loss: 0.3075 - accuracy: 0.8717 - val_loss: 0.4208 - val_accuracy: 0.8136\n",
            "Epoch 179/200\n",
            "35/35 [==============================] - 1s 23ms/step - loss: 0.3010 - accuracy: 0.8757 - val_loss: 0.4206 - val_accuracy: 0.8151\n",
            "Epoch 180/200\n",
            "35/35 [==============================] - 1s 23ms/step - loss: 0.3039 - accuracy: 0.8742 - val_loss: 0.4221 - val_accuracy: 0.8091\n",
            "Epoch 181/200\n",
            "35/35 [==============================] - 1s 23ms/step - loss: 0.3048 - accuracy: 0.8693 - val_loss: 0.4209 - val_accuracy: 0.8121\n",
            "Epoch 182/200\n",
            "35/35 [==============================] - 1s 23ms/step - loss: 0.2951 - accuracy: 0.8765 - val_loss: 0.4210 - val_accuracy: 0.8151\n",
            "Epoch 183/200\n",
            "35/35 [==============================] - 1s 24ms/step - loss: 0.3015 - accuracy: 0.8757 - val_loss: 0.4210 - val_accuracy: 0.8121\n",
            "Epoch 184/200\n",
            "35/35 [==============================] - 1s 23ms/step - loss: 0.3037 - accuracy: 0.8713 - val_loss: 0.4221 - val_accuracy: 0.8098\n",
            "Epoch 185/200\n",
            "35/35 [==============================] - 1s 23ms/step - loss: 0.3090 - accuracy: 0.8682 - val_loss: 0.4218 - val_accuracy: 0.8113\n",
            "Epoch 186/200\n",
            "35/35 [==============================] - 1s 23ms/step - loss: 0.3053 - accuracy: 0.8727 - val_loss: 0.4229 - val_accuracy: 0.8091\n",
            "Epoch 187/200\n",
            "35/35 [==============================] - 1s 23ms/step - loss: 0.3104 - accuracy: 0.8697 - val_loss: 0.4210 - val_accuracy: 0.8128\n",
            "Epoch 188/200\n",
            "35/35 [==============================] - 1s 23ms/step - loss: 0.3025 - accuracy: 0.8747 - val_loss: 0.4221 - val_accuracy: 0.8091\n",
            "Epoch 189/200\n",
            "35/35 [==============================] - 1s 23ms/step - loss: 0.3034 - accuracy: 0.8746 - val_loss: 0.4218 - val_accuracy: 0.8166\n",
            "Epoch 190/200\n",
            "35/35 [==============================] - 1s 24ms/step - loss: 0.3066 - accuracy: 0.8713 - val_loss: 0.4217 - val_accuracy: 0.8098\n",
            "Epoch 191/200\n",
            "35/35 [==============================] - 1s 25ms/step - loss: 0.3157 - accuracy: 0.8670 - val_loss: 0.4220 - val_accuracy: 0.8143\n",
            "Epoch 192/200\n",
            "35/35 [==============================] - 1s 24ms/step - loss: 0.3050 - accuracy: 0.8714 - val_loss: 0.4224 - val_accuracy: 0.8106\n",
            "Epoch 193/200\n",
            "35/35 [==============================] - 1s 24ms/step - loss: 0.3037 - accuracy: 0.8707 - val_loss: 0.4223 - val_accuracy: 0.8151\n",
            "Epoch 194/200\n",
            "35/35 [==============================] - 1s 24ms/step - loss: 0.3001 - accuracy: 0.8762 - val_loss: 0.4218 - val_accuracy: 0.8106\n",
            "Epoch 195/200\n",
            "35/35 [==============================] - 1s 23ms/step - loss: 0.3010 - accuracy: 0.8778 - val_loss: 0.4224 - val_accuracy: 0.8075\n",
            "Epoch 196/200\n",
            "35/35 [==============================] - 1s 23ms/step - loss: 0.3008 - accuracy: 0.8763 - val_loss: 0.4218 - val_accuracy: 0.8158\n",
            "Epoch 197/200\n",
            "35/35 [==============================] - 1s 23ms/step - loss: 0.3033 - accuracy: 0.8744 - val_loss: 0.4220 - val_accuracy: 0.8098\n",
            "Epoch 198/200\n",
            "35/35 [==============================] - 1s 23ms/step - loss: 0.2971 - accuracy: 0.8773 - val_loss: 0.4215 - val_accuracy: 0.8121\n",
            "Epoch 199/200\n",
            "35/35 [==============================] - 1s 24ms/step - loss: 0.3078 - accuracy: 0.8714 - val_loss: 0.4220 - val_accuracy: 0.8136\n",
            "Epoch 200/200\n",
            "35/35 [==============================] - 1s 25ms/step - loss: 0.3045 - accuracy: 0.8730 - val_loss: 0.4223 - val_accuracy: 0.8121\n"
          ],
          "name": "stdout"
        }
      ]
    },
    {
      "cell_type": "code",
      "metadata": {
        "colab": {
          "base_uri": "https://localhost:8080/"
        },
        "id": "8Hd3vsgdu6tt",
        "outputId": "676c3dde-c1fc-47e8-fa32-00e2e5e30db3"
      },
      "source": [
        "# Model evaluation\n",
        "results = model3.evaluate(x_test_pad_glove, y_test)"
      ],
      "execution_count": null,
      "outputs": [
        {
          "output_type": "stream",
          "text": [
            "194/194 [==============================] - 1s 3ms/step - loss: 0.4593 - accuracy: 0.7901\n"
          ],
          "name": "stdout"
        }
      ]
    },
    {
      "cell_type": "code",
      "metadata": {
        "colab": {
          "base_uri": "https://localhost:8080/"
        },
        "id": "U2TLBunOu6vn",
        "outputId": "c64c2a9e-449a-4145-cb50-f4b57ecb4d72"
      },
      "source": [
        "print (results)"
      ],
      "execution_count": null,
      "outputs": [
        {
          "output_type": "stream",
          "text": [
            "[0.45925137400627136, 0.7901374101638794]\n"
          ],
          "name": "stdout"
        }
      ]
    },
    {
      "cell_type": "code",
      "metadata": {
        "colab": {
          "base_uri": "https://localhost:8080/",
          "height": 369
        },
        "id": "XIFOCFxXTKU9",
        "outputId": "46f6a12a-a59b-40b1-c503-636f366cd6d6"
      },
      "source": [
        "from plot_keras_history import plot_history\n",
        "import matplotlib.pyplot as plt\n",
        "plot_history(history.history, path=\"standard.png\")\n",
        "plt.show()"
      ],
      "execution_count": null,
      "outputs": [
        {
          "output_type": "display_data",
          "data": {
            "image/png": "[encoded data removed]",
            "text/plain": [
              "<Figure size 720x360 with 2 Axes>"
            ]
          },
          "metadata": {
            "tags": [],
            "needs_background": "light"
          }
        }
      ]
    },
    {
      "cell_type": "markdown",
      "metadata": {
        "id": "xZ1KWFKvcagS"
      },
      "source": [
        "##  Model 2-2: CNN or LSTM with pre-trained word embeddings"
      ]
    },
    {
      "cell_type": "markdown",
      "metadata": {
        "id": "kYubGfP-2VEL"
      },
      "source": [
        "Please try one more model (CNN or LSTM) with pre-trained word embeddings in here:"
      ]
    },
    {
      "cell_type": "code",
      "metadata": {
        "id": "KeLTrJ-3zKBj",
        "colab": {
          "base_uri": "https://localhost:8080/"
        },
        "outputId": "d2c59f5b-183d-4697-a6e6-d34e86e2fb1b"
      },
      "source": [
        "# Tips: Do not misuse the training data\n",
        "from keras.layers import Input, Embedding, Dense, LSTM, Lambda\n",
        "from keras.models import Model\n",
        "input_layer = Input(shape=(128,))\n",
        "embedding_layer = embeddingLayer(input_layer)\n",
        "lstm_layer = LSTM(100, return_sequences=False)(embedding_layer)\n",
        "hidden_dense_layer = Dense(16)(lstm_layer)\n",
        "output_dense_layer = Dense(1, activation='sigmoid')(hidden_dense_layer)\n",
        "model3 = Model(inputs= input_layer, outputs=output_dense_layer)\n",
        "model3.compile('adam', 'binary_crossentropy', metrics=['accuracy'])\n",
        "model3.summary()"
      ],
      "execution_count": null,
      "outputs": [
        {
          "output_type": "stream",
          "text": [
            "Model: \"model_4\"\n",
            "_________________________________________________________________\n",
            "Layer (type)                 Output Shape              Param #   \n",
            "=================================================================\n",
            "input_5 (InputLayer)         [(None, 128)]             0         \n",
            "_________________________________________________________________\n",
            "GloVe_Embeddings (Embedding) (None, 128, 300)          120000300 \n",
            "_________________________________________________________________\n",
            "lstm_1 (LSTM)                (None, 100)               160400    \n",
            "_________________________________________________________________\n",
            "dense_8 (Dense)              (None, 16)                1616      \n",
            "_________________________________________________________________\n",
            "dense_9 (Dense)              (None, 1)                 17        \n",
            "=================================================================\n",
            "Total params: 120,162,333\n",
            "Trainable params: 162,033\n",
            "Non-trainable params: 120,000,300\n",
            "_________________________________________________________________\n"
          ],
          "name": "stdout"
        }
      ]
    },
    {
      "cell_type": "markdown",
      "metadata": {
        "id": "bGtZyMzgAX28"
      },
      "source": [
        "**<i> <font color ='darkblue'> We use the LSTM model consisting of the LSTM layer with 100 units replacing the pooling layer to our model to check its accuracy.\n",
        " </font></i>**"
      ]
    },
    {
      "cell_type": "code",
      "metadata": {
        "colab": {
          "base_uri": "https://localhost:8080/"
        },
        "id": "t_ldUrcUxUxC",
        "outputId": "0e64c296-4ece-4d5f-d56a-1abfeadf0aa2"
      },
      "source": [
        "# Model training\n",
        "history = model3.fit(x_train_pad_glove,\n",
        "                    y_train,\n",
        "                    epochs=50,\n",
        "                    batch_size=512,\n",
        "                    validation_data=(x_dev_pad_glove, y_dev),\n",
        "                    verbose=1)"
      ],
      "execution_count": null,
      "outputs": [
        {
          "output_type": "stream",
          "text": [
            "Epoch 1/50\n",
            "35/35 [==============================] - 30s 814ms/step - loss: 0.6138 - accuracy: 0.7226 - val_loss: 0.5726 - val_accuracy: 0.7442\n",
            "Epoch 2/50\n",
            "35/35 [==============================] - 27s 785ms/step - loss: 0.5248 - accuracy: 0.7825 - val_loss: 0.5776 - val_accuracy: 0.7442\n",
            "Epoch 3/50\n",
            "35/35 [==============================] - 27s 773ms/step - loss: 0.5134 - accuracy: 0.7907 - val_loss: 0.5733 - val_accuracy: 0.7442\n",
            "Epoch 4/50\n",
            "35/35 [==============================] - 27s 781ms/step - loss: 0.5063 - accuracy: 0.7961 - val_loss: 0.5753 - val_accuracy: 0.7442\n",
            "Epoch 5/50\n",
            "35/35 [==============================] - 27s 785ms/step - loss: 0.5140 - accuracy: 0.7902 - val_loss: 0.5744 - val_accuracy: 0.7442\n",
            "Epoch 6/50\n",
            "35/35 [==============================] - 27s 783ms/step - loss: 0.5104 - accuracy: 0.7931 - val_loss: 0.5756 - val_accuracy: 0.7442\n",
            "Epoch 7/50\n",
            "35/35 [==============================] - 27s 778ms/step - loss: 0.5144 - accuracy: 0.7902 - val_loss: 0.5793 - val_accuracy: 0.7442\n",
            "Epoch 8/50\n",
            "35/35 [==============================] - 27s 778ms/step - loss: 0.5553 - accuracy: 0.7784 - val_loss: 0.5792 - val_accuracy: 0.7442\n",
            "Epoch 9/50\n",
            "35/35 [==============================] - 27s 779ms/step - loss: 0.5190 - accuracy: 0.7881 - val_loss: 0.5777 - val_accuracy: 0.7442\n",
            "Epoch 10/50\n",
            "35/35 [==============================] - 28s 807ms/step - loss: 0.5119 - accuracy: 0.7917 - val_loss: 0.5752 - val_accuracy: 0.7442\n",
            "Epoch 11/50\n",
            "35/35 [==============================] - 27s 773ms/step - loss: 0.5124 - accuracy: 0.7912 - val_loss: 0.5753 - val_accuracy: 0.7442\n",
            "Epoch 12/50\n",
            "35/35 [==============================] - 28s 796ms/step - loss: 0.5159 - accuracy: 0.7886 - val_loss: 0.5769 - val_accuracy: 0.7442\n",
            "Epoch 13/50\n",
            "35/35 [==============================] - 27s 774ms/step - loss: 0.5086 - accuracy: 0.7940 - val_loss: 0.5732 - val_accuracy: 0.7442\n",
            "Epoch 14/50\n",
            "35/35 [==============================] - 27s 782ms/step - loss: 0.5079 - accuracy: 0.7948 - val_loss: 0.5741 - val_accuracy: 0.7442\n",
            "Epoch 15/50\n",
            "35/35 [==============================] - 27s 781ms/step - loss: 0.5093 - accuracy: 0.7936 - val_loss: 0.5715 - val_accuracy: 0.7442\n",
            "Epoch 16/50\n",
            "35/35 [==============================] - 27s 782ms/step - loss: 0.5110 - accuracy: 0.7926 - val_loss: 0.5749 - val_accuracy: 0.7442\n",
            "Epoch 17/50\n",
            "35/35 [==============================] - 27s 785ms/step - loss: 0.5064 - accuracy: 0.7957 - val_loss: 0.5733 - val_accuracy: 0.7442\n",
            "Epoch 18/50\n",
            "35/35 [==============================] - 27s 771ms/step - loss: 0.5038 - accuracy: 0.7980 - val_loss: 0.5737 - val_accuracy: 0.7442\n",
            "Epoch 19/50\n",
            "35/35 [==============================] - 27s 776ms/step - loss: 0.5169 - accuracy: 0.7877 - val_loss: 0.5752 - val_accuracy: 0.7442\n",
            "Epoch 20/50\n",
            "35/35 [==============================] - 27s 778ms/step - loss: 0.5134 - accuracy: 0.7905 - val_loss: 0.5751 - val_accuracy: 0.7442\n",
            "Epoch 21/50\n",
            "35/35 [==============================] - 28s 791ms/step - loss: 0.5154 - accuracy: 0.7890 - val_loss: 0.5775 - val_accuracy: 0.7442\n",
            "Epoch 22/50\n",
            "35/35 [==============================] - 27s 770ms/step - loss: 0.5084 - accuracy: 0.7943 - val_loss: 0.5738 - val_accuracy: 0.7442\n",
            "Epoch 23/50\n",
            "35/35 [==============================] - 28s 790ms/step - loss: 0.5151 - accuracy: 0.7894 - val_loss: 0.5793 - val_accuracy: 0.7442\n",
            "Epoch 24/50\n",
            "35/35 [==============================] - 27s 769ms/step - loss: 0.5094 - accuracy: 0.7936 - val_loss: 0.5746 - val_accuracy: 0.7442\n",
            "Epoch 25/50\n",
            "35/35 [==============================] - 27s 784ms/step - loss: 0.5111 - accuracy: 0.7923 - val_loss: 0.5804 - val_accuracy: 0.7442\n",
            "Epoch 26/50\n",
            "35/35 [==============================] - 27s 771ms/step - loss: 0.5138 - accuracy: 0.7905 - val_loss: 0.5765 - val_accuracy: 0.7442\n",
            "Epoch 27/50\n",
            "35/35 [==============================] - 27s 761ms/step - loss: 0.5147 - accuracy: 0.7896 - val_loss: 0.5754 - val_accuracy: 0.7442\n",
            "Epoch 28/50\n",
            "35/35 [==============================] - 27s 769ms/step - loss: 0.5102 - accuracy: 0.7930 - val_loss: 0.5776 - val_accuracy: 0.7442\n",
            "Epoch 29/50\n",
            "35/35 [==============================] - 27s 781ms/step - loss: 0.5097 - accuracy: 0.7933 - val_loss: 0.5742 - val_accuracy: 0.7442\n",
            "Epoch 30/50\n",
            "35/35 [==============================] - 27s 765ms/step - loss: 0.5140 - accuracy: 0.7900 - val_loss: 0.5763 - val_accuracy: 0.7442\n",
            "Epoch 31/50\n",
            "35/35 [==============================] - 27s 764ms/step - loss: 0.5191 - accuracy: 0.7862 - val_loss: 0.5782 - val_accuracy: 0.7442\n",
            "Epoch 32/50\n",
            "35/35 [==============================] - 28s 804ms/step - loss: 0.5134 - accuracy: 0.7905 - val_loss: 0.5764 - val_accuracy: 0.7442\n",
            "Epoch 33/50\n",
            "35/35 [==============================] - 27s 772ms/step - loss: 0.5151 - accuracy: 0.7893 - val_loss: 0.5751 - val_accuracy: 0.7442\n",
            "Epoch 34/50\n",
            "35/35 [==============================] - 27s 764ms/step - loss: 0.5122 - accuracy: 0.7915 - val_loss: 0.5746 - val_accuracy: 0.7442\n",
            "Epoch 35/50\n",
            "35/35 [==============================] - 28s 789ms/step - loss: 0.5137 - accuracy: 0.7902 - val_loss: 0.5759 - val_accuracy: 0.7442\n",
            "Epoch 36/50\n",
            "35/35 [==============================] - 27s 773ms/step - loss: 0.5091 - accuracy: 0.7938 - val_loss: 0.5746 - val_accuracy: 0.7442\n",
            "Epoch 37/50\n",
            "35/35 [==============================] - 27s 770ms/step - loss: 0.5097 - accuracy: 0.7933 - val_loss: 0.5730 - val_accuracy: 0.7442\n",
            "Epoch 38/50\n",
            "35/35 [==============================] - 27s 776ms/step - loss: 0.5122 - accuracy: 0.7914 - val_loss: 0.5744 - val_accuracy: 0.7442\n",
            "Epoch 39/50\n",
            "35/35 [==============================] - 27s 774ms/step - loss: 0.5170 - accuracy: 0.7878 - val_loss: 0.5808 - val_accuracy: 0.7442\n",
            "Epoch 40/50\n",
            "35/35 [==============================] - 27s 768ms/step - loss: 0.5108 - accuracy: 0.7926 - val_loss: 0.5750 - val_accuracy: 0.7442\n",
            "Epoch 41/50\n",
            "35/35 [==============================] - 27s 770ms/step - loss: 0.5136 - accuracy: 0.7903 - val_loss: 0.5747 - val_accuracy: 0.7442\n",
            "Epoch 42/50\n",
            "35/35 [==============================] - 27s 775ms/step - loss: 0.5095 - accuracy: 0.7934 - val_loss: 0.5725 - val_accuracy: 0.7442\n",
            "Epoch 43/50\n",
            "35/35 [==============================] - 28s 794ms/step - loss: 0.5101 - accuracy: 0.7933 - val_loss: 0.5751 - val_accuracy: 0.7442\n",
            "Epoch 44/50\n",
            "35/35 [==============================] - 27s 777ms/step - loss: 0.5116 - accuracy: 0.7918 - val_loss: 0.5766 - val_accuracy: 0.7442\n",
            "Epoch 45/50\n",
            "35/35 [==============================] - 28s 791ms/step - loss: 0.5083 - accuracy: 0.7943 - val_loss: 0.5772 - val_accuracy: 0.7442\n",
            "Epoch 46/50\n",
            "35/35 [==============================] - 28s 796ms/step - loss: 0.5124 - accuracy: 0.7913 - val_loss: 0.5730 - val_accuracy: 0.7442\n",
            "Epoch 47/50\n",
            "35/35 [==============================] - 27s 771ms/step - loss: 0.5140 - accuracy: 0.7901 - val_loss: 0.5767 - val_accuracy: 0.7442\n",
            "Epoch 48/50\n",
            "35/35 [==============================] - 27s 774ms/step - loss: 0.5172 - accuracy: 0.7876 - val_loss: 0.5811 - val_accuracy: 0.7442\n",
            "Epoch 49/50\n",
            "35/35 [==============================] - 27s 785ms/step - loss: 0.5093 - accuracy: 0.7936 - val_loss: 0.5763 - val_accuracy: 0.7442\n",
            "Epoch 50/50\n",
            "35/35 [==============================] - 27s 782ms/step - loss: 0.5097 - accuracy: 0.7933 - val_loss: 0.5748 - val_accuracy: 0.7442\n"
          ],
          "name": "stdout"
        }
      ]
    },
    {
      "cell_type": "code",
      "metadata": {
        "colab": {
          "base_uri": "https://localhost:8080/"
        },
        "id": "CIds3_XRxEN-",
        "outputId": "7ca2b245-e5a1-4877-d0ed-5d40dd441c4b"
      },
      "source": [
        "# Model evaluation\n",
        "results = model3.evaluate(x_test_pad_glove, y_test)"
      ],
      "execution_count": null,
      "outputs": [
        {
          "output_type": "stream",
          "text": [
            "194/194 [==============================] - 7s 38ms/step - loss: 1.0335 - accuracy: 0.3982\n"
          ],
          "name": "stdout"
        }
      ]
    },
    {
      "cell_type": "code",
      "metadata": {
        "colab": {
          "base_uri": "https://localhost:8080/"
        },
        "id": "Fcp0JGNMxETi",
        "outputId": "4edfe326-a847-455a-ca8c-ef84354e1b42"
      },
      "source": [
        "print (results)"
      ],
      "execution_count": null,
      "outputs": [
        {
          "output_type": "stream",
          "text": [
            "[1.0334752798080444, 0.398221492767334]\n"
          ],
          "name": "stdout"
        }
      ]
    },
    {
      "cell_type": "markdown",
      "metadata": {
        "id": "cofml2JlBsig"
      },
      "source": [
        "**<i> <font color ='darkblue'>  LSTM model did not perform well on the test set and so, we move on to test the CNN model with pre-trained word embeddings.\n",
        " </font></i>**"
      ]
    },
    {
      "cell_type": "code",
      "metadata": {
        "colab": {
          "base_uri": "https://localhost:8080/",
          "height": 369
        },
        "id": "zcf_53WXTMZb",
        "outputId": "6937ca14-2deb-40a0-a939-f61eeb1b1eaf"
      },
      "source": [
        "from plot_keras_history import plot_history\n",
        "import matplotlib.pyplot as plt\n",
        "plot_history(history.history, path=\"standard.png\")\n",
        "plt.show()"
      ],
      "execution_count": null,
      "outputs": [
        {
          "output_type": "display_data",
          "data": {
            "image/png": "[encoded data removed]",
            "text/plain": [
              "<Figure size 720x360 with 2 Axes>"
            ]
          },
          "metadata": {
            "tags": [],
            "needs_background": "light"
          }
        }
      ]
    },
    {
      "cell_type": "code",
      "metadata": {
        "colab": {
          "base_uri": "https://localhost:8080/"
        },
        "id": "Cg86VrG5zfS0",
        "outputId": "dbb7cb4c-0079-43aa-e02c-470381c24ec9"
      },
      "source": [
        "# Tips: Do not misuse the training data\n",
        "from keras.layers import Input, Embedding, Dense, LSTM, Lambda\n",
        "from keras.models import Model\n",
        "input_layer = Input(shape=(128,))\n",
        "embedding_layer = embeddingLayer(input_layer)\n",
        "cnn_layer = keras.layers.Conv1D(100, 6)(embedding_layer)\n",
        "pooling_layer = GlobalAveragePooling1DMasked()(cnn_layer)\n",
        "hidden_dense_layer = Dense(16)(pooling_layer)\n",
        "output_dense_layer = Dense(1, activation='sigmoid')(hidden_dense_layer)\n",
        "model3 = Model(inputs= input_layer, outputs=output_dense_layer)\n",
        "model3.compile('adam', 'binary_crossentropy', metrics=['accuracy'])\n",
        "model3.summary()"
      ],
      "execution_count": null,
      "outputs": [
        {
          "output_type": "stream",
          "text": [
            "Model: \"model_5\"\n",
            "_________________________________________________________________\n",
            "Layer (type)                 Output Shape              Param #   \n",
            "=================================================================\n",
            "input_6 (InputLayer)         [(None, 128)]             0         \n",
            "_________________________________________________________________\n",
            "GloVe_Embeddings (Embedding) (None, 128, 300)          120000300 \n",
            "_________________________________________________________________\n",
            "conv1d_1 (Conv1D)            (None, 123, 100)          180100    \n",
            "_________________________________________________________________\n",
            "global_average_pooling1d_mas (None, 100)               0         \n",
            "_________________________________________________________________\n",
            "dense_10 (Dense)             (None, 16)                1616      \n",
            "_________________________________________________________________\n",
            "dense_11 (Dense)             (None, 1)                 17        \n",
            "=================================================================\n",
            "Total params: 120,182,033\n",
            "Trainable params: 181,733\n",
            "Non-trainable params: 120,000,300\n",
            "_________________________________________________________________\n"
          ],
          "name": "stdout"
        }
      ]
    },
    {
      "cell_type": "code",
      "metadata": {
        "colab": {
          "base_uri": "https://localhost:8080/"
        },
        "id": "FP8HM0stzfWn",
        "outputId": "61668084-a5e5-4507-8407-80bd66e0db86"
      },
      "source": [
        "# Model training\n",
        "history = model3.fit(x_train_pad_glove,\n",
        "                    y_train,\n",
        "                    epochs=50,\n",
        "                    batch_size=512,\n",
        "                    validation_data=(x_dev_pad_glove, y_dev),\n",
        "                    verbose=1)"
      ],
      "execution_count": null,
      "outputs": [
        {
          "output_type": "stream",
          "text": [
            "Epoch 1/50\n",
            "35/35 [==============================] - 21s 580ms/step - loss: 0.5336 - accuracy: 0.7824 - val_loss: 0.4869 - val_accuracy: 0.7494\n",
            "Epoch 2/50\n",
            "35/35 [==============================] - 20s 575ms/step - loss: 0.3947 - accuracy: 0.8307 - val_loss: 0.4126 - val_accuracy: 0.8008\n",
            "Epoch 3/50\n",
            "35/35 [==============================] - 20s 583ms/step - loss: 0.3358 - accuracy: 0.8604 - val_loss: 0.4058 - val_accuracy: 0.8189\n",
            "Epoch 4/50\n",
            "35/35 [==============================] - 20s 574ms/step - loss: 0.3298 - accuracy: 0.8640 - val_loss: 0.4020 - val_accuracy: 0.8174\n",
            "Epoch 5/50\n",
            "35/35 [==============================] - 20s 578ms/step - loss: 0.3213 - accuracy: 0.8673 - val_loss: 0.4046 - val_accuracy: 0.8174\n",
            "Epoch 6/50\n",
            "35/35 [==============================] - 21s 604ms/step - loss: 0.3172 - accuracy: 0.8665 - val_loss: 0.4012 - val_accuracy: 0.8136\n",
            "Epoch 7/50\n",
            "35/35 [==============================] - 20s 580ms/step - loss: 0.3109 - accuracy: 0.8699 - val_loss: 0.4151 - val_accuracy: 0.8106\n",
            "Epoch 8/50\n",
            "35/35 [==============================] - 20s 576ms/step - loss: 0.3179 - accuracy: 0.8672 - val_loss: 0.4057 - val_accuracy: 0.8166\n",
            "Epoch 9/50\n",
            "35/35 [==============================] - 20s 582ms/step - loss: 0.3003 - accuracy: 0.8756 - val_loss: 0.4075 - val_accuracy: 0.8166\n",
            "Epoch 10/50\n",
            "35/35 [==============================] - 20s 581ms/step - loss: 0.3086 - accuracy: 0.8689 - val_loss: 0.4085 - val_accuracy: 0.8121\n",
            "Epoch 11/50\n",
            "35/35 [==============================] - 20s 573ms/step - loss: 0.3060 - accuracy: 0.8733 - val_loss: 0.4141 - val_accuracy: 0.8151\n",
            "Epoch 12/50\n",
            "35/35 [==============================] - 20s 569ms/step - loss: 0.3032 - accuracy: 0.8736 - val_loss: 0.4109 - val_accuracy: 0.8091\n",
            "Epoch 13/50\n",
            "35/35 [==============================] - 20s 570ms/step - loss: 0.3039 - accuracy: 0.8754 - val_loss: 0.4315 - val_accuracy: 0.8083\n",
            "Epoch 14/50\n",
            "35/35 [==============================] - 20s 576ms/step - loss: 0.3023 - accuracy: 0.8724 - val_loss: 0.4129 - val_accuracy: 0.8128\n",
            "Epoch 15/50\n",
            "35/35 [==============================] - 20s 578ms/step - loss: 0.3081 - accuracy: 0.8708 - val_loss: 0.4126 - val_accuracy: 0.8136\n",
            "Epoch 16/50\n",
            "35/35 [==============================] - 20s 574ms/step - loss: 0.3018 - accuracy: 0.8717 - val_loss: 0.4137 - val_accuracy: 0.8136\n",
            "Epoch 17/50\n",
            "35/35 [==============================] - 20s 580ms/step - loss: 0.3010 - accuracy: 0.8754 - val_loss: 0.4099 - val_accuracy: 0.8151\n",
            "Epoch 18/50\n",
            "35/35 [==============================] - 20s 580ms/step - loss: 0.2964 - accuracy: 0.8746 - val_loss: 0.4104 - val_accuracy: 0.8151\n",
            "Epoch 19/50\n",
            "35/35 [==============================] - 20s 579ms/step - loss: 0.3047 - accuracy: 0.8707 - val_loss: 0.4074 - val_accuracy: 0.8136\n",
            "Epoch 20/50\n",
            "35/35 [==============================] - 20s 581ms/step - loss: 0.2965 - accuracy: 0.8745 - val_loss: 0.4128 - val_accuracy: 0.8151\n",
            "Epoch 21/50\n",
            "35/35 [==============================] - 21s 591ms/step - loss: 0.3029 - accuracy: 0.8710 - val_loss: 0.4101 - val_accuracy: 0.8158\n",
            "Epoch 22/50\n",
            "35/35 [==============================] - 20s 574ms/step - loss: 0.3018 - accuracy: 0.8738 - val_loss: 0.4264 - val_accuracy: 0.8060\n",
            "Epoch 23/50\n",
            "35/35 [==============================] - 20s 574ms/step - loss: 0.3029 - accuracy: 0.8740 - val_loss: 0.4141 - val_accuracy: 0.8151\n",
            "Epoch 24/50\n",
            "35/35 [==============================] - 20s 579ms/step - loss: 0.2974 - accuracy: 0.8791 - val_loss: 0.4111 - val_accuracy: 0.8151\n",
            "Epoch 25/50\n",
            "35/35 [==============================] - 20s 580ms/step - loss: 0.3001 - accuracy: 0.8749 - val_loss: 0.4227 - val_accuracy: 0.8106\n",
            "Epoch 26/50\n",
            "35/35 [==============================] - 20s 572ms/step - loss: 0.3084 - accuracy: 0.8712 - val_loss: 0.4110 - val_accuracy: 0.8151\n",
            "Epoch 27/50\n",
            "35/35 [==============================] - 20s 572ms/step - loss: 0.3004 - accuracy: 0.8744 - val_loss: 0.4142 - val_accuracy: 0.8174\n",
            "Epoch 28/50\n",
            "35/35 [==============================] - 20s 582ms/step - loss: 0.2903 - accuracy: 0.8808 - val_loss: 0.4124 - val_accuracy: 0.8166\n",
            "Epoch 29/50\n",
            "35/35 [==============================] - 20s 580ms/step - loss: 0.2976 - accuracy: 0.8738 - val_loss: 0.4116 - val_accuracy: 0.8166\n",
            "Epoch 30/50\n",
            "35/35 [==============================] - 20s 581ms/step - loss: 0.2982 - accuracy: 0.8748 - val_loss: 0.4108 - val_accuracy: 0.8128\n",
            "Epoch 31/50\n",
            "35/35 [==============================] - 20s 577ms/step - loss: 0.2907 - accuracy: 0.8783 - val_loss: 0.4162 - val_accuracy: 0.8121\n",
            "Epoch 32/50\n",
            "35/35 [==============================] - 20s 572ms/step - loss: 0.2999 - accuracy: 0.8721 - val_loss: 0.4181 - val_accuracy: 0.8121\n",
            "Epoch 33/50\n",
            "35/35 [==============================] - 20s 570ms/step - loss: 0.2926 - accuracy: 0.8794 - val_loss: 0.4123 - val_accuracy: 0.8128\n",
            "Epoch 34/50\n",
            "35/35 [==============================] - 20s 576ms/step - loss: 0.2899 - accuracy: 0.8812 - val_loss: 0.4187 - val_accuracy: 0.8136\n",
            "Epoch 35/50\n",
            "35/35 [==============================] - 20s 579ms/step - loss: 0.2884 - accuracy: 0.8796 - val_loss: 0.4104 - val_accuracy: 0.8136\n",
            "Epoch 36/50\n",
            "35/35 [==============================] - 21s 599ms/step - loss: 0.2890 - accuracy: 0.8789 - val_loss: 0.4103 - val_accuracy: 0.8128\n",
            "Epoch 37/50\n",
            "35/35 [==============================] - 20s 577ms/step - loss: 0.2892 - accuracy: 0.8823 - val_loss: 0.4195 - val_accuracy: 0.8106\n",
            "Epoch 38/50\n",
            "35/35 [==============================] - 20s 581ms/step - loss: 0.2962 - accuracy: 0.8759 - val_loss: 0.4205 - val_accuracy: 0.8106\n",
            "Epoch 39/50\n",
            "35/35 [==============================] - 20s 582ms/step - loss: 0.2952 - accuracy: 0.8755 - val_loss: 0.4152 - val_accuracy: 0.8113\n",
            "Epoch 40/50\n",
            "35/35 [==============================] - 21s 592ms/step - loss: 0.2883 - accuracy: 0.8820 - val_loss: 0.4155 - val_accuracy: 0.8166\n",
            "Epoch 41/50\n",
            "35/35 [==============================] - 20s 574ms/step - loss: 0.2896 - accuracy: 0.8776 - val_loss: 0.4335 - val_accuracy: 0.8121\n",
            "Epoch 42/50\n",
            "35/35 [==============================] - 20s 574ms/step - loss: 0.2917 - accuracy: 0.8822 - val_loss: 0.4180 - val_accuracy: 0.8098\n",
            "Epoch 43/50\n",
            "35/35 [==============================] - 20s 577ms/step - loss: 0.2900 - accuracy: 0.8781 - val_loss: 0.4094 - val_accuracy: 0.8189\n",
            "Epoch 44/50\n",
            "35/35 [==============================] - 20s 576ms/step - loss: 0.2983 - accuracy: 0.8740 - val_loss: 0.4109 - val_accuracy: 0.8151\n",
            "Epoch 45/50\n",
            "35/35 [==============================] - 20s 573ms/step - loss: 0.2883 - accuracy: 0.8785 - val_loss: 0.4140 - val_accuracy: 0.8181\n",
            "Epoch 46/50\n",
            "35/35 [==============================] - 20s 574ms/step - loss: 0.2908 - accuracy: 0.8776 - val_loss: 0.4118 - val_accuracy: 0.8143\n",
            "Epoch 47/50\n",
            "35/35 [==============================] - 20s 571ms/step - loss: 0.2872 - accuracy: 0.8803 - val_loss: 0.4169 - val_accuracy: 0.8143\n",
            "Epoch 48/50\n",
            "35/35 [==============================] - 20s 578ms/step - loss: 0.2925 - accuracy: 0.8770 - val_loss: 0.4193 - val_accuracy: 0.8068\n",
            "Epoch 49/50\n",
            "35/35 [==============================] - 20s 582ms/step - loss: 0.2874 - accuracy: 0.8789 - val_loss: 0.4123 - val_accuracy: 0.8211\n",
            "Epoch 50/50\n",
            "35/35 [==============================] - 20s 578ms/step - loss: 0.2796 - accuracy: 0.8832 - val_loss: 0.4186 - val_accuracy: 0.8158\n"
          ],
          "name": "stdout"
        }
      ]
    },
    {
      "cell_type": "code",
      "metadata": {
        "colab": {
          "base_uri": "https://localhost:8080/"
        },
        "id": "GNFwsY7Izfca",
        "outputId": "b2ddbda9-656f-462d-be69-d50a5c7a2abd"
      },
      "source": [
        "# Model evaluation\n",
        "results = model3.evaluate(x_test_pad_glove, y_test)"
      ],
      "execution_count": null,
      "outputs": [
        {
          "output_type": "stream",
          "text": [
            "194/194 [==============================] - 3s 17ms/step - loss: 0.4896 - accuracy: 0.7672\n"
          ],
          "name": "stdout"
        }
      ]
    },
    {
      "cell_type": "code",
      "metadata": {
        "colab": {
          "base_uri": "https://localhost:8080/"
        },
        "id": "7jG6NuMSz5MF",
        "outputId": "a041b5c2-4aa6-4caa-fd4d-6958e8b9073f"
      },
      "source": [
        "print (results)"
      ],
      "execution_count": null,
      "outputs": [
        {
          "output_type": "stream",
          "text": [
            "[0.4896109402179718, 0.7671786546707153]\n"
          ],
          "name": "stdout"
        }
      ]
    },
    {
      "cell_type": "markdown",
      "metadata": {
        "id": "DvpuoacECSCR"
      },
      "source": [
        "**<i> <font color ='darkblue'>  CNN again outperforms LSTM model on the test set. </font></i>**"
      ]
    },
    {
      "cell_type": "code",
      "metadata": {
        "colab": {
          "base_uri": "https://localhost:8080/",
          "height": 369
        },
        "id": "6Ji5tNo4TNqx",
        "outputId": "f4b878a0-f946-47f7-a1ef-5dea014c4133"
      },
      "source": [
        "from plot_keras_history import plot_history\n",
        "import matplotlib.pyplot as plt\n",
        "plot_history(history.history, path=\"standard.png\")\n",
        "plt.show()"
      ],
      "execution_count": null,
      "outputs": [
        {
          "output_type": "display_data",
          "data": {
            "image/png": "[encoded data removed]",
            "text/plain": [
              "<Figure size 720x360 with 2 Axes>"
            ]
          },
          "metadata": {
            "tags": [],
            "needs_background": "light"
          }
        }
      ]
    },
    {
      "cell_type": "markdown",
      "metadata": {
        "id": "M-bZ5SCHiIMl"
      },
      "source": [
        "#  Model 3: Model with multiple-input"
      ]
    },
    {
      "cell_type": "markdown",
      "metadata": {
        "id": "G85QM3lSV7qp"
      },
      "source": [
        "Model 1 and 2 are copied from lab4. We build new models in this section. \n",
        "\n",
        "In models 1 and 2, we combine the topics and tweets to input into the models. In model 3, we separately input these two data into the model and use different layers to analyze topics and tweets. "
      ]
    },
    {
      "cell_type": "code",
      "metadata": {
        "id": "ztiFcOWuA0xH",
        "colab": {
          "base_uri": "https://localhost:8080/"
        },
        "outputId": "6882a507-7d42-4344-f961-b85ef7e35ccb"
      },
      "source": [
        "# First of all, pad the tweet and topic separately\n",
        "x_train_tweet_pad_glove = keras.preprocessing.sequence.pad_sequences(x_train_tweet_glove,\n",
        "                                                        value=0,\n",
        "                                                        padding='post',\n",
        "                                                        maxlen=128)\n",
        "\n",
        "x_dev_tweet_pad_glove = keras.preprocessing.sequence.pad_sequences(x_dev_tweet_glove,\n",
        "                                                       value=0,\n",
        "                                                       padding='post',\n",
        "                                                       maxlen=128)\n",
        "\n",
        "x_test_tweet_pad_glove = keras.preprocessing.sequence.pad_sequences(x_test_tweet_glove,\n",
        "                                                       value=0,\n",
        "                                                       padding='post',\n",
        "                                                       maxlen=128)\n",
        "\n",
        "x_train_topic_pad_glove = keras.preprocessing.sequence.pad_sequences(x_train_topic_glove,\n",
        "                                                        value=0,\n",
        "                                                        padding='post',\n",
        "                                                        maxlen=16)\n",
        "\n",
        "x_dev_topic_pad_glove = keras.preprocessing.sequence.pad_sequences(x_dev_topic_glove,\n",
        "                                                       value=0,\n",
        "                                                       padding='post',\n",
        "                                                       maxlen=16)\n",
        "\n",
        "x_test_topic_pad_glove = keras.preprocessing.sequence.pad_sequences(x_test_topic_glove,\n",
        "                                                       value=0,\n",
        "                                                       padding='post',\n",
        "                                                       maxlen=16)\n",
        "print(x_dev_topic_pad_glove[0])"
      ],
      "execution_count": null,
      "outputs": [
        {
          "output_type": "stream",
          "text": [
            "[242891 194733      0      0      0      0      0      0      0      0\n",
            "      0      0      0      0      0      0]\n"
          ],
          "name": "stdout"
        }
      ]
    },
    {
      "cell_type": "markdown",
      "metadata": {
        "id": "ExgX8bxpVgps"
      },
      "source": [
        "## Model 3-1 Neural bag of words model with multiple-input"
      ]
    },
    {
      "cell_type": "markdown",
      "metadata": {
        "id": "5orrZI1kUI64"
      },
      "source": [
        "# New Section"
      ]
    },
    {
      "cell_type": "markdown",
      "metadata": {
        "id": "d-TN6yup01mC"
      },
      "source": [
        "Model 3-1 needs you to modify the model 2-1 to be compatible with multiple-input.\n",
        "You could find some tutorial examples from (https://www.pyimagesearch.com/2019/02/04/keras-multiple-inputs-and-mixed-data/).\n",
        "\n",
        "Please print the model summary and visualize it using vis_utils."
      ]
    },
    {
      "cell_type": "code",
      "metadata": {
        "colab": {
          "base_uri": "https://localhost:8080/"
        },
        "id": "dTgD_gMzXa1z",
        "outputId": "bef22086-cb8a-472d-9cf5-0349a0d7c6c8"
      },
      "source": [
        "from keras.layers import Input, Embedding, Dense, LSTM, Lambda, concatenate\n",
        "from keras.models import Model\n",
        "input_layer_1 = Input(shape=(16,))\n",
        "input_layer_2 = Input(shape=(128,))\n",
        "#First Input\n",
        "embedding_layer_1 = embeddingLayer(input_layer_1)\n",
        "pooling_layer_1 = GlobalAveragePooling1DMasked()(embedding_layer_1)\n",
        "output_dense_layer_1 = Dense(16)(pooling_layer_1)\n",
        "model_1 = Model(inputs= input_layer_1, outputs=output_dense_layer_1)\n",
        "#Second Input\n",
        "embedding_layer_2 = embeddingLayer(input_layer_2)\n",
        "pooling_layer_2 = GlobalAveragePooling1DMasked()(embedding_layer_2)\n",
        "output_dense_layer_2 = Dense(16)(pooling_layer_2)\n",
        "model_2 = Model(inputs= input_layer_2, outputs=output_dense_layer_2)\n",
        "\n",
        "combined_layer = concatenate([model_1.output, model_2.output])\n",
        "\n",
        "output_dense_layer = Dense(1, activation='sigmoid')(combined_layer)\n",
        "\n",
        "final_model = Model(inputs=[model_1.input, model_2.input], outputs = output_dense_layer)\n",
        "final_model.compile('adam', 'binary_crossentropy', metrics=['accuracy'])\n",
        "final_model.summary()\n",
        "# model3.compile('adam', 'binary_crossentropy', metrics=['accuracy'])\n",
        "# model3.summary()"
      ],
      "execution_count": null,
      "outputs": [
        {
          "output_type": "stream",
          "text": [
            "Model: \"model_8\"\n",
            "__________________________________________________________________________________________________\n",
            "Layer (type)                    Output Shape         Param #     Connected to                     \n",
            "==================================================================================================\n",
            "input_7 (InputLayer)            [(None, 16)]         0                                            \n",
            "__________________________________________________________________________________________________\n",
            "input_8 (InputLayer)            [(None, 128)]        0                                            \n",
            "__________________________________________________________________________________________________\n",
            "GloVe_Embeddings (Embedding)    multiple             120000300   input_7[0][0]                    \n",
            "                                                                 input_8[0][0]                    \n",
            "__________________________________________________________________________________________________\n",
            "global_average_pooling1d_masked (None, 300)          0           GloVe_Embeddings[3][0]           \n",
            "__________________________________________________________________________________________________\n",
            "global_average_pooling1d_masked (None, 300)          0           GloVe_Embeddings[4][0]           \n",
            "__________________________________________________________________________________________________\n",
            "dense_12 (Dense)                (None, 16)           4816        global_average_pooling1d_masked_4\n",
            "__________________________________________________________________________________________________\n",
            "dense_13 (Dense)                (None, 16)           4816        global_average_pooling1d_masked_5\n",
            "__________________________________________________________________________________________________\n",
            "concatenate (Concatenate)       (None, 32)           0           dense_12[0][0]                   \n",
            "                                                                 dense_13[0][0]                   \n",
            "__________________________________________________________________________________________________\n",
            "dense_14 (Dense)                (None, 1)            33          concatenate[0][0]                \n",
            "==================================================================================================\n",
            "Total params: 120,009,965\n",
            "Trainable params: 9,665\n",
            "Non-trainable params: 120,000,300\n",
            "__________________________________________________________________________________________________\n"
          ],
          "name": "stdout"
        }
      ]
    },
    {
      "cell_type": "markdown",
      "metadata": {
        "id": "hLz_iMkwDhaS"
      },
      "source": [
        "**<i> <font color ='darkblue'> So far, we have used used the concatenated list of indexes for topic and tweet, but now we will pass them as separate inputs to a set of different layers which later merge together before the output layer. As for passing the sequence for topics, input layer takes in the input of shape 16 corresponding to the maximum length of padded sequence of topics. This is followed by the GloVe embedding layer, and then the pooling layer and finally the dense layer. Similarly for tweets, the input layer takes in input of length equal to 128 after which there is an embedding layer, the pooling layer and then the dense layer.The output of both the dense layers is then concatenated and passed to the output layer as input to get the final output of the resulting network. Model architeccture can be seen below. \n",
        " </font></i>**"
      ]
    },
    {
      "cell_type": "code",
      "metadata": {
        "colab": {
          "base_uri": "https://localhost:8080/",
          "height": 544
        },
        "id": "UlJbDRHeAMIh",
        "outputId": "d47aceca-8d53-486d-b5f1-641119af1326"
      },
      "source": [
        "from IPython.display import SVG\n",
        "from keras.utils import vis_utils\n",
        "SVG(vis_utils.model_to_dot(final_model, show_shapes=True, show_layer_names=True, dpi=60).create(prog='dot', format='svg'))  "
      ],
      "execution_count": null,
      "outputs": [
        {
          "output_type": "execute_result",
          "data": {
            "text/plain": [
              "<IPython.core.display.SVG object>"
            ],
            "image/svg+xml": "<svg height=\"392pt\" viewBox=\"0.00 0.00 1249.50 470.00\" width=\"1041pt\" xmlns=\"http://www.w3.org/2000/svg\" xmlns:xlink=\"http://www.w3.org/1999/xlink\">\n<g class=\"graph\" id=\"graph0\" transform=\"scale(.8333 .8333) rotate(0) translate(4 466)\">\n<title>G</title>\n<polygon fill=\"#ffffff\" points=\"-4,4 -4,-466 1245.5,-466 1245.5,4 -4,4\" stroke=\"transparent\"/>\n<!-- 139848577680272 -->\n<g class=\"node\" id=\"node1\">\n<title>139848577680272</title>\n<polygon fill=\"none\" points=\"328,-415.5 328,-461.5 608,-461.5 608,-415.5 328,-415.5\" stroke=\"#000000\"/>\n<text fill=\"#000000\" font-family=\"Times,serif\" font-size=\"14.00\" text-anchor=\"middle\" x=\"394.5\" y=\"-434.8\">input_7: InputLayer</text>\n<polyline fill=\"none\" points=\"461,-415.5 461,-461.5 \" stroke=\"#000000\"/>\n<text fill=\"#000000\" font-family=\"Times,serif\" font-size=\"14.00\" text-anchor=\"middle\" x=\"490\" y=\"-446.3\">input:</text>\n<polyline fill=\"none\" points=\"461,-438.5 519,-438.5 \" stroke=\"#000000\"/>\n<text fill=\"#000000\" font-family=\"Times,serif\" font-size=\"14.00\" text-anchor=\"middle\" x=\"490\" y=\"-423.3\">output:</text>\n<polyline fill=\"none\" points=\"519,-415.5 519,-461.5 \" stroke=\"#000000\"/>\n<text fill=\"#000000\" font-family=\"Times,serif\" font-size=\"14.00\" text-anchor=\"middle\" x=\"563.5\" y=\"-446.3\">[(None, 16)]</text>\n<polyline fill=\"none\" points=\"519,-438.5 608,-438.5 \" stroke=\"#000000\"/>\n<text fill=\"#000000\" font-family=\"Times,serif\" font-size=\"14.00\" text-anchor=\"middle\" x=\"563.5\" y=\"-423.3\">[(None, 16)]</text>\n</g>\n<!-- 139848527214416 -->\n<g class=\"node\" id=\"node3\">\n<title>139848527214416</title>\n<polygon fill=\"none\" points=\"474,-332.5 474,-378.5 764,-378.5 764,-332.5 474,-332.5\" stroke=\"#000000\"/>\n<text fill=\"#000000\" font-family=\"Times,serif\" font-size=\"14.00\" text-anchor=\"middle\" x=\"578.5\" y=\"-351.8\">GloVe_Embeddings: Embedding</text>\n<polyline fill=\"none\" points=\"683,-332.5 683,-378.5 \" stroke=\"#000000\"/>\n<text fill=\"#000000\" font-family=\"Times,serif\" font-size=\"14.00\" text-anchor=\"middle\" x=\"712\" y=\"-363.3\">input:</text>\n<polyline fill=\"none\" points=\"683,-355.5 741,-355.5 \" stroke=\"#000000\"/>\n<text fill=\"#000000\" font-family=\"Times,serif\" font-size=\"14.00\" text-anchor=\"middle\" x=\"712\" y=\"-340.3\">output:</text>\n<polyline fill=\"none\" points=\"741,-332.5 741,-378.5 \" stroke=\"#000000\"/>\n<text fill=\"#000000\" font-family=\"Times,serif\" font-size=\"14.00\" text-anchor=\"middle\" x=\"752.5\" y=\"-363.3\">?</text>\n<polyline fill=\"none\" points=\"741,-355.5 764,-355.5 \" stroke=\"#000000\"/>\n<text fill=\"#000000\" font-family=\"Times,serif\" font-size=\"14.00\" text-anchor=\"middle\" x=\"752.5\" y=\"-340.3\">?</text>\n</g>\n<!-- 139848577680272&#45;&gt;139848527214416 -->\n<g class=\"edge\" id=\"edge1\">\n<title>139848577680272-&gt;139848527214416</title>\n<path d=\"M510.0619,-415.3799C528.0668,-405.4832 549.2511,-393.8388 568.1285,-383.4625\" fill=\"none\" stroke=\"#000000\"/>\n<polygon fill=\"#000000\" points=\"569.8246,-386.5241 576.902,-378.6399 566.4527,-380.3898 569.8246,-386.5241\" stroke=\"#000000\"/>\n</g>\n<!-- 139848577682384 -->\n<g class=\"node\" id=\"node2\">\n<title>139848577682384</title>\n<polygon fill=\"none\" points=\"626.5,-415.5 626.5,-461.5 913.5,-461.5 913.5,-415.5 626.5,-415.5\" stroke=\"#000000\"/>\n<text fill=\"#000000\" font-family=\"Times,serif\" font-size=\"14.00\" text-anchor=\"middle\" x=\"693\" y=\"-434.8\">input_8: InputLayer</text>\n<polyline fill=\"none\" points=\"759.5,-415.5 759.5,-461.5 \" stroke=\"#000000\"/>\n<text fill=\"#000000\" font-family=\"Times,serif\" font-size=\"14.00\" text-anchor=\"middle\" x=\"788.5\" y=\"-446.3\">input:</text>\n<polyline fill=\"none\" points=\"759.5,-438.5 817.5,-438.5 \" stroke=\"#000000\"/>\n<text fill=\"#000000\" font-family=\"Times,serif\" font-size=\"14.00\" text-anchor=\"middle\" x=\"788.5\" y=\"-423.3\">output:</text>\n<polyline fill=\"none\" points=\"817.5,-415.5 817.5,-461.5 \" stroke=\"#000000\"/>\n<text fill=\"#000000\" font-family=\"Times,serif\" font-size=\"14.00\" text-anchor=\"middle\" x=\"865.5\" y=\"-446.3\">[(None, 128)]</text>\n<polyline fill=\"none\" points=\"817.5,-438.5 913.5,-438.5 \" stroke=\"#000000\"/>\n<text fill=\"#000000\" font-family=\"Times,serif\" font-size=\"14.00\" text-anchor=\"middle\" x=\"865.5\" y=\"-423.3\">[(None, 128)]</text>\n</g>\n<!-- 139848577682384&#45;&gt;139848527214416 -->\n<g class=\"edge\" id=\"edge2\">\n<title>139848577682384-&gt;139848527214416</title>\n<path d=\"M727.9381,-415.3799C709.9332,-405.4832 688.7489,-393.8388 669.8715,-383.4625\" fill=\"none\" stroke=\"#000000\"/>\n<polygon fill=\"#000000\" points=\"671.5473,-380.3898 661.098,-378.6399 668.1754,-386.5241 671.5473,-380.3898\" stroke=\"#000000\"/>\n</g>\n<!-- 139848577733904 -->\n<g class=\"node\" id=\"node4\">\n<title>139848577733904</title>\n<polygon fill=\"none\" points=\"0,-249.5 0,-295.5 608,-295.5 608,-249.5 0,-249.5\" stroke=\"#000000\"/>\n<text fill=\"#000000\" font-family=\"Times,serif\" font-size=\"14.00\" text-anchor=\"middle\" x=\"220\" y=\"-268.8\">global_average_pooling1d_masked_4: GlobalAveragePooling1DMasked</text>\n<polyline fill=\"none\" points=\"440,-249.5 440,-295.5 \" stroke=\"#000000\"/>\n<text fill=\"#000000\" font-family=\"Times,serif\" font-size=\"14.00\" text-anchor=\"middle\" x=\"469\" y=\"-280.3\">input:</text>\n<polyline fill=\"none\" points=\"440,-272.5 498,-272.5 \" stroke=\"#000000\"/>\n<text fill=\"#000000\" font-family=\"Times,serif\" font-size=\"14.00\" text-anchor=\"middle\" x=\"469\" y=\"-257.3\">output:</text>\n<polyline fill=\"none\" points=\"498,-249.5 498,-295.5 \" stroke=\"#000000\"/>\n<text fill=\"#000000\" font-family=\"Times,serif\" font-size=\"14.00\" text-anchor=\"middle\" x=\"553\" y=\"-280.3\">(None, 16, 300)</text>\n<polyline fill=\"none\" points=\"498,-272.5 608,-272.5 \" stroke=\"#000000\"/>\n<text fill=\"#000000\" font-family=\"Times,serif\" font-size=\"14.00\" text-anchor=\"middle\" x=\"553\" y=\"-257.3\">(None, 300)</text>\n</g>\n<!-- 139848527214416&#45;&gt;139848577733904 -->\n<g class=\"edge\" id=\"edge3\">\n<title>139848527214416-&gt;139848577733904</title>\n<path d=\"M531.6733,-332.4901C491.2184,-321.8306 442.9994,-309.1252 401.3734,-298.1571\" fill=\"none\" stroke=\"#000000\"/>\n<polygon fill=\"#000000\" points=\"402.0584,-294.7182 391.4966,-295.5547 400.2748,-301.4872 402.0584,-294.7182\" stroke=\"#000000\"/>\n</g>\n<!-- 139849240795344 -->\n<g class=\"node\" id=\"node5\">\n<title>139849240795344</title>\n<polygon fill=\"none\" points=\"626.5,-249.5 626.5,-295.5 1241.5,-295.5 1241.5,-249.5 626.5,-249.5\" stroke=\"#000000\"/>\n<text fill=\"#000000\" font-family=\"Times,serif\" font-size=\"14.00\" text-anchor=\"middle\" x=\"846.5\" y=\"-268.8\">global_average_pooling1d_masked_5: GlobalAveragePooling1DMasked</text>\n<polyline fill=\"none\" points=\"1066.5,-249.5 1066.5,-295.5 \" stroke=\"#000000\"/>\n<text fill=\"#000000\" font-family=\"Times,serif\" font-size=\"14.00\" text-anchor=\"middle\" x=\"1095.5\" y=\"-280.3\">input:</text>\n<polyline fill=\"none\" points=\"1066.5,-272.5 1124.5,-272.5 \" stroke=\"#000000\"/>\n<text fill=\"#000000\" font-family=\"Times,serif\" font-size=\"14.00\" text-anchor=\"middle\" x=\"1095.5\" y=\"-257.3\">output:</text>\n<polyline fill=\"none\" points=\"1124.5,-249.5 1124.5,-295.5 \" stroke=\"#000000\"/>\n<text fill=\"#000000\" font-family=\"Times,serif\" font-size=\"14.00\" text-anchor=\"middle\" x=\"1183\" y=\"-280.3\">(None, 128, 300)</text>\n<polyline fill=\"none\" points=\"1124.5,-272.5 1241.5,-272.5 \" stroke=\"#000000\"/>\n<text fill=\"#000000\" font-family=\"Times,serif\" font-size=\"14.00\" text-anchor=\"middle\" x=\"1183\" y=\"-257.3\">(None, 300)</text>\n</g>\n<!-- 139848527214416&#45;&gt;139849240795344 -->\n<g class=\"edge\" id=\"edge4\">\n<title>139848527214416-&gt;139849240795344</title>\n<path d=\"M706.3267,-332.4901C746.7816,-321.8306 795.0006,-309.1252 836.6266,-298.1571\" fill=\"none\" stroke=\"#000000\"/>\n<polygon fill=\"#000000\" points=\"837.7252,-301.4872 846.5034,-295.5547 835.9416,-294.7182 837.7252,-301.4872\" stroke=\"#000000\"/>\n</g>\n<!-- 139849240666832 -->\n<g class=\"node\" id=\"node6\">\n<title>139849240666832</title>\n<polygon fill=\"none\" points=\"350.5,-166.5 350.5,-212.5 609.5,-212.5 609.5,-166.5 350.5,-166.5\" stroke=\"#000000\"/>\n<text fill=\"#000000\" font-family=\"Times,serif\" font-size=\"14.00\" text-anchor=\"middle\" x=\"407.5\" y=\"-185.8\">dense_12: Dense</text>\n<polyline fill=\"none\" points=\"464.5,-166.5 464.5,-212.5 \" stroke=\"#000000\"/>\n<text fill=\"#000000\" font-family=\"Times,serif\" font-size=\"14.00\" text-anchor=\"middle\" x=\"493.5\" y=\"-197.3\">input:</text>\n<polyline fill=\"none\" points=\"464.5,-189.5 522.5,-189.5 \" stroke=\"#000000\"/>\n<text fill=\"#000000\" font-family=\"Times,serif\" font-size=\"14.00\" text-anchor=\"middle\" x=\"493.5\" y=\"-174.3\">output:</text>\n<polyline fill=\"none\" points=\"522.5,-166.5 522.5,-212.5 \" stroke=\"#000000\"/>\n<text fill=\"#000000\" font-family=\"Times,serif\" font-size=\"14.00\" text-anchor=\"middle\" x=\"566\" y=\"-197.3\">(None, 300)</text>\n<polyline fill=\"none\" points=\"522.5,-189.5 609.5,-189.5 \" stroke=\"#000000\"/>\n<text fill=\"#000000\" font-family=\"Times,serif\" font-size=\"14.00\" text-anchor=\"middle\" x=\"566\" y=\"-174.3\">(None, 16)</text>\n</g>\n<!-- 139848577733904&#45;&gt;139849240666832 -->\n<g class=\"edge\" id=\"edge5\">\n<title>139848577733904-&gt;139849240666832</title>\n<path d=\"M353.0258,-249.3799C374.2965,-239.3488 399.3743,-227.5224 421.6006,-217.0406\" fill=\"none\" stroke=\"#000000\"/>\n<polygon fill=\"#000000\" points=\"423.3804,-220.071 430.9322,-212.6399 420.3946,-213.7398 423.3804,-220.071\" stroke=\"#000000\"/>\n</g>\n<!-- 139849240858128 -->\n<g class=\"node\" id=\"node7\">\n<title>139849240858128</title>\n<polygon fill=\"none\" points=\"715.5,-166.5 715.5,-212.5 974.5,-212.5 974.5,-166.5 715.5,-166.5\" stroke=\"#000000\"/>\n<text fill=\"#000000\" font-family=\"Times,serif\" font-size=\"14.00\" text-anchor=\"middle\" x=\"772.5\" y=\"-185.8\">dense_13: Dense</text>\n<polyline fill=\"none\" points=\"829.5,-166.5 829.5,-212.5 \" stroke=\"#000000\"/>\n<text fill=\"#000000\" font-family=\"Times,serif\" font-size=\"14.00\" text-anchor=\"middle\" x=\"858.5\" y=\"-197.3\">input:</text>\n<polyline fill=\"none\" points=\"829.5,-189.5 887.5,-189.5 \" stroke=\"#000000\"/>\n<text fill=\"#000000\" font-family=\"Times,serif\" font-size=\"14.00\" text-anchor=\"middle\" x=\"858.5\" y=\"-174.3\">output:</text>\n<polyline fill=\"none\" points=\"887.5,-166.5 887.5,-212.5 \" stroke=\"#000000\"/>\n<text fill=\"#000000\" font-family=\"Times,serif\" font-size=\"14.00\" text-anchor=\"middle\" x=\"931\" y=\"-197.3\">(None, 300)</text>\n<polyline fill=\"none\" points=\"887.5,-189.5 974.5,-189.5 \" stroke=\"#000000\"/>\n<text fill=\"#000000\" font-family=\"Times,serif\" font-size=\"14.00\" text-anchor=\"middle\" x=\"931\" y=\"-174.3\">(None, 16)</text>\n</g>\n<!-- 139849240795344&#45;&gt;139849240858128 -->\n<g class=\"edge\" id=\"edge6\">\n<title>139849240795344-&gt;139849240858128</title>\n<path d=\"M909.2085,-249.3799C899.3581,-240.1935 887.893,-229.5013 877.3994,-219.7152\" fill=\"none\" stroke=\"#000000\"/>\n<polygon fill=\"#000000\" points=\"879.6676,-217.0446 869.9672,-212.784 874.8934,-222.1639 879.6676,-217.0446\" stroke=\"#000000\"/>\n</g>\n<!-- 139848577732688 -->\n<g class=\"node\" id=\"node8\">\n<title>139848577732688</title>\n<polygon fill=\"none\" points=\"429.5,-83.5 429.5,-129.5 806.5,-129.5 806.5,-83.5 429.5,-83.5\" stroke=\"#000000\"/>\n<text fill=\"#000000\" font-family=\"Times,serif\" font-size=\"14.00\" text-anchor=\"middle\" x=\"509.5\" y=\"-102.8\">concatenate: Concatenate</text>\n<polyline fill=\"none\" points=\"589.5,-83.5 589.5,-129.5 \" stroke=\"#000000\"/>\n<text fill=\"#000000\" font-family=\"Times,serif\" font-size=\"14.00\" text-anchor=\"middle\" x=\"618.5\" y=\"-114.3\">input:</text>\n<polyline fill=\"none\" points=\"589.5,-106.5 647.5,-106.5 \" stroke=\"#000000\"/>\n<text fill=\"#000000\" font-family=\"Times,serif\" font-size=\"14.00\" text-anchor=\"middle\" x=\"618.5\" y=\"-91.3\">output:</text>\n<polyline fill=\"none\" points=\"647.5,-83.5 647.5,-129.5 \" stroke=\"#000000\"/>\n<text fill=\"#000000\" font-family=\"Times,serif\" font-size=\"14.00\" text-anchor=\"middle\" x=\"727\" y=\"-114.3\">[(None, 16), (None, 16)]</text>\n<polyline fill=\"none\" points=\"647.5,-106.5 806.5,-106.5 \" stroke=\"#000000\"/>\n<text fill=\"#000000\" font-family=\"Times,serif\" font-size=\"14.00\" text-anchor=\"middle\" x=\"727\" y=\"-91.3\">(None, 32)</text>\n</g>\n<!-- 139849240666832&#45;&gt;139848577732688 -->\n<g class=\"edge\" id=\"edge7\">\n<title>139849240666832-&gt;139848577732688</title>\n<path d=\"M518.4407,-166.3799C534.6042,-156.6583 553.5714,-145.2505 570.59,-135.0147\" fill=\"none\" stroke=\"#000000\"/>\n<polygon fill=\"#000000\" points=\"572.5213,-137.9375 579.2868,-129.784 568.9134,-131.9388 572.5213,-137.9375\" stroke=\"#000000\"/>\n</g>\n<!-- 139849240858128&#45;&gt;139848577732688 -->\n<g class=\"edge\" id=\"edge8\">\n<title>139849240858128-&gt;139848577732688</title>\n<path d=\"M782.0693,-166.4901C753.6542,-156.1004 719.9236,-143.7672 690.4579,-132.9934\" fill=\"none\" stroke=\"#000000\"/>\n<polygon fill=\"#000000\" points=\"691.6469,-129.7016 681.0531,-129.5547 689.2431,-136.2759 691.6469,-129.7016\" stroke=\"#000000\"/>\n</g>\n<!-- 139849240856208 -->\n<g class=\"node\" id=\"node9\">\n<title>139849240856208</title>\n<polygon fill=\"none\" points=\"492,-.5 492,-46.5 744,-46.5 744,-.5 492,-.5\" stroke=\"#000000\"/>\n<text fill=\"#000000\" font-family=\"Times,serif\" font-size=\"14.00\" text-anchor=\"middle\" x=\"549\" y=\"-19.8\">dense_14: Dense</text>\n<polyline fill=\"none\" points=\"606,-.5 606,-46.5 \" stroke=\"#000000\"/>\n<text fill=\"#000000\" font-family=\"Times,serif\" font-size=\"14.00\" text-anchor=\"middle\" x=\"635\" y=\"-31.3\">input:</text>\n<polyline fill=\"none\" points=\"606,-23.5 664,-23.5 \" stroke=\"#000000\"/>\n<text fill=\"#000000\" font-family=\"Times,serif\" font-size=\"14.00\" text-anchor=\"middle\" x=\"635\" y=\"-8.3\">output:</text>\n<polyline fill=\"none\" points=\"664,-.5 664,-46.5 \" stroke=\"#000000\"/>\n<text fill=\"#000000\" font-family=\"Times,serif\" font-size=\"14.00\" text-anchor=\"middle\" x=\"704\" y=\"-31.3\">(None, 32)</text>\n<polyline fill=\"none\" points=\"664,-23.5 744,-23.5 \" stroke=\"#000000\"/>\n<text fill=\"#000000\" font-family=\"Times,serif\" font-size=\"14.00\" text-anchor=\"middle\" x=\"704\" y=\"-8.3\">(None, 1)</text>\n</g>\n<!-- 139848577732688&#45;&gt;139849240856208 -->\n<g class=\"edge\" id=\"edge9\">\n<title>139848577732688-&gt;139849240856208</title>\n<path d=\"M618,-83.3799C618,-75.1745 618,-65.7679 618,-56.8786\" fill=\"none\" stroke=\"#000000\"/>\n<polygon fill=\"#000000\" points=\"621.5001,-56.784 618,-46.784 614.5001,-56.784 621.5001,-56.784\" stroke=\"#000000\"/>\n</g>\n</g>\n</svg>"
          },
          "metadata": {
            "tags": []
          },
          "execution_count": 49
        }
      ]
    },
    {
      "cell_type": "markdown",
      "metadata": {
        "id": "dVl_cKt903Z9"
      },
      "source": [
        "Train and evaluate your model:"
      ]
    },
    {
      "cell_type": "code",
      "metadata": {
        "colab": {
          "base_uri": "https://localhost:8080/"
        },
        "id": "wEzz9deDF2rc",
        "outputId": "2bd2aaf3-33d8-45a4-a11d-291fb4fb191f"
      },
      "source": [
        "# Model training\n",
        "history = final_model.fit(x = [x_train_topic_pad_glove, x_train_tweet_pad_glove],\n",
        "                    y = y_train,\n",
        "                    epochs=200,\n",
        "                    batch_size=512,\n",
        "                    validation_data=([x_dev_topic_pad_glove, x_dev_tweet_pad_glove], y_dev),\n",
        "                    verbose=1)"
      ],
      "execution_count": null,
      "outputs": [
        {
          "output_type": "stream",
          "text": [
            "Epoch 1/200\n",
            "35/35 [==============================] - 1s 25ms/step - loss: 0.6348 - accuracy: 0.7520 - val_loss: 0.5686 - val_accuracy: 0.7442\n",
            "Epoch 2/200\n",
            "35/35 [==============================] - 1s 20ms/step - loss: 0.5066 - accuracy: 0.7846 - val_loss: 0.5466 - val_accuracy: 0.7442\n",
            "Epoch 3/200\n",
            "35/35 [==============================] - 1s 21ms/step - loss: 0.4602 - accuracy: 0.8023 - val_loss: 0.5195 - val_accuracy: 0.7442\n",
            "Epoch 4/200\n",
            "35/35 [==============================] - 1s 21ms/step - loss: 0.4397 - accuracy: 0.8078 - val_loss: 0.4962 - val_accuracy: 0.7442\n",
            "Epoch 5/200\n",
            "35/35 [==============================] - 1s 20ms/step - loss: 0.4240 - accuracy: 0.8175 - val_loss: 0.4791 - val_accuracy: 0.7426\n",
            "Epoch 6/200\n",
            "35/35 [==============================] - 1s 20ms/step - loss: 0.4062 - accuracy: 0.8288 - val_loss: 0.4665 - val_accuracy: 0.7411\n",
            "Epoch 7/200\n",
            "35/35 [==============================] - 1s 21ms/step - loss: 0.3956 - accuracy: 0.8364 - val_loss: 0.4568 - val_accuracy: 0.7434\n",
            "Epoch 8/200\n",
            "35/35 [==============================] - 1s 21ms/step - loss: 0.3831 - accuracy: 0.8418 - val_loss: 0.4493 - val_accuracy: 0.7494\n",
            "Epoch 9/200\n",
            "35/35 [==============================] - 1s 22ms/step - loss: 0.3737 - accuracy: 0.8473 - val_loss: 0.4436 - val_accuracy: 0.7562\n",
            "Epoch 10/200\n",
            "35/35 [==============================] - 1s 22ms/step - loss: 0.3604 - accuracy: 0.8501 - val_loss: 0.4380 - val_accuracy: 0.7623\n",
            "Epoch 11/200\n",
            "35/35 [==============================] - 1s 23ms/step - loss: 0.3519 - accuracy: 0.8541 - val_loss: 0.4326 - val_accuracy: 0.7751\n",
            "Epoch 12/200\n",
            "35/35 [==============================] - 1s 24ms/step - loss: 0.3457 - accuracy: 0.8593 - val_loss: 0.4270 - val_accuracy: 0.7842\n",
            "Epoch 13/200\n",
            "35/35 [==============================] - 1s 27ms/step - loss: 0.3465 - accuracy: 0.8530 - val_loss: 0.4228 - val_accuracy: 0.7940\n",
            "Epoch 14/200\n",
            "35/35 [==============================] - 1s 26ms/step - loss: 0.3279 - accuracy: 0.8650 - val_loss: 0.4220 - val_accuracy: 0.8060\n",
            "Epoch 15/200\n",
            "35/35 [==============================] - 1s 25ms/step - loss: 0.3252 - accuracy: 0.8696 - val_loss: 0.4180 - val_accuracy: 0.8075\n",
            "Epoch 16/200\n",
            "35/35 [==============================] - 1s 23ms/step - loss: 0.3263 - accuracy: 0.8613 - val_loss: 0.4153 - val_accuracy: 0.8083\n",
            "Epoch 17/200\n",
            "35/35 [==============================] - 1s 23ms/step - loss: 0.3163 - accuracy: 0.8668 - val_loss: 0.4139 - val_accuracy: 0.8075\n",
            "Epoch 18/200\n",
            "35/35 [==============================] - 1s 21ms/step - loss: 0.3174 - accuracy: 0.8674 - val_loss: 0.4136 - val_accuracy: 0.8053\n",
            "Epoch 19/200\n",
            "35/35 [==============================] - 1s 20ms/step - loss: 0.3135 - accuracy: 0.8686 - val_loss: 0.4136 - val_accuracy: 0.8068\n",
            "Epoch 20/200\n",
            "35/35 [==============================] - 1s 20ms/step - loss: 0.3058 - accuracy: 0.8717 - val_loss: 0.4117 - val_accuracy: 0.8098\n",
            "Epoch 21/200\n",
            "35/35 [==============================] - 1s 20ms/step - loss: 0.3093 - accuracy: 0.8698 - val_loss: 0.4146 - val_accuracy: 0.8091\n",
            "Epoch 22/200\n",
            "35/35 [==============================] - 1s 20ms/step - loss: 0.3009 - accuracy: 0.8747 - val_loss: 0.4130 - val_accuracy: 0.8091\n",
            "Epoch 23/200\n",
            "35/35 [==============================] - 1s 21ms/step - loss: 0.3054 - accuracy: 0.8729 - val_loss: 0.4143 - val_accuracy: 0.8098\n",
            "Epoch 24/200\n",
            "35/35 [==============================] - 1s 21ms/step - loss: 0.3007 - accuracy: 0.8754 - val_loss: 0.4161 - val_accuracy: 0.8068\n",
            "Epoch 25/200\n",
            "35/35 [==============================] - 1s 21ms/step - loss: 0.2980 - accuracy: 0.8780 - val_loss: 0.4145 - val_accuracy: 0.8060\n",
            "Epoch 26/200\n",
            "35/35 [==============================] - 1s 21ms/step - loss: 0.2977 - accuracy: 0.8742 - val_loss: 0.4181 - val_accuracy: 0.8053\n",
            "Epoch 27/200\n",
            "35/35 [==============================] - 1s 21ms/step - loss: 0.2894 - accuracy: 0.8805 - val_loss: 0.4227 - val_accuracy: 0.8030\n",
            "Epoch 28/200\n",
            "35/35 [==============================] - 1s 20ms/step - loss: 0.2914 - accuracy: 0.8786 - val_loss: 0.4198 - val_accuracy: 0.8060\n",
            "Epoch 29/200\n",
            "35/35 [==============================] - 1s 21ms/step - loss: 0.2923 - accuracy: 0.8791 - val_loss: 0.4181 - val_accuracy: 0.8053\n",
            "Epoch 30/200\n",
            "35/35 [==============================] - 1s 23ms/step - loss: 0.2909 - accuracy: 0.8773 - val_loss: 0.4200 - val_accuracy: 0.8045\n",
            "Epoch 31/200\n",
            "35/35 [==============================] - 1s 21ms/step - loss: 0.2905 - accuracy: 0.8768 - val_loss: 0.4239 - val_accuracy: 0.7992\n",
            "Epoch 32/200\n",
            "35/35 [==============================] - 1s 20ms/step - loss: 0.2893 - accuracy: 0.8773 - val_loss: 0.4221 - val_accuracy: 0.8015\n",
            "Epoch 33/200\n",
            "35/35 [==============================] - 1s 20ms/step - loss: 0.2894 - accuracy: 0.8797 - val_loss: 0.4235 - val_accuracy: 0.7985\n",
            "Epoch 34/200\n",
            "35/35 [==============================] - 1s 22ms/step - loss: 0.2911 - accuracy: 0.8781 - val_loss: 0.4266 - val_accuracy: 0.7947\n",
            "Epoch 35/200\n",
            "35/35 [==============================] - 1s 22ms/step - loss: 0.2815 - accuracy: 0.8846 - val_loss: 0.4325 - val_accuracy: 0.7932\n",
            "Epoch 36/200\n",
            "35/35 [==============================] - 1s 20ms/step - loss: 0.2877 - accuracy: 0.8786 - val_loss: 0.4254 - val_accuracy: 0.7977\n",
            "Epoch 37/200\n",
            "35/35 [==============================] - 1s 20ms/step - loss: 0.2831 - accuracy: 0.8826 - val_loss: 0.4316 - val_accuracy: 0.7909\n",
            "Epoch 38/200\n",
            "35/35 [==============================] - 1s 20ms/step - loss: 0.2849 - accuracy: 0.8807 - val_loss: 0.4300 - val_accuracy: 0.7940\n",
            "Epoch 39/200\n",
            "35/35 [==============================] - 1s 19ms/step - loss: 0.2883 - accuracy: 0.8800 - val_loss: 0.4342 - val_accuracy: 0.7887\n",
            "Epoch 40/200\n",
            "35/35 [==============================] - 1s 20ms/step - loss: 0.2823 - accuracy: 0.8810 - val_loss: 0.4359 - val_accuracy: 0.7894\n",
            "Epoch 41/200\n",
            "35/35 [==============================] - 1s 20ms/step - loss: 0.2854 - accuracy: 0.8799 - val_loss: 0.4375 - val_accuracy: 0.7879\n",
            "Epoch 42/200\n",
            "35/35 [==============================] - 1s 20ms/step - loss: 0.2842 - accuracy: 0.8813 - val_loss: 0.4439 - val_accuracy: 0.7864\n",
            "Epoch 43/200\n",
            "35/35 [==============================] - 1s 20ms/step - loss: 0.2799 - accuracy: 0.8844 - val_loss: 0.4390 - val_accuracy: 0.7894\n",
            "Epoch 44/200\n",
            "35/35 [==============================] - 1s 20ms/step - loss: 0.2891 - accuracy: 0.8783 - val_loss: 0.4412 - val_accuracy: 0.7887\n",
            "Epoch 45/200\n",
            "35/35 [==============================] - 1s 20ms/step - loss: 0.2800 - accuracy: 0.8822 - val_loss: 0.4434 - val_accuracy: 0.7842\n",
            "Epoch 46/200\n",
            "35/35 [==============================] - 1s 20ms/step - loss: 0.2836 - accuracy: 0.8839 - val_loss: 0.4444 - val_accuracy: 0.7879\n",
            "Epoch 47/200\n",
            "35/35 [==============================] - 1s 20ms/step - loss: 0.2759 - accuracy: 0.8854 - val_loss: 0.4500 - val_accuracy: 0.7834\n",
            "Epoch 48/200\n",
            "35/35 [==============================] - 1s 20ms/step - loss: 0.2845 - accuracy: 0.8829 - val_loss: 0.4466 - val_accuracy: 0.7849\n",
            "Epoch 49/200\n",
            "35/35 [==============================] - 1s 21ms/step - loss: 0.2817 - accuracy: 0.8830 - val_loss: 0.4519 - val_accuracy: 0.7819\n",
            "Epoch 50/200\n",
            "35/35 [==============================] - 1s 21ms/step - loss: 0.2840 - accuracy: 0.8805 - val_loss: 0.4539 - val_accuracy: 0.7789\n",
            "Epoch 51/200\n",
            "35/35 [==============================] - 1s 21ms/step - loss: 0.2798 - accuracy: 0.8840 - val_loss: 0.4507 - val_accuracy: 0.7857\n",
            "Epoch 52/200\n",
            "35/35 [==============================] - 1s 22ms/step - loss: 0.2769 - accuracy: 0.8864 - val_loss: 0.4560 - val_accuracy: 0.7796\n",
            "Epoch 53/200\n",
            "35/35 [==============================] - 1s 22ms/step - loss: 0.2773 - accuracy: 0.8821 - val_loss: 0.4613 - val_accuracy: 0.7774\n",
            "Epoch 54/200\n",
            "35/35 [==============================] - 1s 20ms/step - loss: 0.2760 - accuracy: 0.8876 - val_loss: 0.4603 - val_accuracy: 0.7796\n",
            "Epoch 55/200\n",
            "35/35 [==============================] - 1s 20ms/step - loss: 0.2709 - accuracy: 0.8888 - val_loss: 0.4601 - val_accuracy: 0.7811\n",
            "Epoch 56/200\n",
            "35/35 [==============================] - 1s 19ms/step - loss: 0.2806 - accuracy: 0.8842 - val_loss: 0.4618 - val_accuracy: 0.7796\n",
            "Epoch 57/200\n",
            "35/35 [==============================] - 1s 20ms/step - loss: 0.2754 - accuracy: 0.8881 - val_loss: 0.4712 - val_accuracy: 0.7721\n",
            "Epoch 58/200\n",
            "35/35 [==============================] - 1s 20ms/step - loss: 0.2789 - accuracy: 0.8863 - val_loss: 0.4687 - val_accuracy: 0.7743\n",
            "Epoch 59/200\n",
            "35/35 [==============================] - 1s 20ms/step - loss: 0.2760 - accuracy: 0.8858 - val_loss: 0.4640 - val_accuracy: 0.7804\n",
            "Epoch 60/200\n",
            "35/35 [==============================] - 1s 20ms/step - loss: 0.2781 - accuracy: 0.8849 - val_loss: 0.4724 - val_accuracy: 0.7728\n",
            "Epoch 61/200\n",
            "35/35 [==============================] - 1s 20ms/step - loss: 0.2693 - accuracy: 0.8908 - val_loss: 0.4689 - val_accuracy: 0.7774\n",
            "Epoch 62/200\n",
            "35/35 [==============================] - 1s 20ms/step - loss: 0.2761 - accuracy: 0.8846 - val_loss: 0.4751 - val_accuracy: 0.7736\n",
            "Epoch 63/200\n",
            "35/35 [==============================] - 1s 21ms/step - loss: 0.2726 - accuracy: 0.8857 - val_loss: 0.4779 - val_accuracy: 0.7706\n",
            "Epoch 64/200\n",
            "35/35 [==============================] - 1s 22ms/step - loss: 0.2791 - accuracy: 0.8849 - val_loss: 0.4748 - val_accuracy: 0.7743\n",
            "Epoch 65/200\n",
            "35/35 [==============================] - 1s 21ms/step - loss: 0.2702 - accuracy: 0.8864 - val_loss: 0.4801 - val_accuracy: 0.7698\n",
            "Epoch 66/200\n",
            "35/35 [==============================] - 1s 21ms/step - loss: 0.2741 - accuracy: 0.8882 - val_loss: 0.4802 - val_accuracy: 0.7728\n",
            "Epoch 67/200\n",
            "35/35 [==============================] - 1s 21ms/step - loss: 0.2738 - accuracy: 0.8861 - val_loss: 0.4799 - val_accuracy: 0.7713\n",
            "Epoch 68/200\n",
            "35/35 [==============================] - 1s 21ms/step - loss: 0.2797 - accuracy: 0.8837 - val_loss: 0.4803 - val_accuracy: 0.7721\n",
            "Epoch 69/200\n",
            "35/35 [==============================] - 1s 21ms/step - loss: 0.2787 - accuracy: 0.8844 - val_loss: 0.4862 - val_accuracy: 0.7675\n",
            "Epoch 70/200\n",
            "35/35 [==============================] - 1s 20ms/step - loss: 0.2723 - accuracy: 0.8874 - val_loss: 0.4859 - val_accuracy: 0.7668\n",
            "Epoch 71/200\n",
            "35/35 [==============================] - 1s 20ms/step - loss: 0.2822 - accuracy: 0.8829 - val_loss: 0.4842 - val_accuracy: 0.7683\n",
            "Epoch 72/200\n",
            "35/35 [==============================] - 1s 20ms/step - loss: 0.2763 - accuracy: 0.8854 - val_loss: 0.4890 - val_accuracy: 0.7653\n",
            "Epoch 73/200\n",
            "35/35 [==============================] - 1s 21ms/step - loss: 0.2753 - accuracy: 0.8840 - val_loss: 0.4901 - val_accuracy: 0.7668\n",
            "Epoch 74/200\n",
            "35/35 [==============================] - 1s 20ms/step - loss: 0.2708 - accuracy: 0.8882 - val_loss: 0.4945 - val_accuracy: 0.7660\n",
            "Epoch 75/200\n",
            "35/35 [==============================] - 1s 20ms/step - loss: 0.2771 - accuracy: 0.8847 - val_loss: 0.4931 - val_accuracy: 0.7660\n",
            "Epoch 76/200\n",
            "35/35 [==============================] - 1s 21ms/step - loss: 0.2736 - accuracy: 0.8874 - val_loss: 0.4947 - val_accuracy: 0.7630\n",
            "Epoch 77/200\n",
            "35/35 [==============================] - 1s 21ms/step - loss: 0.2743 - accuracy: 0.8874 - val_loss: 0.5029 - val_accuracy: 0.7592\n",
            "Epoch 78/200\n",
            "35/35 [==============================] - 1s 21ms/step - loss: 0.2726 - accuracy: 0.8878 - val_loss: 0.5016 - val_accuracy: 0.7630\n",
            "Epoch 79/200\n",
            "35/35 [==============================] - 1s 20ms/step - loss: 0.2686 - accuracy: 0.8892 - val_loss: 0.4970 - val_accuracy: 0.7638\n",
            "Epoch 80/200\n",
            "35/35 [==============================] - 1s 20ms/step - loss: 0.2747 - accuracy: 0.8876 - val_loss: 0.4979 - val_accuracy: 0.7630\n",
            "Epoch 81/200\n",
            "35/35 [==============================] - 1s 21ms/step - loss: 0.2734 - accuracy: 0.8868 - val_loss: 0.4984 - val_accuracy: 0.7630\n",
            "Epoch 82/200\n",
            "35/35 [==============================] - 1s 21ms/step - loss: 0.2726 - accuracy: 0.8859 - val_loss: 0.4986 - val_accuracy: 0.7660\n",
            "Epoch 83/200\n",
            "35/35 [==============================] - 1s 21ms/step - loss: 0.2730 - accuracy: 0.8893 - val_loss: 0.5009 - val_accuracy: 0.7660\n",
            "Epoch 84/200\n",
            "35/35 [==============================] - 1s 21ms/step - loss: 0.2697 - accuracy: 0.8880 - val_loss: 0.5028 - val_accuracy: 0.7638\n",
            "Epoch 85/200\n",
            "35/35 [==============================] - 1s 21ms/step - loss: 0.2712 - accuracy: 0.8868 - val_loss: 0.5040 - val_accuracy: 0.7615\n",
            "Epoch 86/200\n",
            "35/35 [==============================] - 1s 20ms/step - loss: 0.2658 - accuracy: 0.8900 - val_loss: 0.5050 - val_accuracy: 0.7623\n",
            "Epoch 87/200\n",
            "35/35 [==============================] - 1s 20ms/step - loss: 0.2632 - accuracy: 0.8953 - val_loss: 0.5063 - val_accuracy: 0.7615\n",
            "Epoch 88/200\n",
            "35/35 [==============================] - 1s 21ms/step - loss: 0.2693 - accuracy: 0.8901 - val_loss: 0.5081 - val_accuracy: 0.7645\n",
            "Epoch 89/200\n",
            "35/35 [==============================] - 1s 21ms/step - loss: 0.2673 - accuracy: 0.8905 - val_loss: 0.5084 - val_accuracy: 0.7615\n",
            "Epoch 90/200\n",
            "35/35 [==============================] - 1s 21ms/step - loss: 0.2770 - accuracy: 0.8878 - val_loss: 0.5125 - val_accuracy: 0.7600\n",
            "Epoch 91/200\n",
            "35/35 [==============================] - 1s 21ms/step - loss: 0.2743 - accuracy: 0.8862 - val_loss: 0.5119 - val_accuracy: 0.7623\n",
            "Epoch 92/200\n",
            "35/35 [==============================] - 1s 21ms/step - loss: 0.2706 - accuracy: 0.8868 - val_loss: 0.5229 - val_accuracy: 0.7472\n",
            "Epoch 93/200\n",
            "35/35 [==============================] - 1s 21ms/step - loss: 0.2717 - accuracy: 0.8874 - val_loss: 0.5120 - val_accuracy: 0.7615\n",
            "Epoch 94/200\n",
            "35/35 [==============================] - 1s 20ms/step - loss: 0.2722 - accuracy: 0.8884 - val_loss: 0.5130 - val_accuracy: 0.7600\n",
            "Epoch 95/200\n",
            "35/35 [==============================] - 1s 21ms/step - loss: 0.2697 - accuracy: 0.8901 - val_loss: 0.5241 - val_accuracy: 0.7494\n",
            "Epoch 96/200\n",
            "35/35 [==============================] - 1s 21ms/step - loss: 0.2719 - accuracy: 0.8881 - val_loss: 0.5182 - val_accuracy: 0.7592\n",
            "Epoch 97/200\n",
            "35/35 [==============================] - 1s 20ms/step - loss: 0.2641 - accuracy: 0.8910 - val_loss: 0.5193 - val_accuracy: 0.7570\n",
            "Epoch 98/200\n",
            "35/35 [==============================] - 1s 21ms/step - loss: 0.2783 - accuracy: 0.8861 - val_loss: 0.5133 - val_accuracy: 0.7645\n",
            "Epoch 99/200\n",
            "35/35 [==============================] - 1s 21ms/step - loss: 0.2667 - accuracy: 0.8871 - val_loss: 0.5214 - val_accuracy: 0.7555\n",
            "Epoch 100/200\n",
            "35/35 [==============================] - 1s 20ms/step - loss: 0.2682 - accuracy: 0.8895 - val_loss: 0.5209 - val_accuracy: 0.7577\n",
            "Epoch 101/200\n",
            "35/35 [==============================] - 1s 20ms/step - loss: 0.2744 - accuracy: 0.8864 - val_loss: 0.5204 - val_accuracy: 0.7592\n",
            "Epoch 102/200\n",
            "35/35 [==============================] - 1s 21ms/step - loss: 0.2712 - accuracy: 0.8875 - val_loss: 0.5203 - val_accuracy: 0.7600\n",
            "Epoch 103/200\n",
            "35/35 [==============================] - 1s 21ms/step - loss: 0.2686 - accuracy: 0.8904 - val_loss: 0.5234 - val_accuracy: 0.7525\n",
            "Epoch 104/200\n",
            "35/35 [==============================] - 1s 22ms/step - loss: 0.2764 - accuracy: 0.8868 - val_loss: 0.5236 - val_accuracy: 0.7540\n",
            "Epoch 105/200\n",
            "35/35 [==============================] - 1s 20ms/step - loss: 0.2720 - accuracy: 0.8870 - val_loss: 0.5207 - val_accuracy: 0.7608\n",
            "Epoch 106/200\n",
            "35/35 [==============================] - 1s 21ms/step - loss: 0.2716 - accuracy: 0.8852 - val_loss: 0.5242 - val_accuracy: 0.7615\n",
            "Epoch 107/200\n",
            "35/35 [==============================] - 1s 21ms/step - loss: 0.2702 - accuracy: 0.8868 - val_loss: 0.5255 - val_accuracy: 0.7547\n",
            "Epoch 108/200\n",
            "35/35 [==============================] - 1s 21ms/step - loss: 0.2674 - accuracy: 0.8914 - val_loss: 0.5271 - val_accuracy: 0.7525\n",
            "Epoch 109/200\n",
            "35/35 [==============================] - 1s 20ms/step - loss: 0.2744 - accuracy: 0.8875 - val_loss: 0.5260 - val_accuracy: 0.7592\n",
            "Epoch 110/200\n",
            "35/35 [==============================] - 1s 21ms/step - loss: 0.2721 - accuracy: 0.8883 - val_loss: 0.5323 - val_accuracy: 0.7479\n",
            "Epoch 111/200\n",
            "35/35 [==============================] - 1s 21ms/step - loss: 0.2609 - accuracy: 0.8936 - val_loss: 0.5349 - val_accuracy: 0.7487\n",
            "Epoch 112/200\n",
            "35/35 [==============================] - 1s 21ms/step - loss: 0.2648 - accuracy: 0.8900 - val_loss: 0.5365 - val_accuracy: 0.7472\n",
            "Epoch 113/200\n",
            "35/35 [==============================] - 1s 22ms/step - loss: 0.2743 - accuracy: 0.8871 - val_loss: 0.5266 - val_accuracy: 0.7585\n",
            "Epoch 114/200\n",
            "35/35 [==============================] - 1s 21ms/step - loss: 0.2757 - accuracy: 0.8845 - val_loss: 0.5313 - val_accuracy: 0.7540\n",
            "Epoch 115/200\n",
            "35/35 [==============================] - 1s 20ms/step - loss: 0.2742 - accuracy: 0.8862 - val_loss: 0.5311 - val_accuracy: 0.7562\n",
            "Epoch 116/200\n",
            "35/35 [==============================] - 1s 20ms/step - loss: 0.2741 - accuracy: 0.8864 - val_loss: 0.5364 - val_accuracy: 0.7502\n",
            "Epoch 117/200\n",
            "35/35 [==============================] - 1s 22ms/step - loss: 0.2620 - accuracy: 0.8926 - val_loss: 0.5348 - val_accuracy: 0.7509\n",
            "Epoch 118/200\n",
            "35/35 [==============================] - 1s 20ms/step - loss: 0.2714 - accuracy: 0.8869 - val_loss: 0.5358 - val_accuracy: 0.7479\n",
            "Epoch 119/200\n",
            "35/35 [==============================] - 1s 21ms/step - loss: 0.2642 - accuracy: 0.8918 - val_loss: 0.5358 - val_accuracy: 0.7487\n",
            "Epoch 120/200\n",
            "35/35 [==============================] - 1s 22ms/step - loss: 0.2713 - accuracy: 0.8888 - val_loss: 0.5327 - val_accuracy: 0.7592\n",
            "Epoch 121/200\n",
            "35/35 [==============================] - 1s 21ms/step - loss: 0.2715 - accuracy: 0.8868 - val_loss: 0.5362 - val_accuracy: 0.7509\n",
            "Epoch 122/200\n",
            "35/35 [==============================] - 1s 21ms/step - loss: 0.2654 - accuracy: 0.8913 - val_loss: 0.5432 - val_accuracy: 0.7464\n",
            "Epoch 123/200\n",
            "35/35 [==============================] - 1s 21ms/step - loss: 0.2687 - accuracy: 0.8886 - val_loss: 0.5336 - val_accuracy: 0.7570\n",
            "Epoch 124/200\n",
            "35/35 [==============================] - 1s 21ms/step - loss: 0.2722 - accuracy: 0.8866 - val_loss: 0.5370 - val_accuracy: 0.7525\n",
            "Epoch 125/200\n",
            "35/35 [==============================] - 1s 21ms/step - loss: 0.2696 - accuracy: 0.8877 - val_loss: 0.5388 - val_accuracy: 0.7509\n",
            "Epoch 126/200\n",
            "35/35 [==============================] - 1s 21ms/step - loss: 0.2718 - accuracy: 0.8887 - val_loss: 0.5368 - val_accuracy: 0.7562\n",
            "Epoch 127/200\n",
            "35/35 [==============================] - 1s 21ms/step - loss: 0.2661 - accuracy: 0.8911 - val_loss: 0.5390 - val_accuracy: 0.7570\n",
            "Epoch 128/200\n",
            "35/35 [==============================] - 1s 21ms/step - loss: 0.2731 - accuracy: 0.8873 - val_loss: 0.5444 - val_accuracy: 0.7449\n",
            "Epoch 129/200\n",
            "35/35 [==============================] - 1s 20ms/step - loss: 0.2710 - accuracy: 0.8898 - val_loss: 0.5391 - val_accuracy: 0.7555\n",
            "Epoch 130/200\n",
            "35/35 [==============================] - 1s 22ms/step - loss: 0.2689 - accuracy: 0.8882 - val_loss: 0.5443 - val_accuracy: 0.7479\n",
            "Epoch 131/200\n",
            "35/35 [==============================] - 1s 21ms/step - loss: 0.2630 - accuracy: 0.8919 - val_loss: 0.5391 - val_accuracy: 0.7577\n",
            "Epoch 132/200\n",
            "35/35 [==============================] - 1s 22ms/step - loss: 0.2696 - accuracy: 0.8877 - val_loss: 0.5465 - val_accuracy: 0.7457\n",
            "Epoch 133/200\n",
            "35/35 [==============================] - 1s 21ms/step - loss: 0.2647 - accuracy: 0.8901 - val_loss: 0.5418 - val_accuracy: 0.7532\n",
            "Epoch 134/200\n",
            "35/35 [==============================] - 1s 22ms/step - loss: 0.2585 - accuracy: 0.8924 - val_loss: 0.5436 - val_accuracy: 0.7547\n",
            "Epoch 135/200\n",
            "35/35 [==============================] - 1s 21ms/step - loss: 0.2665 - accuracy: 0.8930 - val_loss: 0.5523 - val_accuracy: 0.7426\n",
            "Epoch 136/200\n",
            "35/35 [==============================] - 1s 23ms/step - loss: 0.2744 - accuracy: 0.8835 - val_loss: 0.5437 - val_accuracy: 0.7517\n",
            "Epoch 137/200\n",
            "35/35 [==============================] - 1s 21ms/step - loss: 0.2691 - accuracy: 0.8879 - val_loss: 0.5441 - val_accuracy: 0.7532\n",
            "Epoch 138/200\n",
            "35/35 [==============================] - 1s 21ms/step - loss: 0.2684 - accuracy: 0.8882 - val_loss: 0.5468 - val_accuracy: 0.7502\n",
            "Epoch 139/200\n",
            "35/35 [==============================] - 1s 22ms/step - loss: 0.2667 - accuracy: 0.8895 - val_loss: 0.5475 - val_accuracy: 0.7494\n",
            "Epoch 140/200\n",
            "35/35 [==============================] - 1s 22ms/step - loss: 0.2649 - accuracy: 0.8914 - val_loss: 0.5464 - val_accuracy: 0.7517\n",
            "Epoch 141/200\n",
            "35/35 [==============================] - 1s 22ms/step - loss: 0.2622 - accuracy: 0.8942 - val_loss: 0.5443 - val_accuracy: 0.7540\n",
            "Epoch 142/200\n",
            "35/35 [==============================] - 1s 21ms/step - loss: 0.2621 - accuracy: 0.8910 - val_loss: 0.5490 - val_accuracy: 0.7517\n",
            "Epoch 143/200\n",
            "35/35 [==============================] - 1s 21ms/step - loss: 0.2685 - accuracy: 0.8899 - val_loss: 0.5472 - val_accuracy: 0.7547\n",
            "Epoch 144/200\n",
            "35/35 [==============================] - 1s 20ms/step - loss: 0.2722 - accuracy: 0.8862 - val_loss: 0.5499 - val_accuracy: 0.7502\n",
            "Epoch 145/200\n",
            "35/35 [==============================] - 1s 21ms/step - loss: 0.2682 - accuracy: 0.8882 - val_loss: 0.5514 - val_accuracy: 0.7509\n",
            "Epoch 146/200\n",
            "35/35 [==============================] - 1s 20ms/step - loss: 0.2643 - accuracy: 0.8893 - val_loss: 0.5511 - val_accuracy: 0.7517\n",
            "Epoch 147/200\n",
            "35/35 [==============================] - 1s 22ms/step - loss: 0.2660 - accuracy: 0.8918 - val_loss: 0.5498 - val_accuracy: 0.7517\n",
            "Epoch 148/200\n",
            "35/35 [==============================] - 1s 21ms/step - loss: 0.2723 - accuracy: 0.8861 - val_loss: 0.5494 - val_accuracy: 0.7540\n",
            "Epoch 149/200\n",
            "35/35 [==============================] - 1s 20ms/step - loss: 0.2639 - accuracy: 0.8918 - val_loss: 0.5586 - val_accuracy: 0.7426\n",
            "Epoch 150/200\n",
            "35/35 [==============================] - 1s 20ms/step - loss: 0.2663 - accuracy: 0.8894 - val_loss: 0.5493 - val_accuracy: 0.7540\n",
            "Epoch 151/200\n",
            "35/35 [==============================] - 1s 21ms/step - loss: 0.2720 - accuracy: 0.8890 - val_loss: 0.5538 - val_accuracy: 0.7487\n",
            "Epoch 152/200\n",
            "35/35 [==============================] - 1s 20ms/step - loss: 0.2678 - accuracy: 0.8917 - val_loss: 0.5569 - val_accuracy: 0.7472\n",
            "Epoch 153/200\n",
            "35/35 [==============================] - 1s 21ms/step - loss: 0.2678 - accuracy: 0.8901 - val_loss: 0.5534 - val_accuracy: 0.7525\n",
            "Epoch 154/200\n",
            "35/35 [==============================] - 1s 20ms/step - loss: 0.2677 - accuracy: 0.8878 - val_loss: 0.5501 - val_accuracy: 0.7555\n",
            "Epoch 155/200\n",
            "35/35 [==============================] - 1s 19ms/step - loss: 0.2696 - accuracy: 0.8900 - val_loss: 0.5558 - val_accuracy: 0.7494\n",
            "Epoch 156/200\n",
            "35/35 [==============================] - 1s 21ms/step - loss: 0.2613 - accuracy: 0.8935 - val_loss: 0.5560 - val_accuracy: 0.7532\n",
            "Epoch 157/200\n",
            "35/35 [==============================] - 1s 21ms/step - loss: 0.2604 - accuracy: 0.8929 - val_loss: 0.5565 - val_accuracy: 0.7494\n",
            "Epoch 158/200\n",
            "35/35 [==============================] - 1s 21ms/step - loss: 0.2692 - accuracy: 0.8868 - val_loss: 0.5552 - val_accuracy: 0.7517\n",
            "Epoch 159/200\n",
            "35/35 [==============================] - 1s 21ms/step - loss: 0.2670 - accuracy: 0.8882 - val_loss: 0.5555 - val_accuracy: 0.7532\n",
            "Epoch 160/200\n",
            "35/35 [==============================] - 1s 20ms/step - loss: 0.2629 - accuracy: 0.8918 - val_loss: 0.5608 - val_accuracy: 0.7464\n",
            "Epoch 161/200\n",
            "35/35 [==============================] - 1s 20ms/step - loss: 0.2709 - accuracy: 0.8887 - val_loss: 0.5583 - val_accuracy: 0.7479\n",
            "Epoch 162/200\n",
            "35/35 [==============================] - 1s 20ms/step - loss: 0.2784 - accuracy: 0.8835 - val_loss: 0.5548 - val_accuracy: 0.7525\n",
            "Epoch 163/200\n",
            "35/35 [==============================] - 1s 21ms/step - loss: 0.2719 - accuracy: 0.8873 - val_loss: 0.5580 - val_accuracy: 0.7502\n",
            "Epoch 164/200\n",
            "35/35 [==============================] - 1s 21ms/step - loss: 0.2699 - accuracy: 0.8889 - val_loss: 0.5551 - val_accuracy: 0.7585\n",
            "Epoch 165/200\n",
            "35/35 [==============================] - 1s 21ms/step - loss: 0.2736 - accuracy: 0.8877 - val_loss: 0.5617 - val_accuracy: 0.7464\n",
            "Epoch 166/200\n",
            "35/35 [==============================] - 1s 21ms/step - loss: 0.2710 - accuracy: 0.8867 - val_loss: 0.5580 - val_accuracy: 0.7509\n",
            "Epoch 167/200\n",
            "35/35 [==============================] - 1s 21ms/step - loss: 0.2613 - accuracy: 0.8907 - val_loss: 0.5594 - val_accuracy: 0.7502\n",
            "Epoch 168/200\n",
            "35/35 [==============================] - 1s 21ms/step - loss: 0.2689 - accuracy: 0.8875 - val_loss: 0.5670 - val_accuracy: 0.7404\n",
            "Epoch 169/200\n",
            "35/35 [==============================] - 1s 22ms/step - loss: 0.2735 - accuracy: 0.8899 - val_loss: 0.5603 - val_accuracy: 0.7502\n",
            "Epoch 170/200\n",
            "35/35 [==============================] - 1s 22ms/step - loss: 0.2673 - accuracy: 0.8899 - val_loss: 0.5588 - val_accuracy: 0.7532\n",
            "Epoch 171/200\n",
            "35/35 [==============================] - 1s 20ms/step - loss: 0.2709 - accuracy: 0.8885 - val_loss: 0.5676 - val_accuracy: 0.7434\n",
            "Epoch 172/200\n",
            "35/35 [==============================] - 1s 21ms/step - loss: 0.2709 - accuracy: 0.8876 - val_loss: 0.5629 - val_accuracy: 0.7479\n",
            "Epoch 173/200\n",
            "35/35 [==============================] - 1s 21ms/step - loss: 0.2694 - accuracy: 0.8905 - val_loss: 0.5629 - val_accuracy: 0.7457\n",
            "Epoch 174/200\n",
            "35/35 [==============================] - 1s 21ms/step - loss: 0.2705 - accuracy: 0.8891 - val_loss: 0.5615 - val_accuracy: 0.7494\n",
            "Epoch 175/200\n",
            "35/35 [==============================] - 1s 23ms/step - loss: 0.2737 - accuracy: 0.8877 - val_loss: 0.5605 - val_accuracy: 0.7517\n",
            "Epoch 176/200\n",
            "35/35 [==============================] - 1s 21ms/step - loss: 0.2679 - accuracy: 0.8879 - val_loss: 0.5620 - val_accuracy: 0.7494\n",
            "Epoch 177/200\n",
            "35/35 [==============================] - 1s 21ms/step - loss: 0.2727 - accuracy: 0.8867 - val_loss: 0.5621 - val_accuracy: 0.7509\n",
            "Epoch 178/200\n",
            "35/35 [==============================] - 1s 20ms/step - loss: 0.2622 - accuracy: 0.8922 - val_loss: 0.5657 - val_accuracy: 0.7457\n",
            "Epoch 179/200\n",
            "35/35 [==============================] - 1s 21ms/step - loss: 0.2703 - accuracy: 0.8899 - val_loss: 0.5660 - val_accuracy: 0.7457\n",
            "Epoch 180/200\n",
            "35/35 [==============================] - 1s 21ms/step - loss: 0.2601 - accuracy: 0.8946 - val_loss: 0.5623 - val_accuracy: 0.7509\n",
            "Epoch 181/200\n",
            "35/35 [==============================] - 1s 21ms/step - loss: 0.2601 - accuracy: 0.8922 - val_loss: 0.5678 - val_accuracy: 0.7457\n",
            "Epoch 182/200\n",
            "35/35 [==============================] - 1s 21ms/step - loss: 0.2736 - accuracy: 0.8869 - val_loss: 0.5657 - val_accuracy: 0.7472\n",
            "Epoch 183/200\n",
            "35/35 [==============================] - 1s 21ms/step - loss: 0.2665 - accuracy: 0.8891 - val_loss: 0.5702 - val_accuracy: 0.7411\n",
            "Epoch 184/200\n",
            "35/35 [==============================] - 1s 21ms/step - loss: 0.2677 - accuracy: 0.8899 - val_loss: 0.5631 - val_accuracy: 0.7487\n",
            "Epoch 185/200\n",
            "35/35 [==============================] - 1s 21ms/step - loss: 0.2725 - accuracy: 0.8866 - val_loss: 0.5638 - val_accuracy: 0.7494\n",
            "Epoch 186/200\n",
            "35/35 [==============================] - 1s 21ms/step - loss: 0.2623 - accuracy: 0.8921 - val_loss: 0.5675 - val_accuracy: 0.7487\n",
            "Epoch 187/200\n",
            "35/35 [==============================] - 1s 21ms/step - loss: 0.2581 - accuracy: 0.8919 - val_loss: 0.5715 - val_accuracy: 0.7426\n",
            "Epoch 188/200\n",
            "35/35 [==============================] - 1s 20ms/step - loss: 0.2673 - accuracy: 0.8891 - val_loss: 0.5609 - val_accuracy: 0.7532\n",
            "Epoch 189/200\n",
            "35/35 [==============================] - 1s 21ms/step - loss: 0.2677 - accuracy: 0.8890 - val_loss: 0.5758 - val_accuracy: 0.7351\n",
            "Epoch 190/200\n",
            "35/35 [==============================] - 1s 21ms/step - loss: 0.2691 - accuracy: 0.8877 - val_loss: 0.5643 - val_accuracy: 0.7517\n",
            "Epoch 191/200\n",
            "35/35 [==============================] - 1s 21ms/step - loss: 0.2722 - accuracy: 0.8876 - val_loss: 0.5646 - val_accuracy: 0.7525\n",
            "Epoch 192/200\n",
            "35/35 [==============================] - 1s 20ms/step - loss: 0.2765 - accuracy: 0.8840 - val_loss: 0.5681 - val_accuracy: 0.7487\n",
            "Epoch 193/200\n",
            "35/35 [==============================] - 1s 20ms/step - loss: 0.2693 - accuracy: 0.8893 - val_loss: 0.5646 - val_accuracy: 0.7494\n",
            "Epoch 194/200\n",
            "35/35 [==============================] - 1s 20ms/step - loss: 0.2648 - accuracy: 0.8911 - val_loss: 0.5728 - val_accuracy: 0.7434\n",
            "Epoch 195/200\n",
            "35/35 [==============================] - 1s 21ms/step - loss: 0.2640 - accuracy: 0.8906 - val_loss: 0.5678 - val_accuracy: 0.7487\n",
            "Epoch 196/200\n",
            "35/35 [==============================] - 1s 20ms/step - loss: 0.2651 - accuracy: 0.8923 - val_loss: 0.5695 - val_accuracy: 0.7494\n",
            "Epoch 197/200\n",
            "35/35 [==============================] - 1s 21ms/step - loss: 0.2661 - accuracy: 0.8922 - val_loss: 0.5678 - val_accuracy: 0.7487\n",
            "Epoch 198/200\n",
            "35/35 [==============================] - 1s 21ms/step - loss: 0.2719 - accuracy: 0.8882 - val_loss: 0.5740 - val_accuracy: 0.7426\n",
            "Epoch 199/200\n",
            "35/35 [==============================] - 1s 21ms/step - loss: 0.2704 - accuracy: 0.8880 - val_loss: 0.5700 - val_accuracy: 0.7494\n",
            "Epoch 200/200\n",
            "35/35 [==============================] - 1s 21ms/step - loss: 0.2713 - accuracy: 0.8879 - val_loss: 0.5664 - val_accuracy: 0.7525\n"
          ],
          "name": "stdout"
        }
      ]
    },
    {
      "cell_type": "code",
      "metadata": {
        "colab": {
          "base_uri": "https://localhost:8080/"
        },
        "id": "1lLM8bOR7MFA",
        "outputId": "c36ddc66-a82e-4ab1-9d31-ddd847d902d1"
      },
      "source": [
        "# Model evaluation\n",
        "results = final_model.evaluate([x_test_topic_pad_glove, x_test_tweet_pad_glove], y_test)"
      ],
      "execution_count": null,
      "outputs": [
        {
          "output_type": "stream",
          "text": [
            "194/194 [==============================] - 1s 3ms/step - loss: 0.6787 - accuracy: 0.7174\n"
          ],
          "name": "stdout"
        }
      ]
    },
    {
      "cell_type": "code",
      "metadata": {
        "colab": {
          "base_uri": "https://localhost:8080/"
        },
        "id": "WpMCFNU47MHT",
        "outputId": "9642b22c-8c7f-44d1-c997-3780b641fb19"
      },
      "source": [
        "print (results)"
      ],
      "execution_count": null,
      "outputs": [
        {
          "output_type": "stream",
          "text": [
            "[0.6787476539611816, 0.7173807621002197]\n"
          ],
          "name": "stdout"
        }
      ]
    },
    {
      "cell_type": "code",
      "metadata": {
        "colab": {
          "base_uri": "https://localhost:8080/",
          "height": 369
        },
        "id": "Ec67BIEzTPT2",
        "outputId": "f314cc05-c2b5-4953-ca3e-be4c1714f004"
      },
      "source": [
        "from plot_keras_history import plot_history\n",
        "import matplotlib.pyplot as plt\n",
        "plot_history(history.history, path=\"standard.png\")\n",
        "plt.show()"
      ],
      "execution_count": null,
      "outputs": [
        {
          "output_type": "display_data",
          "data": {
            "image/png": "[encoded data removed]",
            "text/plain": [
              "<Figure size 720x360 with 2 Axes>"
            ]
          },
          "metadata": {
            "tags": [],
            "needs_background": "light"
          }
        }
      ]
    },
    {
      "cell_type": "markdown",
      "metadata": {
        "id": "K0npTvFuVt5R"
      },
      "source": [
        "## Model 3-2 CNN or LSTM model with multiple-input"
      ]
    },
    {
      "cell_type": "markdown",
      "metadata": {
        "id": "hCp9khOn0D2-"
      },
      "source": [
        "Modify the previous CNN or LSTM model to be compatible with multiple-input, similar to model 3-1. "
      ]
    },
    {
      "cell_type": "code",
      "metadata": {
        "id": "Js5yZqmYywev",
        "colab": {
          "base_uri": "https://localhost:8080/"
        },
        "outputId": "d076f992-20b3-43b9-add2-e8eb35b919a7"
      },
      "source": [
        "from keras.layers import Input, Embedding, Dense, LSTM, Lambda, concatenate\n",
        "from keras.models import Model\n",
        "input_layer_1 = Input(shape=(16,))\n",
        "input_layer_2 = Input(shape=(128,))\n",
        "#First Input\n",
        "embedding_layer_1 = embeddingLayer(input_layer_1)\n",
        "lstm_layer_1 = LSTM(100, return_sequences=False)(embedding_layer_1)\n",
        "output_dense_layer_1 = Dense(16)(lstm_layer_1)\n",
        "model_1 = Model(inputs= input_layer_1, outputs=output_dense_layer_1)\n",
        "#Second Input\n",
        "embedding_layer_2 = embeddingLayer(input_layer_2)\n",
        "lstm_layer_2 = LSTM(100, return_sequences=False)(embedding_layer_2)\n",
        "output_dense_layer_2 = Dense(16)(lstm_layer_2)\n",
        "model_2 = Model(inputs= input_layer_2, outputs=output_dense_layer_2)\n",
        "\n",
        "combined_layer = concatenate([model_1.output, model_2.output])\n",
        "\n",
        "output_dense_layer = Dense(1, activation='sigmoid')(combined_layer)\n",
        "\n",
        "final_model = Model(inputs=[model_1.input, model_2.input], outputs = output_dense_layer)\n",
        "final_model.compile('adam', 'binary_crossentropy', metrics=['accuracy'])\n",
        "final_model.summary()\n",
        "\n"
      ],
      "execution_count": null,
      "outputs": [
        {
          "output_type": "stream",
          "text": [
            "Model: \"model_11\"\n",
            "__________________________________________________________________________________________________\n",
            "Layer (type)                    Output Shape         Param #     Connected to                     \n",
            "==================================================================================================\n",
            "input_9 (InputLayer)            [(None, 16)]         0                                            \n",
            "__________________________________________________________________________________________________\n",
            "input_10 (InputLayer)           [(None, 128)]        0                                            \n",
            "__________________________________________________________________________________________________\n",
            "GloVe_Embeddings (Embedding)    multiple             120000300   input_9[0][0]                    \n",
            "                                                                 input_10[0][0]                   \n",
            "__________________________________________________________________________________________________\n",
            "lstm_2 (LSTM)                   (None, 100)          160400      GloVe_Embeddings[5][0]           \n",
            "__________________________________________________________________________________________________\n",
            "lstm_3 (LSTM)                   (None, 100)          160400      GloVe_Embeddings[6][0]           \n",
            "__________________________________________________________________________________________________\n",
            "dense_15 (Dense)                (None, 16)           1616        lstm_2[0][0]                     \n",
            "__________________________________________________________________________________________________\n",
            "dense_16 (Dense)                (None, 16)           1616        lstm_3[0][0]                     \n",
            "__________________________________________________________________________________________________\n",
            "concatenate_1 (Concatenate)     (None, 32)           0           dense_15[0][0]                   \n",
            "                                                                 dense_16[0][0]                   \n",
            "__________________________________________________________________________________________________\n",
            "dense_17 (Dense)                (None, 1)            33          concatenate_1[0][0]              \n",
            "==================================================================================================\n",
            "Total params: 120,324,365\n",
            "Trainable params: 324,065\n",
            "Non-trainable params: 120,000,300\n",
            "__________________________________________________________________________________________________\n"
          ],
          "name": "stdout"
        }
      ]
    },
    {
      "cell_type": "code",
      "metadata": {
        "colab": {
          "base_uri": "https://localhost:8080/",
          "height": 544
        },
        "id": "WqGzxPlrNUrg",
        "outputId": "7cada75e-b90a-4d80-ce72-8721c00d5c10"
      },
      "source": [
        "from IPython.display import SVG\n",
        "from keras.utils import vis_utils\n",
        "SVG(vis_utils.model_to_dot(final_model, show_shapes=True, show_layer_names=True, dpi=60).create(prog='dot', format='svg'))  "
      ],
      "execution_count": null,
      "outputs": [
        {
          "output_type": "execute_result",
          "data": {
            "text/plain": [
              "<IPython.core.display.SVG object>"
            ],
            "image/svg+xml": "<svg height=\"392pt\" viewBox=\"0.00 0.00 600.00 470.00\" width=\"500pt\" xmlns=\"http://www.w3.org/2000/svg\" xmlns:xlink=\"http://www.w3.org/1999/xlink\">\n<g class=\"graph\" id=\"graph0\" transform=\"scale(.8333 .8333) rotate(0) translate(4 466)\">\n<title>G</title>\n<polygon fill=\"#ffffff\" points=\"-4,4 -4,-466 596,-466 596,4 -4,4\" stroke=\"transparent\"/>\n<!-- 139848444241232 -->\n<g class=\"node\" id=\"node1\">\n<title>139848444241232</title>\n<polygon fill=\"none\" points=\"0,-415.5 0,-461.5 280,-461.5 280,-415.5 0,-415.5\" stroke=\"#000000\"/>\n<text fill=\"#000000\" font-family=\"Times,serif\" font-size=\"14.00\" text-anchor=\"middle\" x=\"66.5\" y=\"-434.8\">input_9: InputLayer</text>\n<polyline fill=\"none\" points=\"133,-415.5 133,-461.5 \" stroke=\"#000000\"/>\n<text fill=\"#000000\" font-family=\"Times,serif\" font-size=\"14.00\" text-anchor=\"middle\" x=\"162\" y=\"-446.3\">input:</text>\n<polyline fill=\"none\" points=\"133,-438.5 191,-438.5 \" stroke=\"#000000\"/>\n<text fill=\"#000000\" font-family=\"Times,serif\" font-size=\"14.00\" text-anchor=\"middle\" x=\"162\" y=\"-423.3\">output:</text>\n<polyline fill=\"none\" points=\"191,-415.5 191,-461.5 \" stroke=\"#000000\"/>\n<text fill=\"#000000\" font-family=\"Times,serif\" font-size=\"14.00\" text-anchor=\"middle\" x=\"235.5\" y=\"-446.3\">[(None, 16)]</text>\n<polyline fill=\"none\" points=\"191,-438.5 280,-438.5 \" stroke=\"#000000\"/>\n<text fill=\"#000000\" font-family=\"Times,serif\" font-size=\"14.00\" text-anchor=\"middle\" x=\"235.5\" y=\"-423.3\">[(None, 16)]</text>\n</g>\n<!-- 139848527214416 -->\n<g class=\"node\" id=\"node3\">\n<title>139848527214416</title>\n<polygon fill=\"none\" points=\"147,-332.5 147,-378.5 437,-378.5 437,-332.5 147,-332.5\" stroke=\"#000000\"/>\n<text fill=\"#000000\" font-family=\"Times,serif\" font-size=\"14.00\" text-anchor=\"middle\" x=\"251.5\" y=\"-351.8\">GloVe_Embeddings: Embedding</text>\n<polyline fill=\"none\" points=\"356,-332.5 356,-378.5 \" stroke=\"#000000\"/>\n<text fill=\"#000000\" font-family=\"Times,serif\" font-size=\"14.00\" text-anchor=\"middle\" x=\"385\" y=\"-363.3\">input:</text>\n<polyline fill=\"none\" points=\"356,-355.5 414,-355.5 \" stroke=\"#000000\"/>\n<text fill=\"#000000\" font-family=\"Times,serif\" font-size=\"14.00\" text-anchor=\"middle\" x=\"385\" y=\"-340.3\">output:</text>\n<polyline fill=\"none\" points=\"414,-332.5 414,-378.5 \" stroke=\"#000000\"/>\n<text fill=\"#000000\" font-family=\"Times,serif\" font-size=\"14.00\" text-anchor=\"middle\" x=\"425.5\" y=\"-363.3\">?</text>\n<polyline fill=\"none\" points=\"414,-355.5 437,-355.5 \" stroke=\"#000000\"/>\n<text fill=\"#000000\" font-family=\"Times,serif\" font-size=\"14.00\" text-anchor=\"middle\" x=\"425.5\" y=\"-340.3\">?</text>\n</g>\n<!-- 139848444241232&#45;&gt;139848527214416 -->\n<g class=\"edge\" id=\"edge1\">\n<title>139848444241232-&gt;139848527214416</title>\n<path d=\"M182.3405,-415.3799C200.4646,-405.4832 221.7892,-393.8388 240.7916,-383.4625\" fill=\"none\" stroke=\"#000000\"/>\n<polygon fill=\"#000000\" points=\"242.5239,-386.5044 249.6232,-378.6399 239.1691,-380.3607 242.5239,-386.5044\" stroke=\"#000000\"/>\n</g>\n<!-- 139848444242896 -->\n<g class=\"node\" id=\"node2\">\n<title>139848444242896</title>\n<polygon fill=\"none\" points=\"298,-415.5 298,-461.5 592,-461.5 592,-415.5 298,-415.5\" stroke=\"#000000\"/>\n<text fill=\"#000000\" font-family=\"Times,serif\" font-size=\"14.00\" text-anchor=\"middle\" x=\"368\" y=\"-434.8\">input_10: InputLayer</text>\n<polyline fill=\"none\" points=\"438,-415.5 438,-461.5 \" stroke=\"#000000\"/>\n<text fill=\"#000000\" font-family=\"Times,serif\" font-size=\"14.00\" text-anchor=\"middle\" x=\"467\" y=\"-446.3\">input:</text>\n<polyline fill=\"none\" points=\"438,-438.5 496,-438.5 \" stroke=\"#000000\"/>\n<text fill=\"#000000\" font-family=\"Times,serif\" font-size=\"14.00\" text-anchor=\"middle\" x=\"467\" y=\"-423.3\">output:</text>\n<polyline fill=\"none\" points=\"496,-415.5 496,-461.5 \" stroke=\"#000000\"/>\n<text fill=\"#000000\" font-family=\"Times,serif\" font-size=\"14.00\" text-anchor=\"middle\" x=\"544\" y=\"-446.3\">[(None, 128)]</text>\n<polyline fill=\"none\" points=\"496,-438.5 592,-438.5 \" stroke=\"#000000\"/>\n<text fill=\"#000000\" font-family=\"Times,serif\" font-size=\"14.00\" text-anchor=\"middle\" x=\"544\" y=\"-423.3\">[(None, 128)]</text>\n</g>\n<!-- 139848444242896&#45;&gt;139848527214416 -->\n<g class=\"edge\" id=\"edge2\">\n<title>139848444242896-&gt;139848527214416</title>\n<path d=\"M402.381,-415.3799C384.1376,-405.4832 362.6727,-393.8388 343.5453,-383.4625\" fill=\"none\" stroke=\"#000000\"/>\n<polygon fill=\"#000000\" points=\"345.1144,-380.3319 334.6556,-378.6399 341.7765,-386.4849 345.1144,-380.3319\" stroke=\"#000000\"/>\n</g>\n<!-- 139848574756752 -->\n<g class=\"node\" id=\"node4\">\n<title>139848574756752</title>\n<polygon fill=\"none\" points=\"11,-249.5 11,-295.5 281,-295.5 281,-249.5 11,-249.5\" stroke=\"#000000\"/>\n<text fill=\"#000000\" font-family=\"Times,serif\" font-size=\"14.00\" text-anchor=\"middle\" x=\"62\" y=\"-268.8\">lstm_2: LSTM</text>\n<polyline fill=\"none\" points=\"113,-249.5 113,-295.5 \" stroke=\"#000000\"/>\n<text fill=\"#000000\" font-family=\"Times,serif\" font-size=\"14.00\" text-anchor=\"middle\" x=\"142\" y=\"-280.3\">input:</text>\n<polyline fill=\"none\" points=\"113,-272.5 171,-272.5 \" stroke=\"#000000\"/>\n<text fill=\"#000000\" font-family=\"Times,serif\" font-size=\"14.00\" text-anchor=\"middle\" x=\"142\" y=\"-257.3\">output:</text>\n<polyline fill=\"none\" points=\"171,-249.5 171,-295.5 \" stroke=\"#000000\"/>\n<text fill=\"#000000\" font-family=\"Times,serif\" font-size=\"14.00\" text-anchor=\"middle\" x=\"226\" y=\"-280.3\">(None, 16, 300)</text>\n<polyline fill=\"none\" points=\"171,-272.5 281,-272.5 \" stroke=\"#000000\"/>\n<text fill=\"#000000\" font-family=\"Times,serif\" font-size=\"14.00\" text-anchor=\"middle\" x=\"226\" y=\"-257.3\">(None, 100)</text>\n</g>\n<!-- 139848527214416&#45;&gt;139848574756752 -->\n<g class=\"edge\" id=\"edge3\">\n<title>139848527214416-&gt;139848574756752</title>\n<path d=\"M251.3309,-332.3799C234.0009,-322.5279 213.6247,-310.9442 195.4349,-300.6034\" fill=\"none\" stroke=\"#000000\"/>\n<polygon fill=\"#000000\" points=\"197.1272,-297.5394 186.704,-295.6399 193.6677,-303.6248 197.1272,-297.5394\" stroke=\"#000000\"/>\n</g>\n<!-- 139848443648656 -->\n<g class=\"node\" id=\"node5\">\n<title>139848443648656</title>\n<polygon fill=\"none\" points=\"299.5,-249.5 299.5,-295.5 576.5,-295.5 576.5,-249.5 299.5,-249.5\" stroke=\"#000000\"/>\n<text fill=\"#000000\" font-family=\"Times,serif\" font-size=\"14.00\" text-anchor=\"middle\" x=\"350.5\" y=\"-268.8\">lstm_3: LSTM</text>\n<polyline fill=\"none\" points=\"401.5,-249.5 401.5,-295.5 \" stroke=\"#000000\"/>\n<text fill=\"#000000\" font-family=\"Times,serif\" font-size=\"14.00\" text-anchor=\"middle\" x=\"430.5\" y=\"-280.3\">input:</text>\n<polyline fill=\"none\" points=\"401.5,-272.5 459.5,-272.5 \" stroke=\"#000000\"/>\n<text fill=\"#000000\" font-family=\"Times,serif\" font-size=\"14.00\" text-anchor=\"middle\" x=\"430.5\" y=\"-257.3\">output:</text>\n<polyline fill=\"none\" points=\"459.5,-249.5 459.5,-295.5 \" stroke=\"#000000\"/>\n<text fill=\"#000000\" font-family=\"Times,serif\" font-size=\"14.00\" text-anchor=\"middle\" x=\"518\" y=\"-280.3\">(None, 128, 300)</text>\n<polyline fill=\"none\" points=\"459.5,-272.5 576.5,-272.5 \" stroke=\"#000000\"/>\n<text fill=\"#000000\" font-family=\"Times,serif\" font-size=\"14.00\" text-anchor=\"middle\" x=\"518\" y=\"-257.3\">(None, 100)</text>\n</g>\n<!-- 139848527214416&#45;&gt;139848443648656 -->\n<g class=\"edge\" id=\"edge4\">\n<title>139848527214416-&gt;139848443648656</title>\n<path d=\"M332.6691,-332.3799C349.9991,-322.5279 370.3753,-310.9442 388.5651,-300.6034\" fill=\"none\" stroke=\"#000000\"/>\n<polygon fill=\"#000000\" points=\"390.3323,-303.6248 397.296,-295.6399 386.8728,-297.5394 390.3323,-303.6248\" stroke=\"#000000\"/>\n</g>\n<!-- 139848527187408 -->\n<g class=\"node\" id=\"node6\">\n<title>139848527187408</title>\n<polygon fill=\"none\" points=\"23.5,-166.5 23.5,-212.5 282.5,-212.5 282.5,-166.5 23.5,-166.5\" stroke=\"#000000\"/>\n<text fill=\"#000000\" font-family=\"Times,serif\" font-size=\"14.00\" text-anchor=\"middle\" x=\"80.5\" y=\"-185.8\">dense_15: Dense</text>\n<polyline fill=\"none\" points=\"137.5,-166.5 137.5,-212.5 \" stroke=\"#000000\"/>\n<text fill=\"#000000\" font-family=\"Times,serif\" font-size=\"14.00\" text-anchor=\"middle\" x=\"166.5\" y=\"-197.3\">input:</text>\n<polyline fill=\"none\" points=\"137.5,-189.5 195.5,-189.5 \" stroke=\"#000000\"/>\n<text fill=\"#000000\" font-family=\"Times,serif\" font-size=\"14.00\" text-anchor=\"middle\" x=\"166.5\" y=\"-174.3\">output:</text>\n<polyline fill=\"none\" points=\"195.5,-166.5 195.5,-212.5 \" stroke=\"#000000\"/>\n<text fill=\"#000000\" font-family=\"Times,serif\" font-size=\"14.00\" text-anchor=\"middle\" x=\"239\" y=\"-197.3\">(None, 100)</text>\n<polyline fill=\"none\" points=\"195.5,-189.5 282.5,-189.5 \" stroke=\"#000000\"/>\n<text fill=\"#000000\" font-family=\"Times,serif\" font-size=\"14.00\" text-anchor=\"middle\" x=\"239\" y=\"-174.3\">(None, 16)</text>\n</g>\n<!-- 139848574756752&#45;&gt;139848527187408 -->\n<g class=\"edge\" id=\"edge5\">\n<title>139848574756752-&gt;139848527187408</title>\n<path d=\"M147.9499,-249.3799C148.6419,-241.1745 149.4352,-231.7679 150.1849,-222.8786\" fill=\"none\" stroke=\"#000000\"/>\n<polygon fill=\"#000000\" points=\"153.6834,-223.0428 151.0363,-212.784 146.7082,-222.4545 153.6834,-223.0428\" stroke=\"#000000\"/>\n</g>\n<!-- 139848444096080 -->\n<g class=\"node\" id=\"node7\">\n<title>139848444096080</title>\n<polygon fill=\"none\" points=\"304.5,-166.5 304.5,-212.5 563.5,-212.5 563.5,-166.5 304.5,-166.5\" stroke=\"#000000\"/>\n<text fill=\"#000000\" font-family=\"Times,serif\" font-size=\"14.00\" text-anchor=\"middle\" x=\"361.5\" y=\"-185.8\">dense_16: Dense</text>\n<polyline fill=\"none\" points=\"418.5,-166.5 418.5,-212.5 \" stroke=\"#000000\"/>\n<text fill=\"#000000\" font-family=\"Times,serif\" font-size=\"14.00\" text-anchor=\"middle\" x=\"447.5\" y=\"-197.3\">input:</text>\n<polyline fill=\"none\" points=\"418.5,-189.5 476.5,-189.5 \" stroke=\"#000000\"/>\n<text fill=\"#000000\" font-family=\"Times,serif\" font-size=\"14.00\" text-anchor=\"middle\" x=\"447.5\" y=\"-174.3\">output:</text>\n<polyline fill=\"none\" points=\"476.5,-166.5 476.5,-212.5 \" stroke=\"#000000\"/>\n<text fill=\"#000000\" font-family=\"Times,serif\" font-size=\"14.00\" text-anchor=\"middle\" x=\"520\" y=\"-197.3\">(None, 100)</text>\n<polyline fill=\"none\" points=\"476.5,-189.5 563.5,-189.5 \" stroke=\"#000000\"/>\n<text fill=\"#000000\" font-family=\"Times,serif\" font-size=\"14.00\" text-anchor=\"middle\" x=\"520\" y=\"-174.3\">(None, 16)</text>\n</g>\n<!-- 139848443648656&#45;&gt;139848444096080 -->\n<g class=\"edge\" id=\"edge6\">\n<title>139848443648656-&gt;139848444096080</title>\n<path d=\"M436.8858,-249.3799C436.4903,-241.1745 436.037,-231.7679 435.6086,-222.8786\" fill=\"none\" stroke=\"#000000\"/>\n<polygon fill=\"#000000\" points=\"439.0995,-222.6039 435.1221,-212.784 432.1076,-222.9409 439.0995,-222.6039\" stroke=\"#000000\"/>\n</g>\n<!-- 139848527445520 -->\n<g class=\"node\" id=\"node8\">\n<title>139848527445520</title>\n<polygon fill=\"none\" points=\"95,-83.5 95,-129.5 487,-129.5 487,-83.5 95,-83.5\" stroke=\"#000000\"/>\n<text fill=\"#000000\" font-family=\"Times,serif\" font-size=\"14.00\" text-anchor=\"middle\" x=\"182.5\" y=\"-102.8\">concatenate_1: Concatenate</text>\n<polyline fill=\"none\" points=\"270,-83.5 270,-129.5 \" stroke=\"#000000\"/>\n<text fill=\"#000000\" font-family=\"Times,serif\" font-size=\"14.00\" text-anchor=\"middle\" x=\"299\" y=\"-114.3\">input:</text>\n<polyline fill=\"none\" points=\"270,-106.5 328,-106.5 \" stroke=\"#000000\"/>\n<text fill=\"#000000\" font-family=\"Times,serif\" font-size=\"14.00\" text-anchor=\"middle\" x=\"299\" y=\"-91.3\">output:</text>\n<polyline fill=\"none\" points=\"328,-83.5 328,-129.5 \" stroke=\"#000000\"/>\n<text fill=\"#000000\" font-family=\"Times,serif\" font-size=\"14.00\" text-anchor=\"middle\" x=\"407.5\" y=\"-114.3\">[(None, 16), (None, 16)]</text>\n<polyline fill=\"none\" points=\"328,-106.5 487,-106.5 \" stroke=\"#000000\"/>\n<text fill=\"#000000\" font-family=\"Times,serif\" font-size=\"14.00\" text-anchor=\"middle\" x=\"407.5\" y=\"-91.3\">(None, 32)</text>\n</g>\n<!-- 139848527187408&#45;&gt;139848527445520 -->\n<g class=\"edge\" id=\"edge7\">\n<title>139848527187408-&gt;139848527445520</title>\n<path d=\"M191.4407,-166.3799C207.6042,-156.6583 226.5714,-145.2505 243.59,-135.0147\" fill=\"none\" stroke=\"#000000\"/>\n<polygon fill=\"#000000\" points=\"245.5213,-137.9375 252.2868,-129.784 241.9134,-131.9388 245.5213,-137.9375\" stroke=\"#000000\"/>\n</g>\n<!-- 139848444096080&#45;&gt;139848527445520 -->\n<g class=\"edge\" id=\"edge8\">\n<title>139848444096080-&gt;139848527445520</title>\n<path d=\"M394.1665,-166.3799C377.4174,-156.6583 357.7629,-145.2505 340.1277,-135.0147\" fill=\"none\" stroke=\"#000000\"/>\n<polygon fill=\"#000000\" points=\"341.5215,-131.7769 331.1158,-129.784 338.0076,-137.831 341.5215,-131.7769\" stroke=\"#000000\"/>\n</g>\n<!-- 139848510929104 -->\n<g class=\"node\" id=\"node9\">\n<title>139848510929104</title>\n<polygon fill=\"none\" points=\"165,-.5 165,-46.5 417,-46.5 417,-.5 165,-.5\" stroke=\"#000000\"/>\n<text fill=\"#000000\" font-family=\"Times,serif\" font-size=\"14.00\" text-anchor=\"middle\" x=\"222\" y=\"-19.8\">dense_17: Dense</text>\n<polyline fill=\"none\" points=\"279,-.5 279,-46.5 \" stroke=\"#000000\"/>\n<text fill=\"#000000\" font-family=\"Times,serif\" font-size=\"14.00\" text-anchor=\"middle\" x=\"308\" y=\"-31.3\">input:</text>\n<polyline fill=\"none\" points=\"279,-23.5 337,-23.5 \" stroke=\"#000000\"/>\n<text fill=\"#000000\" font-family=\"Times,serif\" font-size=\"14.00\" text-anchor=\"middle\" x=\"308\" y=\"-8.3\">output:</text>\n<polyline fill=\"none\" points=\"337,-.5 337,-46.5 \" stroke=\"#000000\"/>\n<text fill=\"#000000\" font-family=\"Times,serif\" font-size=\"14.00\" text-anchor=\"middle\" x=\"377\" y=\"-31.3\">(None, 32)</text>\n<polyline fill=\"none\" points=\"337,-23.5 417,-23.5 \" stroke=\"#000000\"/>\n<text fill=\"#000000\" font-family=\"Times,serif\" font-size=\"14.00\" text-anchor=\"middle\" x=\"377\" y=\"-8.3\">(None, 1)</text>\n</g>\n<!-- 139848527445520&#45;&gt;139848510929104 -->\n<g class=\"edge\" id=\"edge9\">\n<title>139848527445520-&gt;139848510929104</title>\n<path d=\"M291,-83.3799C291,-75.1745 291,-65.7679 291,-56.8786\" fill=\"none\" stroke=\"#000000\"/>\n<polygon fill=\"#000000\" points=\"294.5001,-56.784 291,-46.784 287.5001,-56.784 294.5001,-56.784\" stroke=\"#000000\"/>\n</g>\n</g>\n</svg>"
          },
          "metadata": {
            "tags": []
          },
          "execution_count": 55
        }
      ]
    },
    {
      "cell_type": "markdown",
      "metadata": {
        "id": "0gG8CoRILTH7"
      },
      "source": [
        "**<i> <font color ='darkblue'> In this section, we try the multiple input model architecture with LSTM layers instead pooling layers and check the model accuracy.\n",
        " </font></i>**"
      ]
    },
    {
      "cell_type": "code",
      "metadata": {
        "colab": {
          "base_uri": "https://localhost:8080/"
        },
        "id": "uaOxLFvP9Yqt",
        "outputId": "d0beeb99-c5b9-4a96-fde4-f7b21ded9f61"
      },
      "source": [
        "# Train and test the model\n",
        "history = final_model.fit(x = [x_train_topic_pad_glove, x_train_tweet_pad_glove],\n",
        "                    y = y_train,\n",
        "                    epochs=50,\n",
        "                    batch_size=512,\n",
        "                    validation_data=([x_dev_topic_pad_glove, x_dev_tweet_pad_glove], y_dev),\n",
        "                    verbose=1)"
      ],
      "execution_count": null,
      "outputs": [
        {
          "output_type": "stream",
          "text": [
            "Epoch 1/50\n",
            "35/35 [==============================] - 33s 861ms/step - loss: 0.5741 - accuracy: 0.7510 - val_loss: 0.5174 - val_accuracy: 0.7358\n",
            "Epoch 2/50\n",
            "35/35 [==============================] - 30s 858ms/step - loss: 0.3711 - accuracy: 0.8441 - val_loss: 0.5268 - val_accuracy: 0.7592\n",
            "Epoch 3/50\n",
            "35/35 [==============================] - 30s 852ms/step - loss: 0.3608 - accuracy: 0.8495 - val_loss: 0.5270 - val_accuracy: 0.7457\n",
            "Epoch 4/50\n",
            "35/35 [==============================] - 30s 847ms/step - loss: 0.3644 - accuracy: 0.8475 - val_loss: 0.5528 - val_accuracy: 0.7457\n",
            "Epoch 5/50\n",
            "35/35 [==============================] - 29s 835ms/step - loss: 0.3620 - accuracy: 0.8470 - val_loss: 0.5266 - val_accuracy: 0.7457\n",
            "Epoch 6/50\n",
            "35/35 [==============================] - 30s 843ms/step - loss: 0.3595 - accuracy: 0.8509 - val_loss: 0.5467 - val_accuracy: 0.7592\n",
            "Epoch 7/50\n",
            "35/35 [==============================] - 29s 838ms/step - loss: 0.3594 - accuracy: 0.8479 - val_loss: 0.5203 - val_accuracy: 0.7592\n",
            "Epoch 8/50\n",
            "35/35 [==============================] - 30s 851ms/step - loss: 0.3550 - accuracy: 0.8537 - val_loss: 0.5311 - val_accuracy: 0.7457\n",
            "Epoch 9/50\n",
            "35/35 [==============================] - 30s 861ms/step - loss: 0.3465 - accuracy: 0.8569 - val_loss: 0.5461 - val_accuracy: 0.7457\n",
            "Epoch 10/50\n",
            "35/35 [==============================] - 30s 850ms/step - loss: 0.3544 - accuracy: 0.8509 - val_loss: 0.5257 - val_accuracy: 0.7457\n",
            "Epoch 11/50\n",
            "35/35 [==============================] - 29s 836ms/step - loss: 0.3503 - accuracy: 0.8530 - val_loss: 0.5281 - val_accuracy: 0.7457\n",
            "Epoch 12/50\n",
            "35/35 [==============================] - 30s 844ms/step - loss: 0.3529 - accuracy: 0.8513 - val_loss: 0.5229 - val_accuracy: 0.7457\n",
            "Epoch 13/50\n",
            "35/35 [==============================] - 30s 850ms/step - loss: 0.3559 - accuracy: 0.8496 - val_loss: 0.5216 - val_accuracy: 0.7592\n",
            "Epoch 14/50\n",
            "35/35 [==============================] - 30s 862ms/step - loss: 0.3539 - accuracy: 0.8507 - val_loss: 0.5322 - val_accuracy: 0.7592\n",
            "Epoch 15/50\n",
            "35/35 [==============================] - 30s 844ms/step - loss: 0.3500 - accuracy: 0.8535 - val_loss: 0.5214 - val_accuracy: 0.7457\n",
            "Epoch 16/50\n",
            "35/35 [==============================] - 30s 866ms/step - loss: 0.3511 - accuracy: 0.8532 - val_loss: 0.5167 - val_accuracy: 0.7457\n",
            "Epoch 17/50\n",
            "35/35 [==============================] - 30s 844ms/step - loss: 0.3560 - accuracy: 0.8507 - val_loss: 0.5115 - val_accuracy: 0.7457\n",
            "Epoch 18/50\n",
            "35/35 [==============================] - 30s 846ms/step - loss: 0.3591 - accuracy: 0.8488 - val_loss: 0.5288 - val_accuracy: 0.7457\n",
            "Epoch 19/50\n",
            "35/35 [==============================] - 29s 839ms/step - loss: 0.3466 - accuracy: 0.8521 - val_loss: 0.5186 - val_accuracy: 0.7457\n",
            "Epoch 20/50\n",
            "35/35 [==============================] - 30s 861ms/step - loss: 0.3512 - accuracy: 0.8509 - val_loss: 0.5173 - val_accuracy: 0.7592\n",
            "Epoch 21/50\n",
            "35/35 [==============================] - 29s 835ms/step - loss: 0.3468 - accuracy: 0.8530 - val_loss: 0.5166 - val_accuracy: 0.7457\n",
            "Epoch 22/50\n",
            "35/35 [==============================] - 30s 848ms/step - loss: 0.3510 - accuracy: 0.8533 - val_loss: 0.5165 - val_accuracy: 0.7457\n",
            "Epoch 23/50\n",
            "35/35 [==============================] - 30s 850ms/step - loss: 0.3610 - accuracy: 0.8464 - val_loss: 0.5144 - val_accuracy: 0.7457\n",
            "Epoch 24/50\n",
            "35/35 [==============================] - 30s 852ms/step - loss: 0.3553 - accuracy: 0.8495 - val_loss: 0.5255 - val_accuracy: 0.7457\n",
            "Epoch 25/50\n",
            "35/35 [==============================] - 30s 846ms/step - loss: 0.3521 - accuracy: 0.8526 - val_loss: 0.5222 - val_accuracy: 0.7457\n",
            "Epoch 26/50\n",
            "35/35 [==============================] - 29s 829ms/step - loss: 0.3462 - accuracy: 0.8541 - val_loss: 0.5177 - val_accuracy: 0.7457\n",
            "Epoch 27/50\n",
            "35/35 [==============================] - 30s 873ms/step - loss: 0.3492 - accuracy: 0.8490 - val_loss: 0.5099 - val_accuracy: 0.7457\n",
            "Epoch 28/50\n",
            "35/35 [==============================] - 30s 849ms/step - loss: 0.3534 - accuracy: 0.8518 - val_loss: 0.5180 - val_accuracy: 0.7457\n",
            "Epoch 29/50\n",
            "35/35 [==============================] - 29s 838ms/step - loss: 0.3498 - accuracy: 0.8530 - val_loss: 0.5140 - val_accuracy: 0.7457\n",
            "Epoch 30/50\n",
            "35/35 [==============================] - 31s 878ms/step - loss: 0.3571 - accuracy: 0.8498 - val_loss: 0.5213 - val_accuracy: 0.7457\n",
            "Epoch 31/50\n",
            "35/35 [==============================] - 30s 860ms/step - loss: 0.3488 - accuracy: 0.8512 - val_loss: 0.5212 - val_accuracy: 0.7457\n",
            "Epoch 32/50\n",
            "35/35 [==============================] - 30s 857ms/step - loss: 0.3552 - accuracy: 0.8474 - val_loss: 0.5165 - val_accuracy: 0.7457\n",
            "Epoch 33/50\n",
            "35/35 [==============================] - 29s 843ms/step - loss: 0.3483 - accuracy: 0.8536 - val_loss: 0.5126 - val_accuracy: 0.7457\n",
            "Epoch 34/50\n",
            "35/35 [==============================] - 29s 841ms/step - loss: 0.3522 - accuracy: 0.8522 - val_loss: 0.5261 - val_accuracy: 0.7457\n",
            "Epoch 35/50\n",
            "35/35 [==============================] - 29s 827ms/step - loss: 0.3475 - accuracy: 0.8519 - val_loss: 0.5161 - val_accuracy: 0.7457\n",
            "Epoch 36/50\n",
            "35/35 [==============================] - 30s 844ms/step - loss: 0.3513 - accuracy: 0.8527 - val_loss: 0.5314 - val_accuracy: 0.7457\n",
            "Epoch 37/50\n",
            "35/35 [==============================] - 29s 842ms/step - loss: 0.3412 - accuracy: 0.8568 - val_loss: 0.5169 - val_accuracy: 0.7457\n",
            "Epoch 38/50\n",
            "35/35 [==============================] - 29s 833ms/step - loss: 0.3590 - accuracy: 0.8486 - val_loss: 0.5135 - val_accuracy: 0.7457\n",
            "Epoch 39/50\n",
            "35/35 [==============================] - 30s 844ms/step - loss: 0.3465 - accuracy: 0.8531 - val_loss: 0.5116 - val_accuracy: 0.7457\n",
            "Epoch 40/50\n",
            "35/35 [==============================] - 30s 859ms/step - loss: 0.3470 - accuracy: 0.8545 - val_loss: 0.5251 - val_accuracy: 0.7457\n",
            "Epoch 41/50\n",
            "35/35 [==============================] - 30s 861ms/step - loss: 0.3467 - accuracy: 0.8540 - val_loss: 0.5200 - val_accuracy: 0.7457\n",
            "Epoch 42/50\n",
            "35/35 [==============================] - 30s 843ms/step - loss: 0.3465 - accuracy: 0.8514 - val_loss: 0.5133 - val_accuracy: 0.7457\n",
            "Epoch 43/50\n",
            "35/35 [==============================] - 29s 843ms/step - loss: 0.3463 - accuracy: 0.8547 - val_loss: 0.5235 - val_accuracy: 0.7457\n",
            "Epoch 44/50\n",
            "35/35 [==============================] - 29s 836ms/step - loss: 0.3428 - accuracy: 0.8568 - val_loss: 0.5176 - val_accuracy: 0.7457\n",
            "Epoch 45/50\n",
            "35/35 [==============================] - 29s 833ms/step - loss: 0.3535 - accuracy: 0.8510 - val_loss: 0.5235 - val_accuracy: 0.7457\n",
            "Epoch 46/50\n",
            "35/35 [==============================] - 29s 839ms/step - loss: 0.3527 - accuracy: 0.8529 - val_loss: 0.5230 - val_accuracy: 0.7457\n",
            "Epoch 47/50\n",
            "35/35 [==============================] - 30s 860ms/step - loss: 0.3515 - accuracy: 0.8488 - val_loss: 0.5238 - val_accuracy: 0.7457\n",
            "Epoch 48/50\n",
            "35/35 [==============================] - 29s 841ms/step - loss: 0.3604 - accuracy: 0.8459 - val_loss: 0.5264 - val_accuracy: 0.7457\n",
            "Epoch 49/50\n",
            "35/35 [==============================] - 29s 831ms/step - loss: 0.3530 - accuracy: 0.8535 - val_loss: 0.5180 - val_accuracy: 0.7457\n",
            "Epoch 50/50\n",
            "35/35 [==============================] - 29s 831ms/step - loss: 0.3495 - accuracy: 0.8529 - val_loss: 0.5101 - val_accuracy: 0.7457\n"
          ],
          "name": "stdout"
        }
      ]
    },
    {
      "cell_type": "code",
      "metadata": {
        "colab": {
          "base_uri": "https://localhost:8080/"
        },
        "id": "RJuLOloT9Yu8",
        "outputId": "58c4691f-5d84-46af-bb83-d1a7f01d9d96"
      },
      "source": [
        "results = final_model.evaluate([x_test_topic_pad_glove, x_test_tweet_pad_glove], y_test)"
      ],
      "execution_count": null,
      "outputs": [
        {
          "output_type": "stream",
          "text": [
            "194/194 [==============================] - 7s 38ms/step - loss: 0.8040 - accuracy: 0.6003\n"
          ],
          "name": "stdout"
        }
      ]
    },
    {
      "cell_type": "code",
      "metadata": {
        "colab": {
          "base_uri": "https://localhost:8080/"
        },
        "id": "-Ytxq4bz9eNS",
        "outputId": "ae9a2a8e-a9de-4974-db99-12613f2cc133"
      },
      "source": [
        "print (results)"
      ],
      "execution_count": null,
      "outputs": [
        {
          "output_type": "stream",
          "text": [
            "[0.8039522767066956, 0.6003233790397644]\n"
          ],
          "name": "stdout"
        }
      ]
    },
    {
      "cell_type": "code",
      "metadata": {
        "colab": {
          "base_uri": "https://localhost:8080/",
          "height": 369
        },
        "id": "VvfPriNXTQry",
        "outputId": "946b8453-aaf5-4a90-92f7-be073769c078"
      },
      "source": [
        "from plot_keras_history import plot_history\n",
        "import matplotlib.pyplot as plt\n",
        "plot_history(history.history, path=\"standard.png\")\n",
        "plt.show()"
      ],
      "execution_count": null,
      "outputs": [
        {
          "output_type": "display_data",
          "data": {
            "image/png": "[encoded data removed]",
            "text/plain": [
              "<Figure size 720x360 with 2 Axes>"
            ]
          },
          "metadata": {
            "tags": [],
            "needs_background": "light"
          }
        }
      ]
    },
    {
      "cell_type": "markdown",
      "metadata": {
        "id": "JwFTioVXLh5o"
      },
      "source": [
        "**<i> <font color ='darkblue'> We check if the multiple input model architecture with convolution layer performs better than this LSTM model.\n",
        " </font></i>**"
      ]
    },
    {
      "cell_type": "code",
      "metadata": {
        "colab": {
          "base_uri": "https://localhost:8080/"
        },
        "id": "jIDf3lKf92pI",
        "outputId": "0357332a-8aa0-4d20-a9f8-b4ff5fdb5c16"
      },
      "source": [
        "from keras.layers import Input, Embedding, Dense, LSTM, Lambda, concatenate\n",
        "from keras.models import Model\n",
        "input_layer_1 = Input(shape=(16,))\n",
        "input_layer_2 = Input(shape=(128,))\n",
        "#First Input\n",
        "embedding_layer_1 = embeddingLayer(input_layer_1)\n",
        "cnn_layer_1 = keras.layers.Conv1D(100, 6)(embedding_layer_1)\n",
        "pooling_layer_1 = GlobalMaxPooling1D()(cnn_layer_1)\n",
        "output_dense_layer_1 = Dense(16)(pooling_layer_1)\n",
        "model_1 = Model(inputs= input_layer_1, outputs=output_dense_layer_1)\n",
        "#Second Input\n",
        "embedding_layer_2 = embeddingLayer(input_layer_2)\n",
        "cnn_layer_2 = keras.layers.Conv1D(100, 6)(embedding_layer_2)\n",
        "pooling_layer_1 = GlobalMaxPooling1D()(cnn_layer_2)\n",
        "output_dense_layer_2 = Dense(16)(pooling_layer_1)\n",
        "model_2 = Model(inputs= input_layer_2, outputs=output_dense_layer_2)\n",
        "\n",
        "combined_layer = concatenate([model_1.output, model_2.output])\n",
        "\n",
        "output_dense_layer = Dense(1, activation='sigmoid')(combined_layer)\n",
        "\n",
        "final_model = Model(inputs=[model_1.input, model_2.input], outputs = output_dense_layer)\n",
        "final_model.compile('adam', 'binary_crossentropy', metrics=['accuracy'])\n",
        "final_model.summary()\n"
      ],
      "execution_count": null,
      "outputs": [
        {
          "output_type": "stream",
          "text": [
            "Model: \"model_14\"\n",
            "__________________________________________________________________________________________________\n",
            "Layer (type)                    Output Shape         Param #     Connected to                     \n",
            "==================================================================================================\n",
            "input_11 (InputLayer)           [(None, 16)]         0                                            \n",
            "__________________________________________________________________________________________________\n",
            "input_12 (InputLayer)           [(None, 128)]        0                                            \n",
            "__________________________________________________________________________________________________\n",
            "GloVe_Embeddings (Embedding)    multiple             120000300   input_11[0][0]                   \n",
            "                                                                 input_12[0][0]                   \n",
            "__________________________________________________________________________________________________\n",
            "conv1d_2 (Conv1D)               (None, 11, 100)      180100      GloVe_Embeddings[7][0]           \n",
            "__________________________________________________________________________________________________\n",
            "conv1d_3 (Conv1D)               (None, 123, 100)     180100      GloVe_Embeddings[8][0]           \n",
            "__________________________________________________________________________________________________\n",
            "global_max_pooling1d (GlobalMax (None, 100)          0           conv1d_2[0][0]                   \n",
            "__________________________________________________________________________________________________\n",
            "global_max_pooling1d_1 (GlobalM (None, 100)          0           conv1d_3[0][0]                   \n",
            "__________________________________________________________________________________________________\n",
            "dense_18 (Dense)                (None, 16)           1616        global_max_pooling1d[0][0]       \n",
            "__________________________________________________________________________________________________\n",
            "dense_19 (Dense)                (None, 16)           1616        global_max_pooling1d_1[0][0]     \n",
            "__________________________________________________________________________________________________\n",
            "concatenate_2 (Concatenate)     (None, 32)           0           dense_18[0][0]                   \n",
            "                                                                 dense_19[0][0]                   \n",
            "__________________________________________________________________________________________________\n",
            "dense_20 (Dense)                (None, 1)            33          concatenate_2[0][0]              \n",
            "==================================================================================================\n",
            "Total params: 120,363,765\n",
            "Trainable params: 363,465\n",
            "Non-trainable params: 120,000,300\n",
            "__________________________________________________________________________________________________\n"
          ],
          "name": "stdout"
        }
      ]
    },
    {
      "cell_type": "code",
      "metadata": {
        "colab": {
          "base_uri": "https://localhost:8080/",
          "height": 636
        },
        "id": "PdMWZ6UONW7s",
        "outputId": "e9012357-1eb7-4097-9196-d382c57874cc"
      },
      "source": [
        "from IPython.display import SVG\n",
        "from keras.utils import vis_utils\n",
        "SVG(vis_utils.model_to_dot(final_model, show_shapes=True, show_layer_names=True, dpi=60).create(prog='dot', format='svg'))  "
      ],
      "execution_count": null,
      "outputs": [
        {
          "output_type": "execute_result",
          "data": {
            "text/plain": [
              "<IPython.core.display.SVG object>"
            ],
            "image/svg+xml": "<svg height=\"461pt\" viewBox=\"0.00 0.00 961.50 553.00\" width=\"801pt\" xmlns=\"http://www.w3.org/2000/svg\" xmlns:xlink=\"http://www.w3.org/1999/xlink\">\n<g class=\"graph\" id=\"graph0\" transform=\"scale(.8333 .8333) rotate(0) translate(4 549)\">\n<title>G</title>\n<polygon fill=\"#ffffff\" points=\"-4,4 -4,-549 957.5,-549 957.5,4 -4,4\" stroke=\"transparent\"/>\n<!-- 139848414052304 -->\n<g class=\"node\" id=\"node1\">\n<title>139848414052304</title>\n<polygon fill=\"none\" points=\"172.5,-498.5 172.5,-544.5 459.5,-544.5 459.5,-498.5 172.5,-498.5\" stroke=\"#000000\"/>\n<text fill=\"#000000\" font-family=\"Times,serif\" font-size=\"14.00\" text-anchor=\"middle\" x=\"242.5\" y=\"-517.8\">input_11: InputLayer</text>\n<polyline fill=\"none\" points=\"312.5,-498.5 312.5,-544.5 \" stroke=\"#000000\"/>\n<text fill=\"#000000\" font-family=\"Times,serif\" font-size=\"14.00\" text-anchor=\"middle\" x=\"341.5\" y=\"-529.3\">input:</text>\n<polyline fill=\"none\" points=\"312.5,-521.5 370.5,-521.5 \" stroke=\"#000000\"/>\n<text fill=\"#000000\" font-family=\"Times,serif\" font-size=\"14.00\" text-anchor=\"middle\" x=\"341.5\" y=\"-506.3\">output:</text>\n<polyline fill=\"none\" points=\"370.5,-498.5 370.5,-544.5 \" stroke=\"#000000\"/>\n<text fill=\"#000000\" font-family=\"Times,serif\" font-size=\"14.00\" text-anchor=\"middle\" x=\"415\" y=\"-529.3\">[(None, 16)]</text>\n<polyline fill=\"none\" points=\"370.5,-521.5 459.5,-521.5 \" stroke=\"#000000\"/>\n<text fill=\"#000000\" font-family=\"Times,serif\" font-size=\"14.00\" text-anchor=\"middle\" x=\"415\" y=\"-506.3\">[(None, 16)]</text>\n</g>\n<!-- 139848527214416 -->\n<g class=\"node\" id=\"node3\">\n<title>139848527214416</title>\n<polygon fill=\"none\" points=\"325,-415.5 325,-461.5 615,-461.5 615,-415.5 325,-415.5\" stroke=\"#000000\"/>\n<text fill=\"#000000\" font-family=\"Times,serif\" font-size=\"14.00\" text-anchor=\"middle\" x=\"429.5\" y=\"-434.8\">GloVe_Embeddings: Embedding</text>\n<polyline fill=\"none\" points=\"534,-415.5 534,-461.5 \" stroke=\"#000000\"/>\n<text fill=\"#000000\" font-family=\"Times,serif\" font-size=\"14.00\" text-anchor=\"middle\" x=\"563\" y=\"-446.3\">input:</text>\n<polyline fill=\"none\" points=\"534,-438.5 592,-438.5 \" stroke=\"#000000\"/>\n<text fill=\"#000000\" font-family=\"Times,serif\" font-size=\"14.00\" text-anchor=\"middle\" x=\"563\" y=\"-423.3\">output:</text>\n<polyline fill=\"none\" points=\"592,-415.5 592,-461.5 \" stroke=\"#000000\"/>\n<text fill=\"#000000\" font-family=\"Times,serif\" font-size=\"14.00\" text-anchor=\"middle\" x=\"603.5\" y=\"-446.3\">?</text>\n<polyline fill=\"none\" points=\"592,-438.5 615,-438.5 \" stroke=\"#000000\"/>\n<text fill=\"#000000\" font-family=\"Times,serif\" font-size=\"14.00\" text-anchor=\"middle\" x=\"603.5\" y=\"-423.3\">?</text>\n</g>\n<!-- 139848414052304&#45;&gt;139848527214416 -->\n<g class=\"edge\" id=\"edge1\">\n<title>139848414052304-&gt;139848527214416</title>\n<path d=\"M358.8976,-498.3799C377.2602,-488.4832 398.8653,-476.8388 418.1178,-466.4625\" fill=\"none\" stroke=\"#000000\"/>\n<polygon fill=\"#000000\" points=\"419.9233,-469.4654 427.0656,-461.6399 416.6022,-463.3034 419.9233,-469.4654\" stroke=\"#000000\"/>\n</g>\n<!-- 139848414049104 -->\n<g class=\"node\" id=\"node2\">\n<title>139848414049104</title>\n<polygon fill=\"none\" points=\"478,-498.5 478,-544.5 772,-544.5 772,-498.5 478,-498.5\" stroke=\"#000000\"/>\n<text fill=\"#000000\" font-family=\"Times,serif\" font-size=\"14.00\" text-anchor=\"middle\" x=\"548\" y=\"-517.8\">input_12: InputLayer</text>\n<polyline fill=\"none\" points=\"618,-498.5 618,-544.5 \" stroke=\"#000000\"/>\n<text fill=\"#000000\" font-family=\"Times,serif\" font-size=\"14.00\" text-anchor=\"middle\" x=\"647\" y=\"-529.3\">input:</text>\n<polyline fill=\"none\" points=\"618,-521.5 676,-521.5 \" stroke=\"#000000\"/>\n<text fill=\"#000000\" font-family=\"Times,serif\" font-size=\"14.00\" text-anchor=\"middle\" x=\"647\" y=\"-506.3\">output:</text>\n<polyline fill=\"none\" points=\"676,-498.5 676,-544.5 \" stroke=\"#000000\"/>\n<text fill=\"#000000\" font-family=\"Times,serif\" font-size=\"14.00\" text-anchor=\"middle\" x=\"724\" y=\"-529.3\">[(None, 128)]</text>\n<polyline fill=\"none\" points=\"676,-521.5 772,-521.5 \" stroke=\"#000000\"/>\n<text fill=\"#000000\" font-family=\"Times,serif\" font-size=\"14.00\" text-anchor=\"middle\" x=\"724\" y=\"-506.3\">[(None, 128)]</text>\n</g>\n<!-- 139848414049104&#45;&gt;139848527214416 -->\n<g class=\"edge\" id=\"edge2\">\n<title>139848414049104-&gt;139848527214416</title>\n<path d=\"M581.8239,-498.3799C563.342,-488.4832 541.5966,-476.8388 522.2191,-466.4625\" fill=\"none\" stroke=\"#000000\"/>\n<polygon fill=\"#000000\" points=\"523.6811,-463.2752 513.2132,-461.6399 520.3766,-469.4461 523.6811,-463.2752\" stroke=\"#000000\"/>\n</g>\n<!-- 139848414211152 -->\n<g class=\"node\" id=\"node4\">\n<title>139848414211152</title>\n<polygon fill=\"none\" points=\"158.5,-332.5 158.5,-378.5 459.5,-378.5 459.5,-332.5 158.5,-332.5\" stroke=\"#000000\"/>\n<text fill=\"#000000\" font-family=\"Times,serif\" font-size=\"14.00\" text-anchor=\"middle\" x=\"225\" y=\"-351.8\">conv1d_2: Conv1D</text>\n<polyline fill=\"none\" points=\"291.5,-332.5 291.5,-378.5 \" stroke=\"#000000\"/>\n<text fill=\"#000000\" font-family=\"Times,serif\" font-size=\"14.00\" text-anchor=\"middle\" x=\"320.5\" y=\"-363.3\">input:</text>\n<polyline fill=\"none\" points=\"291.5,-355.5 349.5,-355.5 \" stroke=\"#000000\"/>\n<text fill=\"#000000\" font-family=\"Times,serif\" font-size=\"14.00\" text-anchor=\"middle\" x=\"320.5\" y=\"-340.3\">output:</text>\n<polyline fill=\"none\" points=\"349.5,-332.5 349.5,-378.5 \" stroke=\"#000000\"/>\n<text fill=\"#000000\" font-family=\"Times,serif\" font-size=\"14.00\" text-anchor=\"middle\" x=\"404.5\" y=\"-363.3\">(None, 16, 300)</text>\n<polyline fill=\"none\" points=\"349.5,-355.5 459.5,-355.5 \" stroke=\"#000000\"/>\n<text fill=\"#000000\" font-family=\"Times,serif\" font-size=\"14.00\" text-anchor=\"middle\" x=\"404.5\" y=\"-340.3\">(None, 11, 100)</text>\n</g>\n<!-- 139848527214416&#45;&gt;139848414211152 -->\n<g class=\"edge\" id=\"edge3\">\n<title>139848527214416-&gt;139848414211152</title>\n<path d=\"M425.1525,-415.3799C405.8684,-405.4384 383.1636,-393.7334 362.9674,-383.3217\" fill=\"none\" stroke=\"#000000\"/>\n<polygon fill=\"#000000\" points=\"364.3781,-380.1113 353.8859,-378.6399 361.1705,-386.3331 364.3781,-380.1113\" stroke=\"#000000\"/>\n</g>\n<!-- 139848510927760 -->\n<g class=\"node\" id=\"node5\">\n<title>139848510927760</title>\n<polygon fill=\"none\" points=\"519,-332.5 519,-378.5 827,-378.5 827,-332.5 519,-332.5\" stroke=\"#000000\"/>\n<text fill=\"#000000\" font-family=\"Times,serif\" font-size=\"14.00\" text-anchor=\"middle\" x=\"585.5\" y=\"-351.8\">conv1d_3: Conv1D</text>\n<polyline fill=\"none\" points=\"652,-332.5 652,-378.5 \" stroke=\"#000000\"/>\n<text fill=\"#000000\" font-family=\"Times,serif\" font-size=\"14.00\" text-anchor=\"middle\" x=\"681\" y=\"-363.3\">input:</text>\n<polyline fill=\"none\" points=\"652,-355.5 710,-355.5 \" stroke=\"#000000\"/>\n<text fill=\"#000000\" font-family=\"Times,serif\" font-size=\"14.00\" text-anchor=\"middle\" x=\"681\" y=\"-340.3\">output:</text>\n<polyline fill=\"none\" points=\"710,-332.5 710,-378.5 \" stroke=\"#000000\"/>\n<text fill=\"#000000\" font-family=\"Times,serif\" font-size=\"14.00\" text-anchor=\"middle\" x=\"768.5\" y=\"-363.3\">(None, 128, 300)</text>\n<polyline fill=\"none\" points=\"710,-355.5 827,-355.5 \" stroke=\"#000000\"/>\n<text fill=\"#000000\" font-family=\"Times,serif\" font-size=\"14.00\" text-anchor=\"middle\" x=\"768.5\" y=\"-340.3\">(None, 123, 100)</text>\n</g>\n<!-- 139848527214416&#45;&gt;139848510927760 -->\n<g class=\"edge\" id=\"edge4\">\n<title>139848527214416-&gt;139848510927760</title>\n<path d=\"M526.2772,-415.4901C551.3581,-405.2353 581.0698,-393.0872 607.1743,-382.414\" fill=\"none\" stroke=\"#000000\"/>\n<polygon fill=\"#000000\" points=\"608.6817,-385.579 616.6133,-378.5547 606.0325,-379.0996 608.6817,-385.579\" stroke=\"#000000\"/>\n</g>\n<!-- 139848414050000 -->\n<g class=\"node\" id=\"node6\">\n<title>139848414050000</title>\n<polygon fill=\"none\" points=\"0,-249.5 0,-295.5 456,-295.5 456,-249.5 0,-249.5\" stroke=\"#000000\"/>\n<text fill=\"#000000\" font-family=\"Times,serif\" font-size=\"14.00\" text-anchor=\"middle\" x=\"144.5\" y=\"-268.8\">global_max_pooling1d: GlobalMaxPooling1D</text>\n<polyline fill=\"none\" points=\"289,-249.5 289,-295.5 \" stroke=\"#000000\"/>\n<text fill=\"#000000\" font-family=\"Times,serif\" font-size=\"14.00\" text-anchor=\"middle\" x=\"318\" y=\"-280.3\">input:</text>\n<polyline fill=\"none\" points=\"289,-272.5 347,-272.5 \" stroke=\"#000000\"/>\n<text fill=\"#000000\" font-family=\"Times,serif\" font-size=\"14.00\" text-anchor=\"middle\" x=\"318\" y=\"-257.3\">output:</text>\n<polyline fill=\"none\" points=\"347,-249.5 347,-295.5 \" stroke=\"#000000\"/>\n<text fill=\"#000000\" font-family=\"Times,serif\" font-size=\"14.00\" text-anchor=\"middle\" x=\"401.5\" y=\"-280.3\">(None, 11, 100)</text>\n<polyline fill=\"none\" points=\"347,-272.5 456,-272.5 \" stroke=\"#000000\"/>\n<text fill=\"#000000\" font-family=\"Times,serif\" font-size=\"14.00\" text-anchor=\"middle\" x=\"401.5\" y=\"-257.3\">(None, 100)</text>\n</g>\n<!-- 139848414211152&#45;&gt;139848414050000 -->\n<g class=\"edge\" id=\"edge5\">\n<title>139848414211152-&gt;139848414050000</title>\n<path d=\"M286.437,-332.3799C277.559,-323.2827 267.2399,-312.7088 257.7655,-303.0005\" fill=\"none\" stroke=\"#000000\"/>\n<polygon fill=\"#000000\" points=\"260.2122,-300.4963 250.7229,-295.784 255.2024,-305.3853 260.2122,-300.4963\" stroke=\"#000000\"/>\n</g>\n<!-- 139848443740432 -->\n<g class=\"node\" id=\"node7\">\n<title>139848443740432</title>\n<polygon fill=\"none\" points=\"474.5,-249.5 474.5,-295.5 953.5,-295.5 953.5,-249.5 474.5,-249.5\" stroke=\"#000000\"/>\n<text fill=\"#000000\" font-family=\"Times,serif\" font-size=\"14.00\" text-anchor=\"middle\" x=\"626.5\" y=\"-268.8\">global_max_pooling1d_1: GlobalMaxPooling1D</text>\n<polyline fill=\"none\" points=\"778.5,-249.5 778.5,-295.5 \" stroke=\"#000000\"/>\n<text fill=\"#000000\" font-family=\"Times,serif\" font-size=\"14.00\" text-anchor=\"middle\" x=\"807.5\" y=\"-280.3\">input:</text>\n<polyline fill=\"none\" points=\"778.5,-272.5 836.5,-272.5 \" stroke=\"#000000\"/>\n<text fill=\"#000000\" font-family=\"Times,serif\" font-size=\"14.00\" text-anchor=\"middle\" x=\"807.5\" y=\"-257.3\">output:</text>\n<polyline fill=\"none\" points=\"836.5,-249.5 836.5,-295.5 \" stroke=\"#000000\"/>\n<text fill=\"#000000\" font-family=\"Times,serif\" font-size=\"14.00\" text-anchor=\"middle\" x=\"895\" y=\"-280.3\">(None, 123, 100)</text>\n<polyline fill=\"none\" points=\"836.5,-272.5 953.5,-272.5 \" stroke=\"#000000\"/>\n<text fill=\"#000000\" font-family=\"Times,serif\" font-size=\"14.00\" text-anchor=\"middle\" x=\"895\" y=\"-257.3\">(None, 100)</text>\n</g>\n<!-- 139848510927760&#45;&gt;139848443740432 -->\n<g class=\"edge\" id=\"edge6\">\n<title>139848510927760-&gt;139848443740432</title>\n<path d=\"M684.4208,-332.3799C688.6062,-323.907 693.4243,-314.1531 697.9405,-305.0107\" fill=\"none\" stroke=\"#000000\"/>\n<polygon fill=\"#000000\" points=\"701.2074,-306.2999 702.4983,-295.784 694.9313,-303.1997 701.2074,-306.2999\" stroke=\"#000000\"/>\n</g>\n<!-- 139848413990672 -->\n<g class=\"node\" id=\"node8\">\n<title>139848413990672</title>\n<polygon fill=\"none\" points=\"202.5,-166.5 202.5,-212.5 461.5,-212.5 461.5,-166.5 202.5,-166.5\" stroke=\"#000000\"/>\n<text fill=\"#000000\" font-family=\"Times,serif\" font-size=\"14.00\" text-anchor=\"middle\" x=\"259.5\" y=\"-185.8\">dense_18: Dense</text>\n<polyline fill=\"none\" points=\"316.5,-166.5 316.5,-212.5 \" stroke=\"#000000\"/>\n<text fill=\"#000000\" font-family=\"Times,serif\" font-size=\"14.00\" text-anchor=\"middle\" x=\"345.5\" y=\"-197.3\">input:</text>\n<polyline fill=\"none\" points=\"316.5,-189.5 374.5,-189.5 \" stroke=\"#000000\"/>\n<text fill=\"#000000\" font-family=\"Times,serif\" font-size=\"14.00\" text-anchor=\"middle\" x=\"345.5\" y=\"-174.3\">output:</text>\n<polyline fill=\"none\" points=\"374.5,-166.5 374.5,-212.5 \" stroke=\"#000000\"/>\n<text fill=\"#000000\" font-family=\"Times,serif\" font-size=\"14.00\" text-anchor=\"middle\" x=\"418\" y=\"-197.3\">(None, 100)</text>\n<polyline fill=\"none\" points=\"374.5,-189.5 461.5,-189.5 \" stroke=\"#000000\"/>\n<text fill=\"#000000\" font-family=\"Times,serif\" font-size=\"14.00\" text-anchor=\"middle\" x=\"418\" y=\"-174.3\">(None, 16)</text>\n</g>\n<!-- 139848414050000&#45;&gt;139848413990672 -->\n<g class=\"edge\" id=\"edge7\">\n<title>139848414050000-&gt;139848413990672</title>\n<path d=\"M256.9698,-249.3799C268.704,-240.0151 282.3989,-229.0855 294.853,-219.1462\" fill=\"none\" stroke=\"#000000\"/>\n<polygon fill=\"#000000\" points=\"297.1921,-221.7574 302.8249,-212.784 292.8256,-216.2862 297.1921,-221.7574\" stroke=\"#000000\"/>\n</g>\n<!-- 139848431673872 -->\n<g class=\"node\" id=\"node9\">\n<title>139848431673872</title>\n<polygon fill=\"none\" points=\"531.5,-166.5 531.5,-212.5 790.5,-212.5 790.5,-166.5 531.5,-166.5\" stroke=\"#000000\"/>\n<text fill=\"#000000\" font-family=\"Times,serif\" font-size=\"14.00\" text-anchor=\"middle\" x=\"588.5\" y=\"-185.8\">dense_19: Dense</text>\n<polyline fill=\"none\" points=\"645.5,-166.5 645.5,-212.5 \" stroke=\"#000000\"/>\n<text fill=\"#000000\" font-family=\"Times,serif\" font-size=\"14.00\" text-anchor=\"middle\" x=\"674.5\" y=\"-197.3\">input:</text>\n<polyline fill=\"none\" points=\"645.5,-189.5 703.5,-189.5 \" stroke=\"#000000\"/>\n<text fill=\"#000000\" font-family=\"Times,serif\" font-size=\"14.00\" text-anchor=\"middle\" x=\"674.5\" y=\"-174.3\">output:</text>\n<polyline fill=\"none\" points=\"703.5,-166.5 703.5,-212.5 \" stroke=\"#000000\"/>\n<text fill=\"#000000\" font-family=\"Times,serif\" font-size=\"14.00\" text-anchor=\"middle\" x=\"747\" y=\"-197.3\">(None, 100)</text>\n<polyline fill=\"none\" points=\"703.5,-189.5 790.5,-189.5 \" stroke=\"#000000\"/>\n<text fill=\"#000000\" font-family=\"Times,serif\" font-size=\"14.00\" text-anchor=\"middle\" x=\"747\" y=\"-174.3\">(None, 16)</text>\n</g>\n<!-- 139848443740432&#45;&gt;139848431673872 -->\n<g class=\"edge\" id=\"edge8\">\n<title>139848443740432-&gt;139848431673872</title>\n<path d=\"M699.2365,-249.3799C693.7122,-240.7286 687.3352,-230.7419 681.3917,-221.4341\" fill=\"none\" stroke=\"#000000\"/>\n<polygon fill=\"#000000\" points=\"684.1999,-219.3286 675.8681,-212.784 678.3001,-223.0959 684.1999,-219.3286\" stroke=\"#000000\"/>\n</g>\n<!-- 139848413746384 -->\n<g class=\"node\" id=\"node10\">\n<title>139848413746384</title>\n<polygon fill=\"none\" points=\"274,-83.5 274,-129.5 666,-129.5 666,-83.5 274,-83.5\" stroke=\"#000000\"/>\n<text fill=\"#000000\" font-family=\"Times,serif\" font-size=\"14.00\" text-anchor=\"middle\" x=\"361.5\" y=\"-102.8\">concatenate_2: Concatenate</text>\n<polyline fill=\"none\" points=\"449,-83.5 449,-129.5 \" stroke=\"#000000\"/>\n<text fill=\"#000000\" font-family=\"Times,serif\" font-size=\"14.00\" text-anchor=\"middle\" x=\"478\" y=\"-114.3\">input:</text>\n<polyline fill=\"none\" points=\"449,-106.5 507,-106.5 \" stroke=\"#000000\"/>\n<text fill=\"#000000\" font-family=\"Times,serif\" font-size=\"14.00\" text-anchor=\"middle\" x=\"478\" y=\"-91.3\">output:</text>\n<polyline fill=\"none\" points=\"507,-83.5 507,-129.5 \" stroke=\"#000000\"/>\n<text fill=\"#000000\" font-family=\"Times,serif\" font-size=\"14.00\" text-anchor=\"middle\" x=\"586.5\" y=\"-114.3\">[(None, 16), (None, 16)]</text>\n<polyline fill=\"none\" points=\"507,-106.5 666,-106.5 \" stroke=\"#000000\"/>\n<text fill=\"#000000\" font-family=\"Times,serif\" font-size=\"14.00\" text-anchor=\"middle\" x=\"586.5\" y=\"-91.3\">(None, 32)</text>\n</g>\n<!-- 139848413990672&#45;&gt;139848413746384 -->\n<g class=\"edge\" id=\"edge9\">\n<title>139848413990672-&gt;139848413746384</title>\n<path d=\"M370.4407,-166.3799C386.6042,-156.6583 405.5714,-145.2505 422.59,-135.0147\" fill=\"none\" stroke=\"#000000\"/>\n<polygon fill=\"#000000\" points=\"424.5213,-137.9375 431.2868,-129.784 420.9134,-131.9388 424.5213,-137.9375\" stroke=\"#000000\"/>\n</g>\n<!-- 139848431673872&#45;&gt;139848413746384 -->\n<g class=\"edge\" id=\"edge10\">\n<title>139848431673872-&gt;139848413746384</title>\n<path d=\"M608.0495,-166.4901C584.5547,-156.2803 556.7411,-144.1938 532.2579,-133.5545\" fill=\"none\" stroke=\"#000000\"/>\n<polygon fill=\"#000000\" points=\"533.6199,-130.3302 523.0535,-129.5547 530.83,-136.7502 533.6199,-130.3302\" stroke=\"#000000\"/>\n</g>\n<!-- 139848442980752 -->\n<g class=\"node\" id=\"node11\">\n<title>139848442980752</title>\n<polygon fill=\"none\" points=\"344,-.5 344,-46.5 596,-46.5 596,-.5 344,-.5\" stroke=\"#000000\"/>\n<text fill=\"#000000\" font-family=\"Times,serif\" font-size=\"14.00\" text-anchor=\"middle\" x=\"401\" y=\"-19.8\">dense_20: Dense</text>\n<polyline fill=\"none\" points=\"458,-.5 458,-46.5 \" stroke=\"#000000\"/>\n<text fill=\"#000000\" font-family=\"Times,serif\" font-size=\"14.00\" text-anchor=\"middle\" x=\"487\" y=\"-31.3\">input:</text>\n<polyline fill=\"none\" points=\"458,-23.5 516,-23.5 \" stroke=\"#000000\"/>\n<text fill=\"#000000\" font-family=\"Times,serif\" font-size=\"14.00\" text-anchor=\"middle\" x=\"487\" y=\"-8.3\">output:</text>\n<polyline fill=\"none\" points=\"516,-.5 516,-46.5 \" stroke=\"#000000\"/>\n<text fill=\"#000000\" font-family=\"Times,serif\" font-size=\"14.00\" text-anchor=\"middle\" x=\"556\" y=\"-31.3\">(None, 32)</text>\n<polyline fill=\"none\" points=\"516,-23.5 596,-23.5 \" stroke=\"#000000\"/>\n<text fill=\"#000000\" font-family=\"Times,serif\" font-size=\"14.00\" text-anchor=\"middle\" x=\"556\" y=\"-8.3\">(None, 1)</text>\n</g>\n<!-- 139848413746384&#45;&gt;139848442980752 -->\n<g class=\"edge\" id=\"edge11\">\n<title>139848413746384-&gt;139848442980752</title>\n<path d=\"M470,-83.3799C470,-75.1745 470,-65.7679 470,-56.8786\" fill=\"none\" stroke=\"#000000\"/>\n<polygon fill=\"#000000\" points=\"473.5001,-56.784 470,-46.784 466.5001,-56.784 473.5001,-56.784\" stroke=\"#000000\"/>\n</g>\n</g>\n</svg>"
          },
          "metadata": {
            "tags": []
          },
          "execution_count": 61
        }
      ]
    },
    {
      "cell_type": "code",
      "metadata": {
        "colab": {
          "base_uri": "https://localhost:8080/"
        },
        "id": "Fw3TnR4DbMiR",
        "outputId": "692814c0-413f-4e40-de02-e41e4fac292d"
      },
      "source": [
        "# Model training\n",
        "history = final_model.fit(x = [x_train_topic_pad_glove, x_train_tweet_pad_glove],\n",
        "                    y = y_train,\n",
        "                    epochs=50,\n",
        "                    batch_size=512,\n",
        "                    validation_data=([x_dev_topic_pad_glove, x_dev_tweet_pad_glove], y_dev),\n",
        "                    verbose=1)"
      ],
      "execution_count": null,
      "outputs": [
        {
          "output_type": "stream",
          "text": [
            "Epoch 1/50\n",
            "35/35 [==============================] - 23s 651ms/step - loss: 0.4471 - accuracy: 0.8216 - val_loss: 0.3991 - val_accuracy: 0.8083\n",
            "Epoch 2/50\n",
            "35/35 [==============================] - 22s 637ms/step - loss: 0.2828 - accuracy: 0.8802 - val_loss: 0.3702 - val_accuracy: 0.8325\n",
            "Epoch 3/50\n",
            "35/35 [==============================] - 22s 635ms/step - loss: 0.2322 - accuracy: 0.9079 - val_loss: 0.3595 - val_accuracy: 0.8370\n",
            "Epoch 4/50\n",
            "35/35 [==============================] - 22s 631ms/step - loss: 0.1916 - accuracy: 0.9274 - val_loss: 0.3788 - val_accuracy: 0.8332\n",
            "Epoch 5/50\n",
            "35/35 [==============================] - 22s 632ms/step - loss: 0.1416 - accuracy: 0.9535 - val_loss: 0.4020 - val_accuracy: 0.8091\n",
            "Epoch 6/50\n",
            "35/35 [==============================] - 22s 630ms/step - loss: 0.0964 - accuracy: 0.9736 - val_loss: 0.4154 - val_accuracy: 0.8196\n",
            "Epoch 7/50\n",
            "35/35 [==============================] - 22s 635ms/step - loss: 0.0533 - accuracy: 0.9931 - val_loss: 0.4642 - val_accuracy: 0.8211\n",
            "Epoch 8/50\n",
            "35/35 [==============================] - 22s 635ms/step - loss: 0.0272 - accuracy: 0.9992 - val_loss: 0.4984 - val_accuracy: 0.8211\n",
            "Epoch 9/50\n",
            "35/35 [==============================] - 22s 632ms/step - loss: 0.0144 - accuracy: 1.0000 - val_loss: 0.5367 - val_accuracy: 0.8279\n",
            "Epoch 10/50\n",
            "35/35 [==============================] - 23s 645ms/step - loss: 0.0086 - accuracy: 0.9999 - val_loss: 0.5630 - val_accuracy: 0.8181\n",
            "Epoch 11/50\n",
            "35/35 [==============================] - 22s 633ms/step - loss: 0.0061 - accuracy: 0.9999 - val_loss: 0.5950 - val_accuracy: 0.8257\n",
            "Epoch 12/50\n",
            "35/35 [==============================] - 22s 634ms/step - loss: 0.0046 - accuracy: 0.9999 - val_loss: 0.6112 - val_accuracy: 0.8151\n",
            "Epoch 13/50\n",
            "35/35 [==============================] - 22s 639ms/step - loss: 0.0039 - accuracy: 0.9999 - val_loss: 0.6273 - val_accuracy: 0.8257\n",
            "Epoch 14/50\n",
            "35/35 [==============================] - 22s 636ms/step - loss: 0.0032 - accuracy: 0.9999 - val_loss: 0.6623 - val_accuracy: 0.8279\n",
            "Epoch 15/50\n",
            "35/35 [==============================] - 22s 640ms/step - loss: 0.0034 - accuracy: 0.9998 - val_loss: 0.6671 - val_accuracy: 0.8257\n",
            "Epoch 16/50\n",
            "35/35 [==============================] - 22s 630ms/step - loss: 0.0018 - accuracy: 1.0000 - val_loss: 0.6650 - val_accuracy: 0.8136\n",
            "Epoch 17/50\n",
            "35/35 [==============================] - 22s 634ms/step - loss: 0.0018 - accuracy: 1.0000 - val_loss: 0.6917 - val_accuracy: 0.8242\n",
            "Epoch 18/50\n",
            "35/35 [==============================] - 22s 628ms/step - loss: 0.0018 - accuracy: 0.9999 - val_loss: 0.7045 - val_accuracy: 0.8249\n",
            "Epoch 19/50\n",
            "35/35 [==============================] - 22s 626ms/step - loss: 0.0020 - accuracy: 0.9999 - val_loss: 0.7227 - val_accuracy: 0.8264\n",
            "Epoch 20/50\n",
            "35/35 [==============================] - 22s 632ms/step - loss: 0.0028 - accuracy: 0.9997 - val_loss: 0.7317 - val_accuracy: 0.8279\n",
            "Epoch 21/50\n",
            "35/35 [==============================] - 22s 631ms/step - loss: 0.0013 - accuracy: 1.0000 - val_loss: 0.8102 - val_accuracy: 0.8226\n",
            "Epoch 22/50\n",
            "35/35 [==============================] - 22s 633ms/step - loss: 0.0019 - accuracy: 0.9999 - val_loss: 0.7252 - val_accuracy: 0.8226\n",
            "Epoch 23/50\n",
            "35/35 [==============================] - 22s 633ms/step - loss: 0.0033 - accuracy: 0.9998 - val_loss: 0.7634 - val_accuracy: 0.8279\n",
            "Epoch 24/50\n",
            "35/35 [==============================] - 22s 635ms/step - loss: 0.0015 - accuracy: 0.9999 - val_loss: 0.8114 - val_accuracy: 0.8234\n",
            "Epoch 25/50\n",
            "35/35 [==============================] - 22s 640ms/step - loss: 0.0014 - accuracy: 0.9999 - val_loss: 0.7804 - val_accuracy: 0.8068\n",
            "Epoch 26/50\n",
            "35/35 [==============================] - 22s 630ms/step - loss: 0.0044 - accuracy: 0.9998 - val_loss: 0.7952 - val_accuracy: 0.8219\n",
            "Epoch 27/50\n",
            "35/35 [==============================] - 22s 632ms/step - loss: 0.0012 - accuracy: 0.9999 - val_loss: 0.7927 - val_accuracy: 0.8083\n",
            "Epoch 28/50\n",
            "35/35 [==============================] - 22s 629ms/step - loss: 0.0010 - accuracy: 1.0000 - val_loss: 0.8148 - val_accuracy: 0.8091\n",
            "Epoch 29/50\n",
            "35/35 [==============================] - 23s 645ms/step - loss: 5.2489e-04 - accuracy: 1.0000 - val_loss: 0.8123 - val_accuracy: 0.8136\n",
            "Epoch 30/50\n",
            "35/35 [==============================] - 22s 633ms/step - loss: 5.9113e-04 - accuracy: 1.0000 - val_loss: 0.8119 - val_accuracy: 0.8015\n",
            "Epoch 31/50\n",
            "35/35 [==============================] - 22s 636ms/step - loss: 8.7506e-04 - accuracy: 1.0000 - val_loss: 0.8321 - val_accuracy: 0.8091\n",
            "Epoch 32/50\n",
            "35/35 [==============================] - 22s 632ms/step - loss: 5.1827e-04 - accuracy: 0.9999 - val_loss: 0.8291 - val_accuracy: 0.8189\n",
            "Epoch 33/50\n",
            "35/35 [==============================] - 22s 634ms/step - loss: 0.0017 - accuracy: 0.9999 - val_loss: 0.8302 - val_accuracy: 0.8128\n",
            "Epoch 34/50\n",
            "35/35 [==============================] - 22s 631ms/step - loss: 0.0010 - accuracy: 0.9999 - val_loss: 0.8491 - val_accuracy: 0.8038\n",
            "Epoch 35/50\n",
            "35/35 [==============================] - 22s 639ms/step - loss: 7.5014e-04 - accuracy: 1.0000 - val_loss: 0.8621 - val_accuracy: 0.8053\n",
            "Epoch 36/50\n",
            "35/35 [==============================] - 22s 638ms/step - loss: 0.0018 - accuracy: 0.9999 - val_loss: 0.8645 - val_accuracy: 0.8091\n",
            "Epoch 37/50\n",
            "35/35 [==============================] - 23s 644ms/step - loss: 0.0035 - accuracy: 0.9998 - val_loss: 0.8784 - val_accuracy: 0.8151\n",
            "Epoch 38/50\n",
            "35/35 [==============================] - 22s 638ms/step - loss: 4.9156e-04 - accuracy: 1.0000 - val_loss: 0.8822 - val_accuracy: 0.8038\n",
            "Epoch 39/50\n",
            "35/35 [==============================] - 22s 638ms/step - loss: 0.0010 - accuracy: 0.9999 - val_loss: 0.8783 - val_accuracy: 0.8128\n",
            "Epoch 40/50\n",
            "35/35 [==============================] - 22s 637ms/step - loss: 0.0031 - accuracy: 0.9999 - val_loss: 0.9019 - val_accuracy: 0.8158\n",
            "Epoch 41/50\n",
            "35/35 [==============================] - 22s 636ms/step - loss: 3.5911e-04 - accuracy: 1.0000 - val_loss: 0.9294 - val_accuracy: 0.8219\n",
            "Epoch 42/50\n",
            "35/35 [==============================] - 22s 631ms/step - loss: 0.0015 - accuracy: 0.9999 - val_loss: 0.9031 - val_accuracy: 0.8068\n",
            "Epoch 43/50\n",
            "35/35 [==============================] - 22s 642ms/step - loss: 6.5005e-04 - accuracy: 1.0000 - val_loss: 0.9933 - val_accuracy: 0.8196\n",
            "Epoch 44/50\n",
            "35/35 [==============================] - 23s 644ms/step - loss: 7.3757e-04 - accuracy: 0.9999 - val_loss: 0.9145 - val_accuracy: 0.8045\n",
            "Epoch 45/50\n",
            "35/35 [==============================] - 23s 645ms/step - loss: 0.0011 - accuracy: 1.0000 - val_loss: 0.9312 - val_accuracy: 0.8083\n",
            "Epoch 46/50\n",
            "35/35 [==============================] - 22s 634ms/step - loss: 2.8101e-04 - accuracy: 1.0000 - val_loss: 1.0059 - val_accuracy: 0.8181\n",
            "Epoch 47/50\n",
            "35/35 [==============================] - 22s 631ms/step - loss: 5.9863e-04 - accuracy: 1.0000 - val_loss: 0.9585 - val_accuracy: 0.7940\n",
            "Epoch 48/50\n",
            "35/35 [==============================] - 22s 631ms/step - loss: 6.4844e-04 - accuracy: 1.0000 - val_loss: 0.9227 - val_accuracy: 0.8091\n",
            "Epoch 49/50\n",
            "35/35 [==============================] - 22s 633ms/step - loss: 9.5686e-04 - accuracy: 1.0000 - val_loss: 1.0149 - val_accuracy: 0.8121\n",
            "Epoch 50/50\n",
            "35/35 [==============================] - 22s 635ms/step - loss: 0.0013 - accuracy: 0.9999 - val_loss: 0.9727 - val_accuracy: 0.7985\n"
          ],
          "name": "stdout"
        }
      ]
    },
    {
      "cell_type": "code",
      "metadata": {
        "colab": {
          "base_uri": "https://localhost:8080/"
        },
        "id": "rO687WDibMlv",
        "outputId": "389947c2-66f2-4119-e583-461700584e57"
      },
      "source": [
        "# Model evaluation\n",
        "results = final_model.evaluate([x_test_topic_pad_glove, x_test_tweet_pad_glove], y_test)"
      ],
      "execution_count": null,
      "outputs": [
        {
          "output_type": "stream",
          "text": [
            "194/194 [==============================] - 4s 19ms/step - loss: 0.9615 - accuracy: 0.8032\n"
          ],
          "name": "stdout"
        }
      ]
    },
    {
      "cell_type": "code",
      "metadata": {
        "colab": {
          "base_uri": "https://localhost:8080/"
        },
        "id": "IgdBnS0ObMpk",
        "outputId": "45634ee3-af52-44c0-e879-c85fbc0b8d39"
      },
      "source": [
        "print (results)"
      ],
      "execution_count": null,
      "outputs": [
        {
          "output_type": "stream",
          "text": [
            "[0.9614887237548828, 0.8032336235046387]\n"
          ],
          "name": "stdout"
        }
      ]
    },
    {
      "cell_type": "code",
      "metadata": {
        "colab": {
          "base_uri": "https://localhost:8080/",
          "height": 369
        },
        "id": "6pBzfG7lTSg2",
        "outputId": "7169fbbd-5957-42f6-974a-608a76264283"
      },
      "source": [
        "from plot_keras_history import plot_history\n",
        "import matplotlib.pyplot as plt\n",
        "plot_history(history.history, path=\"standard.png\")\n",
        "plt.show()"
      ],
      "execution_count": null,
      "outputs": [
        {
          "output_type": "display_data",
          "data": {
            "image/png": "[encoded data removed]",
            "text/plain": [
              "<Figure size 720x360 with 2 Axes>"
            ]
          },
          "metadata": {
            "tags": [],
            "needs_background": "light"
          }
        }
      ]
    },
    {
      "cell_type": "markdown",
      "metadata": {
        "id": "CPB3nRvcNtQG"
      },
      "source": [
        "**<i> <font color ='darkblue'> We now try to enhance the model's performance by changing the optimizer and loss function.\n",
        " </font></i>**"
      ]
    },
    {
      "cell_type": "code",
      "metadata": {
        "colab": {
          "base_uri": "https://localhost:8080/"
        },
        "id": "NjOANzmKN6Se",
        "outputId": "a8503cb7-6bf8-47ab-a7bc-144c356607a0"
      },
      "source": [
        "from keras.layers import Input, Embedding, Dense, LSTM, Lambda, concatenate\n",
        "from keras.models import Model\n",
        "input_layer_1 = Input(shape=(16,))\n",
        "input_layer_2 = Input(shape=(128,))\n",
        "#First Input\n",
        "embedding_layer_1 = embeddingLayer(input_layer_1)\n",
        "cnn_layer_1 = keras.layers.Conv1D(100, 6)(embedding_layer_1)\n",
        "pooling_layer_1 = GlobalMaxPooling1D()(cnn_layer_1)\n",
        "output_dense_layer_1 = Dense(16)(pooling_layer_1)\n",
        "model_1 = Model(inputs= input_layer_1, outputs=output_dense_layer_1)\n",
        "#Second Input\n",
        "embedding_layer_2 = embeddingLayer(input_layer_2)\n",
        "cnn_layer_2 = keras.layers.Conv1D(100, 6)(embedding_layer_2)\n",
        "pooling_layer_1 = GlobalMaxPooling1D()(cnn_layer_2)\n",
        "output_dense_layer_2 = Dense(16)(pooling_layer_1)\n",
        "model_2 = Model(inputs= input_layer_2, outputs=output_dense_layer_2)\n",
        "\n",
        "combined_layer = concatenate([model_1.output, model_2.output])\n",
        "\n",
        "output_dense_layer = Dense(1, activation='sigmoid')(combined_layer)\n",
        "\n",
        "final_model = Model(inputs=[model_1.input, model_2.input], outputs = output_dense_layer)\n",
        "final_model.compile('rmsprop', 'mse', metrics=['accuracy'])\n",
        "final_model.summary()\n"
      ],
      "execution_count": null,
      "outputs": [
        {
          "output_type": "stream",
          "text": [
            "Model: \"model_17\"\n",
            "__________________________________________________________________________________________________\n",
            "Layer (type)                    Output Shape         Param #     Connected to                     \n",
            "==================================================================================================\n",
            "input_13 (InputLayer)           [(None, 16)]         0                                            \n",
            "__________________________________________________________________________________________________\n",
            "input_14 (InputLayer)           [(None, 128)]        0                                            \n",
            "__________________________________________________________________________________________________\n",
            "GloVe_Embeddings (Embedding)    multiple             120000300   input_13[0][0]                   \n",
            "                                                                 input_14[0][0]                   \n",
            "__________________________________________________________________________________________________\n",
            "conv1d_4 (Conv1D)               (None, 11, 100)      180100      GloVe_Embeddings[9][0]           \n",
            "__________________________________________________________________________________________________\n",
            "conv1d_5 (Conv1D)               (None, 123, 100)     180100      GloVe_Embeddings[10][0]          \n",
            "__________________________________________________________________________________________________\n",
            "global_max_pooling1d_2 (GlobalM (None, 100)          0           conv1d_4[0][0]                   \n",
            "__________________________________________________________________________________________________\n",
            "global_max_pooling1d_3 (GlobalM (None, 100)          0           conv1d_5[0][0]                   \n",
            "__________________________________________________________________________________________________\n",
            "dense_21 (Dense)                (None, 16)           1616        global_max_pooling1d_2[0][0]     \n",
            "__________________________________________________________________________________________________\n",
            "dense_22 (Dense)                (None, 16)           1616        global_max_pooling1d_3[0][0]     \n",
            "__________________________________________________________________________________________________\n",
            "concatenate_3 (Concatenate)     (None, 32)           0           dense_21[0][0]                   \n",
            "                                                                 dense_22[0][0]                   \n",
            "__________________________________________________________________________________________________\n",
            "dense_23 (Dense)                (None, 1)            33          concatenate_3[0][0]              \n",
            "==================================================================================================\n",
            "Total params: 120,363,765\n",
            "Trainable params: 363,465\n",
            "Non-trainable params: 120,000,300\n",
            "__________________________________________________________________________________________________\n"
          ],
          "name": "stdout"
        }
      ]
    },
    {
      "cell_type": "code",
      "metadata": {
        "colab": {
          "base_uri": "https://localhost:8080/"
        },
        "id": "KYTmy-BBN9G2",
        "outputId": "4c100505-2c46-42a4-aabb-1dea9bb53f78"
      },
      "source": [
        "# Train and test the model\n",
        "history = final_model.fit(x = [x_train_topic_pad_glove, x_train_tweet_pad_glove],\n",
        "                    y = y_train,\n",
        "                    epochs=50,\n",
        "                    batch_size=512,\n",
        "                    validation_data=([x_dev_topic_pad_glove, x_dev_tweet_pad_glove], y_dev),\n",
        "                    verbose=1)"
      ],
      "execution_count": null,
      "outputs": [
        {
          "output_type": "stream",
          "text": [
            "Epoch 1/50\n",
            "35/35 [==============================] - 24s 672ms/step - loss: 0.1608 - accuracy: 0.7989 - val_loss: 0.1654 - val_accuracy: 0.7728\n",
            "Epoch 2/50\n",
            "35/35 [==============================] - 22s 640ms/step - loss: 0.0953 - accuracy: 0.8730 - val_loss: 0.1457 - val_accuracy: 0.7857\n",
            "Epoch 3/50\n",
            "35/35 [==============================] - 22s 642ms/step - loss: 0.0819 - accuracy: 0.8915 - val_loss: 0.1563 - val_accuracy: 0.7887\n",
            "Epoch 4/50\n",
            "35/35 [==============================] - 22s 636ms/step - loss: 0.0710 - accuracy: 0.9084 - val_loss: 0.1278 - val_accuracy: 0.8113\n",
            "Epoch 5/50\n",
            "35/35 [==============================] - 22s 639ms/step - loss: 0.0625 - accuracy: 0.9187 - val_loss: 0.1516 - val_accuracy: 0.7962\n",
            "Epoch 6/50\n",
            "35/35 [==============================] - 22s 643ms/step - loss: 0.0552 - accuracy: 0.9327 - val_loss: 0.1408 - val_accuracy: 0.8053\n",
            "Epoch 7/50\n",
            "35/35 [==============================] - 23s 644ms/step - loss: 0.0499 - accuracy: 0.9385 - val_loss: 0.1421 - val_accuracy: 0.7985\n",
            "Epoch 8/50\n",
            "35/35 [==============================] - 22s 636ms/step - loss: 0.0446 - accuracy: 0.9464 - val_loss: 0.1351 - val_accuracy: 0.8121\n",
            "Epoch 9/50\n",
            "35/35 [==============================] - 22s 637ms/step - loss: 0.0362 - accuracy: 0.9588 - val_loss: 0.1293 - val_accuracy: 0.8234\n",
            "Epoch 10/50\n",
            "35/35 [==============================] - 22s 637ms/step - loss: 0.0314 - accuracy: 0.9654 - val_loss: 0.1379 - val_accuracy: 0.8181\n",
            "Epoch 11/50\n",
            "35/35 [==============================] - 22s 635ms/step - loss: 0.0296 - accuracy: 0.9679 - val_loss: 0.1336 - val_accuracy: 0.8189\n",
            "Epoch 12/50\n",
            "35/35 [==============================] - 22s 634ms/step - loss: 0.0201 - accuracy: 0.9784 - val_loss: 0.1862 - val_accuracy: 0.7796\n",
            "Epoch 13/50\n",
            "35/35 [==============================] - 22s 635ms/step - loss: 0.0248 - accuracy: 0.9714 - val_loss: 0.1395 - val_accuracy: 0.8068\n",
            "Epoch 14/50\n",
            "35/35 [==============================] - 23s 645ms/step - loss: 0.0145 - accuracy: 0.9863 - val_loss: 0.1968 - val_accuracy: 0.7728\n",
            "Epoch 15/50\n",
            "35/35 [==============================] - 23s 659ms/step - loss: 0.0387 - accuracy: 0.9459 - val_loss: 0.1453 - val_accuracy: 0.8053\n",
            "Epoch 16/50\n",
            "35/35 [==============================] - 23s 647ms/step - loss: 0.0170 - accuracy: 0.9807 - val_loss: 0.1439 - val_accuracy: 0.8106\n",
            "Epoch 17/50\n",
            "35/35 [==============================] - 23s 644ms/step - loss: 0.0146 - accuracy: 0.9842 - val_loss: 0.1511 - val_accuracy: 0.7955\n",
            "Epoch 18/50\n",
            "35/35 [==============================] - 22s 643ms/step - loss: 0.0117 - accuracy: 0.9878 - val_loss: 0.1490 - val_accuracy: 0.8068\n",
            "Epoch 19/50\n",
            "35/35 [==============================] - 23s 651ms/step - loss: 0.0116 - accuracy: 0.9875 - val_loss: 0.1474 - val_accuracy: 0.8023\n",
            "Epoch 20/50\n",
            "35/35 [==============================] - 22s 641ms/step - loss: 0.0072 - accuracy: 0.9925 - val_loss: 0.1482 - val_accuracy: 0.8091\n",
            "Epoch 21/50\n",
            "35/35 [==============================] - 22s 642ms/step - loss: 0.0051 - accuracy: 0.9951 - val_loss: 0.1451 - val_accuracy: 0.8128\n",
            "Epoch 22/50\n",
            "35/35 [==============================] - 23s 646ms/step - loss: 0.0039 - accuracy: 0.9966 - val_loss: 0.1484 - val_accuracy: 0.8143\n",
            "Epoch 23/50\n",
            "35/35 [==============================] - 24s 678ms/step - loss: 0.0222 - accuracy: 0.9731 - val_loss: 0.1512 - val_accuracy: 0.8060\n",
            "Epoch 24/50\n",
            "35/35 [==============================] - 23s 653ms/step - loss: 0.0045 - accuracy: 0.9956 - val_loss: 0.1509 - val_accuracy: 0.8106\n",
            "Epoch 25/50\n",
            "35/35 [==============================] - 23s 644ms/step - loss: 0.0027 - accuracy: 0.9977 - val_loss: 0.1525 - val_accuracy: 0.8128\n",
            "Epoch 26/50\n",
            "35/35 [==============================] - 22s 639ms/step - loss: 0.0252 - accuracy: 0.9692 - val_loss: 0.1566 - val_accuracy: 0.8045\n",
            "Epoch 27/50\n",
            "35/35 [==============================] - 23s 647ms/step - loss: 0.0031 - accuracy: 0.9970 - val_loss: 0.1551 - val_accuracy: 0.8053\n",
            "Epoch 28/50\n",
            "35/35 [==============================] - 23s 658ms/step - loss: 0.0097 - accuracy: 0.9889 - val_loss: 0.1572 - val_accuracy: 0.8075\n",
            "Epoch 29/50\n",
            "35/35 [==============================] - 23s 647ms/step - loss: 0.0027 - accuracy: 0.9975 - val_loss: 0.1533 - val_accuracy: 0.8121\n",
            "Epoch 30/50\n",
            "35/35 [==============================] - 23s 657ms/step - loss: 0.0086 - accuracy: 0.9903 - val_loss: 0.1543 - val_accuracy: 0.8075\n",
            "Epoch 31/50\n",
            "35/35 [==============================] - 23s 646ms/step - loss: 0.0029 - accuracy: 0.9973 - val_loss: 0.1559 - val_accuracy: 0.8091\n",
            "Epoch 32/50\n",
            "35/35 [==============================] - 23s 654ms/step - loss: 0.0040 - accuracy: 0.9956 - val_loss: 0.1501 - val_accuracy: 0.8219\n",
            "Epoch 33/50\n",
            "35/35 [==============================] - 22s 637ms/step - loss: 0.0027 - accuracy: 0.9975 - val_loss: 0.1537 - val_accuracy: 0.8136\n",
            "Epoch 34/50\n",
            "35/35 [==============================] - 23s 646ms/step - loss: 0.0021 - accuracy: 0.9980 - val_loss: 0.1712 - val_accuracy: 0.7796\n",
            "Epoch 35/50\n",
            "35/35 [==============================] - 22s 639ms/step - loss: 0.0365 - accuracy: 0.9557 - val_loss: 0.1530 - val_accuracy: 0.8174\n",
            "Epoch 36/50\n",
            "35/35 [==============================] - 22s 628ms/step - loss: 0.0021 - accuracy: 0.9979 - val_loss: 0.1531 - val_accuracy: 0.8174\n",
            "Epoch 37/50\n",
            "35/35 [==============================] - 22s 637ms/step - loss: 0.0071 - accuracy: 0.9928 - val_loss: 0.1585 - val_accuracy: 0.8075\n",
            "Epoch 38/50\n",
            "35/35 [==============================] - 22s 637ms/step - loss: 0.0048 - accuracy: 0.9949 - val_loss: 0.1577 - val_accuracy: 0.8128\n",
            "Epoch 39/50\n",
            "35/35 [==============================] - 22s 630ms/step - loss: 0.0025 - accuracy: 0.9976 - val_loss: 0.1599 - val_accuracy: 0.8113\n",
            "Epoch 40/50\n",
            "35/35 [==============================] - 22s 633ms/step - loss: 0.0025 - accuracy: 0.9975 - val_loss: 0.1568 - val_accuracy: 0.8158\n",
            "Epoch 41/50\n",
            "35/35 [==============================] - 22s 635ms/step - loss: 0.0151 - accuracy: 0.9819 - val_loss: 0.1639 - val_accuracy: 0.8008\n",
            "Epoch 42/50\n",
            "35/35 [==============================] - 23s 655ms/step - loss: 0.0016 - accuracy: 0.9984 - val_loss: 0.1584 - val_accuracy: 0.8098\n",
            "Epoch 43/50\n",
            "35/35 [==============================] - 22s 637ms/step - loss: 0.0041 - accuracy: 0.9958 - val_loss: 0.1651 - val_accuracy: 0.7977\n",
            "Epoch 44/50\n",
            "35/35 [==============================] - 22s 637ms/step - loss: 0.0057 - accuracy: 0.9937 - val_loss: 0.1569 - val_accuracy: 0.8158\n",
            "Epoch 45/50\n",
            "35/35 [==============================] - 22s 638ms/step - loss: 0.0023 - accuracy: 0.9977 - val_loss: 0.1637 - val_accuracy: 0.8053\n",
            "Epoch 46/50\n",
            "35/35 [==============================] - 22s 641ms/step - loss: 0.0015 - accuracy: 0.9985 - val_loss: 0.1660 - val_accuracy: 0.7985\n",
            "Epoch 47/50\n",
            "35/35 [==============================] - 22s 639ms/step - loss: 0.0028 - accuracy: 0.9972 - val_loss: 0.1604 - val_accuracy: 0.8143\n",
            "Epoch 48/50\n",
            "35/35 [==============================] - 22s 640ms/step - loss: 0.0020 - accuracy: 0.9981 - val_loss: 0.1616 - val_accuracy: 0.8113\n",
            "Epoch 49/50\n",
            "35/35 [==============================] - 22s 633ms/step - loss: 0.0029 - accuracy: 0.9971 - val_loss: 0.1600 - val_accuracy: 0.8136\n",
            "Epoch 50/50\n",
            "35/35 [==============================] - 22s 638ms/step - loss: 0.0021 - accuracy: 0.9979 - val_loss: 0.1617 - val_accuracy: 0.8113\n"
          ],
          "name": "stdout"
        }
      ]
    },
    {
      "cell_type": "code",
      "metadata": {
        "colab": {
          "base_uri": "https://localhost:8080/"
        },
        "id": "7579y3qSN9OR",
        "outputId": "3c5a42b4-7ccb-4e88-d65b-33f5ad486f6a"
      },
      "source": [
        "results = final_model.evaluate([x_test_topic_pad_glove, x_test_tweet_pad_glove], y_test)"
      ],
      "execution_count": null,
      "outputs": [
        {
          "output_type": "stream",
          "text": [
            "194/194 [==============================] - 4s 19ms/step - loss: 0.1635 - accuracy: 0.8034\n"
          ],
          "name": "stdout"
        }
      ]
    },
    {
      "cell_type": "code",
      "metadata": {
        "colab": {
          "base_uri": "https://localhost:8080/"
        },
        "id": "vV0WJpx-N9rI",
        "outputId": "57c06da8-b38e-42e8-d935-b7bb63e91abc"
      },
      "source": [
        "print (results)"
      ],
      "execution_count": null,
      "outputs": [
        {
          "output_type": "stream",
          "text": [
            "[0.16349175572395325, 0.8033953309059143]\n"
          ],
          "name": "stdout"
        }
      ]
    },
    {
      "cell_type": "code",
      "metadata": {
        "colab": {
          "base_uri": "https://localhost:8080/",
          "height": 369
        },
        "id": "DFGDMJ0JN-hk",
        "outputId": "db8e5be2-6c49-4175-9755-fa53c8f00793"
      },
      "source": [
        "from plot_keras_history import plot_history\n",
        "import matplotlib.pyplot as plt\n",
        "plot_history(history.history, path=\"standard.png\")\n",
        "plt.show()"
      ],
      "execution_count": null,
      "outputs": [
        {
          "output_type": "display_data",
          "data": {
            "image/png": "[encoded data removed]",
            "text/plain": [
              "<Figure size 720x360 with 2 Axes>"
            ]
          },
          "metadata": {
            "tags": [],
            "needs_background": "light"
          }
        }
      ]
    },
    {
      "cell_type": "markdown",
      "metadata": {
        "id": "Vc6f1yqqjzo2"
      },
      "source": [
        "\n",
        "**<i> <font color ='darkblue'> Trying deeper CNN\n",
        " </font></i>**\n",
        "\n"
      ]
    },
    {
      "cell_type": "code",
      "metadata": {
        "colab": {
          "base_uri": "https://localhost:8080/"
        },
        "id": "Xn9oWgc1lISt",
        "outputId": "2d377618-b88b-4b01-e2d4-78a8af7d8523"
      },
      "source": [
        "from keras.layers import Input, Embedding, Dense, LSTM, Lambda, concatenate\n",
        "from keras.models import Model\n",
        "input_layer_1 = Input(shape=(16,))\n",
        "input_layer_2 = Input(shape=(128,))\n",
        "#First Input\n",
        "embedding_layer_1 = embeddingLayer(input_layer_1)\n",
        "cnn_layer_1 = keras.layers.Conv1D(100, 6)(embedding_layer_1)\n",
        "cnn_layer_2 = keras.layers.Conv1D(100, 6)(cnn_layer_1)\n",
        "pooling_layer_1 = GlobalMaxPooling1D()(cnn_layer_2)\n",
        "output_dense_layer_1 = Dense(16)(pooling_layer_1)\n",
        "model_1 = Model(inputs= input_layer_1, outputs=output_dense_layer_1)\n",
        "#Second Input\n",
        "embedding_layer_2 = embeddingLayer(input_layer_2)\n",
        "cnn_layer_3 = keras.layers.Conv1D(100, 6)(embedding_layer_2)\n",
        "cnn_layer_4 = keras.layers.Conv1D(100, 6)(cnn_layer_3)\n",
        "pooling_layer_1 = GlobalMaxPooling1D()(cnn_layer_4)\n",
        "output_dense_layer_2 = Dense(16)(pooling_layer_1)\n",
        "model_2 = Model(inputs= input_layer_2, outputs=output_dense_layer_2)\n",
        "\n",
        "combined_layer = concatenate([model_1.output, model_2.output])\n",
        "\n",
        "output_dense_layer = Dense(1, activation='sigmoid')(combined_layer)\n",
        "\n",
        "final_model = Model(inputs=[model_1.input, model_2.input], outputs = output_dense_layer)\n",
        "final_model.compile('rmsprop', 'mse', metrics=['accuracy'])\n",
        "final_model.summary()\n"
      ],
      "execution_count": null,
      "outputs": [
        {
          "output_type": "stream",
          "text": [
            "Model: \"model_20\"\n",
            "__________________________________________________________________________________________________\n",
            "Layer (type)                    Output Shape         Param #     Connected to                     \n",
            "==================================================================================================\n",
            "input_15 (InputLayer)           [(None, 16)]         0                                            \n",
            "__________________________________________________________________________________________________\n",
            "input_16 (InputLayer)           [(None, 128)]        0                                            \n",
            "__________________________________________________________________________________________________\n",
            "GloVe_Embeddings (Embedding)    multiple             120000300   input_15[0][0]                   \n",
            "                                                                 input_16[0][0]                   \n",
            "__________________________________________________________________________________________________\n",
            "conv1d_6 (Conv1D)               (None, 11, 100)      180100      GloVe_Embeddings[11][0]          \n",
            "__________________________________________________________________________________________________\n",
            "conv1d_8 (Conv1D)               (None, 123, 100)     180100      GloVe_Embeddings[12][0]          \n",
            "__________________________________________________________________________________________________\n",
            "conv1d_7 (Conv1D)               (None, 6, 100)       60100       conv1d_6[0][0]                   \n",
            "__________________________________________________________________________________________________\n",
            "conv1d_9 (Conv1D)               (None, 118, 100)     60100       conv1d_8[0][0]                   \n",
            "__________________________________________________________________________________________________\n",
            "global_max_pooling1d_4 (GlobalM (None, 100)          0           conv1d_7[0][0]                   \n",
            "__________________________________________________________________________________________________\n",
            "global_max_pooling1d_5 (GlobalM (None, 100)          0           conv1d_9[0][0]                   \n",
            "__________________________________________________________________________________________________\n",
            "dense_24 (Dense)                (None, 16)           1616        global_max_pooling1d_4[0][0]     \n",
            "__________________________________________________________________________________________________\n",
            "dense_25 (Dense)                (None, 16)           1616        global_max_pooling1d_5[0][0]     \n",
            "__________________________________________________________________________________________________\n",
            "concatenate_4 (Concatenate)     (None, 32)           0           dense_24[0][0]                   \n",
            "                                                                 dense_25[0][0]                   \n",
            "__________________________________________________________________________________________________\n",
            "dense_26 (Dense)                (None, 1)            33          concatenate_4[0][0]              \n",
            "==================================================================================================\n",
            "Total params: 120,483,965\n",
            "Trainable params: 483,665\n",
            "Non-trainable params: 120,000,300\n",
            "__________________________________________________________________________________________________\n"
          ],
          "name": "stdout"
        }
      ]
    },
    {
      "cell_type": "code",
      "metadata": {
        "colab": {
          "base_uri": "https://localhost:8080/"
        },
        "id": "kWd2-8MDlF9_",
        "outputId": "018e97fd-86b9-4a9f-ab67-95db1d96b874"
      },
      "source": [
        "# Model training \n",
        "\n",
        "history = final_model.fit(x = [x_train_topic_pad_glove, x_train_tweet_pad_glove],\n",
        "                    y = y_train,\n",
        "                    epochs=50,\n",
        "                    batch_size=512,\n",
        "                    validation_data=([x_dev_topic_pad_glove, x_dev_tweet_pad_glove], y_dev),\n",
        "                    verbose=1)"
      ],
      "execution_count": null,
      "outputs": [
        {
          "output_type": "stream",
          "text": [
            "Epoch 1/50\n",
            "35/35 [==============================] - 32s 886ms/step - loss: 0.2258 - accuracy: 0.7060 - val_loss: 0.1434 - val_accuracy: 0.7842\n",
            "Epoch 2/50\n",
            "35/35 [==============================] - 31s 882ms/step - loss: 0.1126 - accuracy: 0.8522 - val_loss: 0.1408 - val_accuracy: 0.8060\n",
            "Epoch 3/50\n",
            "35/35 [==============================] - 31s 875ms/step - loss: 0.0925 - accuracy: 0.8820 - val_loss: 0.1300 - val_accuracy: 0.8053\n",
            "Epoch 4/50\n",
            "35/35 [==============================] - 31s 884ms/step - loss: 0.0781 - accuracy: 0.8983 - val_loss: 0.1226 - val_accuracy: 0.8219\n",
            "Epoch 5/50\n",
            "35/35 [==============================] - 31s 875ms/step - loss: 0.0668 - accuracy: 0.9152 - val_loss: 0.1309 - val_accuracy: 0.7985\n",
            "Epoch 6/50\n",
            "35/35 [==============================] - 31s 881ms/step - loss: 0.0550 - accuracy: 0.9346 - val_loss: 0.1494 - val_accuracy: 0.7819\n",
            "Epoch 7/50\n",
            "35/35 [==============================] - 31s 884ms/step - loss: 0.0453 - accuracy: 0.9488 - val_loss: 0.1410 - val_accuracy: 0.7872\n",
            "Epoch 8/50\n",
            "35/35 [==============================] - 31s 889ms/step - loss: 0.0345 - accuracy: 0.9641 - val_loss: 0.1604 - val_accuracy: 0.7766\n",
            "Epoch 9/50\n",
            "35/35 [==============================] - 31s 884ms/step - loss: 0.0285 - accuracy: 0.9716 - val_loss: 0.1639 - val_accuracy: 0.7842\n",
            "Epoch 10/50\n",
            "35/35 [==============================] - 31s 877ms/step - loss: 0.0274 - accuracy: 0.9716 - val_loss: 0.1403 - val_accuracy: 0.8015\n",
            "Epoch 11/50\n",
            "35/35 [==============================] - 31s 875ms/step - loss: 0.0146 - accuracy: 0.9871 - val_loss: 0.1437 - val_accuracy: 0.7985\n",
            "Epoch 12/50\n",
            "35/35 [==============================] - 31s 887ms/step - loss: 0.0139 - accuracy: 0.9863 - val_loss: 0.1510 - val_accuracy: 0.7894\n",
            "Epoch 13/50\n",
            "35/35 [==============================] - 31s 885ms/step - loss: 0.0089 - accuracy: 0.9922 - val_loss: 0.1440 - val_accuracy: 0.7955\n",
            "Epoch 14/50\n",
            "35/35 [==============================] - 31s 891ms/step - loss: 0.0100 - accuracy: 0.9899 - val_loss: 0.1479 - val_accuracy: 0.7917\n",
            "Epoch 15/50\n",
            "35/35 [==============================] - 31s 873ms/step - loss: 0.0079 - accuracy: 0.9922 - val_loss: 0.1548 - val_accuracy: 0.7902\n",
            "Epoch 16/50\n",
            "35/35 [==============================] - 31s 878ms/step - loss: 0.0057 - accuracy: 0.9946 - val_loss: 0.1588 - val_accuracy: 0.7819\n",
            "Epoch 17/50\n",
            "35/35 [==============================] - 31s 885ms/step - loss: 0.0039 - accuracy: 0.9967 - val_loss: 0.2322 - val_accuracy: 0.7087\n",
            "Epoch 18/50\n",
            "35/35 [==============================] - 31s 878ms/step - loss: 0.0138 - accuracy: 0.9832 - val_loss: 0.1563 - val_accuracy: 0.7970\n",
            "Epoch 19/50\n",
            "35/35 [==============================] - 31s 878ms/step - loss: 0.0109 - accuracy: 0.9869 - val_loss: 0.1516 - val_accuracy: 0.8030\n",
            "Epoch 20/50\n",
            "35/35 [==============================] - 31s 873ms/step - loss: 0.0024 - accuracy: 0.9981 - val_loss: 0.2280 - val_accuracy: 0.7562\n",
            "Epoch 21/50\n",
            "35/35 [==============================] - 31s 873ms/step - loss: 0.0156 - accuracy: 0.9825 - val_loss: 0.1595 - val_accuracy: 0.7857\n",
            "Epoch 22/50\n",
            "35/35 [==============================] - 31s 878ms/step - loss: 0.0070 - accuracy: 0.9912 - val_loss: 0.1575 - val_accuracy: 0.7955\n",
            "Epoch 23/50\n",
            "35/35 [==============================] - 31s 874ms/step - loss: 0.0030 - accuracy: 0.9968 - val_loss: 0.1610 - val_accuracy: 0.7909\n",
            "Epoch 24/50\n",
            "35/35 [==============================] - 31s 878ms/step - loss: 0.0018 - accuracy: 0.9985 - val_loss: 0.1585 - val_accuracy: 0.7940\n",
            "Epoch 25/50\n",
            "35/35 [==============================] - 30s 871ms/step - loss: 0.0071 - accuracy: 0.9914 - val_loss: 0.1580 - val_accuracy: 0.8045\n",
            "Epoch 26/50\n",
            "35/35 [==============================] - 31s 876ms/step - loss: 0.0016 - accuracy: 0.9987 - val_loss: 0.1643 - val_accuracy: 0.7849\n",
            "Epoch 27/50\n",
            "35/35 [==============================] - 30s 869ms/step - loss: 0.0035 - accuracy: 0.9962 - val_loss: 0.1577 - val_accuracy: 0.8000\n",
            "Epoch 28/50\n",
            "35/35 [==============================] - 30s 871ms/step - loss: 0.0017 - accuracy: 0.9987 - val_loss: 0.1610 - val_accuracy: 0.7970\n",
            "Epoch 29/50\n",
            "35/35 [==============================] - 31s 879ms/step - loss: 0.0034 - accuracy: 0.9963 - val_loss: 0.1620 - val_accuracy: 0.8008\n",
            "Epoch 30/50\n",
            "35/35 [==============================] - 31s 875ms/step - loss: 0.0020 - accuracy: 0.9984 - val_loss: 0.1636 - val_accuracy: 0.7977\n",
            "Epoch 31/50\n",
            "35/35 [==============================] - 31s 873ms/step - loss: 0.0017 - accuracy: 0.9982 - val_loss: 0.2269 - val_accuracy: 0.7608\n",
            "Epoch 32/50\n",
            "35/35 [==============================] - 31s 878ms/step - loss: 0.0149 - accuracy: 0.9835 - val_loss: 0.1699 - val_accuracy: 0.7834\n",
            "Epoch 33/50\n",
            "35/35 [==============================] - 31s 874ms/step - loss: 0.0019 - accuracy: 0.9981 - val_loss: 0.1784 - val_accuracy: 0.7638\n",
            "Epoch 34/50\n",
            "35/35 [==============================] - 31s 875ms/step - loss: 0.0168 - accuracy: 0.9773 - val_loss: 0.1654 - val_accuracy: 0.7970\n",
            "Epoch 35/50\n",
            "35/35 [==============================] - 31s 874ms/step - loss: 0.0021 - accuracy: 0.9980 - val_loss: 0.1665 - val_accuracy: 0.7925\n",
            "Epoch 36/50\n",
            "35/35 [==============================] - 31s 876ms/step - loss: 0.0049 - accuracy: 0.9941 - val_loss: 0.1591 - val_accuracy: 0.8038\n",
            "Epoch 37/50\n",
            "35/35 [==============================] - 31s 890ms/step - loss: 0.0016 - accuracy: 0.9985 - val_loss: 0.1631 - val_accuracy: 0.7977\n",
            "Epoch 38/50\n",
            "35/35 [==============================] - 31s 885ms/step - loss: 0.0013 - accuracy: 0.9987 - val_loss: 0.1642 - val_accuracy: 0.7962\n",
            "Epoch 39/50\n",
            "35/35 [==============================] - 31s 892ms/step - loss: 0.0070 - accuracy: 0.9916 - val_loss: 0.1626 - val_accuracy: 0.7992\n",
            "Epoch 40/50\n",
            "35/35 [==============================] - 31s 879ms/step - loss: 0.0013 - accuracy: 0.9988 - val_loss: 0.1658 - val_accuracy: 0.7932\n",
            "Epoch 41/50\n",
            "35/35 [==============================] - 31s 872ms/step - loss: 0.0015 - accuracy: 0.9985 - val_loss: 0.1680 - val_accuracy: 0.8023\n",
            "Epoch 42/50\n",
            "35/35 [==============================] - 30s 870ms/step - loss: 0.0039 - accuracy: 0.9952 - val_loss: 0.1701 - val_accuracy: 0.7985\n",
            "Epoch 43/50\n",
            "35/35 [==============================] - 31s 876ms/step - loss: 0.0016 - accuracy: 0.9984 - val_loss: 0.1714 - val_accuracy: 0.7909\n",
            "Epoch 44/50\n",
            "35/35 [==============================] - 31s 888ms/step - loss: 0.0092 - accuracy: 0.9884 - val_loss: 0.1698 - val_accuracy: 0.7849\n",
            "Epoch 45/50\n",
            "35/35 [==============================] - 31s 878ms/step - loss: 0.0015 - accuracy: 0.9985 - val_loss: 0.1688 - val_accuracy: 0.7857\n",
            "Epoch 46/50\n",
            "35/35 [==============================] - 30s 872ms/step - loss: 0.0013 - accuracy: 0.9987 - val_loss: 0.2132 - val_accuracy: 0.7698\n",
            "Epoch 47/50\n",
            "35/35 [==============================] - 31s 876ms/step - loss: 0.0203 - accuracy: 0.9712 - val_loss: 0.1689 - val_accuracy: 0.7917\n",
            "Epoch 48/50\n",
            "35/35 [==============================] - 31s 875ms/step - loss: 0.0017 - accuracy: 0.9983 - val_loss: 0.1693 - val_accuracy: 0.7917\n",
            "Epoch 49/50\n",
            "35/35 [==============================] - 31s 877ms/step - loss: 0.0013 - accuracy: 0.9987 - val_loss: 0.1718 - val_accuracy: 0.7962\n",
            "Epoch 50/50\n",
            "35/35 [==============================] - 31s 873ms/step - loss: 0.0042 - accuracy: 0.9946 - val_loss: 0.1625 - val_accuracy: 0.8053\n"
          ],
          "name": "stdout"
        }
      ]
    },
    {
      "cell_type": "code",
      "metadata": {
        "colab": {
          "base_uri": "https://localhost:8080/"
        },
        "id": "2X573fZFlEpH",
        "outputId": "8c531c1b-bc26-4a32-feae-667074220e77"
      },
      "source": [
        "# Model evaluation\n",
        "\n",
        "results = final_model.evaluate([x_test_topic_pad_glove, x_test_tweet_pad_glove], y_test)\n",
        "print(results)"
      ],
      "execution_count": null,
      "outputs": [
        {
          "output_type": "stream",
          "text": [
            "194/194 [==============================] - 5s 24ms/step - loss: 0.1921 - accuracy: 0.7657\n",
            "[0.19214408099651337, 0.7657235264778137]\n"
          ],
          "name": "stdout"
        }
      ]
    },
    {
      "cell_type": "markdown",
      "metadata": {
        "id": "_1F4LedRjYrz"
      },
      "source": [
        "\n",
        "**<i> <font color ='darkblue'> Trying deeper LSTM\n",
        " </font></i>**\n",
        "\n"
      ]
    },
    {
      "cell_type": "code",
      "metadata": {
        "colab": {
          "base_uri": "https://localhost:8080/"
        },
        "id": "I_7SaV6IjWXX",
        "outputId": "195369a6-8a90-427f-a8d3-66b4a85a7046"
      },
      "source": [
        "# Deeper LSTM\n",
        "\n",
        "from keras.layers import Input, Embedding, Dense, LSTM, Lambda, concatenate\n",
        "from keras.models import Model\n",
        "input_layer_1 = Input(shape=(16,))\n",
        "input_layer_2 = Input(shape=(128,))\n",
        "#First Input\n",
        "embedding_layer_1 = embeddingLayer(input_layer_1)\n",
        "lstm_layer_1 = LSTM(100, return_sequences=False)(embedding_layer_1)\n",
        "dense_layer_1 = Dense(16)(lstm_layer_1)\n",
        "output_dense_layer_1 = Dense(16)(dense_layer_1)\n",
        "model_1 = Model(inputs= input_layer_1, outputs=output_dense_layer_1)\n",
        "#Second Input\n",
        "embedding_layer_2 = embeddingLayer(input_layer_2)\n",
        "lstm_layer_2 = LSTM(100, return_sequences=False)(embedding_layer_2)\n",
        "dense_layer_2 = Dense(16)(lstm_layer_2)\n",
        "output_dense_layer_2 = Dense(16)(dense_layer_2)\n",
        "model_2 = Model(inputs= input_layer_2, outputs=output_dense_layer_2)\n",
        "\n",
        "combined_layer = concatenate([model_1.output, model_2.output])\n",
        "\n",
        "output_dense_layer = Dense(1, activation='sigmoid')(combined_layer)\n",
        "\n",
        "final_model = Model(inputs=[model_1.input, model_2.input], outputs = output_dense_layer)\n",
        "final_model.compile('adam', 'binary_crossentropy', metrics=['accuracy'])\n",
        "final_model.summary()\n",
        "\n",
        "\n"
      ],
      "execution_count": null,
      "outputs": [
        {
          "output_type": "stream",
          "text": [
            "Model: \"model_23\"\n",
            "__________________________________________________________________________________________________\n",
            "Layer (type)                    Output Shape         Param #     Connected to                     \n",
            "==================================================================================================\n",
            "input_19 (InputLayer)           [(None, 16)]         0                                            \n",
            "__________________________________________________________________________________________________\n",
            "input_20 (InputLayer)           [(None, 128)]        0                                            \n",
            "__________________________________________________________________________________________________\n",
            "GloVe_Embeddings (Embedding)    multiple             120000300   input_19[0][0]                   \n",
            "                                                                 input_20[0][0]                   \n",
            "__________________________________________________________________________________________________\n",
            "lstm_6 (LSTM)                   (None, 100)          160400      GloVe_Embeddings[14][0]          \n",
            "__________________________________________________________________________________________________\n",
            "lstm_7 (LSTM)                   (None, 100)          160400      GloVe_Embeddings[15][0]          \n",
            "__________________________________________________________________________________________________\n",
            "dense_27 (Dense)                (None, 16)           1616        lstm_6[0][0]                     \n",
            "__________________________________________________________________________________________________\n",
            "dense_29 (Dense)                (None, 16)           1616        lstm_7[0][0]                     \n",
            "__________________________________________________________________________________________________\n",
            "dense_28 (Dense)                (None, 16)           272         dense_27[0][0]                   \n",
            "__________________________________________________________________________________________________\n",
            "dense_30 (Dense)                (None, 16)           272         dense_29[0][0]                   \n",
            "__________________________________________________________________________________________________\n",
            "concatenate_5 (Concatenate)     (None, 32)           0           dense_28[0][0]                   \n",
            "                                                                 dense_30[0][0]                   \n",
            "__________________________________________________________________________________________________\n",
            "dense_31 (Dense)                (None, 1)            33          concatenate_5[0][0]              \n",
            "==================================================================================================\n",
            "Total params: 120,324,909\n",
            "Trainable params: 324,609\n",
            "Non-trainable params: 120,000,300\n",
            "__________________________________________________________________________________________________\n"
          ],
          "name": "stdout"
        }
      ]
    },
    {
      "cell_type": "code",
      "metadata": {
        "colab": {
          "base_uri": "https://localhost:8080/"
        },
        "id": "Y7G8JP89k6E2",
        "outputId": "433f7e50-f246-477f-e930-f4eec4def134"
      },
      "source": [
        "# Model training \n",
        "\n",
        "history = final_model.fit(x = [x_train_topic_pad_glove, x_train_tweet_pad_glove],\n",
        "                    y = y_train,\n",
        "                    epochs=50,\n",
        "                    batch_size=512,\n",
        "                    validation_data=([x_dev_topic_pad_glove, x_dev_tweet_pad_glove], y_dev),\n",
        "                    verbose=1)"
      ],
      "execution_count": null,
      "outputs": [
        {
          "output_type": "stream",
          "text": [
            "Epoch 1/50\n",
            "35/35 [==============================] - 33s 858ms/step - loss: 0.5751 - accuracy: 0.7592 - val_loss: 0.4650 - val_accuracy: 0.7706\n",
            "Epoch 2/50\n",
            "35/35 [==============================] - 29s 839ms/step - loss: 0.3844 - accuracy: 0.8442 - val_loss: 0.4898 - val_accuracy: 0.7857\n",
            "Epoch 3/50\n",
            "35/35 [==============================] - 29s 837ms/step - loss: 0.3800 - accuracy: 0.8405 - val_loss: 0.5005 - val_accuracy: 0.7457\n",
            "Epoch 4/50\n",
            "35/35 [==============================] - 30s 846ms/step - loss: 0.3590 - accuracy: 0.8537 - val_loss: 0.4970 - val_accuracy: 0.7592\n",
            "Epoch 5/50\n",
            "35/35 [==============================] - 30s 867ms/step - loss: 0.3625 - accuracy: 0.8504 - val_loss: 0.4992 - val_accuracy: 0.7857\n",
            "Epoch 6/50\n",
            "35/35 [==============================] - 30s 847ms/step - loss: 0.3619 - accuracy: 0.8495 - val_loss: 0.5029 - val_accuracy: 0.7857\n",
            "Epoch 7/50\n",
            "35/35 [==============================] - 30s 847ms/step - loss: 0.3562 - accuracy: 0.8550 - val_loss: 0.5052 - val_accuracy: 0.7457\n",
            "Epoch 8/50\n",
            "35/35 [==============================] - 30s 849ms/step - loss: 0.3489 - accuracy: 0.8526 - val_loss: 0.5067 - val_accuracy: 0.7457\n",
            "Epoch 9/50\n",
            "35/35 [==============================] - 29s 841ms/step - loss: 0.3530 - accuracy: 0.8490 - val_loss: 0.5111 - val_accuracy: 0.7457\n",
            "Epoch 10/50\n",
            "35/35 [==============================] - 29s 834ms/step - loss: 0.3554 - accuracy: 0.8483 - val_loss: 0.4943 - val_accuracy: 0.7592\n",
            "Epoch 11/50\n",
            "35/35 [==============================] - 30s 845ms/step - loss: 0.3587 - accuracy: 0.8498 - val_loss: 0.5062 - val_accuracy: 0.7457\n",
            "Epoch 12/50\n",
            "35/35 [==============================] - 29s 837ms/step - loss: 0.3566 - accuracy: 0.8517 - val_loss: 0.5060 - val_accuracy: 0.7457\n",
            "Epoch 13/50\n",
            "35/35 [==============================] - 29s 836ms/step - loss: 0.3466 - accuracy: 0.8525 - val_loss: 0.5057 - val_accuracy: 0.7457\n",
            "Epoch 14/50\n",
            "35/35 [==============================] - 29s 839ms/step - loss: 0.3544 - accuracy: 0.8528 - val_loss: 0.4971 - val_accuracy: 0.7457\n",
            "Epoch 15/50\n",
            "35/35 [==============================] - 30s 851ms/step - loss: 0.3526 - accuracy: 0.8506 - val_loss: 0.5022 - val_accuracy: 0.7457\n",
            "Epoch 16/50\n",
            "35/35 [==============================] - 29s 832ms/step - loss: 0.3579 - accuracy: 0.8497 - val_loss: 0.5019 - val_accuracy: 0.7457\n",
            "Epoch 17/50\n",
            "35/35 [==============================] - 29s 828ms/step - loss: 0.3485 - accuracy: 0.8544 - val_loss: 0.5115 - val_accuracy: 0.7457\n",
            "Epoch 18/50\n",
            "35/35 [==============================] - 29s 830ms/step - loss: 0.3551 - accuracy: 0.8510 - val_loss: 0.5248 - val_accuracy: 0.7457\n",
            "Epoch 19/50\n",
            "35/35 [==============================] - 29s 835ms/step - loss: 0.3478 - accuracy: 0.8518 - val_loss: 0.5097 - val_accuracy: 0.7457\n",
            "Epoch 20/50\n",
            "35/35 [==============================] - 29s 830ms/step - loss: 0.3553 - accuracy: 0.8480 - val_loss: 0.5047 - val_accuracy: 0.7457\n",
            "Epoch 21/50\n",
            "35/35 [==============================] - 30s 865ms/step - loss: 0.3503 - accuracy: 0.8533 - val_loss: 0.5057 - val_accuracy: 0.7457\n",
            "Epoch 22/50\n",
            "35/35 [==============================] - 30s 850ms/step - loss: 0.3517 - accuracy: 0.8527 - val_loss: 0.5100 - val_accuracy: 0.7457\n",
            "Epoch 23/50\n",
            "35/35 [==============================] - 29s 826ms/step - loss: 0.3517 - accuracy: 0.8507 - val_loss: 0.5011 - val_accuracy: 0.7457\n",
            "Epoch 24/50\n",
            "35/35 [==============================] - 29s 830ms/step - loss: 0.3517 - accuracy: 0.8491 - val_loss: 0.5048 - val_accuracy: 0.7457\n",
            "Epoch 25/50\n",
            "35/35 [==============================] - 29s 834ms/step - loss: 0.3448 - accuracy: 0.8553 - val_loss: 0.5114 - val_accuracy: 0.7457\n",
            "Epoch 26/50\n",
            "35/35 [==============================] - 30s 848ms/step - loss: 0.3513 - accuracy: 0.8527 - val_loss: 0.5041 - val_accuracy: 0.7457\n",
            "Epoch 27/50\n",
            "35/35 [==============================] - 29s 832ms/step - loss: 0.3541 - accuracy: 0.8498 - val_loss: 0.5091 - val_accuracy: 0.7457\n",
            "Epoch 28/50\n",
            "35/35 [==============================] - 29s 840ms/step - loss: 0.3517 - accuracy: 0.8530 - val_loss: 0.5108 - val_accuracy: 0.7457\n",
            "Epoch 29/50\n",
            "35/35 [==============================] - 29s 841ms/step - loss: 0.3541 - accuracy: 0.8516 - val_loss: 0.5062 - val_accuracy: 0.7457\n",
            "Epoch 30/50\n",
            "35/35 [==============================] - 29s 836ms/step - loss: 0.3518 - accuracy: 0.8512 - val_loss: 0.5131 - val_accuracy: 0.7457\n",
            "Epoch 31/50\n",
            "35/35 [==============================] - 29s 826ms/step - loss: 0.3563 - accuracy: 0.8508 - val_loss: 0.5086 - val_accuracy: 0.7457\n",
            "Epoch 32/50\n",
            "35/35 [==============================] - 30s 850ms/step - loss: 0.3458 - accuracy: 0.8555 - val_loss: 0.5010 - val_accuracy: 0.7457\n",
            "Epoch 33/50\n",
            "35/35 [==============================] - 30s 842ms/step - loss: 0.3494 - accuracy: 0.8537 - val_loss: 0.5187 - val_accuracy: 0.7457\n",
            "Epoch 34/50\n",
            "35/35 [==============================] - 29s 835ms/step - loss: 0.3449 - accuracy: 0.8555 - val_loss: 0.5174 - val_accuracy: 0.7457\n",
            "Epoch 35/50\n",
            "35/35 [==============================] - 29s 830ms/step - loss: 0.3450 - accuracy: 0.8565 - val_loss: 0.5083 - val_accuracy: 0.7457\n",
            "Epoch 36/50\n",
            "35/35 [==============================] - 30s 858ms/step - loss: 0.3487 - accuracy: 0.8527 - val_loss: 0.5158 - val_accuracy: 0.7457\n",
            "Epoch 37/50\n",
            "35/35 [==============================] - 29s 834ms/step - loss: 0.3521 - accuracy: 0.8509 - val_loss: 0.5069 - val_accuracy: 0.7457\n",
            "Epoch 38/50\n",
            "35/35 [==============================] - 29s 842ms/step - loss: 0.3449 - accuracy: 0.8559 - val_loss: 0.5167 - val_accuracy: 0.7457\n",
            "Epoch 39/50\n",
            "35/35 [==============================] - 29s 840ms/step - loss: 0.3544 - accuracy: 0.8517 - val_loss: 0.5080 - val_accuracy: 0.7457\n",
            "Epoch 40/50\n",
            "35/35 [==============================] - 29s 835ms/step - loss: 0.3448 - accuracy: 0.8580 - val_loss: 0.5125 - val_accuracy: 0.7457\n",
            "Epoch 41/50\n",
            "35/35 [==============================] - 29s 832ms/step - loss: 0.3520 - accuracy: 0.8509 - val_loss: 0.5111 - val_accuracy: 0.7457\n",
            "Epoch 42/50\n",
            "35/35 [==============================] - 29s 842ms/step - loss: 0.3461 - accuracy: 0.8536 - val_loss: 0.5133 - val_accuracy: 0.7457\n",
            "Epoch 43/50\n",
            "35/35 [==============================] - 30s 862ms/step - loss: 0.3513 - accuracy: 0.8532 - val_loss: 0.5074 - val_accuracy: 0.7457\n",
            "Epoch 44/50\n",
            "35/35 [==============================] - 29s 827ms/step - loss: 0.3464 - accuracy: 0.8554 - val_loss: 0.5089 - val_accuracy: 0.7457\n",
            "Epoch 45/50\n",
            "35/35 [==============================] - 29s 831ms/step - loss: 0.3537 - accuracy: 0.8473 - val_loss: 0.5108 - val_accuracy: 0.7457\n",
            "Epoch 46/50\n",
            "35/35 [==============================] - 29s 831ms/step - loss: 0.3508 - accuracy: 0.8510 - val_loss: 0.5106 - val_accuracy: 0.7457\n",
            "Epoch 47/50\n",
            "35/35 [==============================] - 29s 836ms/step - loss: 0.3532 - accuracy: 0.8466 - val_loss: 0.5225 - val_accuracy: 0.7457\n",
            "Epoch 48/50\n",
            "35/35 [==============================] - 29s 833ms/step - loss: 0.3494 - accuracy: 0.8546 - val_loss: 0.5139 - val_accuracy: 0.7457\n",
            "Epoch 49/50\n",
            "35/35 [==============================] - 29s 835ms/step - loss: 0.3505 - accuracy: 0.8542 - val_loss: 0.5070 - val_accuracy: 0.7457\n",
            "Epoch 50/50\n",
            "35/35 [==============================] - 29s 830ms/step - loss: 0.3442 - accuracy: 0.8549 - val_loss: 0.5114 - val_accuracy: 0.7457\n"
          ],
          "name": "stdout"
        }
      ]
    },
    {
      "cell_type": "code",
      "metadata": {
        "colab": {
          "base_uri": "https://localhost:8080/"
        },
        "id": "E-4xz6-Nk8Qk",
        "outputId": "0dafa68f-11f0-4d4c-8962-16dc55ff157e"
      },
      "source": [
        "# Model evaluation\n",
        "\n",
        "results = final_model.evaluate([x_test_topic_pad_glove, x_test_tweet_pad_glove], y_test)\n",
        "print(results)"
      ],
      "execution_count": null,
      "outputs": [
        {
          "output_type": "stream",
          "text": [
            "194/194 [==============================] - 8s 40ms/step - loss: 0.8147 - accuracy: 0.6129\n",
            "[0.814711332321167, 0.6129345297813416]\n"
          ],
          "name": "stdout"
        }
      ]
    },
    {
      "cell_type": "markdown",
      "metadata": {
        "id": "36gvfDowi_Wr"
      },
      "source": [
        "\n",
        "**<i> <font color ='darkblue'> Trying bi-directional LSTM\n",
        " </font></i>**"
      ]
    },
    {
      "cell_type": "code",
      "metadata": {
        "colab": {
          "base_uri": "https://localhost:8080/"
        },
        "id": "kjb9XPJyhwAM",
        "outputId": "9628e5e6-c022-4c11-bed0-b5894bc4c028"
      },
      "source": [
        "# Bi-directional LSTM\n",
        "\n",
        "from keras.layers import Input, Embedding, Dense, LSTM, Lambda, concatenate\n",
        "from keras.models import Model\n",
        "input_layer_1 = Input(shape=(16,))\n",
        "input_layer_2 = Input(shape=(128,))\n",
        "#First Input\n",
        "embedding_layer_1 = embeddingLayer(input_layer_1)\n",
        "lstm_layer_1 = Bidirectional(LSTM(100, return_sequences=False))(embedding_layer_1)\n",
        "output_dense_layer_1 = Dense(16)(lstm_layer_1)\n",
        "model_1 = Model(inputs= input_layer_1, outputs=output_dense_layer_1)\n",
        "#Second Input\n",
        "embedding_layer_2 = embeddingLayer(input_layer_2)\n",
        "lstm_layer_2 = Bidirectional(LSTM(100, return_sequences=False))(embedding_layer_2)\n",
        "output_dense_layer_2 = Dense(16)(lstm_layer_2)\n",
        "model_2 = Model(inputs= input_layer_2, outputs=output_dense_layer_2)\n",
        "\n",
        "combined_layer = concatenate([model_1.output, model_2.output])\n",
        "\n",
        "output_dense_layer = Dense(1, activation='sigmoid')(combined_layer)\n",
        "\n",
        "final_model = Model(inputs=[model_1.input, model_2.input], outputs = output_dense_layer)\n",
        "final_model.compile('adam', 'binary_crossentropy', metrics=['accuracy'])\n",
        "final_model.summary()\n",
        "\n"
      ],
      "execution_count": null,
      "outputs": [
        {
          "output_type": "stream",
          "text": [
            "Model: \"model_26\"\n",
            "__________________________________________________________________________________________________\n",
            "Layer (type)                    Output Shape         Param #     Connected to                     \n",
            "==================================================================================================\n",
            "input_21 (InputLayer)           [(None, 16)]         0                                            \n",
            "__________________________________________________________________________________________________\n",
            "input_22 (InputLayer)           [(None, 128)]        0                                            \n",
            "__________________________________________________________________________________________________\n",
            "GloVe_Embeddings (Embedding)    multiple             120000300   input_21[0][0]                   \n",
            "                                                                 input_22[0][0]                   \n",
            "__________________________________________________________________________________________________\n",
            "bidirectional (Bidirectional)   (None, 200)          320800      GloVe_Embeddings[16][0]          \n",
            "__________________________________________________________________________________________________\n",
            "bidirectional_1 (Bidirectional) (None, 200)          320800      GloVe_Embeddings[17][0]          \n",
            "__________________________________________________________________________________________________\n",
            "dense_32 (Dense)                (None, 16)           3216        bidirectional[0][0]              \n",
            "__________________________________________________________________________________________________\n",
            "dense_33 (Dense)                (None, 16)           3216        bidirectional_1[0][0]            \n",
            "__________________________________________________________________________________________________\n",
            "concatenate_6 (Concatenate)     (None, 32)           0           dense_32[0][0]                   \n",
            "                                                                 dense_33[0][0]                   \n",
            "__________________________________________________________________________________________________\n",
            "dense_34 (Dense)                (None, 1)            33          concatenate_6[0][0]              \n",
            "==================================================================================================\n",
            "Total params: 120,648,365\n",
            "Trainable params: 648,065\n",
            "Non-trainable params: 120,000,300\n",
            "__________________________________________________________________________________________________\n"
          ],
          "name": "stdout"
        }
      ]
    },
    {
      "cell_type": "code",
      "metadata": {
        "colab": {
          "base_uri": "https://localhost:8080/"
        },
        "id": "3u7pGakbjFcq",
        "outputId": "9800f2b6-103e-4076-c3cd-6920dfb2b851"
      },
      "source": [
        "# Model training \n",
        "\n",
        "history = final_model.fit(x = [x_train_topic_pad_glove, x_train_tweet_pad_glove],\n",
        "                    y = y_train,\n",
        "                    epochs=50,\n",
        "                    batch_size=512,\n",
        "                    validation_data=([x_dev_topic_pad_glove, x_dev_tweet_pad_glove], y_dev),\n",
        "                    verbose=1)"
      ],
      "execution_count": null,
      "outputs": [
        {
          "output_type": "stream",
          "text": [
            "Epoch 1/50\n",
            "35/35 [==============================] - 60s 2s/step - loss: 0.4811 - accuracy: 0.8007 - val_loss: 0.4499 - val_accuracy: 0.7683\n",
            "Epoch 2/50\n",
            "35/35 [==============================] - 53s 2s/step - loss: 0.3254 - accuracy: 0.8642 - val_loss: 0.3936 - val_accuracy: 0.8249\n",
            "Epoch 3/50\n",
            "35/35 [==============================] - 53s 2s/step - loss: 0.2744 - accuracy: 0.8856 - val_loss: 0.4074 - val_accuracy: 0.8045\n",
            "Epoch 4/50\n",
            "35/35 [==============================] - 52s 1s/step - loss: 0.2565 - accuracy: 0.8940 - val_loss: 0.4039 - val_accuracy: 0.8121\n",
            "Epoch 5/50\n",
            "35/35 [==============================] - 52s 1s/step - loss: 0.2472 - accuracy: 0.8975 - val_loss: 0.4002 - val_accuracy: 0.8196\n",
            "Epoch 6/50\n",
            "35/35 [==============================] - 53s 2s/step - loss: 0.2379 - accuracy: 0.9029 - val_loss: 0.4112 - val_accuracy: 0.8136\n",
            "Epoch 7/50\n",
            "35/35 [==============================] - 52s 1s/step - loss: 0.2297 - accuracy: 0.9049 - val_loss: 0.4085 - val_accuracy: 0.8234\n",
            "Epoch 8/50\n",
            "35/35 [==============================] - 53s 2s/step - loss: 0.2075 - accuracy: 0.9150 - val_loss: 0.4465 - val_accuracy: 0.8038\n",
            "Epoch 9/50\n",
            "35/35 [==============================] - 53s 2s/step - loss: 0.2009 - accuracy: 0.9199 - val_loss: 0.4511 - val_accuracy: 0.8038\n",
            "Epoch 10/50\n",
            "35/35 [==============================] - 53s 2s/step - loss: 0.1956 - accuracy: 0.9216 - val_loss: 0.4453 - val_accuracy: 0.8181\n",
            "Epoch 11/50\n",
            "35/35 [==============================] - 52s 1s/step - loss: 0.1637 - accuracy: 0.9371 - val_loss: 0.4688 - val_accuracy: 0.8053\n",
            "Epoch 12/50\n",
            "35/35 [==============================] - 52s 1s/step - loss: 0.1459 - accuracy: 0.9428 - val_loss: 0.5489 - val_accuracy: 0.8000\n",
            "Epoch 13/50\n",
            "35/35 [==============================] - 53s 2s/step - loss: 0.1372 - accuracy: 0.9472 - val_loss: 0.6236 - val_accuracy: 0.7887\n",
            "Epoch 14/50\n",
            "35/35 [==============================] - 53s 2s/step - loss: 0.0985 - accuracy: 0.9654 - val_loss: 0.6100 - val_accuracy: 0.8083\n",
            "Epoch 15/50\n",
            "35/35 [==============================] - 53s 2s/step - loss: 0.0770 - accuracy: 0.9735 - val_loss: 0.7240 - val_accuracy: 0.7985\n",
            "Epoch 16/50\n",
            "35/35 [==============================] - 53s 2s/step - loss: 0.0559 - accuracy: 0.9814 - val_loss: 0.7746 - val_accuracy: 0.7879\n",
            "Epoch 17/50\n",
            "35/35 [==============================] - 53s 2s/step - loss: 0.0448 - accuracy: 0.9852 - val_loss: 0.7821 - val_accuracy: 0.7962\n",
            "Epoch 18/50\n",
            "35/35 [==============================] - 52s 1s/step - loss: 0.0409 - accuracy: 0.9867 - val_loss: 0.9268 - val_accuracy: 0.7932\n",
            "Epoch 19/50\n",
            "35/35 [==============================] - 53s 2s/step - loss: 0.0245 - accuracy: 0.9926 - val_loss: 0.9858 - val_accuracy: 0.7849\n",
            "Epoch 20/50\n",
            "35/35 [==============================] - 53s 2s/step - loss: 0.0133 - accuracy: 0.9972 - val_loss: 1.1042 - val_accuracy: 0.7947\n",
            "Epoch 21/50\n",
            "35/35 [==============================] - 53s 2s/step - loss: 0.0078 - accuracy: 0.9989 - val_loss: 1.1913 - val_accuracy: 0.7940\n",
            "Epoch 22/50\n",
            "35/35 [==============================] - 52s 1s/step - loss: 0.0040 - accuracy: 0.9996 - val_loss: 1.2305 - val_accuracy: 0.8053\n",
            "Epoch 23/50\n",
            "35/35 [==============================] - 52s 1s/step - loss: 0.0026 - accuracy: 0.9999 - val_loss: 1.3852 - val_accuracy: 0.8000\n",
            "Epoch 24/50\n",
            "35/35 [==============================] - 53s 2s/step - loss: 0.0017 - accuracy: 1.0000 - val_loss: 1.3939 - val_accuracy: 0.7962\n",
            "Epoch 25/50\n",
            "35/35 [==============================] - 53s 2s/step - loss: 9.5756e-04 - accuracy: 0.9999 - val_loss: 1.4665 - val_accuracy: 0.8030\n",
            "Epoch 26/50\n",
            "35/35 [==============================] - 53s 2s/step - loss: 5.7425e-04 - accuracy: 1.0000 - val_loss: 1.5223 - val_accuracy: 0.7985\n",
            "Epoch 27/50\n",
            "35/35 [==============================] - 53s 2s/step - loss: 4.4513e-04 - accuracy: 1.0000 - val_loss: 1.5649 - val_accuracy: 0.7992\n",
            "Epoch 28/50\n",
            "35/35 [==============================] - 53s 2s/step - loss: 3.4687e-04 - accuracy: 1.0000 - val_loss: 1.6033 - val_accuracy: 0.8038\n",
            "Epoch 29/50\n",
            "35/35 [==============================] - 52s 1s/step - loss: 3.2144e-04 - accuracy: 1.0000 - val_loss: 1.6387 - val_accuracy: 0.7970\n",
            "Epoch 30/50\n",
            "35/35 [==============================] - 52s 1s/step - loss: 3.0144e-04 - accuracy: 1.0000 - val_loss: 1.6657 - val_accuracy: 0.8023\n",
            "Epoch 31/50\n",
            "35/35 [==============================] - 53s 2s/step - loss: 2.5427e-04 - accuracy: 1.0000 - val_loss: 1.6941 - val_accuracy: 0.8015\n",
            "Epoch 32/50\n",
            "35/35 [==============================] - 53s 2s/step - loss: 2.0800e-04 - accuracy: 1.0000 - val_loss: 1.7187 - val_accuracy: 0.8000\n",
            "Epoch 33/50\n",
            "35/35 [==============================] - 53s 2s/step - loss: 1.7418e-04 - accuracy: 1.0000 - val_loss: 1.7408 - val_accuracy: 0.8015\n",
            "Epoch 34/50\n",
            "35/35 [==============================] - 52s 1s/step - loss: 1.7199e-04 - accuracy: 1.0000 - val_loss: 1.7675 - val_accuracy: 0.8000\n",
            "Epoch 35/50\n",
            "35/35 [==============================] - 52s 1s/step - loss: 1.4818e-04 - accuracy: 1.0000 - val_loss: 1.7851 - val_accuracy: 0.8015\n",
            "Epoch 36/50\n",
            "35/35 [==============================] - 52s 1s/step - loss: 1.3929e-04 - accuracy: 1.0000 - val_loss: 1.8078 - val_accuracy: 0.8008\n",
            "Epoch 37/50\n",
            "35/35 [==============================] - 53s 2s/step - loss: 1.3414e-04 - accuracy: 1.0000 - val_loss: 1.8263 - val_accuracy: 0.8008\n",
            "Epoch 38/50\n",
            "35/35 [==============================] - 52s 1s/step - loss: 1.1881e-04 - accuracy: 1.0000 - val_loss: 1.8427 - val_accuracy: 0.8008\n",
            "Epoch 39/50\n",
            "35/35 [==============================] - 53s 2s/step - loss: 1.1050e-04 - accuracy: 1.0000 - val_loss: 1.8615 - val_accuracy: 0.8015\n",
            "Epoch 40/50\n",
            "35/35 [==============================] - 52s 1s/step - loss: 1.0125e-04 - accuracy: 1.0000 - val_loss: 1.8814 - val_accuracy: 0.8015\n",
            "Epoch 41/50\n",
            "35/35 [==============================] - 52s 1s/step - loss: 8.8768e-05 - accuracy: 1.0000 - val_loss: 1.8956 - val_accuracy: 0.8015\n",
            "Epoch 42/50\n",
            "35/35 [==============================] - 52s 1s/step - loss: 8.5255e-05 - accuracy: 1.0000 - val_loss: 1.9147 - val_accuracy: 0.8023\n",
            "Epoch 43/50\n",
            "35/35 [==============================] - 53s 2s/step - loss: 7.6589e-05 - accuracy: 1.0000 - val_loss: 1.9307 - val_accuracy: 0.8015\n",
            "Epoch 44/50\n",
            "35/35 [==============================] - 52s 1s/step - loss: 7.1694e-05 - accuracy: 1.0000 - val_loss: 1.9434 - val_accuracy: 0.8023\n",
            "Epoch 45/50\n",
            "35/35 [==============================] - 52s 2s/step - loss: 6.8070e-05 - accuracy: 1.0000 - val_loss: 1.9578 - val_accuracy: 0.8015\n",
            "Epoch 46/50\n",
            "35/35 [==============================] - 52s 1s/step - loss: 6.9872e-05 - accuracy: 1.0000 - val_loss: 1.9732 - val_accuracy: 0.8030\n",
            "Epoch 47/50\n",
            "35/35 [==============================] - 52s 1s/step - loss: 6.4831e-05 - accuracy: 1.0000 - val_loss: 1.9901 - val_accuracy: 0.8023\n",
            "Epoch 48/50\n",
            "35/35 [==============================] - 53s 2s/step - loss: 5.3632e-05 - accuracy: 1.0000 - val_loss: 1.9989 - val_accuracy: 0.8023\n",
            "Epoch 49/50\n",
            "35/35 [==============================] - 52s 1s/step - loss: 5.6067e-05 - accuracy: 1.0000 - val_loss: 2.0118 - val_accuracy: 0.8008\n",
            "Epoch 50/50\n",
            "35/35 [==============================] - 52s 1s/step - loss: 5.0958e-05 - accuracy: 1.0000 - val_loss: 2.0280 - val_accuracy: 0.8023\n"
          ],
          "name": "stdout"
        }
      ]
    },
    {
      "cell_type": "code",
      "metadata": {
        "colab": {
          "base_uri": "https://localhost:8080/"
        },
        "id": "lpzhcxKejPEV",
        "outputId": "ae6f2386-d744-45d6-99be-520280f978c7"
      },
      "source": [
        "# Model evaluation\n",
        "\n",
        "results = final_model.evaluate([x_test_topic_pad_glove, x_test_tweet_pad_glove], y_test)\n",
        "print(results)"
      ],
      "execution_count": null,
      "outputs": [
        {
          "output_type": "stream",
          "text": [
            "194/194 [==============================] - 13s 66ms/step - loss: 2.1908 - accuracy: 0.7740\n",
            "[2.1908164024353027, 0.773969292640686]\n"
          ],
          "name": "stdout"
        }
      ]
    },
    {
      "cell_type": "markdown",
      "metadata": {
        "id": "eJET-AIUw16-"
      },
      "source": [
        "\n",
        "**<i> <font color ='darkblue'> Trying CNN with fine-tuned embeddings\n",
        " </font></i>**\n",
        "\n"
      ]
    },
    {
      "cell_type": "code",
      "metadata": {
        "colab": {
          "base_uri": "https://localhost:8080/"
        },
        "id": "UR6FMk6zw4_0",
        "outputId": "3847b1a0-e98a-4262-e8dc-4856589cf015"
      },
      "source": [
        "from keras.layers import Input, Embedding, Dense, LSTM, Lambda, concatenate\n",
        "from keras.models import Model\n",
        "input_layer_1 = Input(shape=(16,))\n",
        "input_layer_2 = Input(shape=(128,))\n",
        "#First Input\n",
        "embeddingLayer=createPretrainedEmbeddingLayer(wordToGlove,wordToIndex,isTrainable=True)\n",
        "embedding_layer_1 = embeddingLayer(input_layer_1)\n",
        "cnn_layer_1 = keras.layers.Conv1D(100, 6)(embedding_layer_1)\n",
        "pooling_layer_1 = GlobalMaxPooling1D()(cnn_layer_1)\n",
        "output_dense_layer_1 = Dense(16)(pooling_layer_1)\n",
        "model_1 = Model(inputs= input_layer_1, outputs=output_dense_layer_1)\n",
        "#Second Input\n",
        "embedding_layer_2 = embeddingLayer(input_layer_2)\n",
        "cnn_layer_2 = keras.layers.Conv1D(100, 6)(embedding_layer_2)\n",
        "pooling_layer_1 = GlobalMaxPooling1D()(cnn_layer_2)\n",
        "output_dense_layer_2 = Dense(16)(pooling_layer_1)\n",
        "model_2 = Model(inputs= input_layer_2, outputs=output_dense_layer_2)\n",
        "\n",
        "combined_layer = concatenate([model_1.output, model_2.output])\n",
        "\n",
        "output_dense_layer = Dense(1, activation='sigmoid')(combined_layer)\n",
        "\n",
        "final_model = Model(inputs=[model_1.input, model_2.input], outputs = output_dense_layer)\n",
        "final_model.compile('adam', 'binary_crossentropy', metrics=['accuracy'])\n",
        "final_model.summary()\n"
      ],
      "execution_count": null,
      "outputs": [
        {
          "output_type": "stream",
          "text": [
            "Model: \"model_29\"\n",
            "__________________________________________________________________________________________________\n",
            "Layer (type)                    Output Shape         Param #     Connected to                     \n",
            "==================================================================================================\n",
            "input_25 (InputLayer)           [(None, 16)]         0                                            \n",
            "__________________________________________________________________________________________________\n",
            "input_26 (InputLayer)           [(None, 128)]        0                                            \n",
            "__________________________________________________________________________________________________\n",
            "GloVe_Embeddings (Embedding)    multiple             120000300   input_25[0][0]                   \n",
            "                                                                 input_26[0][0]                   \n",
            "__________________________________________________________________________________________________\n",
            "conv1d_10 (Conv1D)              (None, 11, 100)      180100      GloVe_Embeddings[0][0]           \n",
            "__________________________________________________________________________________________________\n",
            "conv1d_11 (Conv1D)              (None, 123, 100)     180100      GloVe_Embeddings[1][0]           \n",
            "__________________________________________________________________________________________________\n",
            "global_max_pooling1d_6 (GlobalM (None, 100)          0           conv1d_10[0][0]                  \n",
            "__________________________________________________________________________________________________\n",
            "global_max_pooling1d_7 (GlobalM (None, 100)          0           conv1d_11[0][0]                  \n",
            "__________________________________________________________________________________________________\n",
            "dense_35 (Dense)                (None, 16)           1616        global_max_pooling1d_6[0][0]     \n",
            "__________________________________________________________________________________________________\n",
            "dense_36 (Dense)                (None, 16)           1616        global_max_pooling1d_7[0][0]     \n",
            "__________________________________________________________________________________________________\n",
            "concatenate_7 (Concatenate)     (None, 32)           0           dense_35[0][0]                   \n",
            "                                                                 dense_36[0][0]                   \n",
            "__________________________________________________________________________________________________\n",
            "dense_37 (Dense)                (None, 1)            33          concatenate_7[0][0]              \n",
            "==================================================================================================\n",
            "Total params: 120,363,765\n",
            "Trainable params: 120,363,765\n",
            "Non-trainable params: 0\n",
            "__________________________________________________________________________________________________\n"
          ],
          "name": "stdout"
        }
      ]
    },
    {
      "cell_type": "code",
      "metadata": {
        "colab": {
          "base_uri": "https://localhost:8080/"
        },
        "id": "HPb5Ll2ixe2B",
        "outputId": "d21530fc-a36a-4cc2-d03f-cd3f56d1ccd5"
      },
      "source": [
        "# Model training \n",
        "\n",
        "history = final_model.fit(x = [x_train_topic_pad_glove, x_train_tweet_pad_glove],\n",
        "                    y = y_train,\n",
        "                    epochs=50,\n",
        "                    batch_size=512,\n",
        "                    validation_data=([x_dev_topic_pad_glove, x_dev_tweet_pad_glove], y_dev),\n",
        "                    verbose=1)"
      ],
      "execution_count": null,
      "outputs": [
        {
          "output_type": "stream",
          "text": [
            "Epoch 1/50\n",
            "35/35 [==============================] - 62s 2s/step - loss: 0.7903 - accuracy: 0.6947 - val_loss: 0.4291 - val_accuracy: 0.8015\n",
            "Epoch 2/50\n",
            "35/35 [==============================] - 61s 2s/step - loss: 0.3020 - accuracy: 0.8744 - val_loss: 0.3982 - val_accuracy: 0.8136\n",
            "Epoch 3/50\n",
            "35/35 [==============================] - 61s 2s/step - loss: 0.2349 - accuracy: 0.9063 - val_loss: 0.3827 - val_accuracy: 0.8181\n",
            "Epoch 4/50\n",
            "35/35 [==============================] - 60s 2s/step - loss: 0.1904 - accuracy: 0.9308 - val_loss: 0.3839 - val_accuracy: 0.8143\n",
            "Epoch 5/50\n",
            "35/35 [==============================] - 60s 2s/step - loss: 0.1426 - accuracy: 0.9501 - val_loss: 0.3973 - val_accuracy: 0.8113\n",
            "Epoch 6/50\n",
            "35/35 [==============================] - 60s 2s/step - loss: 0.1012 - accuracy: 0.9719 - val_loss: 0.4274 - val_accuracy: 0.8068\n",
            "Epoch 7/50\n",
            "35/35 [==============================] - 61s 2s/step - loss: 0.0692 - accuracy: 0.9870 - val_loss: 0.4525 - val_accuracy: 0.8068\n",
            "Epoch 8/50\n",
            "35/35 [==============================] - 61s 2s/step - loss: 0.0440 - accuracy: 0.9950 - val_loss: 0.4866 - val_accuracy: 0.8060\n",
            "Epoch 9/50\n",
            "35/35 [==============================] - 60s 2s/step - loss: 0.0265 - accuracy: 0.9988 - val_loss: 0.5308 - val_accuracy: 0.8053\n",
            "Epoch 10/50\n",
            "35/35 [==============================] - 60s 2s/step - loss: 0.0175 - accuracy: 0.9990 - val_loss: 0.5621 - val_accuracy: 0.8075\n",
            "Epoch 11/50\n",
            "35/35 [==============================] - 60s 2s/step - loss: 0.0112 - accuracy: 0.9999 - val_loss: 0.5941 - val_accuracy: 0.8045\n",
            "Epoch 12/50\n",
            "35/35 [==============================] - 61s 2s/step - loss: 0.0079 - accuracy: 0.9999 - val_loss: 0.6245 - val_accuracy: 0.8038\n",
            "Epoch 13/50\n",
            "35/35 [==============================] - 61s 2s/step - loss: 0.0056 - accuracy: 1.0000 - val_loss: 0.6439 - val_accuracy: 0.8030\n",
            "Epoch 14/50\n",
            "35/35 [==============================] - 61s 2s/step - loss: 0.0045 - accuracy: 1.0000 - val_loss: 0.6758 - val_accuracy: 0.8045\n",
            "Epoch 15/50\n",
            "35/35 [==============================] - 60s 2s/step - loss: 0.0038 - accuracy: 0.9999 - val_loss: 0.6890 - val_accuracy: 0.8023\n",
            "Epoch 16/50\n",
            "35/35 [==============================] - 60s 2s/step - loss: 0.0029 - accuracy: 1.0000 - val_loss: 0.7157 - val_accuracy: 0.8053\n",
            "Epoch 17/50\n",
            "35/35 [==============================] - 60s 2s/step - loss: 0.0024 - accuracy: 0.9999 - val_loss: 0.7294 - val_accuracy: 0.8053\n",
            "Epoch 18/50\n",
            "35/35 [==============================] - 61s 2s/step - loss: 0.0019 - accuracy: 1.0000 - val_loss: 0.7496 - val_accuracy: 0.8015\n",
            "Epoch 19/50\n",
            "35/35 [==============================] - 60s 2s/step - loss: 0.0017 - accuracy: 1.0000 - val_loss: 0.7664 - val_accuracy: 0.8038\n",
            "Epoch 20/50\n",
            "35/35 [==============================] - 59s 2s/step - loss: 0.0015 - accuracy: 1.0000 - val_loss: 0.7827 - val_accuracy: 0.8030\n",
            "Epoch 21/50\n",
            "35/35 [==============================] - 60s 2s/step - loss: 0.0013 - accuracy: 1.0000 - val_loss: 0.7822 - val_accuracy: 0.8000\n",
            "Epoch 22/50\n",
            "35/35 [==============================] - 60s 2s/step - loss: 0.0013 - accuracy: 1.0000 - val_loss: 0.7979 - val_accuracy: 0.8023\n",
            "Epoch 23/50\n",
            "35/35 [==============================] - 60s 2s/step - loss: 0.0011 - accuracy: 1.0000 - val_loss: 0.8219 - val_accuracy: 0.8015\n",
            "Epoch 24/50\n",
            "35/35 [==============================] - 59s 2s/step - loss: 0.0015 - accuracy: 0.9998 - val_loss: 0.8318 - val_accuracy: 0.8030\n",
            "Epoch 25/50\n",
            "35/35 [==============================] - 60s 2s/step - loss: 8.0244e-04 - accuracy: 1.0000 - val_loss: 0.8377 - val_accuracy: 0.8045\n",
            "Epoch 26/50\n",
            "35/35 [==============================] - 59s 2s/step - loss: 7.2099e-04 - accuracy: 1.0000 - val_loss: 0.8497 - val_accuracy: 0.8038\n",
            "Epoch 27/50\n",
            "35/35 [==============================] - 59s 2s/step - loss: 6.6700e-04 - accuracy: 1.0000 - val_loss: 0.8563 - val_accuracy: 0.8030\n",
            "Epoch 28/50\n",
            "35/35 [==============================] - 60s 2s/step - loss: 6.1544e-04 - accuracy: 1.0000 - val_loss: 0.8699 - val_accuracy: 0.8038\n",
            "Epoch 29/50\n",
            "35/35 [==============================] - 60s 2s/step - loss: 5.4211e-04 - accuracy: 1.0000 - val_loss: 0.8767 - val_accuracy: 0.8023\n",
            "Epoch 30/50\n",
            "35/35 [==============================] - 60s 2s/step - loss: 5.0297e-04 - accuracy: 1.0000 - val_loss: 0.8835 - val_accuracy: 0.8023\n",
            "Epoch 31/50\n",
            "35/35 [==============================] - 59s 2s/step - loss: 4.6038e-04 - accuracy: 1.0000 - val_loss: 0.8974 - val_accuracy: 0.8045\n",
            "Epoch 32/50\n",
            "35/35 [==============================] - 60s 2s/step - loss: 4.1964e-04 - accuracy: 1.0000 - val_loss: 0.9025 - val_accuracy: 0.8015\n",
            "Epoch 33/50\n",
            "35/35 [==============================] - 60s 2s/step - loss: 3.9264e-04 - accuracy: 1.0000 - val_loss: 0.9094 - val_accuracy: 0.8015\n",
            "Epoch 34/50\n",
            "35/35 [==============================] - 60s 2s/step - loss: 3.7262e-04 - accuracy: 1.0000 - val_loss: 0.9197 - val_accuracy: 0.8023\n",
            "Epoch 35/50\n",
            "35/35 [==============================] - 60s 2s/step - loss: 3.4686e-04 - accuracy: 1.0000 - val_loss: 0.9259 - val_accuracy: 0.8023\n",
            "Epoch 36/50\n",
            "35/35 [==============================] - 60s 2s/step - loss: 3.1072e-04 - accuracy: 1.0000 - val_loss: 0.9344 - val_accuracy: 0.8023\n",
            "Epoch 37/50\n",
            "35/35 [==============================] - 60s 2s/step - loss: 2.9334e-04 - accuracy: 1.0000 - val_loss: 0.9391 - val_accuracy: 0.8008\n",
            "Epoch 38/50\n",
            "35/35 [==============================] - 60s 2s/step - loss: 2.8140e-04 - accuracy: 1.0000 - val_loss: 0.9459 - val_accuracy: 0.8008\n",
            "Epoch 39/50\n",
            "35/35 [==============================] - 60s 2s/step - loss: 2.5590e-04 - accuracy: 1.0000 - val_loss: 0.9527 - val_accuracy: 0.8015\n",
            "Epoch 40/50\n",
            "35/35 [==============================] - 60s 2s/step - loss: 2.4897e-04 - accuracy: 1.0000 - val_loss: 0.9619 - val_accuracy: 0.8023\n",
            "Epoch 41/50\n",
            "35/35 [==============================] - 59s 2s/step - loss: 2.3637e-04 - accuracy: 1.0000 - val_loss: 0.9688 - val_accuracy: 0.8023\n",
            "Epoch 42/50\n",
            "35/35 [==============================] - 60s 2s/step - loss: 2.1699e-04 - accuracy: 1.0000 - val_loss: 0.9766 - val_accuracy: 0.8023\n",
            "Epoch 43/50\n",
            "35/35 [==============================] - 59s 2s/step - loss: 2.0801e-04 - accuracy: 1.0000 - val_loss: 0.9821 - val_accuracy: 0.8023\n",
            "Epoch 44/50\n",
            "35/35 [==============================] - 60s 2s/step - loss: 1.9343e-04 - accuracy: 1.0000 - val_loss: 0.9868 - val_accuracy: 0.8015\n",
            "Epoch 45/50\n",
            "35/35 [==============================] - 59s 2s/step - loss: 1.7820e-04 - accuracy: 1.0000 - val_loss: 0.9919 - val_accuracy: 0.8015\n",
            "Epoch 46/50\n",
            "35/35 [==============================] - 59s 2s/step - loss: 1.7652e-04 - accuracy: 1.0000 - val_loss: 0.9998 - val_accuracy: 0.8015\n",
            "Epoch 47/50\n",
            "35/35 [==============================] - 59s 2s/step - loss: 1.6820e-04 - accuracy: 1.0000 - val_loss: 1.0034 - val_accuracy: 0.8023\n",
            "Epoch 48/50\n",
            "35/35 [==============================] - 60s 2s/step - loss: 1.5528e-04 - accuracy: 1.0000 - val_loss: 1.0107 - val_accuracy: 0.8015\n",
            "Epoch 49/50\n",
            "35/35 [==============================] - 61s 2s/step - loss: 1.5085e-04 - accuracy: 1.0000 - val_loss: 1.0170 - val_accuracy: 0.8015\n",
            "Epoch 50/50\n",
            "35/35 [==============================] - 60s 2s/step - loss: 1.4152e-04 - accuracy: 1.0000 - val_loss: 1.0198 - val_accuracy: 0.8015\n"
          ],
          "name": "stdout"
        }
      ]
    },
    {
      "cell_type": "code",
      "metadata": {
        "colab": {
          "base_uri": "https://localhost:8080/"
        },
        "id": "ad4dMksixhp6",
        "outputId": "8a294f71-feac-4e48-a947-877bba347d89"
      },
      "source": [
        "# Model evaluation\n",
        "\n",
        "results = final_model.evaluate([x_test_topic_pad_glove, x_test_tweet_pad_glove], y_test)\n",
        "print(results)"
      ],
      "execution_count": null,
      "outputs": [
        {
          "output_type": "stream",
          "text": [
            "194/194 [==============================] - 4s 18ms/step - loss: 0.9157 - accuracy: 0.8103\n",
            "[0.9157285094261169, 0.8103476166725159]\n"
          ],
          "name": "stdout"
        }
      ]
    },
    {
      "cell_type": "markdown",
      "metadata": {
        "id": "rt74tFMixmku"
      },
      "source": [
        "\n",
        "**<i> <font color ='darkblue'> Trying deeper CNN with fine-tuned embeddings\n",
        " </font></i>**\n",
        "\n"
      ]
    },
    {
      "cell_type": "code",
      "metadata": {
        "colab": {
          "base_uri": "https://localhost:8080/"
        },
        "id": "TsPgonfuyFfV",
        "outputId": "231174be-1d33-47cb-fc33-6a4f0a608657"
      },
      "source": [
        "from keras.layers import Input, Embedding, Dense, LSTM, Lambda, concatenate\n",
        "from keras.models import Model\n",
        "input_layer_1 = Input(shape=(16,))\n",
        "input_layer_2 = Input(shape=(128,))\n",
        "#First Input\n",
        "embeddingLayer=createPretrainedEmbeddingLayer(wordToGlove,wordToIndex,isTrainable=True)\n",
        "embedding_layer_1 = embeddingLayer(input_layer_1)\n",
        "cnn_layer_1 = keras.layers.Conv1D(100, 6)(embedding_layer_1)\n",
        "cnn_layer_2 = keras.layers.Conv1D(100, 6)(cnn_layer_1)\n",
        "pooling_layer_1 = GlobalMaxPooling1D()(cnn_layer_2)\n",
        "output_dense_layer_1 = Dense(16)(pooling_layer_1)\n",
        "model_1 = Model(inputs= input_layer_1, outputs=output_dense_layer_1)\n",
        "#Second Input\n",
        "embedding_layer_2 = embeddingLayer(input_layer_2)\n",
        "cnn_layer_3 = keras.layers.Conv1D(100, 6)(embedding_layer_2)\n",
        "cnn_layer_4 = keras.layers.Conv1D(100, 6)(cnn_layer_3)\n",
        "pooling_layer_1 = GlobalMaxPooling1D()(cnn_layer_4)\n",
        "output_dense_layer_2 = Dense(16)(pooling_layer_1)\n",
        "model_2 = Model(inputs= input_layer_2, outputs=output_dense_layer_2)\n",
        "\n",
        "combined_layer = concatenate([model_1.output, model_2.output])\n",
        "\n",
        "output_dense_layer = Dense(1, activation='sigmoid')(combined_layer)\n",
        "\n",
        "final_model = Model(inputs=[model_1.input, model_2.input], outputs = output_dense_layer)\n",
        "final_model.compile('rmsprop', 'mse', metrics=['accuracy'])\n",
        "final_model.summary()\n"
      ],
      "execution_count": null,
      "outputs": [
        {
          "output_type": "stream",
          "text": [
            "Model: \"model_32\"\n",
            "__________________________________________________________________________________________________\n",
            "Layer (type)                    Output Shape         Param #     Connected to                     \n",
            "==================================================================================================\n",
            "input_27 (InputLayer)           [(None, 16)]         0                                            \n",
            "__________________________________________________________________________________________________\n",
            "input_28 (InputLayer)           [(None, 128)]        0                                            \n",
            "__________________________________________________________________________________________________\n",
            "GloVe_Embeddings (Embedding)    multiple             120000300   input_27[0][0]                   \n",
            "                                                                 input_28[0][0]                   \n",
            "__________________________________________________________________________________________________\n",
            "conv1d_12 (Conv1D)              (None, 11, 100)      180100      GloVe_Embeddings[0][0]           \n",
            "__________________________________________________________________________________________________\n",
            "conv1d_14 (Conv1D)              (None, 123, 100)     180100      GloVe_Embeddings[1][0]           \n",
            "__________________________________________________________________________________________________\n",
            "conv1d_13 (Conv1D)              (None, 6, 100)       60100       conv1d_12[0][0]                  \n",
            "__________________________________________________________________________________________________\n",
            "conv1d_15 (Conv1D)              (None, 118, 100)     60100       conv1d_14[0][0]                  \n",
            "__________________________________________________________________________________________________\n",
            "global_max_pooling1d_8 (GlobalM (None, 100)          0           conv1d_13[0][0]                  \n",
            "__________________________________________________________________________________________________\n",
            "global_max_pooling1d_9 (GlobalM (None, 100)          0           conv1d_15[0][0]                  \n",
            "__________________________________________________________________________________________________\n",
            "dense_38 (Dense)                (None, 16)           1616        global_max_pooling1d_8[0][0]     \n",
            "__________________________________________________________________________________________________\n",
            "dense_39 (Dense)                (None, 16)           1616        global_max_pooling1d_9[0][0]     \n",
            "__________________________________________________________________________________________________\n",
            "concatenate_8 (Concatenate)     (None, 32)           0           dense_38[0][0]                   \n",
            "                                                                 dense_39[0][0]                   \n",
            "__________________________________________________________________________________________________\n",
            "dense_40 (Dense)                (None, 1)            33          concatenate_8[0][0]              \n",
            "==================================================================================================\n",
            "Total params: 120,483,965\n",
            "Trainable params: 120,483,965\n",
            "Non-trainable params: 0\n",
            "__________________________________________________________________________________________________\n"
          ],
          "name": "stdout"
        }
      ]
    },
    {
      "cell_type": "code",
      "metadata": {
        "colab": {
          "base_uri": "https://localhost:8080/"
        },
        "id": "T4dT9Aa_yFzh",
        "outputId": "1eae7a32-609f-4312-f148-663bd3a0b711"
      },
      "source": [
        "# Model training \n",
        "\n",
        "history = final_model.fit(x = [x_train_topic_pad_glove, x_train_tweet_pad_glove],\n",
        "                    y = y_train,\n",
        "                    epochs=50,\n",
        "                    batch_size=512,\n",
        "                    validation_data=([x_dev_topic_pad_glove, x_dev_tweet_pad_glove], y_dev),\n",
        "                    verbose=1)"
      ],
      "execution_count": null,
      "outputs": [
        {
          "output_type": "stream",
          "text": [
            "Epoch 1/50\n",
            "35/35 [==============================] - 57s 2s/step - loss: 0.1759 - accuracy: 0.7777 - val_loss: 0.1437 - val_accuracy: 0.7691\n",
            "Epoch 2/50\n",
            "35/35 [==============================] - 55s 2s/step - loss: 0.0941 - accuracy: 0.8727 - val_loss: 0.1389 - val_accuracy: 0.8083\n",
            "Epoch 3/50\n",
            "35/35 [==============================] - 55s 2s/step - loss: 0.0704 - accuracy: 0.9112 - val_loss: 0.1249 - val_accuracy: 0.8226\n",
            "Epoch 4/50\n",
            "35/35 [==============================] - 55s 2s/step - loss: 0.0563 - accuracy: 0.9299 - val_loss: 0.1336 - val_accuracy: 0.8000\n",
            "Epoch 5/50\n",
            "35/35 [==============================] - 55s 2s/step - loss: 0.0394 - accuracy: 0.9558 - val_loss: 0.1360 - val_accuracy: 0.8045\n",
            "Epoch 6/50\n",
            "35/35 [==============================] - 54s 2s/step - loss: 0.0280 - accuracy: 0.9706 - val_loss: 0.1480 - val_accuracy: 0.7947\n",
            "Epoch 7/50\n",
            "35/35 [==============================] - 54s 2s/step - loss: 0.0180 - accuracy: 0.9834 - val_loss: 0.1591 - val_accuracy: 0.7789\n",
            "Epoch 8/50\n",
            "35/35 [==============================] - 54s 2s/step - loss: 0.0179 - accuracy: 0.9823 - val_loss: 0.1371 - val_accuracy: 0.8121\n",
            "Epoch 9/50\n",
            "35/35 [==============================] - 55s 2s/step - loss: 0.0074 - accuracy: 0.9937 - val_loss: 0.1412 - val_accuracy: 0.8038\n",
            "Epoch 10/50\n",
            "35/35 [==============================] - 56s 2s/step - loss: 0.0156 - accuracy: 0.9798 - val_loss: 0.1444 - val_accuracy: 0.8075\n",
            "Epoch 11/50\n",
            "35/35 [==============================] - 55s 2s/step - loss: 0.0079 - accuracy: 0.9916 - val_loss: 0.1390 - val_accuracy: 0.8075\n",
            "Epoch 12/50\n",
            "35/35 [==============================] - 55s 2s/step - loss: 0.0079 - accuracy: 0.9915 - val_loss: 0.1502 - val_accuracy: 0.8015\n",
            "Epoch 13/50\n",
            "35/35 [==============================] - 54s 2s/step - loss: 0.0058 - accuracy: 0.9932 - val_loss: 0.1465 - val_accuracy: 0.8083\n",
            "Epoch 14/50\n",
            "35/35 [==============================] - 54s 2s/step - loss: 0.0014 - accuracy: 0.9989 - val_loss: 0.1490 - val_accuracy: 0.8008\n",
            "Epoch 15/50\n",
            "35/35 [==============================] - 55s 2s/step - loss: 0.0053 - accuracy: 0.9938 - val_loss: 0.1510 - val_accuracy: 0.8038\n",
            "Epoch 16/50\n",
            "35/35 [==============================] - 55s 2s/step - loss: 0.0046 - accuracy: 0.9942 - val_loss: 0.1494 - val_accuracy: 0.8030\n",
            "Epoch 17/50\n",
            "35/35 [==============================] - 55s 2s/step - loss: 0.0012 - accuracy: 0.9989 - val_loss: 0.1505 - val_accuracy: 0.8045\n",
            "Epoch 18/50\n",
            "35/35 [==============================] - 55s 2s/step - loss: 6.6417e-04 - accuracy: 0.9994 - val_loss: 0.1848 - val_accuracy: 0.7909\n",
            "Epoch 19/50\n",
            "35/35 [==============================] - 54s 2s/step - loss: 0.0159 - accuracy: 0.9804 - val_loss: 0.1540 - val_accuracy: 0.8068\n",
            "Epoch 20/50\n",
            "35/35 [==============================] - 54s 2s/step - loss: 6.4153e-04 - accuracy: 0.9994 - val_loss: 0.1491 - val_accuracy: 0.8121\n",
            "Epoch 21/50\n",
            "35/35 [==============================] - 55s 2s/step - loss: 0.0053 - accuracy: 0.9935 - val_loss: 0.1544 - val_accuracy: 0.8091\n",
            "Epoch 22/50\n",
            "35/35 [==============================] - 55s 2s/step - loss: 4.6966e-04 - accuracy: 0.9996 - val_loss: 0.1547 - val_accuracy: 0.8068\n",
            "Epoch 23/50\n",
            "35/35 [==============================] - 54s 2s/step - loss: 6.0808e-04 - accuracy: 0.9994 - val_loss: 0.1544 - val_accuracy: 0.8075\n",
            "Epoch 24/50\n",
            "35/35 [==============================] - 54s 2s/step - loss: 0.0064 - accuracy: 0.9917 - val_loss: 0.1524 - val_accuracy: 0.8151\n",
            "Epoch 25/50\n",
            "35/35 [==============================] - 54s 2s/step - loss: 0.0013 - accuracy: 0.9988 - val_loss: 0.1546 - val_accuracy: 0.8045\n",
            "Epoch 26/50\n",
            "35/35 [==============================] - 54s 2s/step - loss: 0.0024 - accuracy: 0.9973 - val_loss: 0.1495 - val_accuracy: 0.8158\n",
            "Epoch 27/50\n",
            "35/35 [==============================] - 55s 2s/step - loss: 9.2847e-04 - accuracy: 0.9991 - val_loss: 0.1536 - val_accuracy: 0.8091\n",
            "Epoch 28/50\n",
            "35/35 [==============================] - 55s 2s/step - loss: 5.6368e-04 - accuracy: 0.9994 - val_loss: 0.1530 - val_accuracy: 0.8098\n",
            "Epoch 29/50\n",
            "35/35 [==============================] - 55s 2s/step - loss: 8.3276e-04 - accuracy: 0.9991 - val_loss: 0.1669 - val_accuracy: 0.7932\n",
            "Epoch 30/50\n",
            "35/35 [==============================] - 55s 2s/step - loss: 8.2336e-04 - accuracy: 0.9992 - val_loss: 0.1560 - val_accuracy: 0.8113\n",
            "Epoch 31/50\n",
            "35/35 [==============================] - 54s 2s/step - loss: 4.9825e-04 - accuracy: 0.9995 - val_loss: 0.1554 - val_accuracy: 0.8098\n",
            "Epoch 32/50\n",
            "35/35 [==============================] - 54s 2s/step - loss: 0.0011 - accuracy: 0.9990 - val_loss: 0.1562 - val_accuracy: 0.8083\n",
            "Epoch 33/50\n",
            "35/35 [==============================] - 55s 2s/step - loss: 6.3301e-04 - accuracy: 0.9994 - val_loss: 0.1547 - val_accuracy: 0.8121\n",
            "Epoch 34/50\n",
            "35/35 [==============================] - 55s 2s/step - loss: 5.2787e-04 - accuracy: 0.9995 - val_loss: 0.1566 - val_accuracy: 0.8113\n",
            "Epoch 35/50\n",
            "35/35 [==============================] - 54s 2s/step - loss: 0.0017 - accuracy: 0.9981 - val_loss: 0.1675 - val_accuracy: 0.8030\n",
            "Epoch 36/50\n",
            "35/35 [==============================] - 55s 2s/step - loss: 6.6626e-04 - accuracy: 0.9993 - val_loss: 0.1594 - val_accuracy: 0.8151\n",
            "Epoch 37/50\n",
            "35/35 [==============================] - 55s 2s/step - loss: 9.6578e-04 - accuracy: 0.9990 - val_loss: 0.1575 - val_accuracy: 0.8151\n",
            "Epoch 38/50\n",
            "35/35 [==============================] - 55s 2s/step - loss: 4.7112e-04 - accuracy: 0.9995 - val_loss: 0.1570 - val_accuracy: 0.8128\n",
            "Epoch 39/50\n",
            "35/35 [==============================] - 55s 2s/step - loss: 7.1338e-04 - accuracy: 0.9993 - val_loss: 0.1578 - val_accuracy: 0.8113\n",
            "Epoch 40/50\n",
            "35/35 [==============================] - 55s 2s/step - loss: 6.1099e-04 - accuracy: 0.9994 - val_loss: 0.1578 - val_accuracy: 0.8121\n",
            "Epoch 41/50\n",
            "35/35 [==============================] - 54s 2s/step - loss: 0.0030 - accuracy: 0.9966 - val_loss: 0.1585 - val_accuracy: 0.8098\n",
            "Epoch 42/50\n",
            "35/35 [==============================] - 54s 2s/step - loss: 8.3769e-04 - accuracy: 0.9992 - val_loss: 0.1586 - val_accuracy: 0.8075\n",
            "Epoch 43/50\n",
            "35/35 [==============================] - 54s 2s/step - loss: 6.8376e-04 - accuracy: 0.9993 - val_loss: 0.1587 - val_accuracy: 0.8083\n",
            "Epoch 44/50\n",
            "35/35 [==============================] - 55s 2s/step - loss: 5.0509e-04 - accuracy: 0.9995 - val_loss: 0.1591 - val_accuracy: 0.8068\n",
            "Epoch 45/50\n",
            "35/35 [==============================] - 54s 2s/step - loss: 6.1164e-04 - accuracy: 0.9994 - val_loss: 0.1596 - val_accuracy: 0.8075\n",
            "Epoch 46/50\n",
            "35/35 [==============================] - 54s 2s/step - loss: 4.0260e-04 - accuracy: 0.9996 - val_loss: 0.1606 - val_accuracy: 0.8083\n",
            "Epoch 47/50\n",
            "35/35 [==============================] - 54s 2s/step - loss: 5.8965e-04 - accuracy: 0.9994 - val_loss: 0.1614 - val_accuracy: 0.8075\n",
            "Epoch 48/50\n",
            "35/35 [==============================] - 54s 2s/step - loss: 6.7180e-04 - accuracy: 0.9993 - val_loss: 0.1620 - val_accuracy: 0.8091\n",
            "Epoch 49/50\n",
            "35/35 [==============================] - 54s 2s/step - loss: 2.7237e-04 - accuracy: 0.9997 - val_loss: 0.1624 - val_accuracy: 0.8083\n",
            "Epoch 50/50\n",
            "35/35 [==============================] - 55s 2s/step - loss: 5.9497e-04 - accuracy: 0.9994 - val_loss: 0.1627 - val_accuracy: 0.8091\n"
          ],
          "name": "stdout"
        }
      ]
    },
    {
      "cell_type": "code",
      "metadata": {
        "colab": {
          "base_uri": "https://localhost:8080/"
        },
        "id": "MY4Jl4uDyF_g",
        "outputId": "ac7e4ec6-3e0d-44a7-f9e5-64b2b87d33e8"
      },
      "source": [
        "# Model evaluation\n",
        "\n",
        "results = final_model.evaluate([x_test_topic_pad_glove, x_test_tweet_pad_glove], y_test)\n",
        "print(results)"
      ],
      "execution_count": null,
      "outputs": [
        {
          "output_type": "stream",
          "text": [
            "194/194 [==============================] - 5s 23ms/step - loss: 0.1714 - accuracy: 0.8016\n",
            "[0.1713651865720749, 0.8016167879104614]\n"
          ],
          "name": "stdout"
        }
      ]
    },
    {
      "cell_type": "markdown",
      "metadata": {
        "id": "OPXaFzmvyGUh"
      },
      "source": [
        "\n",
        "**<i> <font color ='darkblue'> Trying deeper CNN with fine-tuned embeddings and dropout layer\n",
        " </font></i>**"
      ]
    },
    {
      "cell_type": "code",
      "metadata": {
        "colab": {
          "base_uri": "https://localhost:8080/"
        },
        "id": "UPZPBTuyyKwS",
        "outputId": "8e94a4e7-3ada-41dd-d855-b12a7c46942e"
      },
      "source": [
        "from keras.layers import Input, Embedding, Dense, LSTM, Lambda, concatenate, Dropout\n",
        "from keras.models import Model\n",
        "input_layer_1 = Input(shape=(16,))\n",
        "input_layer_2 = Input(shape=(128,))\n",
        "#First Input\n",
        "embeddingLayer=createPretrainedEmbeddingLayer(wordToGlove,wordToIndex,isTrainable=True)\n",
        "embedding_layer_1 = embeddingLayer(input_layer_1)\n",
        "dropout_layer_1 = Dropout(rate=0.2)(embedding_layer_1)\n",
        "cnn_layer_1 = keras.layers.Conv1D(100, 6)(dropout_layer_1)\n",
        "cnn_layer_2 = keras.layers.Conv1D(100, 6)(cnn_layer_1)\n",
        "pooling_layer_1 = GlobalMaxPooling1D()(cnn_layer_2)\n",
        "output_dense_layer_1 = Dense(16)(pooling_layer_1)\n",
        "model_1 = Model(inputs= input_layer_1, outputs=output_dense_layer_1)\n",
        "#Second Input\n",
        "embedding_layer_2 = embeddingLayer(input_layer_2)\n",
        "dropout_layer_2 = Dropout(rate=0.2)(embedding_layer_2)\n",
        "cnn_layer_3 = keras.layers.Conv1D(100, 6)(dropout_layer_2)\n",
        "cnn_layer_4 = keras.layers.Conv1D(100, 6)(cnn_layer_3)\n",
        "pooling_layer_1 = GlobalMaxPooling1D()(cnn_layer_4)\n",
        "output_dense_layer_2 = Dense(16)(pooling_layer_1)\n",
        "model_2 = Model(inputs= input_layer_2, outputs=output_dense_layer_2)\n",
        "\n",
        "combined_layer = concatenate([model_1.output, model_2.output])\n",
        "\n",
        "output_dense_layer = Dense(1, activation='sigmoid')(combined_layer)\n",
        "\n",
        "final_model = Model(inputs=[model_1.input, model_2.input], outputs = output_dense_layer)\n",
        "final_model.compile('rmsprop', 'mse', metrics=['accuracy'])\n",
        "final_model.summary()\n"
      ],
      "execution_count": null,
      "outputs": [
        {
          "output_type": "stream",
          "text": [
            "Model: \"model_35\"\n",
            "__________________________________________________________________________________________________\n",
            "Layer (type)                    Output Shape         Param #     Connected to                     \n",
            "==================================================================================================\n",
            "input_29 (InputLayer)           [(None, 16)]         0                                            \n",
            "__________________________________________________________________________________________________\n",
            "input_30 (InputLayer)           [(None, 128)]        0                                            \n",
            "__________________________________________________________________________________________________\n",
            "GloVe_Embeddings (Embedding)    multiple             120000300   input_29[0][0]                   \n",
            "                                                                 input_30[0][0]                   \n",
            "__________________________________________________________________________________________________\n",
            "dropout (Dropout)               (None, 16, 300)      0           GloVe_Embeddings[0][0]           \n",
            "__________________________________________________________________________________________________\n",
            "dropout_1 (Dropout)             (None, 128, 300)     0           GloVe_Embeddings[1][0]           \n",
            "__________________________________________________________________________________________________\n",
            "conv1d_16 (Conv1D)              (None, 11, 100)      180100      dropout[0][0]                    \n",
            "__________________________________________________________________________________________________\n",
            "conv1d_18 (Conv1D)              (None, 123, 100)     180100      dropout_1[0][0]                  \n",
            "__________________________________________________________________________________________________\n",
            "conv1d_17 (Conv1D)              (None, 6, 100)       60100       conv1d_16[0][0]                  \n",
            "__________________________________________________________________________________________________\n",
            "conv1d_19 (Conv1D)              (None, 118, 100)     60100       conv1d_18[0][0]                  \n",
            "__________________________________________________________________________________________________\n",
            "global_max_pooling1d_10 (Global (None, 100)          0           conv1d_17[0][0]                  \n",
            "__________________________________________________________________________________________________\n",
            "global_max_pooling1d_11 (Global (None, 100)          0           conv1d_19[0][0]                  \n",
            "__________________________________________________________________________________________________\n",
            "dense_41 (Dense)                (None, 16)           1616        global_max_pooling1d_10[0][0]    \n",
            "__________________________________________________________________________________________________\n",
            "dense_42 (Dense)                (None, 16)           1616        global_max_pooling1d_11[0][0]    \n",
            "__________________________________________________________________________________________________\n",
            "concatenate_9 (Concatenate)     (None, 32)           0           dense_41[0][0]                   \n",
            "                                                                 dense_42[0][0]                   \n",
            "__________________________________________________________________________________________________\n",
            "dense_43 (Dense)                (None, 1)            33          concatenate_9[0][0]              \n",
            "==================================================================================================\n",
            "Total params: 120,483,965\n",
            "Trainable params: 120,483,965\n",
            "Non-trainable params: 0\n",
            "__________________________________________________________________________________________________\n"
          ],
          "name": "stdout"
        }
      ]
    },
    {
      "cell_type": "code",
      "metadata": {
        "colab": {
          "base_uri": "https://localhost:8080/"
        },
        "id": "3gPmb4TxyK6r",
        "outputId": "e56edd3f-b135-4d11-c85b-8fd83fa63755"
      },
      "source": [
        "# Model training \n",
        "\n",
        "history = final_model.fit(x = [x_train_topic_pad_glove, x_train_tweet_pad_glove],\n",
        "                    y = y_train,\n",
        "                    epochs=50,\n",
        "                    batch_size=512,\n",
        "                    validation_data=([x_dev_topic_pad_glove, x_dev_tweet_pad_glove], y_dev),\n",
        "                    verbose=1)"
      ],
      "execution_count": null,
      "outputs": [
        {
          "output_type": "stream",
          "text": [
            "Epoch 1/50\n",
            "35/35 [==============================] - 60s 2s/step - loss: 0.2221 - accuracy: 0.7620 - val_loss: 0.2505 - val_accuracy: 0.7442\n",
            "Epoch 2/50\n",
            "35/35 [==============================] - 58s 2s/step - loss: 0.1416 - accuracy: 0.8352 - val_loss: 0.1418 - val_accuracy: 0.7902\n",
            "Epoch 3/50\n",
            "35/35 [==============================] - 58s 2s/step - loss: 0.0992 - accuracy: 0.8674 - val_loss: 0.1278 - val_accuracy: 0.8242\n",
            "Epoch 4/50\n",
            "35/35 [==============================] - 58s 2s/step - loss: 0.0851 - accuracy: 0.8890 - val_loss: 0.1246 - val_accuracy: 0.8219\n",
            "Epoch 5/50\n",
            "35/35 [==============================] - 59s 2s/step - loss: 0.0704 - accuracy: 0.9065 - val_loss: 0.1213 - val_accuracy: 0.8272\n",
            "Epoch 6/50\n",
            "35/35 [==============================] - 59s 2s/step - loss: 0.0580 - accuracy: 0.9276 - val_loss: 0.1470 - val_accuracy: 0.7977\n",
            "Epoch 7/50\n",
            "35/35 [==============================] - 58s 2s/step - loss: 0.0498 - accuracy: 0.9367 - val_loss: 0.1276 - val_accuracy: 0.8302\n",
            "Epoch 8/50\n",
            "35/35 [==============================] - 58s 2s/step - loss: 0.0443 - accuracy: 0.9455 - val_loss: 0.1341 - val_accuracy: 0.8174\n",
            "Epoch 9/50\n",
            "35/35 [==============================] - 58s 2s/step - loss: 0.0314 - accuracy: 0.9627 - val_loss: 0.1441 - val_accuracy: 0.8000\n",
            "Epoch 10/50\n",
            "35/35 [==============================] - 58s 2s/step - loss: 0.0287 - accuracy: 0.9671 - val_loss: 0.1401 - val_accuracy: 0.8068\n",
            "Epoch 11/50\n",
            "35/35 [==============================] - 58s 2s/step - loss: 0.0261 - accuracy: 0.9691 - val_loss: 0.1513 - val_accuracy: 0.7940\n",
            "Epoch 12/50\n",
            "35/35 [==============================] - 58s 2s/step - loss: 0.0203 - accuracy: 0.9773 - val_loss: 0.1518 - val_accuracy: 0.8023\n",
            "Epoch 13/50\n",
            "35/35 [==============================] - 58s 2s/step - loss: 0.0170 - accuracy: 0.9810 - val_loss: 0.1503 - val_accuracy: 0.7970\n",
            "Epoch 14/50\n",
            "35/35 [==============================] - 58s 2s/step - loss: 0.0118 - accuracy: 0.9878 - val_loss: 0.1570 - val_accuracy: 0.7894\n",
            "Epoch 15/50\n",
            "35/35 [==============================] - 58s 2s/step - loss: 0.0101 - accuracy: 0.9895 - val_loss: 0.1565 - val_accuracy: 0.8000\n",
            "Epoch 16/50\n",
            "35/35 [==============================] - 59s 2s/step - loss: 0.0090 - accuracy: 0.9912 - val_loss: 0.1578 - val_accuracy: 0.8030\n",
            "Epoch 17/50\n",
            "35/35 [==============================] - 58s 2s/step - loss: 0.0131 - accuracy: 0.9849 - val_loss: 0.1649 - val_accuracy: 0.7940\n",
            "Epoch 18/50\n",
            "35/35 [==============================] - 58s 2s/step - loss: 0.0065 - accuracy: 0.9932 - val_loss: 0.1644 - val_accuracy: 0.8030\n",
            "Epoch 19/50\n",
            "35/35 [==============================] - 58s 2s/step - loss: 0.0063 - accuracy: 0.9935 - val_loss: 0.2098 - val_accuracy: 0.7683\n",
            "Epoch 20/50\n",
            "35/35 [==============================] - 58s 2s/step - loss: 0.0147 - accuracy: 0.9806 - val_loss: 0.1702 - val_accuracy: 0.7940\n",
            "Epoch 21/50\n",
            "35/35 [==============================] - 59s 2s/step - loss: 0.0091 - accuracy: 0.9892 - val_loss: 0.1662 - val_accuracy: 0.8000\n",
            "Epoch 22/50\n",
            "35/35 [==============================] - 58s 2s/step - loss: 0.0038 - accuracy: 0.9962 - val_loss: 0.1661 - val_accuracy: 0.8045\n",
            "Epoch 23/50\n",
            "35/35 [==============================] - 58s 2s/step - loss: 0.0031 - accuracy: 0.9968 - val_loss: 0.1657 - val_accuracy: 0.8045\n",
            "Epoch 24/50\n",
            "35/35 [==============================] - 58s 2s/step - loss: 0.0037 - accuracy: 0.9963 - val_loss: 0.1735 - val_accuracy: 0.7902\n",
            "Epoch 25/50\n",
            "35/35 [==============================] - 58s 2s/step - loss: 0.0046 - accuracy: 0.9947 - val_loss: 0.1666 - val_accuracy: 0.8008\n",
            "Epoch 26/50\n",
            "35/35 [==============================] - 58s 2s/step - loss: 0.0051 - accuracy: 0.9939 - val_loss: 0.1817 - val_accuracy: 0.7894\n",
            "Epoch 27/50\n",
            "35/35 [==============================] - 58s 2s/step - loss: 0.0041 - accuracy: 0.9954 - val_loss: 0.1731 - val_accuracy: 0.7947\n",
            "Epoch 28/50\n",
            "35/35 [==============================] - 58s 2s/step - loss: 0.0043 - accuracy: 0.9952 - val_loss: 0.1678 - val_accuracy: 0.8045\n",
            "Epoch 29/50\n",
            "35/35 [==============================] - 58s 2s/step - loss: 0.0039 - accuracy: 0.9955 - val_loss: 0.1751 - val_accuracy: 0.7925\n",
            "Epoch 30/50\n",
            "35/35 [==============================] - 58s 2s/step - loss: 0.0033 - accuracy: 0.9967 - val_loss: 0.1705 - val_accuracy: 0.7992\n",
            "Epoch 31/50\n",
            "35/35 [==============================] - 58s 2s/step - loss: 0.0028 - accuracy: 0.9972 - val_loss: 0.1822 - val_accuracy: 0.7826\n",
            "Epoch 32/50\n",
            "35/35 [==============================] - 58s 2s/step - loss: 0.0032 - accuracy: 0.9968 - val_loss: 0.2192 - val_accuracy: 0.7358\n",
            "Epoch 33/50\n",
            "35/35 [==============================] - 58s 2s/step - loss: 0.0034 - accuracy: 0.9965 - val_loss: 0.1818 - val_accuracy: 0.7826\n",
            "Epoch 34/50\n",
            "35/35 [==============================] - 58s 2s/step - loss: 0.0036 - accuracy: 0.9960 - val_loss: 0.1770 - val_accuracy: 0.7940\n",
            "Epoch 35/50\n",
            "35/35 [==============================] - 57s 2s/step - loss: 0.0040 - accuracy: 0.9953 - val_loss: 0.1757 - val_accuracy: 0.7977\n",
            "Epoch 36/50\n",
            "35/35 [==============================] - 57s 2s/step - loss: 0.0023 - accuracy: 0.9977 - val_loss: 0.1739 - val_accuracy: 0.8053\n",
            "Epoch 37/50\n",
            "35/35 [==============================] - 58s 2s/step - loss: 0.0031 - accuracy: 0.9969 - val_loss: 0.1984 - val_accuracy: 0.7728\n",
            "Epoch 38/50\n",
            "35/35 [==============================] - 58s 2s/step - loss: 0.0034 - accuracy: 0.9965 - val_loss: 0.1784 - val_accuracy: 0.7940\n",
            "Epoch 39/50\n",
            "35/35 [==============================] - 58s 2s/step - loss: 0.0027 - accuracy: 0.9971 - val_loss: 0.1823 - val_accuracy: 0.7834\n",
            "Epoch 40/50\n",
            "35/35 [==============================] - 58s 2s/step - loss: 0.0063 - accuracy: 0.9926 - val_loss: 0.1762 - val_accuracy: 0.7977\n",
            "Epoch 41/50\n",
            "35/35 [==============================] - 57s 2s/step - loss: 0.0033 - accuracy: 0.9962 - val_loss: 0.1749 - val_accuracy: 0.8045\n",
            "Epoch 42/50\n",
            "35/35 [==============================] - 58s 2s/step - loss: 0.0026 - accuracy: 0.9972 - val_loss: 0.1884 - val_accuracy: 0.7902\n",
            "Epoch 43/50\n",
            "35/35 [==============================] - 58s 2s/step - loss: 0.0042 - accuracy: 0.9954 - val_loss: 0.1817 - val_accuracy: 0.7940\n",
            "Epoch 44/50\n",
            "35/35 [==============================] - 57s 2s/step - loss: 0.0028 - accuracy: 0.9968 - val_loss: 0.1836 - val_accuracy: 0.7879\n",
            "Epoch 45/50\n",
            "35/35 [==============================] - 58s 2s/step - loss: 0.0029 - accuracy: 0.9968 - val_loss: 0.1969 - val_accuracy: 0.7721\n",
            "Epoch 46/50\n",
            "35/35 [==============================] - 58s 2s/step - loss: 0.0031 - accuracy: 0.9962 - val_loss: 0.1870 - val_accuracy: 0.7887\n",
            "Epoch 47/50\n",
            "35/35 [==============================] - 57s 2s/step - loss: 0.0023 - accuracy: 0.9976 - val_loss: 0.1874 - val_accuracy: 0.7902\n",
            "Epoch 48/50\n",
            "35/35 [==============================] - 57s 2s/step - loss: 0.0027 - accuracy: 0.9972 - val_loss: 0.1868 - val_accuracy: 0.7932\n",
            "Epoch 49/50\n",
            "35/35 [==============================] - 57s 2s/step - loss: 0.0025 - accuracy: 0.9973 - val_loss: 0.1899 - val_accuracy: 0.7849\n",
            "Epoch 50/50\n",
            "35/35 [==============================] - 57s 2s/step - loss: 0.0029 - accuracy: 0.9970 - val_loss: 0.1842 - val_accuracy: 0.7932\n"
          ],
          "name": "stdout"
        }
      ]
    },
    {
      "cell_type": "code",
      "metadata": {
        "colab": {
          "base_uri": "https://localhost:8080/"
        },
        "id": "HbFw4OT3yLFG",
        "outputId": "731ea3e9-0b8f-49dd-b3a0-c9ad20439d55"
      },
      "source": [
        "# Model evaluation\n",
        "\n",
        "results = final_model.evaluate([x_test_topic_pad_glove, x_test_tweet_pad_glove], y_test)\n",
        "print(results)"
      ],
      "execution_count": null,
      "outputs": [
        {
          "output_type": "stream",
          "text": [
            "194/194 [==============================] - 5s 23ms/step - loss: 0.1867 - accuracy: 0.7856\n",
            "[0.18672232329845428, 0.7856103181838989]\n"
          ],
          "name": "stdout"
        }
      ]
    },
    {
      "cell_type": "markdown",
      "metadata": {
        "id": "yo-5StBkXtvZ"
      },
      "source": [
        "\n",
        "**<i> <font color ='darkblue'> In this section, to get an accuracy of 81% and above, we tried different different versions of LSTM and CNNs, made deeper networks, customized pre-trained GloVe embeddings, added dropout layer, and experimented with loss function and optimizers. By far, only the CNN model with fine-tuned embeddings could achieve an accuracy of about 81% on the test set nearly followed by a version of CNN with MSE loss and deeper CNN with fine-tuned embeddings both achieving 80% accuracy. It can hence be determined CNN models work well for sentiment analysis problem especially when we need to model word subsequences like topic. Also, fine-tuning word embeddings make the model better accustomed to the problem domain thereby enhancing the model performance. Other changes do contribute to minor improvements in performance.\n",
        " </font></i>**"
      ]
    }
  ]
}